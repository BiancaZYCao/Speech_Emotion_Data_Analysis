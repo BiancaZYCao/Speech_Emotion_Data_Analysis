{
 "cells": [
  {
   "cell_type": "markdown",
   "id": "42ed5f0b",
   "metadata": {},
   "source": [
    "# Feature Extraction Part 2 - include Prosody features\n",
    "\n",
    "[x] stitching different features together"
   ]
  },
  {
   "cell_type": "code",
   "execution_count": 1,
   "id": "e8dba9c2-50a6-4935-85c4-36c696e704fb",
   "metadata": {},
   "outputs": [],
   "source": [
    "import librosa\n",
    "import librosa.display\n",
    "from librosa.core import load\n",
    "import numpy as np\n",
    "import pandas as pd\n",
    "import glob\n",
    "import os, sys\n",
    "import matplotlib.pyplot as plt\n",
    "import time\n",
    "import warnings\n",
    "warnings.simplefilter(action='ignore', category=FutureWarning)"
   ]
  },
  {
   "cell_type": "code",
   "execution_count": 2,
   "id": "012ec525-dbd6-4d6d-931f-9db016b98908",
   "metadata": {},
   "outputs": [],
   "source": [
    "def get_stats_from_feature(feature_input):\n",
    "    feature_mean,feature_median = np.mean(feature_input.T, axis=0),np.median(feature_input.T, axis=0)\n",
    "    feature_std  = np.std(feature_input.T, axis=0)\n",
    "    feature_p10, feature_p90  = np.percentile(feature_input.T, 10, axis=0), np.percentile(feature_input.T, 90, axis=0)\n",
    "    return np.concatenate((feature_mean,feature_median,feature_std, feature_p10, feature_p90), axis=0)"
   ]
  },
  {
   "cell_type": "markdown",
   "id": "659733a7-b892-482e-b64f-459f44cc7a78",
   "metadata": {},
   "source": [
    "### Load Data"
   ]
  },
  {
   "cell_type": "code",
   "execution_count": 3,
   "id": "3fe62731-a5f0-4a7b-95fb-d8fc8306672a",
   "metadata": {},
   "outputs": [],
   "source": [
    "VERSION = 4\n",
    "master_data = pd.read_csv(f'./dataset_info_combined_V{VERSION}.csv')\n",
    "master_data = master_data[['file_path','renamed_file_path','split','sentiment_value','emotional_category']].reset_index(drop=True)\n",
    "master_data_train = master_data[master_data['split']=='train']\n",
    "master_data_test  = master_data[master_data['split']=='test']\n",
    "\n",
    "feat_data_intensity = pd.read_csv('./features/intensity_attributes_11.csv')\n",
    "feat_data_pitch = pd.read_csv('./features/pitch_attributes_14.csv')\n",
    "feat_data_gnr = pd.read_csv('./features/glottal_to_noise_ratio_attributes_7.csv')\n",
    "feat_data_hnr = pd.read_csv('./features/harmonics_to_noise_ratio_attributes_8.csv')\n",
    "feat_data_local = pd.read_csv('./features/local_jitter&local_shimmer_4.csv')\n",
    "feat_data_spectrum = pd.read_csv('./features/spectrum_formant_attributes_25.csv')\n",
    "feat_data_list = [feat_data_intensity,feat_data_pitch,feat_data_gnr,feat_data_hnr,feat_data_local,feat_data_spectrum]"
   ]
  },
  {
   "cell_type": "markdown",
   "id": "ffd20018-6256-482d-937b-8f1f36a979e2",
   "metadata": {},
   "source": [
    "## Train dataset processing"
   ]
  },
  {
   "cell_type": "code",
   "execution_count": null,
   "id": "6179088c-59e0-470f-8c48-75b3df603bb4",
   "metadata": {},
   "outputs": [],
   "source": [
    "# validate MFCC 40 is first 40 slice from MFCC 60 \n",
    "### Mel-Frequency Cepstral Coefficients (MFCC)\n",
    "# filename = './dataset/RAVDESS/Actor_12/03-01-06-02-02-02-12.wav'\n",
    "# sample_rate_set = 16000\n",
    "# X, sample_rate = librosa.load(filename, res_type='kaiser_fast',duration=2.5,sr=sample_rate_set,offset=0.5)\n",
    "# mfccs = librosa.feature.mfcc(y=X, sr=np.array(sample_rate), n_mfcc=60)\n",
    "# feature_mfcc = np.median(mfccs.T, axis=0)\n",
    "# mfccs_40 = librosa.feature.mfcc(y=X, sr=np.array(sample_rate), n_mfcc=40)\n",
    "# feature_mfcc_40 = np.median(mfccs_40.T, axis=0)\n",
    "# feature_mfcc_40 - feature_mfcc[:40]"
   ]
  },
  {
   "cell_type": "code",
   "execution_count": 4,
   "id": "8e254c56-1424-476e-966d-c83c3ca29bb1",
   "metadata": {},
   "outputs": [
    {
     "name": "stderr",
     "output_type": "stream",
     "text": [
      "/Users/bianca/anaconda3/envs/tensorflow-gpu/lib/python3.9/site-packages/librosa/core/pitch.py:101: UserWarning: Trying to estimate tuning from empty frequency set.\n",
      "  return pitch_tuning(\n"
     ]
    },
    {
     "name": "stdout",
     "output_type": "stream",
     "text": [
      "processing duration on feature extraction part 1 train set: 292 seconds\n"
     ]
    }
   ],
   "source": [
    "filename_list_train = master_data_train.renamed_file_path.tolist()\n",
    "features_train =  pd.DataFrame(columns=['feature'])\n",
    "bookmark=0\n",
    "sample_rate_set = 16000\n",
    "start = time.time()\n",
    "for index,filename in enumerate(filename_list_train):\n",
    "    X, sample_rate = librosa.load(filename, res_type='kaiser_fast',duration=2.5,sr=sample_rate_set,offset=0.5)\n",
    "    mfccs_60 = librosa.feature.mfcc(y=X, sr=np.array(sample_rate), n_mfcc=60)\n",
    "    feature_mfccs_60_stats = get_stats_from_feature(mfccs_60)\n",
    "    stft = np.abs(librosa.stft(X))\n",
    "    feature_chroma_stft_stats = get_stats_from_feature(librosa.feature.chroma_stft(S=stft, sr=sample_rate))\n",
    "    feature_mel_32_stats = get_stats_from_feature(librosa.feature.melspectrogram(y=X, sr=sample_rate,\n",
    "                                                         n_fft=2048, hop_length=512,\n",
    "                                                         n_mels=32, fmax=8000))\n",
    "    feature_mel_64_stats = get_stats_from_feature(librosa.feature.melspectrogram(y=X, sr=sample_rate,\n",
    "                                                         n_fft=2048, hop_length=512,\n",
    "                                                         n_mels=64, fmax=8000))\n",
    "    feature_mel_128_stats = get_stats_from_feature(librosa.feature.melspectrogram(y=X, sr=sample_rate,\n",
    "                                                         n_fft=2048, hop_length=512,\n",
    "                                                         n_mels=128, fmax=8000))\n",
    "\n",
    "    feature_zcr_stats = get_stats_from_feature(librosa.feature.zero_crossing_rate(y=X))\n",
    "    feature_rms_stats = get_stats_from_feature(librosa.feature.rms(y=X))\n",
    "    \n",
    "    features  = np.concatenate((feature_mfccs_60_stats,\n",
    "                                feature_chroma_stft_stats,\n",
    "                                feature_mel_32_stats,\n",
    "                                feature_mel_64_stats,\n",
    "                                feature_mel_128_stats,\n",
    "                                feature_zcr_stats,\n",
    "                                feature_rms_stats\n",
    "                              ), axis=0)\n",
    "    features_train.loc[bookmark] = [features]\n",
    "    bookmark=bookmark+1\n",
    "end = time.time()\n",
    "print(f\"processing duration on feature extraction part 1 train set: {round(end-start)} seconds\")"
   ]
  },
  {
   "cell_type": "code",
   "execution_count": 5,
   "id": "7590422a-3ea0-4749-8129-c170c9d204dd",
   "metadata": {},
   "outputs": [],
   "source": [
    "prefixes = {'mfcc': 60,'chroma': 12, 'mel32': 32, 'mel64': 64,'mel128': 128, 'zcr': 1, 'rms': 1}\n",
    "column_names = []\n",
    "for prefix, num_features in prefixes.items():\n",
    "    for prefix_stats in ['mean','median','std','p10','p90']:\n",
    "        if num_features  > 1: \n",
    "            column_names.extend([f'{prefix}_{prefix_stats}_{i}' for i in range(1, num_features + 1)])\n",
    "        else:\n",
    "            column_names.extend([f'{prefix}_{prefix_stats}'])\n",
    "assert len(column_names) == 5*(60+12+32+64+128+2) \n",
    "# print(len(column_names), 5*(60+12+32+64+128+2)) "
   ]
  },
  {
   "cell_type": "code",
   "execution_count": 6,
   "id": "49d67861-3948-40a1-9a57-9aa840c861e3",
   "metadata": {},
   "outputs": [
    {
     "name": "stdout",
     "output_type": "stream",
     "text": [
      "shape with part 1 features:  (10982, 1495)\n",
      "shape after merged features:  (10982, 1552)\n",
      "removed filepaths if any:  ['./dataset/CREMA-D/1076_MTI_SAD_XX.wav']\n",
      "shape after drop Nan rows and constant feature:  (10981, 1550)\n"
     ]
    }
   ],
   "source": [
    "# join feature with labels\n",
    "df_feat_train = pd.DataFrame(features_train['feature'].values.tolist())\n",
    "df_feat_train.columns = column_names\n",
    "df_joint_train = pd.concat([master_data_train.reset_index(drop=True), df_feat_train], axis=1)\n",
    "df_joint_train.to_csv(f'./features/cache_features_part_1_train_V{VERSION}.csv',index=False)\n",
    "print(\"shape with part 1 features: \", df_joint_train.shape)\n",
    "for feat_data_df in feat_data_list:\n",
    "    feat_data_df = feat_data_df.drop(['Emotion'], axis=1).rename(columns={'Filepath':'file_path'})\n",
    "    feat_data_df.file_path = feat_data_df.file_path.str.replace('_Angry.wav', '_angry.wav')\n",
    "    df_joint_train = pd.merge(df_joint_train, feat_data_df, on='file_path', how='inner')\n",
    "\n",
    "print(\"shape after merged features: \", df_joint_train.shape)\n",
    "\n",
    "files_before_drop = df_joint_train.file_path.tolist()\n",
    "df_joint_train = df_joint_train.dropna(how='any').drop(columns=['GNE_min_gne','split'])\n",
    "removed_filepaths = list(set(files_before_drop) - set(df_joint_train.file_path.tolist()))\n",
    "print(\"removed filepaths if any: \", removed_filepaths) \n",
    "\n",
    "print(\"shape after drop Nan rows and constant feature: \", df_joint_train.shape)"
   ]
  },
  {
   "cell_type": "markdown",
   "id": "ecb79370-f759-472e-a92d-f08877b010b3",
   "metadata": {},
   "source": [
    "#### find the NaN data and features"
   ]
  },
  {
   "cell_type": "code",
   "execution_count": 7,
   "id": "81619efc-186c-41f3-8613-2c16495a47a2",
   "metadata": {},
   "outputs": [
    {
     "data": {
      "text/plain": [
       "<librosa.display.AdaptiveWaveplot at 0x169d52820>"
      ]
     },
     "execution_count": 7,
     "metadata": {},
     "output_type": "execute_result"
    },
    {
     "data": {
      "image/png": "[encoded data removed]",
      "text/plain": [
       "<Figure size 1500x500 with 1 Axes>"
      ]
     },
     "metadata": {},
     "output_type": "display_data"
    }
   ],
   "source": [
    "data, sampling_rate = librosa.load('./dataset/CREMA-D/1076_MTI_SAD_XX.wav')\n",
    "plt.figure(figsize=(15, 5))\n",
    "librosa.display.waveshow(data, sr=sampling_rate)"
   ]
  },
  {
   "cell_type": "code",
   "execution_count": 8,
   "id": "863ff3eb-390c-49af-a43c-74cd1bfaa9ff",
   "metadata": {},
   "outputs": [
    {
     "data": {
      "text/plain": [
       "1546"
      ]
     },
     "execution_count": 8,
     "metadata": {},
     "output_type": "execute_result"
    }
   ],
   "source": [
    "df_joint_train.to_csv(f'./features/cache_all_features_train_V{VERSION}.csv',index=False)\n",
    "\n",
    "# alternatively load cached features values\n",
    "# df_joint_train_m = pd.read_csv('./features/cache_all_features_train.csv')\n",
    "feature_column_names = [i for i in df_joint_train.columns \\\n",
    "                        if i not in ['file_path','renamed_file_path','split','sentiment_value','emotional_category']]\n",
    "len(feature_column_names)"
   ]
  },
  {
   "cell_type": "markdown",
   "id": "9c63f9ac-74f1-4cee-8d7f-e8d24444a8a0",
   "metadata": {},
   "source": [
    "## Test set processing"
   ]
  },
  {
   "cell_type": "code",
   "execution_count": 9,
   "id": "853f2319-8649-4e1e-81f1-9f0e0a1cf745",
   "metadata": {},
   "outputs": [
    {
     "name": "stdout",
     "output_type": "stream",
     "text": [
      "processing duration on feature extraction part 1 test set: 34 seconds\n"
     ]
    }
   ],
   "source": [
    "import time\n",
    "start = time.time()\n",
    "filename_list_test = master_data_test.renamed_file_path.tolist()\n",
    "features_test =  pd.DataFrame(columns=['feature'])\n",
    "bookmark = 0\n",
    "bookmark=0\n",
    "sample_rate_set = 16000\n",
    "for index,filename in enumerate(filename_list_test):\n",
    "    X, sample_rate = librosa.load(filename, res_type='kaiser_fast',duration=2.5,sr=sample_rate_set,offset=0.5)\n",
    "    mfccs_60 = librosa.feature.mfcc(y=X, sr=np.array(sample_rate), n_mfcc=60)\n",
    "    feature_mfccs_60_stats = get_stats_from_feature(mfccs_60)\n",
    "    stft = np.abs(librosa.stft(X))\n",
    "    feature_chroma_stft_stats = get_stats_from_feature(librosa.feature.chroma_stft(S=stft, sr=sample_rate))\n",
    "    feature_mel_32_stats = get_stats_from_feature(librosa.feature.melspectrogram(y=X, sr=sample_rate,\n",
    "                                                         n_fft=2048, hop_length=512,\n",
    "                                                         n_mels=32, fmax=8000))\n",
    "    feature_mel_64_stats = get_stats_from_feature(librosa.feature.melspectrogram(y=X, sr=sample_rate,\n",
    "                                                         n_fft=2048, hop_length=512,\n",
    "                                                         n_mels=64, fmax=8000))\n",
    "    feature_mel_128_stats = get_stats_from_feature(librosa.feature.melspectrogram(y=X, sr=sample_rate,\n",
    "                                                         n_fft=2048, hop_length=512,\n",
    "                                                         n_mels=128, fmax=8000))\n",
    "\n",
    "    feature_zcr_stats = get_stats_from_feature(librosa.feature.zero_crossing_rate(y=X))\n",
    "    feature_rms_stats = get_stats_from_feature(librosa.feature.rms(y=X))\n",
    "    \n",
    "    features  = np.concatenate((feature_mfccs_60_stats,\n",
    "                                feature_chroma_stft_stats,\n",
    "                                feature_mel_32_stats,\n",
    "                                feature_mel_64_stats,\n",
    "                                feature_mel_128_stats,\n",
    "                                feature_zcr_stats,\n",
    "                                feature_rms_stats\n",
    "                              ), axis=0)\n",
    "    features_test.loc[bookmark] = [features]\n",
    "    bookmark=bookmark+1\n",
    "end = time.time()\n",
    "print(f\"processing duration on feature extraction part 1 test set: {round(end-start)} seconds\")"
   ]
  },
  {
   "cell_type": "code",
   "execution_count": 10,
   "id": "38390a84-fe03-41a9-b4b0-8c0a8b5bb9b7",
   "metadata": {},
   "outputs": [
    {
     "name": "stdout",
     "output_type": "stream",
     "text": [
      "shape with part 1 features:  (1180, 1495)\n",
      "shape after merged features:  (1180, 1552)\n",
      "shape after drop Nan rows and constant feature:  (1180, 1550)\n",
      "removed filepaths if any:  []\n"
     ]
    }
   ],
   "source": [
    "df_feat_test = pd.DataFrame(features_test['feature'].values.tolist())\n",
    "df_feat_test.columns = column_names\n",
    "df_joint_test = pd.concat([master_data_test.reset_index(drop=True),df_feat_test], axis=1)\n",
    "df_joint_test.to_csv(f'./features/cache_features_part1_test_V{VERSION}.csv',index=False)\n",
    "\n",
    "print(\"shape with part 1 features: \", df_joint_test.shape)\n",
    "for feat_data_df in feat_data_list:\n",
    "    feat_data_df = feat_data_df.drop(['Emotion'], axis=1).rename(columns={'Filepath':'file_path'})\n",
    "    feat_data_df.file_path = feat_data_df.file_path.str.replace('_Angry.wav', '_angry.wav')\n",
    "    df_joint_test = pd.merge(df_joint_test, feat_data_df, on='file_path', how='inner')\n",
    "print(\"shape after merged features: \", df_joint_test.shape)\n",
    "files_before_drop = df_joint_test.file_path.tolist()\n",
    "df_joint_test = df_joint_test.dropna(how='any').drop(columns=['GNE_min_gne','split'])\n",
    "removed_filepaths = list(set(files_before_drop) - set(df_joint_test.file_path.tolist()))\n",
    "\n",
    "print(\"shape after drop Nan rows and constant feature: \", df_joint_test.shape)\n",
    "print(\"removed filepaths if any: \", removed_filepaths) \n",
    "\n",
    "df_joint_test.to_csv(f'./features/cache_all_features_test_V{VERSION}.csv',index=False)"
   ]
  },
  {
   "cell_type": "markdown",
   "id": "f42edae6-04fc-4092-ba57-842500aaf048",
   "metadata": {},
   "source": [
    "## Appendix Feature Extracted"
   ]
  },
  {
   "cell_type": "markdown",
   "id": "1a6bb924-6f20-4da4-85d3-5bdac0e27531",
   "metadata": {},
   "source": [
    "| feature category   | num of sub attributes  |\n",
    "| ------------------ | ---------------------- |\n",
    "|MFCC stats*         |  60*5  |\n",
    "|chroma stats        |  12*5  |\n",
    "|Mel 32 stats        |  32*5  |\n",
    "|Mel 64 stats        |  64*5  |\n",
    "|Mel 64 stats        | 128*5  |\n",
    "|**Part I Total above**|**1490**|\n",
    "|Intensity           |    9  |\n",
    "|pitch               |   12  |\n",
    "|HNR                 |    6  |\n",
    "|GNE                 |    5  |\n",
    "|Local Jitter        |    1  |\n",
    "|Local Shimmer       |    1  |\n",
    "|Spectrum            |    9  | \n",
    "|formant             |   14  |\n",
    "|**Part II Total above** | **57**|\n",
    "\n",
    "*stats: 5 statistics on 2D matrix(MFCC,Chroma, Mel32, Mel 64 Mel 128) mean, median, standard deviation, 10%min, 90%max*"
   ]
  },
  {
   "cell_type": "code",
   "execution_count": null,
   "id": "6e3ce4eb-9b3f-4811-ad90-63a07ec639fa",
   "metadata": {},
   "outputs": [],
   "source": []
  }
 ],
 "metadata": {
  "kernelspec": {
   "display_name": "Python 3 (ipykernel)",
   "language": "python",
   "name": "python3"
  },
  "language_info": {
   "codemirror_mode": {
    "name": "ipython",
    "version": 3
   },
   "file_extension": ".py",
   "mimetype": "text/x-python",
   "name": "python",
   "nbconvert_exporter": "python",
   "pygments_lexer": "ipython3",
   "version": "3.9.17"
  }
 },
 "nbformat": 4,
 "nbformat_minor": 5
}
