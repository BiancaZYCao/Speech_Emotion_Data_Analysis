{
 "cells": [
  {
   "cell_type": "code",
   "execution_count": 1,
   "id": "e8dba9c2-50a6-4935-85c4-36c696e704fb",
   "metadata": {},
   "outputs": [],
   "source": [
    "import librosa\n",
    "import librosa.display\n",
    "from librosa.core import load\n",
    "import numpy as np\n",
    "import pandas as pd\n",
    "import glob\n",
    "import os, sys\n",
    "import matplotlib.pyplot as plt\n",
    "\n",
    "from sklearn.feature_selection import RFE\n",
    "from sklearn.ensemble import RandomForestClassifier\n",
    "from sklearn.metrics import classification_report, confusion_matrix"
   ]
  },
  {
   "cell_type": "markdown",
   "id": "659733a7-b892-482e-b64f-459f44cc7a78",
   "metadata": {},
   "source": [
    "### Load Data"
   ]
  },
  {
   "cell_type": "code",
   "execution_count": 2,
   "id": "3fe62731-a5f0-4a7b-95fb-d8fc8306672a",
   "metadata": {},
   "outputs": [
    {
     "name": "stdout",
     "output_type": "stream",
     "text": [
      "shape of train set:  (10981, 1550)\n",
      "shape of test  set:  (1180, 1550)\n"
     ]
    }
   ],
   "source": [
    "VERSION = 4\n",
    "df_joint_train = pd.read_csv(f'./features/cache_all_features_train_V{VERSION}.csv')\n",
    "feature_column_names = [i for i in df_joint_train.columns \\\n",
    "                        if i not in ['file_path','renamed_file_path','split','sentiment_value','emotional_category']]\n",
    "\n",
    "df_joint_test = pd.read_csv(f'./features/cache_all_features_test_V{VERSION}.csv')\n",
    "\n",
    "print(\"shape of train set: \", df_joint_train.shape)\n",
    "print(\"shape of test  set: \", df_joint_test.shape)"
   ]
  },
  {
   "cell_type": "code",
   "execution_count": 3,
   "id": "68ea7de0-0448-4399-bdbf-34b04c8b8caf",
   "metadata": {},
   "outputs": [],
   "source": [
    "X_train = df_joint_train[feature_column_names]\n",
    "y_train_s = df_joint_train['sentiment_value']\n",
    "y_train_e = df_joint_train['emotional_category']\n",
    "\n",
    "from sklearn.preprocessing import LabelEncoder\n",
    "label_encoder = LabelEncoder()\n",
    "y_e_num = label_encoder.fit_transform(y_train_e)\n",
    "\n",
    "X_test = df_joint_test[feature_column_names]\n",
    "y_test_s = df_joint_test['sentiment_value']\n",
    "y_test_e = df_joint_test['emotional_category']\n",
    "\n",
    "from sklearn.preprocessing import LabelEncoder\n",
    "label_encoder = LabelEncoder()\n",
    "y_test_e_num = label_encoder.fit_transform(y_test_e)"
   ]
  },
  {
   "cell_type": "code",
   "execution_count": 4,
   "id": "04e9dd71-e187-42a7-a34f-6e529d5d4bd7",
   "metadata": {},
   "outputs": [],
   "source": [
    "feat_rank_emo = pd.read_csv('./features/relationship_stats_test_result_emotion_all_V4.csv')\n",
    "feat_rank_s   = pd.read_csv('./features/relationship_stats_test_result_sentiment_all_V4.csv')\n",
    "feat_rank_emo.correlation_coeff = abs(feat_rank_emo.correlation_coeff)\n",
    "feat_rank_s.correlation_coeff = abs(feat_rank_s.correlation_coeff)"
   ]
  },
  {
   "cell_type": "code",
   "execution_count": 5,
   "id": "17cd95cb-9916-4e54-a9f1-fb00282d0472",
   "metadata": {},
   "outputs": [
    {
     "name": "stdout",
     "output_type": "stream",
     "text": [
      "34\n"
     ]
    }
   ],
   "source": [
    "# import selected features by group\n",
    "feature_intensity = ['Intensity_max_intensity', 'Intensity_q3_intensity','Intensity_median_intensity', 'Intensity_mean_intensity', 'Intensity_stddev_intensity','Intensity_relative_max_intensity_time']\n",
    "feature_pitch     = ['Pitch_pitch_slope_without_octave_jumps', 'Pitch_q3_pitch','Pitch_stddev_pitch', 'Pitch_mean_absolute_pitch_slope','Pitch_mean_pitch', 'Pitch_max_pitch', 'Pitch_q1_pitch', 'Pitch_min_pitch']\n",
    "feature_HNR       = ['HNR_stddev_hnr', 'HNR_mean_hnr','HNR_relative_min_hnr_time','HNR_max_hnr']\n",
    "feature_spect     = ['Spectrum_band_energy_difference','Spectrum_band_density_difference','Spectrum_center_of_gravity_spectrum','Spectrum_skewness_spectrum','Spectrum_kurtosis_spectrum', 'Spectrum_stddev_spectrum','Spectrum_band_density', 'Spectrum_band_energy']\n",
    "feature_formant   = ['Formant_f1_mean','Formant_f1_median','Formant_f3_mean','Formant_fitch_vtl','Formant_mff','Formant_formant_dispersion']\n",
    "feature_local     = ['Local Jitter', 'Local Shimmer']\n",
    "feature_names_prosody = feature_intensity+feature_pitch+feature_HNR+feature_spect+ feature_formant+feature_local\n",
    "print(len(feature_names_prosody))"
   ]
  },
  {
   "cell_type": "code",
   "execution_count": 6,
   "id": "b74b9370-16ca-414e-9c19-80283289e4e2",
   "metadata": {},
   "outputs": [],
   "source": [
    "from utils import generate_selected_features_by_type\n",
    "# Define feature groups\n",
    "feature_groups = {\n",
    "    \"MFCC20_mean\":   generate_selected_features_by_type(feature_column_names,\"mfcc\",\"mean\",20),\n",
    "    \"MFCC20_median\": generate_selected_features_by_type(feature_column_names,\"mfcc\",\"median\",20),\n",
    "    \"MFCC20_std\":    generate_selected_features_by_type(feature_column_names,\"mfcc\",\"std\",20),\n",
    "    \"MFCC20_min\":    generate_selected_features_by_type(feature_column_names,\"mfcc\",\"p10\",20),\n",
    "    \"MFCC20_max\":    generate_selected_features_by_type(feature_column_names,\"mfcc\",\"p90\",20),\n",
    "    \n",
    "    \"Mel32_mean\":   generate_selected_features_by_type(feature_column_names,\"mel32\",\"mean\",32),\n",
    "    \"Mel32_median\": generate_selected_features_by_type(feature_column_names,\"mel32\",\"median\",32),\n",
    "    \"Mel32_std\":    generate_selected_features_by_type(feature_column_names,\"mel32\",\"std\",32),\n",
    "    \"Mel32_min\":    generate_selected_features_by_type(feature_column_names,\"mel32\",\"p10\",32),\n",
    "    \"Mel32_max\":    generate_selected_features_by_type(feature_column_names,\"mel32\",\"p90\",32),\n",
    "    \n",
    "    \"chroma_mean\":  generate_selected_features_by_type(feature_column_names,\"chroma\",\"mean\",12),\n",
    "    \"chroma_median\":generate_selected_features_by_type(feature_column_names,\"chroma\",\"median\",12),\n",
    "    \"chroma_std\":   generate_selected_features_by_type(feature_column_names,\"chroma\",\"std\",12),\n",
    "    \"chroma_min\":   generate_selected_features_by_type(feature_column_names,\"chroma\",\"p10\",12),\n",
    "    \"chroma_max\":   generate_selected_features_by_type(feature_column_names,\"chroma\",\"p90\",12),\n",
    "    \"zcr\":          generate_selected_features_by_type(feature_column_names,\"zcr\",\"\",5),\n",
    "    \"rms\":          generate_selected_features_by_type(feature_column_names,\"rms\",\"\",5),\n",
    "    \"intensity\":    feature_intensity,\n",
    "    \"pitch\":        feature_pitch, \n",
    "    # \"GNE\":          feature_GNE,\n",
    "    \"HNR \":         feature_HNR,\n",
    "    \"spect \":       feature_spect,\n",
    "    \"formant \":     feature_formant,\n",
    "    \"local\":        feature_local \n",
    "}"
   ]
  },
  {
   "cell_type": "markdown",
   "id": "1da69d41-3696-4dd0-84f5-adb651d16c62",
   "metadata": {},
   "source": [
    "## feature selection by group - Recursive Feature Elimination"
   ]
  },
  {
   "cell_type": "code",
   "execution_count": 7,
   "id": "6e49f195-ed58-407c-a8a4-f6e4bd152a2e",
   "metadata": {},
   "outputs": [],
   "source": [
    "# Initialize lists to store concatenated features and feature group indices\n",
    "total_features = []\n",
    "feature_group_indices = {}\n",
    "feature_group_dim     = {}\n",
    "index_counter = 0\n",
    "for group_name, group_features in feature_groups.items():\n",
    "    total_features.extend(group_features)\n",
    "    group_indices = list(range(index_counter, index_counter + len(group_features)))\n",
    "    feature_group_indices[group_name] = group_indices\n",
    "    feature_group_dim[group_name] =len(group_features)\n",
    "    index_counter += len(group_features)\n",
    "\n",
    "# print(\"Total features:\", total_features)\n",
    "# print(\"Feature group indices:\", feature_group_indices)"
   ]
  },
  {
   "cell_type": "code",
   "execution_count": 9,
   "id": "05bda0c9-4189-485a-af35-dc2ef81013f4",
   "metadata": {},
   "outputs": [
    {
     "name": "stdout",
     "output_type": "stream",
     "text": [
      "Sum of feature importances for each group:\n"
     ]
    },
    {
     "data": {
      "text/plain": [
       "{'pitch': 0.007695264339322416,\n",
       " 'local': 0.0050436193228019805,\n",
       " 'intensity': 0.004041294418109032,\n",
       " 'rms': 0.0033659617391680343,\n",
       " 'MFCC20_std': 0.003260523119383899,\n",
       " 'Mel32_mean': 0.0031613356352446194,\n",
       " 'Mel32_std': 0.00295502037286027,\n",
       " 'spect ': 0.002919362019581437,\n",
       " 'MFCC20_max': 0.002914518023949884,\n",
       " 'HNR ': 0.002904043387724187,\n",
       " 'Mel32_max': 0.0028816507676728293,\n",
       " 'MFCC20_mean': 0.0027373472125798767,\n",
       " 'MFCC20_median': 0.0025296430047456126,\n",
       " 'chroma_mean': 0.0025217427083971122,\n",
       " 'chroma_median': 0.0025197145469124417,\n",
       " 'chroma_min': 0.0025184172857359165,\n",
       " 'formant ': 0.002505008258833124,\n",
       " 'MFCC20_min': 0.002485473855571685,\n",
       " 'zcr': 0.0024501421741246637,\n",
       " 'Mel32_median': 0.0023813666721814626,\n",
       " 'chroma_std': 0.0019142886478925355,\n",
       " 'chroma_max': 0.0015860496802866059,\n",
       " 'Mel32_min': 0.0015502697566919857}"
      ]
     },
     "execution_count": 9,
     "metadata": {},
     "output_type": "execute_result"
    }
   ],
   "source": [
    "model = RandomForestClassifier(n_estimators=100)\n",
    "model.fit(X_train[total_features], y_train_e)\n",
    "importances = model.feature_importances_\n",
    "\n",
    "group_importance_mean = {}\n",
    "for group_name, group_indices in feature_group_indices.items():\n",
    "    group_importances = importances[group_indices]\n",
    "    importance_mean = np.mean(group_importances)\n",
    "    group_importance_mean[group_name] = importance_mean\n",
    "\n",
    "print(\"Sum of feature importances for each group:\")\n",
    "sorted_group_importance_mean = dict(sorted(group_importance_mean.items(), key=lambda x: x[1], reverse=True))\n",
    "sorted_group_importance_mean"
   ]
  },
  {
   "cell_type": "code",
   "execution_count": 10,
   "id": "87aafd4e-d220-4d76-aabc-240d857e54eb",
   "metadata": {},
   "outputs": [
    {
     "name": "stdout",
     "output_type": "stream",
     "text": [
      "current feature dimension - 332\n",
      "Average of feature importances for each group (sorted): {'pitch': 0.01343, 'local': 0.00595, 'intensity': 0.00444, 'MFCC20_std': 0.00357, 'HNR ': 0.00327, 'rms': 0.00319, 'chroma_median': 0.00298, 'MFCC20_mean': 0.00295, 'MFCC20_min': 0.00284, 'MFCC20_max': 0.00284, 'chroma_mean': 0.00281, 'Mel32_mean': 0.00274, 'formant ': 0.00273, 'Mel32_max': 0.00269, 'chroma_min': 0.00263, 'MFCC20_median': 0.00261, 'Mel32_std': 0.00256, 'spect ': 0.00254, 'zcr': 0.00246, 'Mel32_median': 0.00244, 'chroma_std': 0.00213, 'chroma_max': 0.00162}\n",
      "To remove least importance feature group: chroma_max\n",
      "current feature dimension - 320\n",
      "Average of feature importances for each group (sorted): {'pitch': 0.01357, 'local': 0.00589, 'intensity': 0.00485, 'MFCC20_std': 0.00359, 'HNR ': 0.00314, 'rms': 0.00312, 'chroma_mean': 0.00306, 'chroma_median': 0.00306, 'MFCC20_max': 0.003, 'MFCC20_mean': 0.00298, 'Mel32_max': 0.00286, 'MFCC20_min': 0.00284, 'formant ': 0.00276, 'Mel32_mean': 0.00274, 'MFCC20_median': 0.00268, 'Mel32_std': 0.00264, 'chroma_min': 0.00263, 'zcr': 0.0026, 'Mel32_median': 0.00242, 'spect ': 0.0024, 'chroma_std': 0.00214}\n",
      "To remove least importance feature group: chroma_std\n",
      "current feature dimension - 308\n",
      "Average of feature importances for each group (sorted): {'pitch': 0.01402, 'local': 0.00677, 'intensity': 0.00463, 'MFCC20_std': 0.00369, 'rms': 0.00355, 'HNR ': 0.00349, 'chroma_median': 0.00337, 'MFCC20_max': 0.00306, 'chroma_mean': 0.003, 'Mel32_max': 0.00293, 'MFCC20_min': 0.00285, 'MFCC20_mean': 0.00284, 'Mel32_std': 0.00279, 'formant ': 0.00279, 'Mel32_mean': 0.00276, 'MFCC20_median': 0.00275, 'chroma_min': 0.00274, 'zcr': 0.00264, 'Mel32_median': 0.00253, 'spect ': 0.00242}\n",
      "To remove least importance feature group: spect \n",
      "current feature dimension - 300\n",
      "Average of feature importances for each group (sorted): {'pitch': 0.01375, 'local': 0.00661, 'intensity': 0.00509, 'MFCC20_std': 0.00383, 'HNR ': 0.00383, 'rms': 0.00376, 'MFCC20_mean': 0.00316, 'chroma_mean': 0.00315, 'MFCC20_min': 0.00303, 'MFCC20_max': 0.00303, 'Mel32_max': 0.00293, 'chroma_median': 0.00293, 'Mel32_mean': 0.00288, 'MFCC20_median': 0.00287, 'formant ': 0.00284, 'Mel32_std': 0.00275, 'chroma_min': 0.0027, 'zcr': 0.0027, 'Mel32_median': 0.00262}\n",
      "To remove least importance feature group: Mel32_median\n",
      "current feature dimension - 268\n",
      "Average of feature importances for each group (sorted): {'pitch': 0.01531, 'local': 0.00722, 'intensity': 0.00492, 'HNR ': 0.00407, 'MFCC20_std': 0.00397, 'rms': 0.0039, 'chroma_median': 0.00345, 'MFCC20_mean': 0.00344, 'MFCC20_max': 0.00342, 'chroma_mean': 0.00335, 'formant ': 0.00328, 'Mel32_max': 0.00321, 'MFCC20_min': 0.0032, 'Mel32_mean': 0.0032, 'MFCC20_median': 0.00318, 'chroma_min': 0.00309, 'zcr': 0.00307, 'Mel32_std': 0.00296}\n",
      "To remove least importance feature group: Mel32_std\n",
      "current feature dimension - 236\n",
      "Average of feature importances for each group (sorted): {'pitch': 0.01541, 'local': 0.00789, 'intensity': 0.00581, 'MFCC20_std': 0.00441, 'rms': 0.00432, 'HNR ': 0.00396, 'Mel32_max': 0.00382, 'Mel32_mean': 0.00381, 'MFCC20_max': 0.00379, 'MFCC20_mean': 0.00374, 'chroma_mean': 0.00366, 'zcr': 0.00365, 'MFCC20_min': 0.00359, 'formant ': 0.00358, 'chroma_median': 0.0035, 'MFCC20_median': 0.00341, 'chroma_min': 0.00332}\n",
      "To remove least importance feature group: chroma_min\n",
      "current feature dimension - 224\n",
      "Average of feature importances for each group (sorted): {'pitch': 0.01554, 'local': 0.00957, 'intensity': 0.00607, 'rms': 0.00456, 'MFCC20_std': 0.0045, 'chroma_median': 0.00408, 'HNR ': 0.00404, 'Mel32_mean': 0.00396, 'chroma_mean': 0.00396, 'MFCC20_max': 0.00393, 'Mel32_max': 0.00393, 'MFCC20_min': 0.00386, 'MFCC20_mean': 0.00378, 'zcr': 0.00371, 'formant ': 0.00365, 'MFCC20_median': 0.00353}\n",
      "To remove least importance feature group: MFCC20_median\n",
      "current feature dimension - 204\n",
      "Average of feature importances for each group (sorted): {'pitch': 0.0168, 'local': 0.00795, 'intensity': 0.00667, 'rms': 0.00532, 'HNR ': 0.00487, 'MFCC20_std': 0.00486, 'chroma_median': 0.00435, 'MFCC20_mean': 0.00428, 'Mel32_mean': 0.00423, 'MFCC20_max': 0.00421, 'chroma_mean': 0.00417, 'formant ': 0.00415, 'MFCC20_min': 0.00413, 'Mel32_max': 0.00411, 'zcr': 0.00395}\n",
      "To remove least importance feature group: zcr\n",
      "current feature dimension - 199\n",
      "Average of feature importances for each group (sorted): {'pitch': 0.01677, 'local': 0.00832, 'intensity': 0.00665, 'rms': 0.00551, 'MFCC20_std': 0.00491, 'HNR ': 0.00474, 'chroma_mean': 0.00445, 'MFCC20_max': 0.00443, 'MFCC20_mean': 0.00441, 'chroma_median': 0.00438, 'Mel32_mean': 0.00431, 'formant ': 0.00425, 'MFCC20_min': 0.0042, 'Mel32_max': 0.0042}\n",
      "To remove least importance feature group: Mel32_max\n",
      "current feature dimension - 167\n",
      "Average of feature importances for each group (sorted): {'pitch': 0.01813, 'local': 0.0117, 'intensity': 0.00776, 'rms': 0.00641, 'MFCC20_std': 0.0055, 'Mel32_mean': 0.00545, 'HNR ': 0.00518, 'chroma_mean': 0.00506, 'MFCC20_max': 0.00505, 'chroma_median': 0.00502, 'MFCC20_mean': 0.00494, 'MFCC20_min': 0.00489, 'formant ': 0.00487}\n",
      "To remove least importance feature group: formant \n",
      "current feature dimension - 161\n",
      "Average of feature importances for each group (sorted): {'pitch': 0.01781, 'local': 0.01027, 'intensity': 0.00799, 'rms': 0.0066, 'MFCC20_std': 0.00586, 'Mel32_mean': 0.00571, 'HNR ': 0.00549, 'MFCC20_max': 0.00527, 'MFCC20_mean': 0.00526, 'chroma_median': 0.00526, 'chroma_mean': 0.0052, 'MFCC20_min': 0.00489}\n",
      "To remove least importance feature group: MFCC20_min\n",
      "current feature dimension - 141\n",
      "Average of feature importances for each group (sorted): {'pitch': 0.01948, 'local': 0.0123, 'intensity': 0.00888, 'rms': 0.00729, 'MFCC20_std': 0.0065, 'Mel32_mean': 0.00623, 'HNR ': 0.00612, 'MFCC20_mean': 0.00605, 'MFCC20_max': 0.00592, 'chroma_median': 0.0057, 'chroma_mean': 0.00567}\n",
      "To remove least importance feature group: chroma_mean\n",
      "current feature dimension - 129\n",
      "Average of feature importances for each group (sorted): {'pitch': 0.02044, 'local': 0.01222, 'intensity': 0.00967, 'rms': 0.00769, 'MFCC20_std': 0.00697, 'chroma_median': 0.00683, 'Mel32_mean': 0.00664, 'HNR ': 0.00657, 'MFCC20_mean': 0.00651, 'MFCC20_max': 0.00625}\n",
      "To remove least importance feature group: MFCC20_max\n",
      "current feature dimension - 109\n",
      "Average of feature importances for each group (sorted): {'pitch': 0.02248, 'local': 0.01441, 'intensity': 0.01045, 'rms': 0.00831, 'HNR ': 0.00827, 'MFCC20_std': 0.00807, 'MFCC20_mean': 0.00776, 'Mel32_mean': 0.0077, 'chroma_median': 0.00757}\n",
      "To remove least importance feature group: chroma_median\n",
      "reach the ideal feature dimension - 100 at 97 \n"
     ]
    }
   ],
   "source": [
    "last_feature_group_name = list(sorted_group_importance_mean.keys())[-1]\n",
    "\n",
    "while feature_groups is not None :\n",
    "    removed_group_features = feature_groups.pop(last_feature_group_name)\n",
    "    \n",
    "    total_features = [] \n",
    "    feature_group_indices = {}\n",
    "    index_counter = 0\n",
    "    for group_name, group_features in feature_groups.items():\n",
    "        total_features.extend(group_features)\n",
    "        group_indices = list(range(index_counter, index_counter + len(group_features)))\n",
    "        feature_group_indices[group_name] = group_indices\n",
    "        index_counter += len(group_features)\n",
    "    if len(total_features) < 100:\n",
    "        print(f\"reach the ideal feature dimension - 100 at {len(total_features)} \") \n",
    "        break\n",
    "    else:\n",
    "        print(f\"current feature dimension - {len(total_features)}\")\n",
    "\n",
    "    # Redo the Random Forest model classifier\n",
    "    rf_classifier = RandomForestClassifier(n_estimators=100, random_state=42)\n",
    "    rf_classifier.fit(X_train[total_features], y_train_s)\n",
    "    importances = rf_classifier.feature_importances_\n",
    "    \n",
    "    sorted_group_importance_mean = {}\n",
    "    for group_name, group_indices in feature_group_indices.items():\n",
    "        group_importances = importances[group_indices]\n",
    "        importance_mean = np.mean(group_importances)\n",
    "        sorted_group_importance_mean[group_name] = round(importance_mean,5)\n",
    "    \n",
    "\n",
    "    sorted_group_importance_mean = dict(sorted(sorted_group_importance_mean.items(), key=lambda x: x[1], reverse=True))\n",
    "    print(\"Average of feature importances for each group (sorted):\", sorted_group_importance_mean)\n",
    "    \n",
    "    last_feature_group_name = list(sorted_group_importance_mean.keys())[-1]\n",
    "    print(\"To remove least importance feature group:\", last_feature_group_name)\n"
   ]
  },
  {
   "cell_type": "code",
   "execution_count": 11,
   "id": "0918cc43-ed59-4e23-9677-c5e42965e64a",
   "metadata": {},
   "outputs": [
    {
     "name": "stdout",
     "output_type": "stream",
     "text": [
      "              precision    recall  f1-score   support\n",
      "\n",
      "          -1       0.75      0.97      0.85       748\n",
      "           0       0.85      0.44      0.58       183\n",
      "           1       0.92      0.43      0.58       249\n",
      "\n",
      "    accuracy                           0.77      1180\n",
      "   macro avg       0.84      0.61      0.67      1180\n",
      "weighted avg       0.80      0.77      0.75      1180\n",
      "\n",
      "[[726  13   9]\n",
      " [102  81   0]\n",
      " [142   1 106]]\n"
     ]
    }
   ],
   "source": [
    "model.fit(X_train[total_features], y_train_s)\n",
    "predictions = model.predict(X_test[total_features]) \n",
    "print(classification_report(y_test_s, predictions))\n",
    "print(confusion_matrix(y_test_s, predictions))"
   ]
  },
  {
   "cell_type": "code",
   "execution_count": 12,
   "id": "a2ee87d2-37d7-44db-b835-10571dfec20c",
   "metadata": {},
   "outputs": [
    {
     "name": "stdout",
     "output_type": "stream",
     "text": [
      "              precision    recall  f1-score   support\n",
      "\n",
      "       Anger       0.76      0.85      0.80       187\n",
      "    Calmness       0.54      0.94      0.68        16\n",
      "     Disgust       0.54      0.42      0.47       187\n",
      "        Fear       0.64      0.53      0.58       187\n",
      "   Happiness       0.69      0.48      0.57       187\n",
      "  Neutrality       0.63      0.71      0.67       167\n",
      "     Sadness       0.54      0.76      0.63       187\n",
      "    Surprise       0.89      0.76      0.82        62\n",
      "\n",
      "    accuracy                           0.64      1180\n",
      "   macro avg       0.65      0.68      0.65      1180\n",
      "weighted avg       0.64      0.64      0.63      1180\n",
      "\n",
      "[[159   0  12   4   8   2   2   0]\n",
      " [  0  15   0   0   0   0   1   0]\n",
      " [ 10   2  79  15  15  29  37   0]\n",
      " [  8   0  13  99   6  11  48   2]\n",
      " [ 33   2  22  15  90  11  12   2]\n",
      " [  0   4  12   7   3 119  22   0]\n",
      " [  0   5   4   9   6  18 143   2]\n",
      " [  0   0   5   5   3   0   2  47]]\n"
     ]
    }
   ],
   "source": [
    "model.fit(X_train[total_features], y_train_e)\n",
    "predictions = model.predict(X_test[total_features]) \n",
    "print(classification_report(y_test_e, predictions))\n",
    "print(confusion_matrix(y_test_e, predictions))"
   ]
  },
  {
   "cell_type": "markdown",
   "id": "1a6bb924-6f20-4da4-85d3-5bdac0e27531",
   "metadata": {},
   "source": [
    "### Feature Tables Summary combined \n",
    "\n",
    "| feature category   | num of sub attributes  | num of selected   | remain |\n",
    "| ------------------ | ---------------------- | ----------------- | ------ |\n",
    "|Intensity           |    9                   |    6              |  True  |\n",
    "|pitch               |   12                   |    8              |  True  |\n",
    "|HNR                 |    6                   |    4              |  True  |\n",
    "|Local Jitter        |    1                   |    1              |  True  |\n",
    "|Local Shimmer       |    1                   |    1              |  True  |\n",
    "|Spectrum            |    9                   |    8              | False  |\n",
    "|formant             |   14                   |    6              | False  |\n",
    "| RMS                |   5                    |    5              | True   |\n",
    "|Mel                 |   32/64/128 *5         |   32   mean       | True   |\n",
    "|MFCC                |   20/40 *5             |   20*2 mean std   | True   |  \n",
    "|Chroma              |   12   *5              |    0              | False  |\n",
    "|====================|========================|======================|\n",
    "| S accuracy - RF   | |  |  77%(min recall 0.43) |\n",
    "| E accuracy - RF   | |  |  64%(min recall 0.42) |"
   ]
  }
 ],
 "metadata": {
  "kernelspec": {
   "display_name": "Python 3 (ipykernel)",
   "language": "python",
   "name": "python3"
  },
  "language_info": {
   "codemirror_mode": {
    "name": "ipython",
    "version": 3
   },
   "file_extension": ".py",
   "mimetype": "text/x-python",
   "name": "python",
   "nbconvert_exporter": "python",
   "pygments_lexer": "ipython3",
   "version": "3.9.17"
  }
 },
 "nbformat": 4,
 "nbformat_minor": 5
}
