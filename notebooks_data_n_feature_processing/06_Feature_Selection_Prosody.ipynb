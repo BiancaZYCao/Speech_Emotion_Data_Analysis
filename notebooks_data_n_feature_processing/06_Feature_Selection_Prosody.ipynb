{
 "cells": [
  {
   "cell_type": "code",
   "execution_count": 2,
   "id": "e8dba9c2-50a6-4935-85c4-36c696e704fb",
   "metadata": {},
   "outputs": [],
   "source": [
    "import librosa\n",
    "import librosa.display\n",
    "from librosa.core import load\n",
    "import numpy as np\n",
    "import pandas as pd\n",
    "import glob\n",
    "import os, sys\n",
    "import time"
   ]
  },
  {
   "cell_type": "markdown",
   "id": "659733a7-b892-482e-b64f-459f44cc7a78",
   "metadata": {},
   "source": [
    "### Load Data"
   ]
  },
  {
   "cell_type": "code",
   "execution_count": 3,
   "id": "3fe62731-a5f0-4a7b-95fb-d8fc8306672a",
   "metadata": {},
   "outputs": [
    {
     "name": "stdout",
     "output_type": "stream",
     "text": [
      "shape of train set original:  (10981, 1546)\n",
      "shape of test  set original:  (1180, 1546)\n",
      "shape of train set 3cls balanced after downsample:  (6538, 1546)\n",
      "shape of test  set 3cls balanced after downsample:  (680, 1546)\n",
      "shape of train set 3cls balanced after augmentation:  (24885, 1546)\n"
     ]
    }
   ],
   "source": [
    "VERSION = 4 \n",
    "df_joint_train_org   = pd.read_csv(f'./features/cache_all_features_train_V{VERSION}.csv')\n",
    "df_joint_train_org   = df_joint_train_org.drop(columns=['GNE_max_gne','GNE_mean_gne','GNE_stddev_gne','GNE_sum_gne'])                         \n",
    "df_joint_test_org = pd.read_csv(f'./features/cache_all_features_test_V{VERSION}.csv').drop(\n",
    "    columns=['GNE_max_gne','GNE_mean_gne','GNE_stddev_gne','GNE_sum_gne'])\n",
    "feature_column_names = [i for i in df_joint_train_org.columns \\\n",
    "                        if i not in ['file_path','renamed_file_path','split','sentiment_value','emotional_category']]\n",
    "print(\"shape of train set original: \", df_joint_train_org.shape)\n",
    "print(\"shape of test  set original: \", df_joint_test_org.shape)\n",
    "\n",
    "df_joint_train_ds  = pd.read_csv(f'./features/cache_train_V4_resampled_2500.csv')\n",
    "df_joint_test_ds = pd.read_csv(f'./features/cache_test_V4_resampled_250.csv')\n",
    "print(\"shape of train set 3cls balanced after downsample: \", df_joint_train_ds.shape)\n",
    "print(\"shape of test  set 3cls balanced after downsample: \", df_joint_test_ds.shape)\n",
    "\n",
    "df_joint_train_aug  = pd.read_csv(f'./features/cache_train_V4_augmented.csv')\n",
    "print(\"shape of train set 3cls balanced after augmentation: \", df_joint_train_aug.shape)\n",
    "\n",
    "feat_rank_emo = pd.read_csv('./features/relationship_study/relationship_stats_test_result_emotion_prosody_V4_augmented.csv')\n",
    "feat_rank_sti = pd.read_csv('./features/relationship_study/relationship_stats_test_result_sentiment_prosody_V4_augmented.csv')\n",
    "feat_rank_emo.correlation_coeff = abs(feat_rank_emo.correlation_coeff)\n",
    "feat_rank_sti.correlation_coeff = abs(feat_rank_sti.correlation_coeff)\n",
    "feature_types = ['mfcc','chroma','mel','zcr','rms','Intensity','Pitch','GNE','HNR','Spectrum','Formant']"
   ]
  },
  {
   "cell_type": "code",
   "execution_count": null,
   "id": "5675cd87-a210-4e52-9892-936e95e650c5",
   "metadata": {},
   "outputs": [],
   "source": [
    "from sklearn.preprocessing import LabelEncoder\n",
    "label_encoder = LabelEncoder()"
   ]
  },
  {
   "cell_type": "code",
   "execution_count": 4,
   "id": "b8668261-1f52-4555-b89e-e71bbd5491d7",
   "metadata": {},
   "outputs": [],
   "source": [
    "def get_X_n_y_by_cond(df,cols):\n",
    "    X = df[cols]\n",
    "    y_s,y_e = df['sentiment_value'],df['emotional_category']\n",
    "    return X , y_s, y_e\n",
    "\n",
    "X_train_org, y_train_s_org, y_train_e_org = get_X_n_y_by_cond(df_joint_train_org,feature_column_names)\n",
    "X_test_org, y_test_s_org, y_test_e_org = get_X_n_y_by_cond(df_joint_test_org,feature_column_names)\n",
    "X_train_aug, y_train_s_aug, y_train_e_aug = get_X_n_y_by_cond(df_joint_train_aug,feature_column_names)\n",
    "X_train_ds, y_train_s_ds, y_train_e_ds = get_X_n_y_by_cond(df_joint_train_ds,feature_column_names)\n",
    "X_test_ds,  y_test_s_ds, y_test_e_ds = get_X_n_y_by_cond(df_joint_test_ds,feature_column_names)"
   ]
  },
  {
   "cell_type": "markdown",
   "id": "4d28b670-1c09-4bd6-ab41-d65a53247c40",
   "metadata": {},
   "source": [
    "### Check feature ranking"
   ]
  },
  {
   "cell_type": "code",
   "execution_count": 5,
   "id": "e5732170-6bec-4c77-b1ed-75219647058b",
   "metadata": {},
   "outputs": [
    {
     "data": {
      "text/html": [
       "<div>\n",
       "<style scoped>\n",
       "    .dataframe tbody tr th:only-of-type {\n",
       "        vertical-align: middle;\n",
       "    }\n",
       "\n",
       "    .dataframe tbody tr th {\n",
       "        vertical-align: top;\n",
       "    }\n",
       "\n",
       "    .dataframe thead th {\n",
       "        text-align: right;\n",
       "    }\n",
       "</style>\n",
       "<table border=\"1\" class=\"dataframe\">\n",
       "  <thead>\n",
       "    <tr style=\"text-align: right;\">\n",
       "      <th></th>\n",
       "      <th>p_value</th>\n",
       "      <th>is_significant</th>\n",
       "      <th>f_score</th>\n",
       "      <th>correlation_coeff</th>\n",
       "      <th>mutual_info_score</th>\n",
       "    </tr>\n",
       "  </thead>\n",
       "  <tbody>\n",
       "    <tr>\n",
       "      <th>count</th>\n",
       "      <td>52.000000</td>\n",
       "      <td>52.0</td>\n",
       "      <td>52.000000</td>\n",
       "      <td>52.000000</td>\n",
       "      <td>52.000000</td>\n",
       "    </tr>\n",
       "    <tr>\n",
       "      <th>mean</th>\n",
       "      <td>0.000002</td>\n",
       "      <td>1.0</td>\n",
       "      <td>273.944456</td>\n",
       "      <td>0.076302</td>\n",
       "      <td>0.110419</td>\n",
       "    </tr>\n",
       "    <tr>\n",
       "      <th>std</th>\n",
       "      <td>0.000014</td>\n",
       "      <td>0.0</td>\n",
       "      <td>333.344792</td>\n",
       "      <td>0.061493</td>\n",
       "      <td>0.085777</td>\n",
       "    </tr>\n",
       "    <tr>\n",
       "      <th>min</th>\n",
       "      <td>0.000000</td>\n",
       "      <td>1.0</td>\n",
       "      <td>4.374100</td>\n",
       "      <td>0.004200</td>\n",
       "      <td>0.008500</td>\n",
       "    </tr>\n",
       "    <tr>\n",
       "      <th>25%</th>\n",
       "      <td>0.000000</td>\n",
       "      <td>1.0</td>\n",
       "      <td>30.649250</td>\n",
       "      <td>0.030450</td>\n",
       "      <td>0.034975</td>\n",
       "    </tr>\n",
       "    <tr>\n",
       "      <th>50%</th>\n",
       "      <td>0.000000</td>\n",
       "      <td>1.0</td>\n",
       "      <td>119.646850</td>\n",
       "      <td>0.057250</td>\n",
       "      <td>0.088650</td>\n",
       "    </tr>\n",
       "    <tr>\n",
       "      <th>75%</th>\n",
       "      <td>0.000000</td>\n",
       "      <td>1.0</td>\n",
       "      <td>367.601250</td>\n",
       "      <td>0.101250</td>\n",
       "      <td>0.186450</td>\n",
       "    </tr>\n",
       "    <tr>\n",
       "      <th>max</th>\n",
       "      <td>0.000100</td>\n",
       "      <td>1.0</td>\n",
       "      <td>1136.014000</td>\n",
       "      <td>0.265500</td>\n",
       "      <td>0.296800</td>\n",
       "    </tr>\n",
       "  </tbody>\n",
       "</table>\n",
       "</div>"
      ],
      "text/plain": [
       "         p_value  is_significant      f_score  correlation_coeff  \\\n",
       "count  52.000000            52.0    52.000000          52.000000   \n",
       "mean    0.000002             1.0   273.944456           0.076302   \n",
       "std     0.000014             0.0   333.344792           0.061493   \n",
       "min     0.000000             1.0     4.374100           0.004200   \n",
       "25%     0.000000             1.0    30.649250           0.030450   \n",
       "50%     0.000000             1.0   119.646850           0.057250   \n",
       "75%     0.000000             1.0   367.601250           0.101250   \n",
       "max     0.000100             1.0  1136.014000           0.265500   \n",
       "\n",
       "       mutual_info_score  \n",
       "count          52.000000  \n",
       "mean            0.110419  \n",
       "std             0.085777  \n",
       "min             0.008500  \n",
       "25%             0.034975  \n",
       "50%             0.088650  \n",
       "75%             0.186450  \n",
       "max             0.296800  "
      ]
     },
     "execution_count": 5,
     "metadata": {},
     "output_type": "execute_result"
    }
   ],
   "source": [
    "feat_rank_emo.describe()"
   ]
  },
  {
   "cell_type": "code",
   "execution_count": 7,
   "id": "89479f50-e805-4aee-be5b-cc2f725c8849",
   "metadata": {},
   "outputs": [
    {
     "name": "stdout",
     "output_type": "stream",
     "text": [
      "features with score above p50 from Emotion label:  15\n",
      "['Pitch_q3_pitch' 'Pitch_mean_pitch' 'Intensity_q3_intensity'\n",
      " 'Pitch_mean_absolute_pitch_slope'\n",
      " 'Pitch_pitch_slope_without_octave_jumps' 'Intensity_mean_intensity'\n",
      " 'Pitch_stddev_pitch' 'Intensity_q1_intensity'\n",
      " 'Intensity_median_intensity' 'Pitch_max_pitch' 'Intensity_min_intensity'\n",
      " 'Intensity_stddev_intensity' 'Spectrum_skewness_spectrum'\n",
      " 'Spectrum_kurtosis_spectrum' 'Spectrum_stddev_spectrum']\n"
     ]
    }
   ],
   "source": [
    "features_score_above_p50 = feat_rank_emo[(feat_rank_emo.f_score>119.647) &\n",
    "(feat_rank_emo.mutual_info_score>0.057)&\n",
    "(feat_rank_emo.correlation_coeff>0.0885)]['feature'].values\n",
    "\n",
    "print(\"features with score above p50 from Emotion label: \", len(features_score_above_p50))\n",
    "print(features_score_above_p50)"
   ]
  },
  {
   "cell_type": "code",
   "execution_count": 8,
   "id": "6c0f5805-23b9-4f90-8b42-02348341063f",
   "metadata": {},
   "outputs": [
    {
     "data": {
      "text/html": [
       "<div>\n",
       "<style scoped>\n",
       "    .dataframe tbody tr th:only-of-type {\n",
       "        vertical-align: middle;\n",
       "    }\n",
       "\n",
       "    .dataframe tbody tr th {\n",
       "        vertical-align: top;\n",
       "    }\n",
       "\n",
       "    .dataframe thead th {\n",
       "        text-align: right;\n",
       "    }\n",
       "</style>\n",
       "<table border=\"1\" class=\"dataframe\">\n",
       "  <thead>\n",
       "    <tr style=\"text-align: right;\">\n",
       "      <th></th>\n",
       "      <th>feature</th>\n",
       "      <th>p_value</th>\n",
       "      <th>is_significant</th>\n",
       "      <th>f_score</th>\n",
       "      <th>correlation_coeff</th>\n",
       "      <th>mutual_info_score</th>\n",
       "    </tr>\n",
       "  </thead>\n",
       "  <tbody>\n",
       "    <tr>\n",
       "      <th>0</th>\n",
       "      <td>Pitch_q3_pitch</td>\n",
       "      <td>0.0</td>\n",
       "      <td>1</td>\n",
       "      <td>1136.0140</td>\n",
       "      <td>0.1205</td>\n",
       "      <td>0.2968</td>\n",
       "    </tr>\n",
       "    <tr>\n",
       "      <th>1</th>\n",
       "      <td>Pitch_mean_pitch</td>\n",
       "      <td>0.0</td>\n",
       "      <td>1</td>\n",
       "      <td>999.4002</td>\n",
       "      <td>0.0978</td>\n",
       "      <td>0.2960</td>\n",
       "    </tr>\n",
       "    <tr>\n",
       "      <th>3</th>\n",
       "      <td>Pitch_mean_absolute_pitch_slope</td>\n",
       "      <td>0.0</td>\n",
       "      <td>1</td>\n",
       "      <td>969.5565</td>\n",
       "      <td>0.2655</td>\n",
       "      <td>0.2191</td>\n",
       "    </tr>\n",
       "    <tr>\n",
       "      <th>5</th>\n",
       "      <td>Pitch_pitch_slope_without_octave_jumps</td>\n",
       "      <td>0.0</td>\n",
       "      <td>1</td>\n",
       "      <td>924.0906</td>\n",
       "      <td>0.2105</td>\n",
       "      <td>0.1926</td>\n",
       "    </tr>\n",
       "    <tr>\n",
       "      <th>7</th>\n",
       "      <td>Pitch_stddev_pitch</td>\n",
       "      <td>0.0</td>\n",
       "      <td>1</td>\n",
       "      <td>701.6538</td>\n",
       "      <td>0.1855</td>\n",
       "      <td>0.1976</td>\n",
       "    </tr>\n",
       "    <tr>\n",
       "      <th>8</th>\n",
       "      <td>Pitch_median_intensity</td>\n",
       "      <td>0.0</td>\n",
       "      <td>1</td>\n",
       "      <td>690.3525</td>\n",
       "      <td>0.0552</td>\n",
       "      <td>0.2321</td>\n",
       "    </tr>\n",
       "    <tr>\n",
       "      <th>11</th>\n",
       "      <td>Pitch_max_pitch</td>\n",
       "      <td>0.0</td>\n",
       "      <td>1</td>\n",
       "      <td>549.7149</td>\n",
       "      <td>0.1858</td>\n",
       "      <td>0.2241</td>\n",
       "    </tr>\n",
       "    <tr>\n",
       "      <th>12</th>\n",
       "      <td>Pitch_q1_pitch</td>\n",
       "      <td>0.0</td>\n",
       "      <td>1</td>\n",
       "      <td>412.6626</td>\n",
       "      <td>0.0192</td>\n",
       "      <td>0.1844</td>\n",
       "    </tr>\n",
       "    <tr>\n",
       "      <th>20</th>\n",
       "      <td>Pitch_min_pitch</td>\n",
       "      <td>0.0</td>\n",
       "      <td>1</td>\n",
       "      <td>180.2162</td>\n",
       "      <td>0.0183</td>\n",
       "      <td>0.1293</td>\n",
       "    </tr>\n",
       "    <tr>\n",
       "      <th>26</th>\n",
       "      <td>Pitch_voiced_fraction</td>\n",
       "      <td>0.0</td>\n",
       "      <td>1</td>\n",
       "      <td>117.9129</td>\n",
       "      <td>0.1926</td>\n",
       "      <td>0.1084</td>\n",
       "    </tr>\n",
       "    <tr>\n",
       "      <th>39</th>\n",
       "      <td>Pitch_relative_min_pitch_time</td>\n",
       "      <td>0.0</td>\n",
       "      <td>1</td>\n",
       "      <td>25.9946</td>\n",
       "      <td>0.0182</td>\n",
       "      <td>0.0814</td>\n",
       "    </tr>\n",
       "    <tr>\n",
       "      <th>40</th>\n",
       "      <td>Pitch_relative_max_pitch_time</td>\n",
       "      <td>0.0</td>\n",
       "      <td>1</td>\n",
       "      <td>24.0156</td>\n",
       "      <td>0.0235</td>\n",
       "      <td>0.0938</td>\n",
       "    </tr>\n",
       "  </tbody>\n",
       "</table>\n",
       "</div>"
      ],
      "text/plain": [
       "                                   feature  p_value  is_significant  \\\n",
       "0                           Pitch_q3_pitch      0.0               1   \n",
       "1                         Pitch_mean_pitch      0.0               1   \n",
       "3          Pitch_mean_absolute_pitch_slope      0.0               1   \n",
       "5   Pitch_pitch_slope_without_octave_jumps      0.0               1   \n",
       "7                       Pitch_stddev_pitch      0.0               1   \n",
       "8                   Pitch_median_intensity      0.0               1   \n",
       "11                         Pitch_max_pitch      0.0               1   \n",
       "12                          Pitch_q1_pitch      0.0               1   \n",
       "20                         Pitch_min_pitch      0.0               1   \n",
       "26                   Pitch_voiced_fraction      0.0               1   \n",
       "39           Pitch_relative_min_pitch_time      0.0               1   \n",
       "40           Pitch_relative_max_pitch_time      0.0               1   \n",
       "\n",
       "      f_score  correlation_coeff  mutual_info_score  \n",
       "0   1136.0140             0.1205             0.2968  \n",
       "1    999.4002             0.0978             0.2960  \n",
       "3    969.5565             0.2655             0.2191  \n",
       "5    924.0906             0.2105             0.1926  \n",
       "7    701.6538             0.1855             0.1976  \n",
       "8    690.3525             0.0552             0.2321  \n",
       "11   549.7149             0.1858             0.2241  \n",
       "12   412.6626             0.0192             0.1844  \n",
       "20   180.2162             0.0183             0.1293  \n",
       "26   117.9129             0.1926             0.1084  \n",
       "39    25.9946             0.0182             0.0814  \n",
       "40    24.0156             0.0235             0.0938  "
      ]
     },
     "execution_count": 8,
     "metadata": {},
     "output_type": "execute_result"
    }
   ],
   "source": [
    "feat_rank_emo[feat_rank_emo.feature.str.contains('Pitch')]"
   ]
  },
  {
   "cell_type": "code",
   "execution_count": 9,
   "id": "01443bb8-5fb7-40b8-a554-4d3452b21ba8",
   "metadata": {},
   "outputs": [
    {
     "data": {
      "text/html": [
       "<div>\n",
       "<style scoped>\n",
       "    .dataframe tbody tr th:only-of-type {\n",
       "        vertical-align: middle;\n",
       "    }\n",
       "\n",
       "    .dataframe tbody tr th {\n",
       "        vertical-align: top;\n",
       "    }\n",
       "\n",
       "    .dataframe thead th {\n",
       "        text-align: right;\n",
       "    }\n",
       "</style>\n",
       "<table border=\"1\" class=\"dataframe\">\n",
       "  <thead>\n",
       "    <tr style=\"text-align: right;\">\n",
       "      <th></th>\n",
       "      <th>p_value</th>\n",
       "      <th>is_significant</th>\n",
       "      <th>f_score</th>\n",
       "      <th>correlation_coeff</th>\n",
       "      <th>mutual_info_score</th>\n",
       "    </tr>\n",
       "  </thead>\n",
       "  <tbody>\n",
       "    <tr>\n",
       "      <th>count</th>\n",
       "      <td>52.000000</td>\n",
       "      <td>52.0</td>\n",
       "      <td>52.000000</td>\n",
       "      <td>52.000000</td>\n",
       "      <td>52.000000</td>\n",
       "    </tr>\n",
       "    <tr>\n",
       "      <th>mean</th>\n",
       "      <td>0.000010</td>\n",
       "      <td>1.0</td>\n",
       "      <td>507.117058</td>\n",
       "      <td>0.133988</td>\n",
       "      <td>0.056919</td>\n",
       "    </tr>\n",
       "    <tr>\n",
       "      <th>std</th>\n",
       "      <td>0.000057</td>\n",
       "      <td>0.0</td>\n",
       "      <td>805.488797</td>\n",
       "      <td>0.128863</td>\n",
       "      <td>0.060862</td>\n",
       "    </tr>\n",
       "    <tr>\n",
       "      <th>min</th>\n",
       "      <td>0.000000</td>\n",
       "      <td>1.0</td>\n",
       "      <td>7.782200</td>\n",
       "      <td>0.005400</td>\n",
       "      <td>0.000000</td>\n",
       "    </tr>\n",
       "    <tr>\n",
       "      <th>25%</th>\n",
       "      <td>0.000000</td>\n",
       "      <td>1.0</td>\n",
       "      <td>31.890575</td>\n",
       "      <td>0.044200</td>\n",
       "      <td>0.011225</td>\n",
       "    </tr>\n",
       "    <tr>\n",
       "      <th>50%</th>\n",
       "      <td>0.000000</td>\n",
       "      <td>1.0</td>\n",
       "      <td>126.505350</td>\n",
       "      <td>0.073600</td>\n",
       "      <td>0.032450</td>\n",
       "    </tr>\n",
       "    <tr>\n",
       "      <th>75%</th>\n",
       "      <td>0.000000</td>\n",
       "      <td>1.0</td>\n",
       "      <td>591.604775</td>\n",
       "      <td>0.195025</td>\n",
       "      <td>0.085425</td>\n",
       "    </tr>\n",
       "    <tr>\n",
       "      <th>max</th>\n",
       "      <td>0.000400</td>\n",
       "      <td>1.0</td>\n",
       "      <td>3284.645300</td>\n",
       "      <td>0.445700</td>\n",
       "      <td>0.240300</td>\n",
       "    </tr>\n",
       "  </tbody>\n",
       "</table>\n",
       "</div>"
      ],
      "text/plain": [
       "         p_value  is_significant      f_score  correlation_coeff  \\\n",
       "count  52.000000            52.0    52.000000          52.000000   \n",
       "mean    0.000010             1.0   507.117058           0.133988   \n",
       "std     0.000057             0.0   805.488797           0.128863   \n",
       "min     0.000000             1.0     7.782200           0.005400   \n",
       "25%     0.000000             1.0    31.890575           0.044200   \n",
       "50%     0.000000             1.0   126.505350           0.073600   \n",
       "75%     0.000000             1.0   591.604775           0.195025   \n",
       "max     0.000400             1.0  3284.645300           0.445700   \n",
       "\n",
       "       mutual_info_score  \n",
       "count          52.000000  \n",
       "mean            0.056919  \n",
       "std             0.060862  \n",
       "min             0.000000  \n",
       "25%             0.011225  \n",
       "50%             0.032450  \n",
       "75%             0.085425  \n",
       "max             0.240300  "
      ]
     },
     "execution_count": 9,
     "metadata": {},
     "output_type": "execute_result"
    }
   ],
   "source": [
    "feat_rank_sti.describe()"
   ]
  },
  {
   "cell_type": "code",
   "execution_count": 12,
   "id": "d11b8e70-a394-4ab8-99da-3dbc9e017530",
   "metadata": {},
   "outputs": [
    {
     "name": "stdout",
     "output_type": "stream",
     "text": [
      "features with score above p50 from Sentiment label:  23\n",
      "['Pitch_q3_pitch' 'Pitch_mean_pitch'\n",
      " 'Pitch_pitch_slope_without_octave_jumps' 'Pitch_median_intensity'\n",
      " 'Pitch_mean_absolute_pitch_slope' 'Pitch_stddev_pitch' 'Pitch_max_pitch'\n",
      " 'Intensity_max_intensity' 'Pitch_q1_pitch' 'Intensity_q3_intensity'\n",
      " 'Spectrum_band_density_difference' 'Spectrum_band_energy_difference'\n",
      " 'Spectrum_center_of_gravity_spectrum' 'Formant_f1_median'\n",
      " 'Formant_f1_mean' 'Intensity_relative_max_intensity_time'\n",
      " 'Pitch_min_pitch' 'Spectrum_skewness_spectrum'\n",
      " 'Spectrum_kurtosis_spectrum' 'Intensity_median_intensity'\n",
      " 'Intensity_mean_intensity' 'Spectrum_band_density' 'Spectrum_band_energy']\n"
     ]
    }
   ],
   "source": [
    "features_score_above_p50 = feat_rank_sti[(feat_rank_sti.f_score>126.5) & \n",
    "(feat_rank_sti.correlation_coeff>0.0736) & \n",
    "(feat_rank_sti.mutual_info_score>0.0324)]['feature'].values \n",
    "\n",
    "print(\"features with score above p50 from Sentiment label: \", len(features_score_above_p50))\n",
    "print(features_score_above_p50)"
   ]
  },
  {
   "cell_type": "markdown",
   "id": "76f9e819-32f5-4dc8-8289-cf7941f60ee8",
   "metadata": {},
   "source": [
    "### import Model"
   ]
  },
  {
   "cell_type": "code",
   "execution_count": 13,
   "id": "e5a02a90-1dce-4277-9d5c-f10535cd5cdc",
   "metadata": {},
   "outputs": [],
   "source": [
    "from sklearn.tree import DecisionTreeClassifier\n",
    "from sklearn.ensemble import RandomForestClassifier\n",
    "from sklearn.metrics import classification_report, confusion_matrix,accuracy_score, precision_recall_fscore_support\n",
    "\n",
    "dt_clf= DecisionTreeClassifier()\n",
    "rf_clf = RandomForestClassifier()\n",
    "\n",
    "def try_clf_with_feature_selected(clf_model,X_train,X_test,y_train,y_test):\n",
    "    predictions = clf_model.fit(X_train, y_train).predict(X_test)\n",
    "    print(classification_report(y_test, predictions))\n",
    "    print(confusion_matrix(y_test, predictions))"
   ]
  },
  {
   "cell_type": "code",
   "execution_count": 19,
   "id": "d83f3063-cc28-4060-a569-40859d0c7fb1",
   "metadata": {},
   "outputs": [],
   "source": [
    "global scenario_sets \n",
    "scenario_sets = {\n",
    "    'aug-org-emo': [X_train_aug,X_test_org,y_train_e_aug,y_test_e_org],\n",
    "    'aug-ds-emo': [X_train_aug,X_test_ds,y_train_e_aug,y_test_e_ds],\n",
    "    'aug-org-sti': [X_train_aug,X_test_org,y_train_s_aug,y_test_s_org],\n",
    "    'aug-ds-sti': [X_train_aug,X_test_ds,y_train_s_aug,y_test_s_ds],\n",
    "    'ds-org-emo': [X_train_ds,X_test_org,y_train_e_ds,y_test_e_org],\n",
    "    'ds-ds-emo': [X_train_ds,X_test_ds,y_train_e_ds,y_test_e_ds],\n",
    "    'ds-org-sti': [X_train_ds,X_test_org,y_train_s_ds,y_test_s_org],\n",
    "    'ds-ds-sti': [X_train_ds,X_test_ds,y_train_s_ds,y_test_s_ds],\n",
    "    'org-org-emo': [X_train_org,X_test_org,y_train_e_org,y_test_e_org],\n",
    "    'org-ds-emo': [X_train_org,X_test_ds,y_train_e_org,y_test_e_ds],\n",
    "    'org-org-sti': [X_train_org,X_test_org,y_train_s_org,y_test_s_org],\n",
    "    'org-ds-sti': [X_train_org,X_test_ds,y_train_s_org,y_test_s_ds]\n",
    "}\n",
    "def experiment(clf_model,trainset_type,testset_type,features,cls_type):\n",
    "    key_comb = '-'.join([trainset_type,testset_type,cls_type])\n",
    "    X_train, X_test, y_train, y_test = scenario_sets[key_comb]\n",
    "    X_train, X_test = X_train[features], X_test[features]\n",
    "    y_pred = clf_model.fit(X_train, y_train).predict(X_test)\n",
    "    print(classification_report(y_test, y_pred))\n",
    "    print(confusion_matrix(y_test, y_pred))"
   ]
  },
  {
   "cell_type": "code",
   "execution_count": 20,
   "id": "3506a832-ea17-4fe3-87fc-aa19dfb391c6",
   "metadata": {},
   "outputs": [
    {
     "name": "stdout",
     "output_type": "stream",
     "text": [
      "              precision    recall  f1-score   support\n",
      "\n",
      "       Anger       0.69      0.76      0.72       187\n",
      "    Calmness       0.46      0.81      0.59        16\n",
      "     Disgust       0.49      0.48      0.49       187\n",
      "        Fear       0.58      0.48      0.53       187\n",
      "   Happiness       0.60      0.43      0.50       187\n",
      "  Neutrality       0.57      0.59      0.58       167\n",
      "     Sadness       0.55      0.74      0.63       187\n",
      "    Surprise       0.89      0.79      0.84        62\n",
      "\n",
      "    accuracy                           0.59      1180\n",
      "   macro avg       0.61      0.63      0.61      1180\n",
      "weighted avg       0.60      0.59      0.59      1180\n",
      "\n",
      "[[142   0  11  13  19   1   1   0]\n",
      " [  0  13   1   0   0   0   2   0]\n",
      " [ 12   0  89  16  11  28  29   2]\n",
      " [ 10   0  19  90   9  11  47   1]\n",
      " [ 42   2  23  13  80  16   9   2]\n",
      " [  0   6  25  10   4  99  23   0]\n",
      " [  0   6   8  10   7  17 138   1]\n",
      " [  0   1   4   2   4   1   1  49]]\n"
     ]
    }
   ],
   "source": [
    "experiment(rf_clf,'org','org',features_score_above_p50,'emo')"
   ]
  },
  {
   "cell_type": "code",
   "execution_count": 21,
   "id": "5cba7093-cdaa-4e95-a5cd-77072c696ee4",
   "metadata": {},
   "outputs": [
    {
     "name": "stdout",
     "output_type": "stream",
     "text": [
      "              precision    recall  f1-score   support\n",
      "\n",
      "       Anger       0.49      0.71      0.58        62\n",
      "    Calmness       0.61      0.88      0.72        16\n",
      "     Disgust       0.30      0.50      0.38        62\n",
      "        Fear       0.47      0.56      0.51        62\n",
      "   Happiness       0.78      0.43      0.55       187\n",
      "  Neutrality       0.77      0.59      0.67       167\n",
      "     Sadness       0.41      0.73      0.53        62\n",
      "    Surprise       0.94      0.79      0.86        62\n",
      "\n",
      "    accuracy                           0.58       680\n",
      "   macro avg       0.60      0.65      0.60       680\n",
      "weighted avg       0.66      0.58      0.59       680\n",
      "\n",
      "[[44  0  4  5  8  0  1  0]\n",
      " [ 0 14  1  0  0  0  1  0]\n",
      " [ 2  0 31  4  5  8 11  1]\n",
      " [ 1  0  5 35  1  3 17  0]\n",
      " [40  2 24 18 80 12 10  1]\n",
      " [ 2  5 28  8  3 99 22  0]\n",
      " [ 0  2  5  1  2  6 45  1]\n",
      " [ 0  0  4  4  3  0  2 49]]\n"
     ]
    }
   ],
   "source": [
    "experiment(rf_clf,'org','ds',features_score_above_p50,'emo')"
   ]
  },
  {
   "cell_type": "code",
   "execution_count": 22,
   "id": "d3cc5d4a-6718-49cd-acdb-31e35aed0aba",
   "metadata": {},
   "outputs": [
    {
     "name": "stdout",
     "output_type": "stream",
     "text": [
      "              precision    recall  f1-score   support\n",
      "\n",
      "       Anger       0.64      0.68      0.66        62\n",
      "    Calmness       0.45      0.94      0.61        16\n",
      "     Disgust       0.64      0.26      0.37        62\n",
      "        Fear       0.67      0.48      0.56        62\n",
      "   Happiness       0.69      0.59      0.64       187\n",
      "  Neutrality       0.61      0.86      0.71       167\n",
      "     Sadness       0.53      0.50      0.52        62\n",
      "    Surprise       0.84      0.82      0.83        62\n",
      "\n",
      "    accuracy                           0.64       680\n",
      "   macro avg       0.63      0.64      0.61       680\n",
      "weighted avg       0.65      0.64      0.63       680\n",
      "\n",
      "[[ 42   0   1   2  14   1   1   1]\n",
      " [  0  15   0   0   0   0   0   1]\n",
      " [  1   1  16   2  14  20   6   2]\n",
      " [  2   0   1  30   3  15  10   1]\n",
      " [ 21   5   4   9 110  30   4   4]\n",
      " [  0   7   3   1   7 143   6   0]\n",
      " [  0   4   0   0   4  22  31   1]\n",
      " [  0   1   0   1   7   2   0  51]]\n"
     ]
    }
   ],
   "source": [
    "experiment(rf_clf,'aug','ds',features_score_above_p50,'emo')"
   ]
  },
  {
   "cell_type": "code",
   "execution_count": 23,
   "id": "f8384449-4893-4ce2-83bc-e436b5abb192",
   "metadata": {},
   "outputs": [
    {
     "name": "stdout",
     "output_type": "stream",
     "text": [
      "              precision    recall  f1-score   support\n",
      "\n",
      "       Anger       0.77      0.68      0.73       187\n",
      "    Calmness       0.44      0.94      0.60        16\n",
      "     Disgust       0.73      0.24      0.36       187\n",
      "        Fear       0.77      0.45      0.57       187\n",
      "   Happiness       0.48      0.60      0.53       187\n",
      "  Neutrality       0.41      0.86      0.56       167\n",
      "     Sadness       0.68      0.58      0.63       187\n",
      "    Surprise       0.77      0.81      0.79        62\n",
      "\n",
      "    accuracy                           0.58      1180\n",
      "   macro avg       0.63      0.65      0.60      1180\n",
      "weighted avg       0.65      0.58      0.58      1180\n",
      "\n",
      "[[128   0   2   2  45   7   1   2]\n",
      " [  0  15   0   0   0   0   0   1]\n",
      " [  4   1  45   9  30  83  11   4]\n",
      " [  9   0   5  85  20  34  30   4]\n",
      " [ 25   4   2   9 113  28   4   2]\n",
      " [  0   6   3   1   8 143   6   0]\n",
      " [  0   7   2   3  15  49 109   2]\n",
      " [  0   1   3   1   6   1   0  50]]\n"
     ]
    }
   ],
   "source": [
    "experiment(rf_clf,'aug','org',features_score_above_p50,'emo')"
   ]
  },
  {
   "cell_type": "code",
   "execution_count": 24,
   "id": "1b4e23eb-44f6-44a7-9877-41718ffedc69",
   "metadata": {},
   "outputs": [
    {
     "name": "stdout",
     "output_type": "stream",
     "text": [
      "              precision    recall  f1-score   support\n",
      "\n",
      "          -1       0.83      0.75      0.79       748\n",
      "           0       0.51      0.78      0.62       183\n",
      "           1       0.65      0.59      0.62       249\n",
      "\n",
      "    accuracy                           0.72      1180\n",
      "   macro avg       0.67      0.71      0.68      1180\n",
      "weighted avg       0.74      0.72      0.73      1180\n",
      "\n",
      "[[560 115  73]\n",
      " [ 35 143   5]\n",
      " [ 78  23 148]]\n"
     ]
    }
   ],
   "source": [
    "experiment(rf_clf,'aug','org',features_score_above_p50,'sti')"
   ]
  },
  {
   "cell_type": "code",
   "execution_count": 28,
   "id": "608c85f5-33a4-4c53-82a6-9095dc2fd686",
   "metadata": {},
   "outputs": [
    {
     "name": "stdout",
     "output_type": "stream",
     "text": [
      "              precision    recall  f1-score   support\n",
      "\n",
      "          -1       0.83      0.74      0.79       748\n",
      "           0       0.49      0.79      0.61       183\n",
      "           1       0.66      0.59      0.62       249\n",
      "\n",
      "    accuracy                           0.72      1180\n",
      "   macro avg       0.66      0.71      0.67      1180\n",
      "weighted avg       0.74      0.72      0.72      1180\n",
      "\n",
      "[[556 120  72]\n",
      " [ 35 144   4]\n",
      " [ 75  28 146]]\n"
     ]
    }
   ],
   "source": [
    "experiment(rf_clf,'aug','org',features_score_above_p50,'sti')"
   ]
  },
  {
   "cell_type": "code",
   "execution_count": 27,
   "id": "8aad9888-ce6a-4e59-ba99-8f40d8ec40cd",
   "metadata": {},
   "outputs": [
    {
     "name": "stdout",
     "output_type": "stream",
     "text": [
      "              precision    recall  f1-score   support\n",
      "\n",
      "          -1       0.73      0.96      0.83       748\n",
      "           0       0.80      0.38      0.52       183\n",
      "           1       0.86      0.40      0.54       249\n",
      "\n",
      "    accuracy                           0.75      1180\n",
      "   macro avg       0.80      0.58      0.63      1180\n",
      "weighted avg       0.77      0.75      0.72      1180\n",
      "\n",
      "[[717  16  15]\n",
      " [112  70   1]\n",
      " [148   2  99]]\n"
     ]
    }
   ],
   "source": [
    "experiment(rf_clf,'org','org',features_score_above_p50,'sti')"
   ]
  },
  {
   "cell_type": "markdown",
   "id": "5086398f-601d-41f6-bac9-2f5520ab8754",
   "metadata": {},
   "source": [
    "## Forward Selection by category （OLD）\n",
    "- select certain category features\n",
    "- remove low related features (manual study results in selected_<group>) \n",
    "- apply auto feature selection to determin how many feature chosen\n",
    "- OPTIONAL experiment how much performance drop from full -> selected -> less -> 2PCs?\n",
    "\n",
    "- Alternative is too do prosody features together AUTO"
   ]
  },
  {
   "cell_type": "markdown",
   "id": "f5f9cd26-bdc3-4ded-93fb-af8405442748",
   "metadata": {},
   "source": [
    "### Prodosy Features List\n",
    "Total 56   \n",
    "['Intensity_min_intensity', 'Intensity_relative_min_intensity_time', 'Intensity_max_intensity', 'Intensity_relative_max_intensity_time', 'Intensity_mean_intensity', 'Intensity_stddev_intensity', 'Intensity_q1_intensity', 'Intensity_median_intensity', 'Intensity_q3_intensity', 'Pitch_voiced_fraction', 'Pitch_min_pitch', 'Pitch_relative_min_pitch_time', 'Pitch_max_pitch', 'Pitch_relative_max_pitch_time', 'Pitch_mean_pitch', 'Pitch_stddev_pitch', 'Pitch_q1_pitch', 'Pitch_median_intensity', 'Pitch_q3_pitch', 'Pitch_mean_absolute_pitch_slope', 'Pitch_pitch_slope_without_octave_jumps', 'GNE_max_gne', 'GNE_mean_gne', 'GNE_stddev_gne', 'GNE_sum_gne', 'HNR_min_hnr', 'HNR_relative_min_hnr_time', 'HNR_max_hnr', 'HNR_relative_max_hnr_time', 'HNR_mean_hnr', 'HNR_stddev_hnr', 'Spectrum_band_energy', 'Spectrum_band_density', 'Spectrum_band_energy_difference', 'Spectrum_band_density_difference', 'Spectrum_center_of_gravity_spectrum', 'Spectrum_stddev_spectrum', 'Spectrum_skewness_spectrum', 'Spectrum_kurtosis_spectrum', 'Spectrum_central_moment_spectrum', 'Formant_f1_mean', 'Formant_f2_mean', 'Formant_f3_mean', 'Formant_f4_mean', 'Formant_f1_median', 'Formant_f2_median', 'Formant_f3_median', 'Formant_f4_median', 'Formant_formant_dispersion', 'Formant_average_formant', 'Formant_mff', 'Formant_fitch_vtl', 'Formant_delta_f', 'Formant_vtl_delta_f', 'Local Jitter', 'Local Shimmer']"
   ]
  },
  {
   "cell_type": "code",
   "execution_count": null,
   "id": "5fc9ad85-fbc4-4acd-a5b6-33c4c516d9b3",
   "metadata": {},
   "outputs": [],
   "source": [
    "feature_names_prosody = ['Intensity_min_intensity', 'Intensity_relative_min_intensity_time', 'Intensity_max_intensity', 'Intensity_relative_max_intensity_time', 'Intensity_mean_intensity', 'Intensity_stddev_intensity', 'Intensity_q1_intensity', 'Intensity_median_intensity', 'Intensity_q3_intensity', \n",
    "                         'Pitch_voiced_fraction', 'Pitch_min_pitch', 'Pitch_relative_min_pitch_time', 'Pitch_max_pitch', 'Pitch_relative_max_pitch_time', 'Pitch_mean_pitch', 'Pitch_stddev_pitch', 'Pitch_q1_pitch', 'Pitch_median_intensity', 'Pitch_q3_pitch', 'Pitch_mean_absolute_pitch_slope', 'Pitch_pitch_slope_without_octave_jumps', \n",
    "                         'GNE_max_gne', 'GNE_mean_gne', 'GNE_stddev_gne', 'GNE_sum_gne', 'HNR_min_hnr', 'HNR_relative_min_hnr_time', 'HNR_max_hnr', 'HNR_relative_max_hnr_time', 'HNR_mean_hnr', 'HNR_stddev_hnr', \n",
    "                         'Spectrum_band_energy', 'Spectrum_band_density', 'Spectrum_band_energy_difference', 'Spectrum_band_density_difference', 'Spectrum_center_of_gravity_spectrum', 'Spectrum_stddev_spectrum', 'Spectrum_skewness_spectrum', 'Spectrum_kurtosis_spectrum', 'Spectrum_central_moment_spectrum', 'Formant_f1_mean', 'Formant_f2_mean', 'Formant_f3_mean', 'Formant_f4_mean', 'Formant_f1_median', 'Formant_f2_median', 'Formant_f3_median', 'Formant_f4_median', 'Formant_formant_dispersion', 'Formant_average_formant', 'Formant_mff', 'Formant_fitch_vtl', 'Formant_delta_f', 'Formant_vtl_delta_f', \n",
    "                         'Local Jitter', 'Local Shimmer']\n",
    "print(len(feature_names_prosody))\n",
    "# feature_names_prosody_selected = [ name for name in feature_names_prosody if name in features_score_above_p50 ]\n",
    "# selected_spect = ['Spectrum_band_energy_difference','Spectrum_band_density_difference','Spectrum_center_of_gravity_spectrum','Spectrum_skewness_spectrum','Spectrum_kurtosis_spectrum', 'Spectrum_stddev_spectrum','Spectrum_band_density', 'Spectrum_band_energy']\n",
    "# selected_formant = ['Formant_f1_mean','Formant_f1_median','Formant_f3_mean','Formant_fitch_vtl','Formant_mff','Formant_formant_dispersion']\n",
    "# selected_GNE = ['GNE_max_gne', 'GNE_stddev_gne', 'GNE_mean_gne', 'GNE_sum_gne']\n",
    "# selected_pitch = ['Pitch_pitch_slope_without_octave_jumps', 'Pitch_q3_pitch','Pitch_stddev_pitch', 'Pitch_mean_absolute_pitch_slope','Pitch_mean_pitch', 'Pitch_max_pitch', 'Pitch_q1_pitch', 'Pitch_min_pitch']\n",
    "# selected_intensity = ['Intensity_max_intensity', 'Intensity_q3_intensity','Intensity_median_intensity', 'Intensity_mean_intensity', 'Intensity_stddev_intensity','Intensity_relative_max_intensity_time']\n",
    "# selected_HNR = ['HNR_stddev_hnr', 'HNR_mean_hnr','HNR_relative_min_hnr_time','HNR_max_hnr']\n",
    "# feature_names_prosody_selected = selected_spect + selected_formant + selected_HNR + selected_intensity + selected_pitch + ['Local Jitter','Local Shimmer']\n",
    "# print(len(feature_names_prosody_selected))"
   ]
  },
  {
   "cell_type": "code",
   "execution_count": null,
   "id": "cf031840-35a6-43da-b01b-e0107320b3d5",
   "metadata": {},
   "outputs": [],
   "source": [
    "from sklearn.feature_selection import SequentialFeatureSelector\n",
    "\n",
    "rf_est = RandomForestClassifier(n_estimators=25, random_state=42)\n",
    "sfs = SequentialFeatureSelector(estimator=rf_est, \n",
    "                                n_features_to_select='auto',  # Select one feature at a time\n",
    "                                tol = 0.001, # minimum amount incremented between two consecutive additions,\n",
    "                                direction='forward',  # Forward selection\n",
    "                                scoring='balanced_accuracy',  # Use balabced accuracy as the evaluation metric - average of recall\n",
    "                                cv=5)  # k-fold cross-validation"
   ]
  },
  {
   "cell_type": "code",
   "execution_count": null,
   "id": "5f3dbce7-af03-4f83-b6d5-fd494421f27a",
   "metadata": {},
   "outputs": [],
   "source": [
    "def forward_select(group_name):\n",
    "    start = time.time()\n",
    "    features = [ name for name in feature_names_prosody if group_name in name ]\n",
    "    X_train = df_joint_train[features]\n",
    "    X_test  = df_joint_test[features]\n",
    "    sfs.fit(X_train, y_train_s)\n",
    "\n",
    "    selected_feature_names = [features[i] for i, selected in enumerate(sfs.get_support()) if selected]\n",
    "    print(f\"{len(selected_feature_names)} of {len(features)} selected. \\nFeature names:\", selected_feature_names)\n",
    "    X_train_selected = sfs.transform(X_train)\n",
    "    X_test_selected = sfs.transform(X_test)\n",
    "    rf_est.fit(X_train_selected, y_train_s)\n",
    "    accuracy = rf_est.score(X_test_selected, y_test_s)\n",
    "    print(\"Accuracy with selected features:\", accuracy)\n",
    "    print(f\"time taken: {round(time.time()-start)} seconds.\")\n",
    "    return selected_feature_names\n",
    "\n",
    "# forward_select('Intensity')"
   ]
  },
  {
   "cell_type": "code",
   "execution_count": null,
   "id": "2e00e4a6-8a24-4d63-a6e1-1acc31a7f294",
   "metadata": {},
   "outputs": [],
   "source": [
    "selected_prosody = []\n",
    "for group in ['Pitch','Intensity','HNR','Spectrum','Formant']:\n",
    "    selected_prosody.extend(forward_select(group))"
   ]
  },
  {
   "cell_type": "code",
   "execution_count": null,
   "id": "bc15f051-0737-4b37-8541-299f2b8f986b",
   "metadata": {},
   "outputs": [],
   "source": [
    "len(selected_prosody), selected_prosody"
   ]
  },
  {
   "cell_type": "code",
   "execution_count": null,
   "id": "f706a6ac-87ec-47e9-a075-7a6baf77759d",
   "metadata": {},
   "outputs": [],
   "source": [
    "try_clf_with_feature_selected(dt_clf,selected_prosody,y_train_s,y_test_s)"
   ]
  },
  {
   "cell_type": "markdown",
   "id": "325872db-53cc-44a6-91a9-0191866c9aec",
   "metadata": {},
   "source": [
    "## now try backwar/d"
   ]
  },
  {
   "cell_type": "code",
   "execution_count": null,
   "id": "e83763f2-087a-4bf0-b67b-aeb667c62772",
   "metadata": {},
   "outputs": [],
   "source": [
    "def backward_select(group_name):\n",
    "    start = time.time()\n",
    "    features = [ name for name in feature_names_prosody if group_name in name ]\n",
    "    X_train = df_joint_train[features]\n",
    "    X_test  = df_joint_test[features]\n",
    "    sfs_bk = SequentialFeatureSelector(estimator=rf_est, \n",
    "                                n_features_to_select='auto',  # Select one feature at a time\n",
    "                                direction='backward',  # Forward selection\n",
    "                                scoring='balanced_accuracy',  # Use balabced accuracy as the evaluation metric - average of recall\n",
    "                                cv=5)  # k-fold cross-validation\n",
    "    sfs_bk.fit(X_train, y_train_s)\n",
    "\n",
    "    selected_feature_names = [features[i] for i, selected in enumerate(sfs_bk.get_support()) if selected]\n",
    "    print(f\"{len(selected_feature_names)} of {len(features)} selected. \\nFeature names:\", selected_feature_names)\n",
    "    X_train_selected = sfs_bk.transform(X_train)\n",
    "    X_test_selected = sfs_bk.transform(X_test)\n",
    "    rf_est.fit(X_train_selected, y_train_s)\n",
    "    accuracy = rf_est.score(X_test_selected, y_test_s)\n",
    "    print(\"Accuracy with selected features:\", accuracy)\n",
    "    print(f\"time taken: {round(time.time()-start)} seconds.\")\n",
    "    return selected_feature_names\n",
    "\n",
    "# backward_select('Pitch')"
   ]
  },
  {
   "cell_type": "code",
   "execution_count": null,
   "id": "94c0c477-7de3-4767-91fc-3c3104ca8a3f",
   "metadata": {},
   "outputs": [],
   "source": [
    "selected_prosody_bk = []\n",
    "for group in ['Pitch','Intensity','HNR','Spectrum','Formant']:\n",
    "    selected_prosody_bk.extend(backward_select(group))\n",
    "print(len(selected_prosody_bk), selected_prosody_bk)\n",
    "try_clf_with_feature_selected(dt_clf,selected_prosody_bk,y_train_s,y_test_s)"
   ]
  },
  {
   "cell_type": "markdown",
   "id": "ad4276de-966b-4254-b2c9-010d6e774b48",
   "metadata": {},
   "source": [
    "## simple filter based on ranking -result "
   ]
  },
  {
   "cell_type": "code",
   "execution_count": null,
   "id": "c2af2e33-296e-470f-9a54-446751d356a5",
   "metadata": {},
   "outputs": [],
   "source": [
    "selected_pitch = ['Pitch_pitch_slope_without_octave_jumps', 'Pitch_q3_pitch','Pitch_stddev_pitch', \n",
    "                  'Pitch_mean_absolute_pitch_slope','Pitch_mean_pitch', 'Pitch_max_pitch', 'Pitch_q1_pitch', 'Pitch_min_pitch']\n",
    "selected_intensity = ['Intensity_max_intensity', 'Intensity_q3_intensity','Intensity_median_intensity', \n",
    "                      'Intensity_mean_intensity', 'Intensity_stddev_intensity','Intensity_relative_max_intensity_time']\n",
    "selected_spect = ['Spectrum_band_energy_difference','Spectrum_band_density_difference','Spectrum_center_of_gravity_spectrum',\n",
    "                  'Spectrum_skewness_spectrum','Spectrum_kurtosis_spectrum', 'Spectrum_stddev_spectrum','Spectrum_band_density', 'Spectrum_band_energy']\n",
    "selected_formant = ['Formant_f1_mean','Formant_f1_median','Formant_f3_mean','Formant_fitch_vtl','Formant_mff','Formant_formant_dispersion']\n",
    "selected_HNR = ['HNR_stddev_hnr', 'HNR_mean_hnr','HNR_relative_min_hnr_time','HNR_max_hnr']\n",
    "feature_names_prosody_filtered= selected_spect + selected_formant + selected_HNR + selected_intensity + selected_pitch + ['Local Jitter','Local Shimmer']\n",
    "len(feature_names_prosody_filtered)"
   ]
  },
  {
   "cell_type": "markdown",
   "id": "837f6f0f-de4b-4bb2-8532-75d188f6f34a",
   "metadata": {},
   "source": [
    "## try backward selection "
   ]
  },
  {
   "cell_type": "code",
   "execution_count": null,
   "id": "ced9f6e6-cac8-4dc1-8616-d26d99f27b6c",
   "metadata": {},
   "outputs": [],
   "source": [
    "feature_names_prosody = ['Intensity_min_intensity', 'Intensity_relative_min_intensity_time', 'Intensity_max_intensity',\n",
    "                         'Intensity_relative_max_intensity_time', 'Intensity_mean_intensity', 'Intensity_stddev_intensity', \n",
    "                         'Intensity_q1_intensity', 'Intensity_median_intensity', 'Intensity_q3_intensity', \n",
    "                         'Pitch_voiced_fraction', 'Pitch_min_pitch', 'Pitch_relative_min_pitch_time', 'Pitch_max_pitch', \n",
    "                         'Pitch_relative_max_pitch_time', 'Pitch_mean_pitch', 'Pitch_stddev_pitch', 'Pitch_q1_pitch', \n",
    "                         'Pitch_median_intensity', 'Pitch_q3_pitch', 'Pitch_mean_absolute_pitch_slope', 'Pitch_pitch_slope_without_octave_jumps',\n",
    "                         'HNR_min_hnr', 'HNR_relative_min_hnr_time', 'HNR_max_hnr', 'HNR_relative_max_hnr_time', 'HNR_mean_hnr', 'HNR_stddev_hnr', \n",
    "                         'Spectrum_band_energy', 'Spectrum_band_density', 'Spectrum_band_energy_difference', 'Spectrum_band_density_difference', 'Spectrum_center_of_gravity_spectrum', \n",
    "                         'Spectrum_stddev_spectrum', 'Spectrum_skewness_spectrum', 'Spectrum_kurtosis_spectrum', 'Spectrum_central_moment_spectrum', \n",
    "                         'Formant_f1_mean', 'Formant_f2_mean', 'Formant_f3_mean', 'Formant_f4_mean', 'Formant_f1_median', \n",
    "                         'Formant_f2_median', 'Formant_f3_median', 'Formant_f4_median', 'Formant_formant_dispersion', 'Formant_average_formant', \n",
    "                         'Formant_mff', 'Formant_fitch_vtl', 'Formant_delta_f', 'Formant_vtl_delta_f', \n",
    "                         'Local Jitter', 'Local Shimmer']"
   ]
  },
  {
   "cell_type": "code",
   "execution_count": null,
   "id": "84c81278-72b7-4c4d-92ed-1843daff1893",
   "metadata": {},
   "outputs": [],
   "source": [
    "start = time.time()\n",
    "X_train = df_joint_train[feature_names_prosody]\n",
    "X_test  = df_joint_test[feature_names_prosody]\n",
    "rf_est = RandomForestClassifier(n_estimators=25)\n",
    "sfs_bk = SequentialFeatureSelector(estimator=rf_est, \n",
    "                            n_features_to_select='auto',  # Select one feature at a time\n",
    "                            direction='backward',  # Forward selection\n",
    "                            scoring='balanced_accuracy',  # Use balabced accuracy as the evaluation metric - average of recall\n",
    "                            cv=3)  # k-fold cross-validation\n",
    "sfs_bk.fit(X_train, y_train_s)\n",
    "\n",
    "selected_feature_names = [feature_names_prosody[i] for i, selected in enumerate(sfs_bk.get_support()) if selected]\n",
    "print(f\"{len(selected_feature_names)} of {len(feature_names_prosody)} selected. \\nFeature names:\", selected_feature_names)\n",
    "X_train_selected = sfs_bk.transform(X_train)\n",
    "X_test_selected = sfs_bk.transform(X_test)\n",
    "rf_est.fit(X_train_selected, y_train_s)\n",
    "accuracy = rf_est.score(X_test_selected, y_test_s)\n",
    "print(\"Accuracy with selected features:\", accuracy)\n",
    "print(f\"time taken: {round(time.time()-start)} seconds.\")\n",
    "print(\"selected: \", selected_feature_names)"
   ]
  },
  {
   "cell_type": "code",
   "execution_count": null,
   "id": "fc66f7d7-c14c-4ed7-b975-c206d9b15abc",
   "metadata": {},
   "outputs": [],
   "source": [
    "try_clf_with_feature_selected(rf_clf,feature_names_prosody,y_train_s,y_test_s)\n",
    "try_clf_with_feature_selected(rf_clf,selected_feature_names,y_train_s,y_test_s)"
   ]
  },
  {
   "cell_type": "code",
   "execution_count": null,
   "id": "09cefc72-e20c-40a8-806f-3471f3effadf",
   "metadata": {},
   "outputs": [],
   "source": [
    "try_clf_with_feature_selected(rf_clf,feature_names_prosody,y_train_e,y_test_e)\n",
    "try_clf_with_feature_selected(rf_clf,selected_feature_names,y_train_e,y_test_e)"
   ]
  },
  {
   "cell_type": "code",
   "execution_count": null,
   "id": "4df6affd-6eff-4521-bb12-78f39b1231e7",
   "metadata": {},
   "outputs": [],
   "source": [
    "start = time.time()\n",
    "sfs = SequentialFeatureSelector(estimator=rf_est, \n",
    "                            n_features_to_select='auto',  # Select one feature at a time\n",
    "                            direction='forward',  # Forward selection\n",
    "                            scoring='balanced_accuracy',  # Use balabced accuracy as the evaluation metric - average of recall\n",
    "                            cv=5)  # k-fold cross-validation\n",
    "sfs.fit(X_train, y_train_s)\n",
    "\n",
    "selected_feature_names = [feature_names_prosody[i] for i, selected in enumerate(sfs.get_support()) if selected]\n",
    "print(f\"{len(selected_feature_names)} of {len(feature_names_prosody)} selected. \\nFeature names:\", selected_feature_names)\n",
    "X_train_selected = sfs.transform(X_train)\n",
    "X_test_selected = sfs.transform(X_test)\n",
    "rf_est.fit(X_train_selected, y_train_s)\n",
    "accuracy = rf_est.score(X_test_selected, y_test_s)\n",
    "print(\"Accuracy with selected features:\", accuracy)\n",
    "print(f\"time taken: {round(time.time()-start)} seconds.\")\n",
    "print(\"selected: \", selected_feature_names)"
   ]
  },
  {
   "cell_type": "markdown",
   "id": "c8c3b71b-c5df-4957-982c-8534d56c1317",
   "metadata": {},
   "source": [
    "difference checking  \n",
    "[ 'Intensity_max_intensity',  'Pitch_relative_max_pitch_time',  'Pitch_median_intensity',  'Pitch_mean_absolute_pitch_slope',   \n",
    "'Spectrum_skewness_spectrum', 'Spectrum_central_moment_spectrum', \n",
    "  'Formant_f1_median', 'Formant_f4_median', 'Formant_formant_dispersion', 'Formant_average_formant', 'Formant_delta_f',]\n",
    "[ 'Intensity_relative_max_intensity_time',   'Pitch_min_pitch', 'Pitch_max_pitch',   'Pitch_q1_pitch',   \n",
    " 'HNR_min_hnr',  'HNR_max_hnr', 'HNR_mean_hnr', 'Formant_f2_median'\n",
    " 'Spectrum_band_density', 'Spectrum_band_energy_difference','Spectrum_center_of_gravity_spectrum', 'Spectrum_skewness_spectrum', ]"
   ]
  },
  {
   "cell_type": "markdown",
   "id": "52e131d8-d871-4b95-9651-06f44a57b8be",
   "metadata": {},
   "source": [
    "17 of 34 selected.   \n",
    "Feature names: ['Spectrum_center_of_gravity_spectrum', 'Spectrum_stddev_spectrum', 'Spectrum_band_density', 'Spectrum_band_energy', 'Formant_f1_mean', 'Formant_mff', 'HNR_stddev_hnr', 'HNR_mean_hnr', 'HNR_relative_min_hnr_time', 'Intensity_q3_intensity', 'Intensity_relative_max_intensity_time', 'Pitch_pitch_slope_without_octave_jumps', 'Pitch_stddev_pitch', 'Pitch_mean_pitch', 'Pitch_max_pitch', 'Pitch_q1_pitch', 'Local Jitter']  \n",
    "Accuracy with selected features: 0.7694915254237288  \n",
    "time taken: 2287 seconds.  \n",
    "selected:  ['Spectrum_center_of_gravity_spectrum', 'Spectrum_stddev_spectrum', 'Spectrum_band_density', 'Spectrum_band_energy', 'Formant_f1_mean', 'Formant_mff', 'HNR_stddev_hnr', 'HNR_mean_hnr', 'HNR_relative_min_hnr_time', 'Intensity_q3_intensity', 'Intensity_relative_max_intensity_time', 'Pitch_pitch_slope_without_octave_jumps', 'Pitch_stddev_pitch', 'Pitch_mean_pitch', 'Pitch_max_pitch', 'Pitch_q1_pitch', 'Local Jitter']  "
   ]
  },
  {
   "cell_type": "markdown",
   "id": "a5f69336-20fa-41a2-bad9-8835a3870b00",
   "metadata": {},
   "source": [
    "# End"
   ]
  },
  {
   "cell_type": "markdown",
   "id": "1a6bb924-6f20-4da4-85d3-5bdac0e27531",
   "metadata": {},
   "source": [
    "### Feature Tables Part 2 \n",
    "\n",
    "| feature category   | num of sub attributes  |\n",
    "| ------------------ | ---------------------- |\n",
    "|Intensity           |    9                   |\n",
    "|pitch               |   12                   |\n",
    "|HNR                 |    6                   |\n",
    "|GNE                 |    5                   |\n",
    "|Local Jitter        |    1                   |\n",
    "|Local Shimmer       |    1                   |\n",
    "|Spectrum            |    9                   | \n",
    "|formant             |   14                   |"
   ]
  },
  {
   "cell_type": "code",
   "execution_count": null,
   "id": "d8e92f61-b756-4a9f-9dc4-5b09f3293d60",
   "metadata": {},
   "outputs": [],
   "source": []
  }
 ],
 "metadata": {
  "kernelspec": {
   "display_name": "Python 3 (ipykernel)",
   "language": "python",
   "name": "python3"
  },
  "language_info": {
   "codemirror_mode": {
    "name": "ipython",
    "version": 3
   },
   "file_extension": ".py",
   "mimetype": "text/x-python",
   "name": "python",
   "nbconvert_exporter": "python",
   "pygments_lexer": "ipython3",
   "version": "3.9.17"
  }
 },
 "nbformat": 4,
 "nbformat_minor": 5
}
