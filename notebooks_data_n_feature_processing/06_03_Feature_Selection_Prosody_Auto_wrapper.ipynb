{
 "cells": [
  {
   "cell_type": "code",
   "execution_count": 1,
   "id": "e8dba9c2-50a6-4935-85c4-36c696e704fb",
   "metadata": {},
   "outputs": [],
   "source": [
    "import librosa\n",
    "import librosa.display\n",
    "from librosa.core import load\n",
    "import numpy as np\n",
    "import pandas as pd\n",
    "import glob\n",
    "import os, sys\n",
    "import matplotlib.pyplot as plt\n",
    "import seaborn as sns\n",
    "import time"
   ]
  },
  {
   "cell_type": "markdown",
   "id": "659733a7-b892-482e-b64f-459f44cc7a78",
   "metadata": {},
   "source": [
    "### Load Data"
   ]
  },
  {
   "cell_type": "code",
   "execution_count": 2,
   "id": "3fe62731-a5f0-4a7b-95fb-d8fc8306672a",
   "metadata": {},
   "outputs": [
    {
     "name": "stdout",
     "output_type": "stream",
     "text": [
      "df_joint_train shape:  (10981, 1550)\n",
      "df_joint_test shape:  (1180, 1550)\n"
     ]
    }
   ],
   "source": [
    "VERSION = 4 \n",
    "df_joint_train = pd.read_csv(f'./features/cache_all_features_train_V{VERSION}.csv')\n",
    "feature_column_names = [i for i in df_joint_train.columns \\\n",
    "                        if i not in ['file_path','renamed_file_path','split','sentiment_value','emotional_category']]\n",
    "\n",
    "df_joint_test = pd.read_csv(f'./features/cache_all_features_test_V{VERSION}.csv')\n",
    "print(\"df_joint_train shape: \", df_joint_train.shape)\n",
    "print(\"df_joint_test shape: \", df_joint_test.shape)\n",
    "\n",
    "feat_rank_emo = pd.read_csv('./features/relationship_stats_test_result_emotion_all_V4.csv')\n",
    "feat_rank_sti = pd.read_csv('./features/relationship_stats_test_result_sentiment_all_V4.csv')\n",
    "feat_rank_emo.correlation_coeff = abs(feat_rank_emo.correlation_coeff)\n",
    "feat_rank_sti.correlation_coeff = abs(feat_rank_sti.correlation_coeff)\n",
    "feature_types = ['mfcc','chroma','mel','zcr','rms','Intensity','Pitch','GNE','HNR','Spectrum','Formant']"
   ]
  },
  {
   "cell_type": "code",
   "execution_count": 3,
   "id": "b8668261-1f52-4555-b89e-e71bbd5491d7",
   "metadata": {},
   "outputs": [],
   "source": [
    "X_train = df_joint_train[feature_column_names]\n",
    "y_train_s = df_joint_train['sentiment_value']\n",
    "y_train_e = df_joint_train['emotional_category']\n",
    "\n",
    "from sklearn.preprocessing import LabelEncoder\n",
    "label_encoder = LabelEncoder()\n",
    "y_e_num = label_encoder.fit_transform(y_train_e)\n",
    "\n",
    "X_test = df_joint_test[feature_column_names]\n",
    "y_test_s = df_joint_test['sentiment_value']\n",
    "y_test_e = df_joint_test['emotional_category']\n",
    "\n",
    "from sklearn.preprocessing import LabelEncoder\n",
    "label_encoder = LabelEncoder()\n",
    "y_test_e_num = label_encoder.fit_transform(y_test_e)"
   ]
  },
  {
   "cell_type": "markdown",
   "id": "4d28b670-1c09-4bd6-ab41-d65a53247c40",
   "metadata": {},
   "source": [
    "### Check feature ranking"
   ]
  },
  {
   "cell_type": "code",
   "execution_count": 4,
   "id": "e5732170-6bec-4c77-b1ed-75219647058b",
   "metadata": {},
   "outputs": [
    {
     "data": {
      "text/html": [
       "<div>\n",
       "<style scoped>\n",
       "    .dataframe tbody tr th:only-of-type {\n",
       "        vertical-align: middle;\n",
       "    }\n",
       "\n",
       "    .dataframe tbody tr th {\n",
       "        vertical-align: top;\n",
       "    }\n",
       "\n",
       "    .dataframe thead th {\n",
       "        text-align: right;\n",
       "    }\n",
       "</style>\n",
       "<table border=\"1\" class=\"dataframe\">\n",
       "  <thead>\n",
       "    <tr style=\"text-align: right;\">\n",
       "      <th></th>\n",
       "      <th>p_value</th>\n",
       "      <th>is_significant</th>\n",
       "      <th>f_score</th>\n",
       "      <th>correlation_coeff</th>\n",
       "      <th>mutual_info_score</th>\n",
       "    </tr>\n",
       "  </thead>\n",
       "  <tbody>\n",
       "    <tr>\n",
       "      <th>count</th>\n",
       "      <td>1546.00000</td>\n",
       "      <td>1546.000000</td>\n",
       "      <td>1546.000000</td>\n",
       "      <td>1546.000000</td>\n",
       "      <td>1546.000000</td>\n",
       "    </tr>\n",
       "    <tr>\n",
       "      <th>mean</th>\n",
       "      <td>0.00013</td>\n",
       "      <td>0.999353</td>\n",
       "      <td>79.626271</td>\n",
       "      <td>0.113689</td>\n",
       "      <td>0.145012</td>\n",
       "    </tr>\n",
       "    <tr>\n",
       "      <th>std</th>\n",
       "      <td>0.00216</td>\n",
       "      <td>0.025433</td>\n",
       "      <td>83.848850</td>\n",
       "      <td>0.064382</td>\n",
       "      <td>0.064789</td>\n",
       "    </tr>\n",
       "    <tr>\n",
       "      <th>min</th>\n",
       "      <td>0.00000</td>\n",
       "      <td>0.000000</td>\n",
       "      <td>1.989100</td>\n",
       "      <td>0.000300</td>\n",
       "      <td>0.004300</td>\n",
       "    </tr>\n",
       "    <tr>\n",
       "      <th>25%</th>\n",
       "      <td>0.00000</td>\n",
       "      <td>1.000000</td>\n",
       "      <td>28.025975</td>\n",
       "      <td>0.058900</td>\n",
       "      <td>0.094050</td>\n",
       "    </tr>\n",
       "    <tr>\n",
       "      <th>50%</th>\n",
       "      <td>0.00000</td>\n",
       "      <td>1.000000</td>\n",
       "      <td>60.002250</td>\n",
       "      <td>0.113300</td>\n",
       "      <td>0.151750</td>\n",
       "    </tr>\n",
       "    <tr>\n",
       "      <th>75%</th>\n",
       "      <td>0.00000</td>\n",
       "      <td>1.000000</td>\n",
       "      <td>105.034900</td>\n",
       "      <td>0.160200</td>\n",
       "      <td>0.204300</td>\n",
       "    </tr>\n",
       "    <tr>\n",
       "      <th>max</th>\n",
       "      <td>0.05270</td>\n",
       "      <td>1.000000</td>\n",
       "      <td>876.182000</td>\n",
       "      <td>0.400300</td>\n",
       "      <td>0.307400</td>\n",
       "    </tr>\n",
       "  </tbody>\n",
       "</table>\n",
       "</div>"
      ],
      "text/plain": [
       "          p_value  is_significant      f_score  correlation_coeff  \\\n",
       "count  1546.00000     1546.000000  1546.000000        1546.000000   \n",
       "mean      0.00013        0.999353    79.626271           0.113689   \n",
       "std       0.00216        0.025433    83.848850           0.064382   \n",
       "min       0.00000        0.000000     1.989100           0.000300   \n",
       "25%       0.00000        1.000000    28.025975           0.058900   \n",
       "50%       0.00000        1.000000    60.002250           0.113300   \n",
       "75%       0.00000        1.000000   105.034900           0.160200   \n",
       "max       0.05270        1.000000   876.182000           0.400300   \n",
       "\n",
       "       mutual_info_score  \n",
       "count        1546.000000  \n",
       "mean            0.145012  \n",
       "std             0.064789  \n",
       "min             0.004300  \n",
       "25%             0.094050  \n",
       "50%             0.151750  \n",
       "75%             0.204300  \n",
       "max             0.307400  "
      ]
     },
     "execution_count": 4,
     "metadata": {},
     "output_type": "execute_result"
    }
   ],
   "source": [
    "feat_rank_emo.describe()"
   ]
  },
  {
   "cell_type": "code",
   "execution_count": 5,
   "id": "89479f50-e805-4aee-be5b-cc2f725c8849",
   "metadata": {},
   "outputs": [
    {
     "name": "stdout",
     "output_type": "stream",
     "text": [
      "features with score above p50 from Emotion label:  466\n",
      "['mfcc_p90_1' 'Intensity_max_intensity' 'Intensity_q3_intensity'\n",
      " 'mfcc_median_1' 'mfcc_mean_1' 'Spectrum_band_energy_difference'\n",
      " 'Spectrum_band_density_difference' 'rms_std' 'Pitch_mean_pitch'\n",
      " 'mfcc_p10_3' 'mfcc_std_1' 'rms_p90' 'Formant_f1_median'\n",
      " 'Pitch_median_intensity' 'mfcc_mean_3' 'Pitch_q1_pitch' 'rms_mean'\n",
      " 'mfcc_std_19' 'mfcc_std_21' 'rms_median' 'mfcc_std_20' 'Pitch_min_pitch'\n",
      " 'mfcc_std_24' 'Intensity_median_intensity' 'mfcc_std_22'\n",
      " 'Spectrum_center_of_gravity_spectrum' 'zcr_median' 'GNE_sum_gne'\n",
      " 'GNE_mean_gne' 'mel32_std_22' 'mel64_std_43' 'mel32_std_23'\n",
      " 'mel32_std_21' 'mel32_mean_22' 'mel32_mean_21' 'mel32_std_26'\n",
      " 'mel32_mean_26' 'mel64_mean_42' 'mel32_mean_23' 'mel64_std_42'\n",
      " 'mel64_mean_43' 'mel32_std_25' 'mel32_mean_20' 'mel32_mean_24'\n",
      " 'mel128_mean_84' 'mel32_std_24' 'mel64_mean_51' 'mel128_std_85'\n",
      " 'mel32_std_20' 'mel32_mean_25' 'mel128_std_84' 'mel64_std_46'\n",
      " 'mel64_mean_46' 'mel64_std_51' 'mel64_std_41' 'mel64_mean_50'\n",
      " 'mel32_p90_21' 'mel64_std_44' 'mel64_mean_44' 'mel128_std_86'\n",
      " 'mel128_mean_100' 'mel64_mean_40' 'mel64_std_50' 'mel64_mean_48'\n",
      " 'mel32_p90_22' 'mel64_mean_41' 'mel64_mean_45' 'mel32_p90_24'\n",
      " 'mel128_mean_86' 'mel64_mean_52' 'mel64_std_52' 'mel64_std_40'\n",
      " 'mel64_std_48' 'mel128_mean_85' 'mel64_mean_47' 'mel32_p90_23'\n",
      " 'mel64_std_45' 'mel128_std_81' 'mel128_mean_83' 'mel64_p90_42'\n",
      " 'mel128_mean_101' 'mel32_mean_27' 'mel128_mean_81' 'mel128_mean_91'\n",
      " 'mel32_p90_26' 'mel128_std_100' 'mel32_p90_20' 'mel64_p90_47'\n",
      " 'mel128_mean_88' 'mel128_std_88' 'mel32_std_9' 'mel128_mean_95'\n",
      " 'mel128_mean_102' 'mel128_mean_80' 'mel128_mean_90' 'mel64_mean_39'\n",
      " 'mel64_p90_46' 'mel64_p90_48' 'mel64_std_49' 'mel64_std_47'\n",
      " 'mel32_median_28' 'mel64_mean_49' 'mel128_std_90' 'mel32_median_27'\n",
      " 'mel32_p90_25' 'mel128_std_91' 'mel128_mean_93' 'mel128_p90_84'\n",
      " 'mel128_mean_92' 'mel32_mean_9' 'mel32_std_8' 'mel128_mean_96'\n",
      " 'mel128_mean_99' 'mel128_mean_87' 'mel64_median_55' 'mel128_std_80'\n",
      " 'mel128_p90_101' 'mel64_p90_51' 'mel64_mean_54' 'mel128_mean_98'\n",
      " 'mel128_median_106' 'mel64_mean_53' 'mel64_median_53' 'mel32_std_17'\n",
      " 'mel64_p90_45' 'mel128_std_95' 'mel64_p90_44' 'mel32_std_10'\n",
      " 'mel128_std_98' 'mel128_mean_107' 'mel32_mean_19' 'mel128_median_108'\n",
      " 'mel64_p90_52' 'mel128_median_110' 'mel64_median_54' 'mel128_mean_104'\n",
      " 'mel64_p90_43' 'mel128_p90_95' 'mel128_median_105' 'mel128_median_125'\n",
      " 'mel128_median_126' 'mel32_mean_17' 'mel32_std_19' 'mel128_p90_100'\n",
      " 'mel32_median_32' 'mel64_median_63' 'mel128_median_107' 'mel128_std_101'\n",
      " 'mel128_mean_89' 'mel128_p90_93' 'mel64_p90_50' 'mel128_std_92'\n",
      " 'mel32_std_11' 'mel128_median_104' 'mel128_std_96' 'mel128_p90_94'\n",
      " 'mel128_std_83' 'mel64_p90_39' 'mel32_mean_28' 'mel128_std_87'\n",
      " 'mel32_mean_8' 'mel128_mean_79' 'mel128_mean_78' 'mel64_std_39'\n",
      " 'mel64_std_16' 'mel32_p90_27' 'mel32_mean_10' 'mel32_std_12'\n",
      " 'mel128_mean_94' 'mel128_median_124' 'mel128_median_109' 'mel128_std_79'\n",
      " 'mel128_p90_88' 'mel64_median_52' 'mel32_median_26' 'mel128_p90_91'\n",
      " 'mel128_p90_86' 'mel64_p90_40' 'mel128_median_123' 'mel128_p90_83'\n",
      " 'mel32_p90_19' 'mel128_median_111' 'mel128_std_99' 'mel128_p90_80'\n",
      " 'mel64_median_64' 'mel64_mean_16' 'mel64_median_62' 'mel64_p90_41'\n",
      " 'mel128_median_92' 'mel128_std_93' 'mel128_mean_106' 'mel128_p90_102'\n",
      " 'mel128_median_118' 'mel128_p90_107' 'mel128_p90_77' 'mel128_p90_103'\n",
      " 'mel64_p90_49' 'mel128_p90_92' 'mel64_std_37' 'mel128_std_89'\n",
      " 'mel128_median_122' 'mel32_mean_11' 'mel128_p90_96' 'mel128_std_82'\n",
      " 'mel128_median_103' 'mel128_mean_105' 'mel32_median_31' 'mel128_mean_77'\n",
      " 'mel128_mean_97' 'mel128_std_32' 'mel128_median_117' 'mel128_p90_90'\n",
      " 'mel128_p90_99' 'mel64_std_17' 'mel32_mean_12' 'mel64_p90_53'\n",
      " 'mel128_mean_32' 'mel64_mean_37' 'mel128_p90_76' 'mel128_median_127'\n",
      " 'mel64_p90_54' 'mel128_std_97' 'mel64_median_61' 'mel64_std_21'\n",
      " 'mel32_median_30' 'mel128_p90_89' 'mel128_p90_104' 'mel64_median_59'\n",
      " 'mel128_std_78' 'mel128_p90_87' 'mel128_p90_98' 'mel128_mean_82'\n",
      " 'mel64_std_20' 'mel64_median_60' 'mel32_p90_17' 'mel64_median_56'\n",
      " 'mel128_median_128' 'mel128_median_121' 'mel128_median_120'\n",
      " 'mel64_mean_55' 'mel128_p90_85' 'mel128_median_119' 'mel128_median_102'\n",
      " 'mel32_p90_28' 'mel32_std_18' 'mel64_mean_34' 'mel64_mean_17'\n",
      " 'mel32_p90_9' 'mel128_p90_106' 'mel64_p90_38' 'mel64_median_46'\n",
      " 'mel128_median_88' 'mel128_median_80' 'mel64_mean_56' 'mel32_std_13'\n",
      " 'mel32_mean_18' 'mel128_median_85' 'mel64_mean_20' 'mel32_mean_13'\n",
      " 'mel128_p90_78' 'mel32_p90_8' 'mel128_median_116' 'mel128_p90_81'\n",
      " 'mel32_std_14' 'mel32_median_20' 'mel64_std_25' 'mel32_std_6'\n",
      " 'mel128_mean_108' 'mel128_std_94' 'mel32_mean_29' 'mel64_mean_21'\n",
      " 'mel64_median_51' 'mel128_median_93' 'mel32_std_15' 'mel128_mean_73'\n",
      " 'mel64_std_23' 'mel128_p90_105' 'mel64_mean_38' 'mel128_std_73'\n",
      " 'mel128_median_76' 'mel32_median_23' 'mel64_mean_25' 'mel128_median_77'\n",
      " 'mel64_std_18' 'Spectrum_band_energy' 'Spectrum_band_density'\n",
      " 'mel64_median_39' 'mel64_std_27' 'mel128_p90_79' 'mel128_mean_109'\n",
      " 'mel128_median_94' 'mel64_median_43' 'mel128_median_101' 'mel64_std_33'\n",
      " 'mel128_std_77' 'mel64_std_34' 'mel64_p90_55' 'mel64_median_38'\n",
      " 'mel128_std_42' 'mel32_median_24' 'mel64_median_47' 'mel64_mean_33'\n",
      " 'mel128_median_96' 'mel64_std_12' 'mel128_median_115' 'mel64_median_40'\n",
      " 'mel128_p90_97' 'mel32_median_25' 'mel32_mean_6' 'mel128_std_34'\n",
      " 'mel64_mean_18' 'mel128_median_99' 'mel64_median_42' 'mel64_std_24'\n",
      " 'mel128_std_40' 'mel64_p90_37' 'mel64_p90_34' 'mel128_median_89'\n",
      " 'mel128_mean_67' 'mel64_median_50' 'mel64_mean_35' 'mel128_mean_42'\n",
      " 'mel128_median_114' 'mel32_std_7' 'mel64_median_58' 'mel128_mean_34'\n",
      " 'mel64_std_22' 'mel128_mean_40' 'mel128_std_33' 'mel64_std_35'\n",
      " 'mel128_median_100' 'mel64_mean_27' 'mel32_p90_18' 'mel32_p90_10'\n",
      " 'mel128_median_95' 'mel128_median_112' 'mel64_mean_23' 'mel128_std_45'\n",
      " 'mel32_mean_7' 'mel128_p90_109' 'mel32_p90_16' 'mel128_std_31'\n",
      " 'mel128_median_87' 'mel128_std_41' 'mel32_median_22' 'mel128_mean_45'\n",
      " 'mel128_std_35' 'mel32_mean_15' 'mel128_std_67' 'mel128_mean_74'\n",
      " 'mel64_mean_12' 'mel64_std_36' 'mel128_median_91' 'mel128_p90_110'\n",
      " 'mel128_mean_31' 'mel64_median_49' 'mel128_p90_111' 'mel128_mean_33'\n",
      " 'mel64_median_45' 'mel64_std_15' 'mel64_std_30' 'mel128_median_113'\n",
      " 'mel64_std_38' 'mel128_mean_75' 'mel64_mean_22' 'mel128_p90_108'\n",
      " 'mel64_mean_24' 'mel128_std_60' 'mel64_mean_58' 'mel32_mean_16'\n",
      " 'mel32_median_29' 'mel64_std_29' 'mel64_p90_16' 'mel64_std_19'\n",
      " 'mel32_p90_11' 'mel128_mean_41' 'mel128_mean_60' 'mel32_median_19'\n",
      " 'mel128_std_49' 'mel128_mean_35' 'mel64_p90_56' 'mel128_median_84'\n",
      " 'mel128_mean_49' 'mel64_mean_19' 'mel32_mean_14' 'mel128_std_54'\n",
      " 'mel64_median_23' 'mel64_mean_36' 'mel128_mean_66' 'mel128_p90_82'\n",
      " 'mel64_p90_57' 'mel32_p90_29' 'mel64_median_57' 'mel64_mean_32'\n",
      " 'mel128_std_47' 'mel128_std_74' 'mel128_p90_113' 'mel32_median_21'\n",
      " 'mel128_mean_72' 'mel128_median_90' 'mel128_mean_69' 'mel64_std_32'\n",
      " 'mel128_std_44' 'mel64_mean_15' 'mel128_median_52' 'mel128_std_66'\n",
      " 'mel32_p90_6' 'mel64_median_35' 'mel128_median_68' 'mel128_mean_50'\n",
      " 'mel64_mean_30' 'mel128_median_75' 'mel64_std_14' 'mel128_std_39'\n",
      " 'mel128_std_50' 'mel128_mean_68' 'mel128_median_98' 'mel128_p90_74'\n",
      " 'mel32_p90_12' 'mel128_median_81' 'mel32_std_16' 'mel128_median_78'\n",
      " 'mel128_std_58' 'mel128_std_65' 'mel128_p90_112' 'mel64_median_44'\n",
      " 'mel128_mean_39' 'mel128_mean_24' 'mel128_p90_73' 'mel128_median_64'\n",
      " 'mel32_p90_7' 'mel32_p90_13' 'mel128_std_75' 'mel64_median_48'\n",
      " 'mel128_median_82' 'mel64_mean_29' 'mel64_mean_11' 'mel128_mean_23'\n",
      " 'mel128_median_73' 'mel64_mean_14' 'mel128_median_83' 'mel128_mean_47'\n",
      " 'mel128_std_53' 'mel128_std_46' 'mel64_std_11' 'mel128_std_72'\n",
      " 'mel128_p90_32' 'mel128_mean_44' 'mel128_std_36' 'mel128_p90_75'\n",
      " 'mel128_median_46' 'mel128_p90_66' 'mel64_p90_33' 'mel128_mean_53'\n",
      " 'mel128_median_69' 'mel64_p90_32' 'mel64_median_34' 'mel128_mean_76'\n",
      " 'mel128_std_28' 'mel64_median_33' 'mel128_mean_54' 'mel64_p90_20'\n",
      " 'mel64_p90_17' 'mel128_mean_65' 'mel128_std_43' 'mel128_p90_115']\n"
     ]
    }
   ],
   "source": [
    "features_score_above_p50 = feat_rank_emo[(feat_rank_emo.f_score>60) &\n",
    "(feat_rank_emo.mutual_info_score>0.15)&\n",
    "(feat_rank_emo.correlation_coeff>0.11)]['feature'].values\n",
    "\n",
    "print(\"features with score above p50 from Emotion label: \", len(features_score_above_p50))\n",
    "print(features_score_above_p50)"
   ]
  },
  {
   "cell_type": "code",
   "execution_count": 6,
   "id": "6c0f5805-23b9-4f90-8b42-02348341063f",
   "metadata": {},
   "outputs": [
    {
     "data": {
      "text/html": [
       "<div>\n",
       "<style scoped>\n",
       "    .dataframe tbody tr th:only-of-type {\n",
       "        vertical-align: middle;\n",
       "    }\n",
       "\n",
       "    .dataframe tbody tr th {\n",
       "        vertical-align: top;\n",
       "    }\n",
       "\n",
       "    .dataframe thead th {\n",
       "        text-align: right;\n",
       "    }\n",
       "</style>\n",
       "<table border=\"1\" class=\"dataframe\">\n",
       "  <thead>\n",
       "    <tr style=\"text-align: right;\">\n",
       "      <th></th>\n",
       "      <th>feature</th>\n",
       "      <th>p_value</th>\n",
       "      <th>is_significant</th>\n",
       "      <th>f_score</th>\n",
       "      <th>correlation_coeff</th>\n",
       "      <th>mutual_info_score</th>\n",
       "    </tr>\n",
       "  </thead>\n",
       "  <tbody>\n",
       "    <tr>\n",
       "      <th>2</th>\n",
       "      <td>Pitch_pitch_slope_without_octave_jumps</td>\n",
       "      <td>0.0</td>\n",
       "      <td>1</td>\n",
       "      <td>756.2722</td>\n",
       "      <td>0.0610</td>\n",
       "      <td>0.1888</td>\n",
       "    </tr>\n",
       "    <tr>\n",
       "      <th>9</th>\n",
       "      <td>Pitch_q3_pitch</td>\n",
       "      <td>0.0</td>\n",
       "      <td>1</td>\n",
       "      <td>486.9693</td>\n",
       "      <td>0.0804</td>\n",
       "      <td>0.2173</td>\n",
       "    </tr>\n",
       "    <tr>\n",
       "      <th>10</th>\n",
       "      <td>Pitch_mean_pitch</td>\n",
       "      <td>0.0</td>\n",
       "      <td>1</td>\n",
       "      <td>474.9486</td>\n",
       "      <td>0.1277</td>\n",
       "      <td>0.2180</td>\n",
       "    </tr>\n",
       "    <tr>\n",
       "      <th>12</th>\n",
       "      <td>Pitch_mean_absolute_pitch_slope</td>\n",
       "      <td>0.0</td>\n",
       "      <td>1</td>\n",
       "      <td>458.2618</td>\n",
       "      <td>0.0704</td>\n",
       "      <td>0.1425</td>\n",
       "    </tr>\n",
       "    <tr>\n",
       "      <th>18</th>\n",
       "      <td>Pitch_median_intensity</td>\n",
       "      <td>0.0</td>\n",
       "      <td>1</td>\n",
       "      <td>392.1258</td>\n",
       "      <td>0.1407</td>\n",
       "      <td>0.1977</td>\n",
       "    </tr>\n",
       "    <tr>\n",
       "      <th>20</th>\n",
       "      <td>Pitch_q1_pitch</td>\n",
       "      <td>0.0</td>\n",
       "      <td>1</td>\n",
       "      <td>369.6490</td>\n",
       "      <td>0.1797</td>\n",
       "      <td>0.2066</td>\n",
       "    </tr>\n",
       "    <tr>\n",
       "      <th>31</th>\n",
       "      <td>Pitch_stddev_pitch</td>\n",
       "      <td>0.0</td>\n",
       "      <td>1</td>\n",
       "      <td>316.3860</td>\n",
       "      <td>0.0627</td>\n",
       "      <td>0.1463</td>\n",
       "    </tr>\n",
       "    <tr>\n",
       "      <th>42</th>\n",
       "      <td>Pitch_min_pitch</td>\n",
       "      <td>0.0</td>\n",
       "      <td>1</td>\n",
       "      <td>288.2170</td>\n",
       "      <td>0.1438</td>\n",
       "      <td>0.1891</td>\n",
       "    </tr>\n",
       "    <tr>\n",
       "      <th>64</th>\n",
       "      <td>Pitch_max_pitch</td>\n",
       "      <td>0.0</td>\n",
       "      <td>1</td>\n",
       "      <td>237.3622</td>\n",
       "      <td>0.0223</td>\n",
       "      <td>0.1799</td>\n",
       "    </tr>\n",
       "    <tr>\n",
       "      <th>558</th>\n",
       "      <td>Pitch_voiced_fraction</td>\n",
       "      <td>0.0</td>\n",
       "      <td>1</td>\n",
       "      <td>79.7698</td>\n",
       "      <td>0.0842</td>\n",
       "      <td>0.0593</td>\n",
       "    </tr>\n",
       "    <tr>\n",
       "      <th>971</th>\n",
       "      <td>Pitch_relative_min_pitch_time</td>\n",
       "      <td>0.0</td>\n",
       "      <td>1</td>\n",
       "      <td>44.2245</td>\n",
       "      <td>0.0097</td>\n",
       "      <td>0.0736</td>\n",
       "    </tr>\n",
       "    <tr>\n",
       "      <th>1217</th>\n",
       "      <td>Pitch_relative_max_pitch_time</td>\n",
       "      <td>0.0</td>\n",
       "      <td>1</td>\n",
       "      <td>21.4184</td>\n",
       "      <td>0.0145</td>\n",
       "      <td>0.0962</td>\n",
       "    </tr>\n",
       "  </tbody>\n",
       "</table>\n",
       "</div>"
      ],
      "text/plain": [
       "                                     feature  p_value  is_significant  \\\n",
       "2     Pitch_pitch_slope_without_octave_jumps      0.0               1   \n",
       "9                             Pitch_q3_pitch      0.0               1   \n",
       "10                          Pitch_mean_pitch      0.0               1   \n",
       "12           Pitch_mean_absolute_pitch_slope      0.0               1   \n",
       "18                    Pitch_median_intensity      0.0               1   \n",
       "20                            Pitch_q1_pitch      0.0               1   \n",
       "31                        Pitch_stddev_pitch      0.0               1   \n",
       "42                           Pitch_min_pitch      0.0               1   \n",
       "64                           Pitch_max_pitch      0.0               1   \n",
       "558                    Pitch_voiced_fraction      0.0               1   \n",
       "971            Pitch_relative_min_pitch_time      0.0               1   \n",
       "1217           Pitch_relative_max_pitch_time      0.0               1   \n",
       "\n",
       "       f_score  correlation_coeff  mutual_info_score  \n",
       "2     756.2722             0.0610             0.1888  \n",
       "9     486.9693             0.0804             0.2173  \n",
       "10    474.9486             0.1277             0.2180  \n",
       "12    458.2618             0.0704             0.1425  \n",
       "18    392.1258             0.1407             0.1977  \n",
       "20    369.6490             0.1797             0.2066  \n",
       "31    316.3860             0.0627             0.1463  \n",
       "42    288.2170             0.1438             0.1891  \n",
       "64    237.3622             0.0223             0.1799  \n",
       "558    79.7698             0.0842             0.0593  \n",
       "971    44.2245             0.0097             0.0736  \n",
       "1217   21.4184             0.0145             0.0962  "
      ]
     },
     "execution_count": 6,
     "metadata": {},
     "output_type": "execute_result"
    }
   ],
   "source": [
    "feat_rank_emo[feat_rank_emo.feature.str.contains('Pitch')]"
   ]
  },
  {
   "cell_type": "code",
   "execution_count": 7,
   "id": "d11b8e70-a394-4ab8-99da-3dbc9e017530",
   "metadata": {},
   "outputs": [
    {
     "name": "stdout",
     "output_type": "stream",
     "text": [
      "features with score above p75 from Sentiment label:  68\n",
      "['Pitch_pitch_slope_without_octave_jumps' 'Pitch_stddev_pitch'\n",
      " 'Pitch_mean_absolute_pitch_slope' 'Pitch_q3_pitch' 'mfcc_median_33'\n",
      " 'Pitch_mean_pitch' 'mfcc_mean_33' 'mfcc_median_34' 'mfcc_median_32'\n",
      " 'Pitch_max_pitch' 'Pitch_median_intensity' 'mfcc_std_21' 'mfcc_mean_32'\n",
      " 'mfcc_mean_34' 'mfcc_std_22' 'mfcc_std_27' 'mfcc_std_24' 'mfcc_std_23'\n",
      " 'mfcc_std_20' 'mfcc_p90_22' 'mfcc_std_17' 'mfcc_std_19' 'mfcc_p90_33'\n",
      " 'Intensity_q3_intensity' 'mfcc_p90_25' 'mfcc_std_18' 'mfcc_std_1'\n",
      " 'Pitch_min_pitch' 'mel32_std_22' 'mel32_std_23' 'Local Jitter'\n",
      " 'mel64_std_43' 'mel32_mean_22' 'mel32_mean_23' 'mel64_mean_46'\n",
      " 'mel64_p10_3' 'mel32_mean_24' 'mel32_std_12' 'mel64_mean_43'\n",
      " 'mel64_std_42' 'mel64_std_44' 'mel64_mean_42' 'mel32_std_9'\n",
      " 'mel128_mean_91' 'mel64_mean_44' 'mel32_p90_24' 'mel128_std_84'\n",
      " 'mel128_mean_84' 'mel64_mean_45' 'mel64_mean_48' 'mel64_std_45'\n",
      " 'mel128_mean_99' 'mel32_std_11' 'mel32_p90_23' 'mel64_mean_47'\n",
      " 'mel32_p90_22' 'mel32_mean_12' 'mel32_std_10' 'mel64_std_49'\n",
      " 'mel128_mean_92' 'mel32_p90_25' 'mel128_mean_88' 'mel64_p90_46'\n",
      " 'mel64_mean_41' 'mel128_p10_5' 'mel32_median_32' 'mel128_median_118'\n",
      " 'mel128_median_125']\n"
     ]
    }
   ],
   "source": [
    "features_score_above_p75 = feat_rank_sti[(feat_rank_sti.f_score>52) & \n",
    "(feat_rank_sti.correlation_coeff>0.058) & \n",
    "(feat_rank_sti.mutual_info_score>0.05)]['feature'].values \n",
    "\n",
    "print(\"features with score above p75 from Sentiment label: \", len(features_score_above_p75))\n",
    "print(features_score_above_p75)"
   ]
  },
  {
   "cell_type": "markdown",
   "id": "76f9e819-32f5-4dc8-8289-cf7941f60ee8",
   "metadata": {},
   "source": [
    "### import Model"
   ]
  },
  {
   "cell_type": "code",
   "execution_count": 8,
   "id": "e5a02a90-1dce-4277-9d5c-f10535cd5cdc",
   "metadata": {},
   "outputs": [],
   "source": [
    "from sklearn.tree import DecisionTreeClassifier\n",
    "from sklearn.ensemble import RandomForestClassifier\n",
    "from sklearn.metrics import classification_report, confusion_matrix,accuracy_score, precision_recall_fscore_support\n",
    "\n",
    "dt_clf= DecisionTreeClassifier()\n",
    "rf_clf = RandomForestClassifier()\n",
    "\n",
    "def try_clf_with_feature_selected(clf_model, feature_names,y_train,y_test):\n",
    "    X_train = df_joint_train[feature_names]\n",
    "    X_test = df_joint_test[feature_names]\n",
    "    predictions = clf_model.fit(X_train, y_train).predict(X_test)\n",
    "    print(classification_report(y_test, predictions ))\n",
    "    print(confusion_matrix(y_test, predictions))"
   ]
  },
  {
   "cell_type": "code",
   "execution_count": 9,
   "id": "d83f3063-cc28-4060-a569-40859d0c7fb1",
   "metadata": {},
   "outputs": [
    {
     "name": "stdout",
     "output_type": "stream",
     "text": [
      "              precision    recall  f1-score   support\n",
      "\n",
      "          -1       0.76      0.81      0.78       748\n",
      "           0       0.53      0.49      0.51       183\n",
      "           1       0.58      0.49      0.53       249\n",
      "\n",
      "    accuracy                           0.69      1180\n",
      "   macro avg       0.62      0.60      0.61      1180\n",
      "weighted avg       0.69      0.69      0.69      1180\n",
      "\n",
      "[[607  59  82]\n",
      " [ 86  90   7]\n",
      " [107  20 122]]\n"
     ]
    }
   ],
   "source": [
    "try_clf_with_feature_selected(dt_clf,features_score_above_p75,y_train_s,y_test_s)"
   ]
  },
  {
   "cell_type": "markdown",
   "id": "5086398f-601d-41f6-bac9-2f5520ab8754",
   "metadata": {},
   "source": [
    "## Forward Selection by category\n",
    "- select certain category features\n",
    "- remove low related features (manual study results in selected_<group>) \n",
    "- apply auto feature selection to determin how many feature chosen\n",
    "- OPTIONAL experiment how much performance drop from full -> selected -> less -> 2PCs?\n",
    "\n",
    "- Alternative is too do prosody features together AUTO"
   ]
  },
  {
   "cell_type": "markdown",
   "id": "f5f9cd26-bdc3-4ded-93fb-af8405442748",
   "metadata": {},
   "source": [
    "### Prodosy Features List\n",
    "Total 56   \n",
    "['Intensity_min_intensity', 'Intensity_relative_min_intensity_time', 'Intensity_max_intensity', 'Intensity_relative_max_intensity_time', 'Intensity_mean_intensity', 'Intensity_stddev_intensity', 'Intensity_q1_intensity', 'Intensity_median_intensity', 'Intensity_q3_intensity', 'Pitch_voiced_fraction', 'Pitch_min_pitch', 'Pitch_relative_min_pitch_time', 'Pitch_max_pitch', 'Pitch_relative_max_pitch_time', 'Pitch_mean_pitch', 'Pitch_stddev_pitch', 'Pitch_q1_pitch', 'Pitch_median_intensity', 'Pitch_q3_pitch', 'Pitch_mean_absolute_pitch_slope', 'Pitch_pitch_slope_without_octave_jumps', 'GNE_max_gne', 'GNE_mean_gne', 'GNE_stddev_gne', 'GNE_sum_gne', 'HNR_min_hnr', 'HNR_relative_min_hnr_time', 'HNR_max_hnr', 'HNR_relative_max_hnr_time', 'HNR_mean_hnr', 'HNR_stddev_hnr', 'Spectrum_band_energy', 'Spectrum_band_density', 'Spectrum_band_energy_difference', 'Spectrum_band_density_difference', 'Spectrum_center_of_gravity_spectrum', 'Spectrum_stddev_spectrum', 'Spectrum_skewness_spectrum', 'Spectrum_kurtosis_spectrum', 'Spectrum_central_moment_spectrum', 'Formant_f1_mean', 'Formant_f2_mean', 'Formant_f3_mean', 'Formant_f4_mean', 'Formant_f1_median', 'Formant_f2_median', 'Formant_f3_median', 'Formant_f4_median', 'Formant_formant_dispersion', 'Formant_average_formant', 'Formant_mff', 'Formant_fitch_vtl', 'Formant_delta_f', 'Formant_vtl_delta_f', 'Local Jitter', 'Local Shimmer']"
   ]
  },
  {
   "cell_type": "code",
   "execution_count": 10,
   "id": "5fc9ad85-fbc4-4acd-a5b6-33c4c516d9b3",
   "metadata": {},
   "outputs": [
    {
     "name": "stdout",
     "output_type": "stream",
     "text": [
      "56\n"
     ]
    }
   ],
   "source": [
    "feature_names_prosody = ['Intensity_min_intensity', 'Intensity_relative_min_intensity_time', 'Intensity_max_intensity', 'Intensity_relative_max_intensity_time', 'Intensity_mean_intensity', 'Intensity_stddev_intensity', 'Intensity_q1_intensity', 'Intensity_median_intensity', 'Intensity_q3_intensity', \n",
    "                         'Pitch_voiced_fraction', 'Pitch_min_pitch', 'Pitch_relative_min_pitch_time', 'Pitch_max_pitch', 'Pitch_relative_max_pitch_time', 'Pitch_mean_pitch', 'Pitch_stddev_pitch', 'Pitch_q1_pitch', 'Pitch_median_intensity', 'Pitch_q3_pitch', 'Pitch_mean_absolute_pitch_slope', 'Pitch_pitch_slope_without_octave_jumps', \n",
    "                         'GNE_max_gne', 'GNE_mean_gne', 'GNE_stddev_gne', 'GNE_sum_gne', 'HNR_min_hnr', 'HNR_relative_min_hnr_time', 'HNR_max_hnr', 'HNR_relative_max_hnr_time', 'HNR_mean_hnr', 'HNR_stddev_hnr', \n",
    "                         'Spectrum_band_energy', 'Spectrum_band_density', 'Spectrum_band_energy_difference', 'Spectrum_band_density_difference', 'Spectrum_center_of_gravity_spectrum', 'Spectrum_stddev_spectrum', 'Spectrum_skewness_spectrum', 'Spectrum_kurtosis_spectrum', 'Spectrum_central_moment_spectrum', 'Formant_f1_mean', 'Formant_f2_mean', 'Formant_f3_mean', 'Formant_f4_mean', 'Formant_f1_median', 'Formant_f2_median', 'Formant_f3_median', 'Formant_f4_median', 'Formant_formant_dispersion', 'Formant_average_formant', 'Formant_mff', 'Formant_fitch_vtl', 'Formant_delta_f', 'Formant_vtl_delta_f', \n",
    "                         'Local Jitter', 'Local Shimmer']\n",
    "print(len(feature_names_prosody))\n",
    "# feature_names_prosody_selected = [ name for name in feature_names_prosody if name in features_score_above_p50 ]\n",
    "# selected_spect = ['Spectrum_band_energy_difference','Spectrum_band_density_difference','Spectrum_center_of_gravity_spectrum','Spectrum_skewness_spectrum','Spectrum_kurtosis_spectrum', 'Spectrum_stddev_spectrum','Spectrum_band_density', 'Spectrum_band_energy']\n",
    "# selected_formant = ['Formant_f1_mean','Formant_f1_median','Formant_f3_mean','Formant_fitch_vtl','Formant_mff','Formant_formant_dispersion']\n",
    "# selected_GNE = ['GNE_max_gne', 'GNE_stddev_gne', 'GNE_mean_gne', 'GNE_sum_gne']\n",
    "# selected_pitch = ['Pitch_pitch_slope_without_octave_jumps', 'Pitch_q3_pitch','Pitch_stddev_pitch', 'Pitch_mean_absolute_pitch_slope','Pitch_mean_pitch', 'Pitch_max_pitch', 'Pitch_q1_pitch', 'Pitch_min_pitch']\n",
    "# selected_intensity = ['Intensity_max_intensity', 'Intensity_q3_intensity','Intensity_median_intensity', 'Intensity_mean_intensity', 'Intensity_stddev_intensity','Intensity_relative_max_intensity_time']\n",
    "# selected_HNR = ['HNR_stddev_hnr', 'HNR_mean_hnr','HNR_relative_min_hnr_time','HNR_max_hnr']\n",
    "# feature_names_prosody_selected = selected_spect + selected_formant + selected_HNR + selected_intensity + selected_pitch + ['Local Jitter','Local Shimmer']\n",
    "# print(len(feature_names_prosody_selected))"
   ]
  },
  {
   "cell_type": "code",
   "execution_count": 11,
   "id": "cf031840-35a6-43da-b01b-e0107320b3d5",
   "metadata": {},
   "outputs": [],
   "source": [
    "from sklearn.feature_selection import SequentialFeatureSelector\n",
    "\n",
    "rf_est = RandomForestClassifier(n_estimators=25, random_state=42)\n",
    "sfs = SequentialFeatureSelector(estimator=rf_est, \n",
    "                                n_features_to_select='auto',  # Select one feature at a time\n",
    "                                tol = 0.001, # minimum amount incremented between two consecutive additions,\n",
    "                                direction='forward',  # Forward selection\n",
    "                                scoring='balanced_accuracy',  # Use balabced accuracy as the evaluation metric - average of recall\n",
    "                                cv=5)  # k-fold cross-validation"
   ]
  },
  {
   "cell_type": "code",
   "execution_count": 12,
   "id": "5f3dbce7-af03-4f83-b6d5-fd494421f27a",
   "metadata": {},
   "outputs": [],
   "source": [
    "def forward_select(group_name):\n",
    "    start = time.time()\n",
    "    features = [ name for name in feature_names_prosody if group_name in name ]\n",
    "    X_train = df_joint_train[features]\n",
    "    X_test  = df_joint_test[features]\n",
    "    sfs.fit(X_train, y_train_s)\n",
    "\n",
    "    selected_feature_names = [features[i] for i, selected in enumerate(sfs.get_support()) if selected]\n",
    "    print(f\"{len(selected_feature_names)} of {len(features)} selected. \\nFeature names:\", selected_feature_names)\n",
    "    X_train_selected = sfs.transform(X_train)\n",
    "    X_test_selected = sfs.transform(X_test)\n",
    "    rf_est.fit(X_train_selected, y_train_s)\n",
    "    accuracy = rf_est.score(X_test_selected, y_test_s)\n",
    "    print(\"Accuracy with selected features:\", accuracy)\n",
    "    print(f\"time taken: {round(time.time()-start)} seconds.\")\n",
    "    return selected_feature_names\n",
    "\n",
    "# forward_select('Intensity')"
   ]
  },
  {
   "cell_type": "code",
   "execution_count": 13,
   "id": "2e00e4a6-8a24-4d63-a6e1-1acc31a7f294",
   "metadata": {},
   "outputs": [
    {
     "name": "stdout",
     "output_type": "stream",
     "text": [
      "5 of 12 selected. \n",
      "Feature names: ['Pitch_voiced_fraction', 'Pitch_min_pitch', 'Pitch_q1_pitch', 'Pitch_q3_pitch', 'Pitch_pitch_slope_without_octave_jumps']\n",
      "Accuracy with selected features: 0.7220338983050848\n",
      "time taken: 72 seconds.\n",
      "5 of 9 selected. \n",
      "Feature names: ['Intensity_max_intensity', 'Intensity_relative_max_intensity_time', 'Intensity_stddev_intensity', 'Intensity_q1_intensity', 'Intensity_q3_intensity']\n",
      "Accuracy with selected features: 0.6940677966101695\n",
      "time taken: 49 seconds.\n",
      "2 of 6 selected. \n",
      "Feature names: ['HNR_relative_min_hnr_time', 'HNR_mean_hnr']\n",
      "Accuracy with selected features: 0.5915254237288136\n",
      "time taken: 17 seconds.\n",
      "4 of 9 selected. \n",
      "Feature names: ['Spectrum_band_energy', 'Spectrum_band_energy_difference', 'Spectrum_center_of_gravity_spectrum', 'Spectrum_stddev_spectrum']\n",
      "Accuracy with selected features: 0.6516949152542373\n",
      "time taken: 40 seconds.\n",
      "1 of 14 selected. \n",
      "Feature names: ['Formant_f1_mean']\n",
      "Accuracy with selected features: 0.49322033898305084\n",
      "time taken: 32 seconds.\n"
     ]
    }
   ],
   "source": [
    "selected_prosody = []\n",
    "for group in ['Pitch','Intensity','HNR','Spectrum','Formant']:\n",
    "    selected_prosody.extend(forward_select(group))"
   ]
  },
  {
   "cell_type": "code",
   "execution_count": 14,
   "id": "bc15f051-0737-4b37-8541-299f2b8f986b",
   "metadata": {},
   "outputs": [
    {
     "data": {
      "text/plain": [
       "(17,\n",
       " ['Pitch_voiced_fraction',\n",
       "  'Pitch_min_pitch',\n",
       "  'Pitch_q1_pitch',\n",
       "  'Pitch_q3_pitch',\n",
       "  'Pitch_pitch_slope_without_octave_jumps',\n",
       "  'Intensity_max_intensity',\n",
       "  'Intensity_relative_max_intensity_time',\n",
       "  'Intensity_stddev_intensity',\n",
       "  'Intensity_q1_intensity',\n",
       "  'Intensity_q3_intensity',\n",
       "  'HNR_relative_min_hnr_time',\n",
       "  'HNR_mean_hnr',\n",
       "  'Spectrum_band_energy',\n",
       "  'Spectrum_band_energy_difference',\n",
       "  'Spectrum_center_of_gravity_spectrum',\n",
       "  'Spectrum_stddev_spectrum',\n",
       "  'Formant_f1_mean'])"
      ]
     },
     "execution_count": 14,
     "metadata": {},
     "output_type": "execute_result"
    }
   ],
   "source": [
    "len(selected_prosody), selected_prosody"
   ]
  },
  {
   "cell_type": "code",
   "execution_count": 15,
   "id": "f706a6ac-87ec-47e9-a075-7a6baf77759d",
   "metadata": {},
   "outputs": [
    {
     "name": "stdout",
     "output_type": "stream",
     "text": [
      "              precision    recall  f1-score   support\n",
      "\n",
      "          -1       0.80      0.78      0.79       748\n",
      "           0       0.55      0.61      0.58       183\n",
      "           1       0.57      0.56      0.56       249\n",
      "\n",
      "    accuracy                           0.71      1180\n",
      "   macro avg       0.64      0.65      0.64      1180\n",
      "weighted avg       0.71      0.71      0.71      1180\n",
      "\n",
      "[[584  73  91]\n",
      " [ 55 112  16]\n",
      " [ 91  19 139]]\n"
     ]
    }
   ],
   "source": [
    "try_clf_with_feature_selected(dt_clf,selected_prosody,y_train_s,y_test_s)"
   ]
  },
  {
   "cell_type": "markdown",
   "id": "325872db-53cc-44a6-91a9-0191866c9aec",
   "metadata": {},
   "source": [
    "## now try backwar/d"
   ]
  },
  {
   "cell_type": "code",
   "execution_count": 17,
   "id": "e83763f2-087a-4bf0-b67b-aeb667c62772",
   "metadata": {},
   "outputs": [],
   "source": [
    "def backward_select(group_name):\n",
    "    start = time.time()\n",
    "    features = [ name for name in feature_names_prosody if group_name in name ]\n",
    "    X_train = df_joint_train[features]\n",
    "    X_test  = df_joint_test[features]\n",
    "    sfs_bk = SequentialFeatureSelector(estimator=rf_est, \n",
    "                                n_features_to_select='auto',  # Select one feature at a time\n",
    "                                direction='backward',  # Forward selection\n",
    "                                scoring='balanced_accuracy',  # Use balabced accuracy as the evaluation metric - average of recall\n",
    "                                cv=5)  # k-fold cross-validation\n",
    "    sfs_bk.fit(X_train, y_train_s)\n",
    "\n",
    "    selected_feature_names = [features[i] for i, selected in enumerate(sfs_bk.get_support()) if selected]\n",
    "    print(f\"{len(selected_feature_names)} of {len(features)} selected. \\nFeature names:\", selected_feature_names)\n",
    "    X_train_selected = sfs_bk.transform(X_train)\n",
    "    X_test_selected = sfs_bk.transform(X_test)\n",
    "    rf_est.fit(X_train_selected, y_train_s)\n",
    "    accuracy = rf_est.score(X_test_selected, y_test_s)\n",
    "    print(\"Accuracy with selected features:\", accuracy)\n",
    "    print(f\"time taken: {round(time.time()-start)} seconds.\")\n",
    "    return selected_feature_names\n",
    "\n",
    "# backward_select('Pitch')"
   ]
  },
  {
   "cell_type": "code",
   "execution_count": 18,
   "id": "94c0c477-7de3-4767-91fc-3c3104ca8a3f",
   "metadata": {},
   "outputs": [
    {
     "name": "stdout",
     "output_type": "stream",
     "text": [
      "6 of 12 selected. \n",
      "Feature names: ['Pitch_voiced_fraction', 'Pitch_min_pitch', 'Pitch_stddev_pitch', 'Pitch_q1_pitch', 'Pitch_q3_pitch', 'Pitch_pitch_slope_without_octave_jumps']\n",
      "Accuracy with selected features: 0.7305084745762712\n",
      "time taken: 113 seconds.\n",
      "5 of 9 selected. \n",
      "Feature names: ['Intensity_relative_min_intensity_time', 'Intensity_max_intensity', 'Intensity_relative_max_intensity_time', 'Intensity_stddev_intensity', 'Intensity_median_intensity']\n",
      "Accuracy with selected features: 0.6838983050847458\n",
      "time taken: 49 seconds.\n",
      "3 of 6 selected. \n",
      "Feature names: ['HNR_relative_min_hnr_time', 'HNR_max_hnr', 'HNR_mean_hnr']\n",
      "Accuracy with selected features: 0.614406779661017\n",
      "time taken: 25 seconds.\n",
      "5 of 9 selected. \n",
      "Feature names: ['Spectrum_band_energy', 'Spectrum_band_energy_difference', 'Spectrum_band_density_difference', 'Spectrum_center_of_gravity_spectrum', 'Spectrum_skewness_spectrum']\n",
      "Accuracy with selected features: 0.688135593220339\n",
      "time taken: 48 seconds.\n",
      "7 of 14 selected. \n",
      "Feature names: ['Formant_f4_mean', 'Formant_f1_median', 'Formant_f3_median', 'Formant_f4_median', 'Formant_formant_dispersion', 'Formant_mff', 'Formant_vtl_delta_f']\n",
      "Accuracy with selected features: 0.6220338983050847\n",
      "time taken: 174 seconds.\n",
      "26 ['Pitch_voiced_fraction', 'Pitch_min_pitch', 'Pitch_stddev_pitch', 'Pitch_q1_pitch', 'Pitch_q3_pitch', 'Pitch_pitch_slope_without_octave_jumps', 'Intensity_relative_min_intensity_time', 'Intensity_max_intensity', 'Intensity_relative_max_intensity_time', 'Intensity_stddev_intensity', 'Intensity_median_intensity', 'HNR_relative_min_hnr_time', 'HNR_max_hnr', 'HNR_mean_hnr', 'Spectrum_band_energy', 'Spectrum_band_energy_difference', 'Spectrum_band_density_difference', 'Spectrum_center_of_gravity_spectrum', 'Spectrum_skewness_spectrum', 'Formant_f4_mean', 'Formant_f1_median', 'Formant_f3_median', 'Formant_f4_median', 'Formant_formant_dispersion', 'Formant_mff', 'Formant_vtl_delta_f']\n",
      "              precision    recall  f1-score   support\n",
      "\n",
      "          -1       0.77      0.76      0.77       748\n",
      "           0       0.53      0.54      0.54       183\n",
      "           1       0.53      0.53      0.53       249\n",
      "\n",
      "    accuracy                           0.68      1180\n",
      "   macro avg       0.61      0.61      0.61      1180\n",
      "weighted avg       0.68      0.68      0.68      1180\n",
      "\n",
      "[[572  76 100]\n",
      " [ 66  99  18]\n",
      " [105  12 132]]\n"
     ]
    }
   ],
   "source": [
    "selected_prosody_bk = []\n",
    "for group in ['Pitch','Intensity','HNR','Spectrum','Formant']:\n",
    "    selected_prosody_bk.extend(backward_select(group))\n",
    "print(len(selected_prosody_bk), selected_prosody_bk)\n",
    "try_clf_with_feature_selected(dt_clf,selected_prosody_bk,y_train_s,y_test_s)"
   ]
  },
  {
   "cell_type": "markdown",
   "id": "ad4276de-966b-4254-b2c9-010d6e774b48",
   "metadata": {},
   "source": [
    "## simple filter based on ranking -result "
   ]
  },
  {
   "cell_type": "code",
   "execution_count": 32,
   "id": "c2af2e33-296e-470f-9a54-446751d356a5",
   "metadata": {},
   "outputs": [
    {
     "data": {
      "text/plain": [
       "34"
      ]
     },
     "execution_count": 32,
     "metadata": {},
     "output_type": "execute_result"
    }
   ],
   "source": [
    "selected_pitch = ['Pitch_pitch_slope_without_octave_jumps', 'Pitch_q3_pitch','Pitch_stddev_pitch', \n",
    "                  'Pitch_mean_absolute_pitch_slope','Pitch_mean_pitch', 'Pitch_max_pitch', 'Pitch_q1_pitch', 'Pitch_min_pitch']\n",
    "selected_intensity = ['Intensity_max_intensity', 'Intensity_q3_intensity','Intensity_median_intensity', \n",
    "                      'Intensity_mean_intensity', 'Intensity_stddev_intensity','Intensity_relative_max_intensity_time']\n",
    "selected_spect = ['Spectrum_band_energy_difference','Spectrum_band_density_difference','Spectrum_center_of_gravity_spectrum',\n",
    "                  'Spectrum_skewness_spectrum','Spectrum_kurtosis_spectrum', 'Spectrum_stddev_spectrum','Spectrum_band_density', 'Spectrum_band_energy']\n",
    "selected_formant = ['Formant_f1_mean','Formant_f1_median','Formant_f3_mean','Formant_fitch_vtl','Formant_mff','Formant_formant_dispersion']\n",
    "selected_HNR = ['HNR_stddev_hnr', 'HNR_mean_hnr','HNR_relative_min_hnr_time','HNR_max_hnr']\n",
    "feature_names_prosody_filtered= selected_spect + selected_formant + selected_HNR + selected_intensity + selected_pitch + ['Local Jitter','Local Shimmer']\n",
    "len(feature_names_prosody_filtered)"
   ]
  },
  {
   "cell_type": "markdown",
   "id": "837f6f0f-de4b-4bb2-8532-75d188f6f34a",
   "metadata": {},
   "source": [
    "## try backward selection "
   ]
  },
  {
   "cell_type": "code",
   "execution_count": 19,
   "id": "ced9f6e6-cac8-4dc1-8616-d26d99f27b6c",
   "metadata": {},
   "outputs": [],
   "source": [
    "feature_names_prosody = ['Intensity_min_intensity', 'Intensity_relative_min_intensity_time', 'Intensity_max_intensity',\n",
    "                         'Intensity_relative_max_intensity_time', 'Intensity_mean_intensity', 'Intensity_stddev_intensity', \n",
    "                         'Intensity_q1_intensity', 'Intensity_median_intensity', 'Intensity_q3_intensity', \n",
    "                         'Pitch_voiced_fraction', 'Pitch_min_pitch', 'Pitch_relative_min_pitch_time', 'Pitch_max_pitch', \n",
    "                         'Pitch_relative_max_pitch_time', 'Pitch_mean_pitch', 'Pitch_stddev_pitch', 'Pitch_q1_pitch', \n",
    "                         'Pitch_median_intensity', 'Pitch_q3_pitch', 'Pitch_mean_absolute_pitch_slope', 'Pitch_pitch_slope_without_octave_jumps',\n",
    "                         'HNR_min_hnr', 'HNR_relative_min_hnr_time', 'HNR_max_hnr', 'HNR_relative_max_hnr_time', 'HNR_mean_hnr', 'HNR_stddev_hnr', \n",
    "                         'Spectrum_band_energy', 'Spectrum_band_density', 'Spectrum_band_energy_difference', 'Spectrum_band_density_difference', 'Spectrum_center_of_gravity_spectrum', \n",
    "                         'Spectrum_stddev_spectrum', 'Spectrum_skewness_spectrum', 'Spectrum_kurtosis_spectrum', 'Spectrum_central_moment_spectrum', \n",
    "                         'Formant_f1_mean', 'Formant_f2_mean', 'Formant_f3_mean', 'Formant_f4_mean', 'Formant_f1_median', \n",
    "                         'Formant_f2_median', 'Formant_f3_median', 'Formant_f4_median', 'Formant_formant_dispersion', 'Formant_average_formant', \n",
    "                         'Formant_mff', 'Formant_fitch_vtl', 'Formant_delta_f', 'Formant_vtl_delta_f', \n",
    "                         'Local Jitter', 'Local Shimmer']"
   ]
  },
  {
   "cell_type": "code",
   "execution_count": 21,
   "id": "84c81278-72b7-4c4d-92ed-1843daff1893",
   "metadata": {},
   "outputs": [
    {
     "name": "stdout",
     "output_type": "stream",
     "text": [
      "26 of 52 selected. \n",
      "Feature names: ['Intensity_relative_min_intensity_time', 'Intensity_max_intensity', 'Intensity_q3_intensity', 'Pitch_voiced_fraction', 'Pitch_relative_max_pitch_time', 'Pitch_mean_pitch', 'Pitch_stddev_pitch', 'Pitch_median_intensity', 'Pitch_q3_pitch', 'Pitch_mean_absolute_pitch_slope', 'Pitch_pitch_slope_without_octave_jumps', 'HNR_relative_max_hnr_time', 'Spectrum_band_energy', 'Spectrum_band_density_difference', 'Spectrum_skewness_spectrum', 'Spectrum_central_moment_spectrum', 'Formant_f4_mean', 'Formant_f1_median', 'Formant_f4_median', 'Formant_formant_dispersion', 'Formant_average_formant', 'Formant_mff', 'Formant_fitch_vtl', 'Formant_delta_f', 'Local Jitter', 'Local Shimmer']\n",
      "Accuracy with selected features: 0.7661016949152543\n",
      "time taken: 2076 seconds.\n",
      "selected:  ['Intensity_relative_min_intensity_time', 'Intensity_max_intensity', 'Intensity_q3_intensity', 'Pitch_voiced_fraction', 'Pitch_relative_max_pitch_time', 'Pitch_mean_pitch', 'Pitch_stddev_pitch', 'Pitch_median_intensity', 'Pitch_q3_pitch', 'Pitch_mean_absolute_pitch_slope', 'Pitch_pitch_slope_without_octave_jumps', 'HNR_relative_max_hnr_time', 'Spectrum_band_energy', 'Spectrum_band_density_difference', 'Spectrum_skewness_spectrum', 'Spectrum_central_moment_spectrum', 'Formant_f4_mean', 'Formant_f1_median', 'Formant_f4_median', 'Formant_formant_dispersion', 'Formant_average_formant', 'Formant_mff', 'Formant_fitch_vtl', 'Formant_delta_f', 'Local Jitter', 'Local Shimmer']\n"
     ]
    }
   ],
   "source": [
    "start = time.time()\n",
    "X_train = df_joint_train[feature_names_prosody]\n",
    "X_test  = df_joint_test[feature_names_prosody]\n",
    "rf_est = RandomForestClassifier(n_estimators=25)\n",
    "sfs_bk = SequentialFeatureSelector(estimator=rf_est, \n",
    "                            n_features_to_select='auto',  # Select one feature at a time\n",
    "                            direction='backward',  # Forward selection\n",
    "                            scoring='balanced_accuracy',  # Use balabced accuracy as the evaluation metric - average of recall\n",
    "                            cv=3)  # k-fold cross-validation\n",
    "sfs_bk.fit(X_train, y_train_s)\n",
    "\n",
    "selected_feature_names = [feature_names_prosody[i] for i, selected in enumerate(sfs_bk.get_support()) if selected]\n",
    "print(f\"{len(selected_feature_names)} of {len(feature_names_prosody)} selected. \\nFeature names:\", selected_feature_names)\n",
    "X_train_selected = sfs_bk.transform(X_train)\n",
    "X_test_selected = sfs_bk.transform(X_test)\n",
    "rf_est.fit(X_train_selected, y_train_s)\n",
    "accuracy = rf_est.score(X_test_selected, y_test_s)\n",
    "print(\"Accuracy with selected features:\", accuracy)\n",
    "print(f\"time taken: {round(time.time()-start)} seconds.\")\n",
    "print(\"selected: \", selected_feature_names)"
   ]
  },
  {
   "cell_type": "code",
   "execution_count": 26,
   "id": "fc66f7d7-c14c-4ed7-b975-c206d9b15abc",
   "metadata": {},
   "outputs": [
    {
     "name": "stdout",
     "output_type": "stream",
     "text": [
      "              precision    recall  f1-score   support\n",
      "\n",
      "          -1       0.76      0.96      0.85       748\n",
      "           0       0.77      0.48      0.59       183\n",
      "           1       0.91      0.45      0.60       249\n",
      "\n",
      "    accuracy                           0.77      1180\n",
      "   macro avg       0.81      0.63      0.68      1180\n",
      "weighted avg       0.79      0.77      0.75      1180\n",
      "\n",
      "[[715  23  10]\n",
      " [ 94  88   1]\n",
      " [134   4 111]]\n",
      "              precision    recall  f1-score   support\n",
      "\n",
      "          -1       0.75      0.96      0.84       748\n",
      "           0       0.79      0.44      0.56       183\n",
      "           1       0.89      0.45      0.60       249\n",
      "\n",
      "    accuracy                           0.77      1180\n",
      "   macro avg       0.81      0.62      0.67      1180\n",
      "weighted avg       0.79      0.77      0.75      1180\n",
      "\n",
      "[[717  19  12]\n",
      " [101  80   2]\n",
      " [134   2 113]]\n"
     ]
    }
   ],
   "source": [
    "try_clf_with_feature_selected(rf_clf,feature_names_prosody,y_train_s,y_test_s)\n",
    "try_clf_with_feature_selected(rf_clf,selected_feature_names,y_train_s,y_test_s)"
   ]
  },
  {
   "cell_type": "code",
   "execution_count": 25,
   "id": "09cefc72-e20c-40a8-806f-3471f3effadf",
   "metadata": {},
   "outputs": [
    {
     "name": "stdout",
     "output_type": "stream",
     "text": [
      "              precision    recall  f1-score   support\n",
      "\n",
      "       Anger       0.70      0.80      0.75       187\n",
      "    Calmness       0.47      0.88      0.61        16\n",
      "     Disgust       0.53      0.43      0.47       187\n",
      "        Fear       0.63      0.49      0.55       187\n",
      "   Happiness       0.65      0.48      0.55       187\n",
      "  Neutrality       0.56      0.65      0.60       167\n",
      "     Sadness       0.54      0.74      0.63       187\n",
      "    Surprise       0.89      0.77      0.83        62\n",
      "\n",
      "    accuracy                           0.61      1180\n",
      "   macro avg       0.62      0.65      0.62      1180\n",
      "weighted avg       0.62      0.61      0.60      1180\n",
      "\n",
      "[[149   0  13   8  14   2   1   0]\n",
      " [  0  14   0   0   0   0   2   0]\n",
      " [ 12   1  80  15  16  30  32   1]\n",
      " [ 14   0  12  92   9  15  44   1]\n",
      " [ 36   3  19  12  90  18   7   2]\n",
      " [  0   5  15   8   5 108  26   0]\n",
      " [  0   7   8   7   4  21 138   2]\n",
      " [  1   0   4   4   1   0   4  48]]\n",
      "              precision    recall  f1-score   support\n",
      "\n",
      "       Anger       0.67      0.81      0.73       187\n",
      "    Calmness       0.56      0.88      0.68        16\n",
      "     Disgust       0.50      0.43      0.46       187\n",
      "        Fear       0.61      0.43      0.50       187\n",
      "   Happiness       0.64      0.47      0.54       187\n",
      "  Neutrality       0.57      0.62      0.60       167\n",
      "     Sadness       0.51      0.73      0.60       187\n",
      "    Surprise       0.91      0.77      0.83        62\n",
      "\n",
      "    accuracy                           0.59      1180\n",
      "   macro avg       0.62      0.64      0.62      1180\n",
      "weighted avg       0.60      0.59      0.59      1180\n",
      "\n",
      "[[151   0  16   7  10   2   1   0]\n",
      " [  0  14   0   0   0   0   2   0]\n",
      " [ 13   0  80  10  18  32  34   0]\n",
      " [ 22   0  16  80   7  12  49   1]\n",
      " [ 37   2  19  15  87  13  11   3]\n",
      " [  0   3  12  10   6 104  32   0]\n",
      " [  1   6  10   7   6  19 137   1]\n",
      " [  0   0   6   2   3   0   3  48]]\n"
     ]
    }
   ],
   "source": [
    "try_clf_with_feature_selected(rf_clf,feature_names_prosody,y_train_e,y_test_e)\n",
    "try_clf_with_feature_selected(rf_clf,selected_feature_names,y_train_e,y_test_e)"
   ]
  },
  {
   "cell_type": "code",
   "execution_count": null,
   "id": "4df6affd-6eff-4521-bb12-78f39b1231e7",
   "metadata": {},
   "outputs": [],
   "source": [
    "start = time.time()\n",
    "sfs = SequentialFeatureSelector(estimator=rf_est, \n",
    "                            n_features_to_select='auto',  # Select one feature at a time\n",
    "                            direction='forward',  # Forward selection\n",
    "                            scoring='balanced_accuracy',  # Use balabced accuracy as the evaluation metric - average of recall\n",
    "                            cv=5)  # k-fold cross-validation\n",
    "sfs.fit(X_train, y_train_s)\n",
    "\n",
    "selected_feature_names = [feature_names_prosody[i] for i, selected in enumerate(sfs.get_support()) if selected]\n",
    "print(f\"{len(selected_feature_names)} of {len(feature_names_prosody)} selected. \\nFeature names:\", selected_feature_names)\n",
    "X_train_selected = sfs.transform(X_train)\n",
    "X_test_selected = sfs.transform(X_test)\n",
    "rf_est.fit(X_train_selected, y_train_s)\n",
    "accuracy = rf_est.score(X_test_selected, y_test_s)\n",
    "print(\"Accuracy with selected features:\", accuracy)\n",
    "print(f\"time taken: {round(time.time()-start)} seconds.\")\n",
    "print(\"selected: \", selected_feature_names)"
   ]
  },
  {
   "cell_type": "code",
   "execution_count": null,
   "id": "dc1fb683-5c38-423a-bf14-f6a14e483137",
   "metadata": {},
   "outputs": [],
   "source": [
    "                 "
   ]
  },
  {
   "cell_type": "markdown",
   "id": "52e131d8-d871-4b95-9651-06f44a57b8be",
   "metadata": {},
   "source": [
    "17 of 34 selected.   \n",
    "Feature names: ['Spectrum_center_of_gravity_spectrum', 'Spectrum_stddev_spectrum', 'Spectrum_band_density', 'Spectrum_band_energy', 'Formant_f1_mean', 'Formant_mff', 'HNR_stddev_hnr', 'HNR_mean_hnr', 'HNR_relative_min_hnr_time', 'Intensity_q3_intensity', 'Intensity_relative_max_intensity_time', 'Pitch_pitch_slope_without_octave_jumps', 'Pitch_stddev_pitch', 'Pitch_mean_pitch', 'Pitch_max_pitch', 'Pitch_q1_pitch', 'Local Jitter']  \n",
    "Accuracy with selected features: 0.7694915254237288  \n",
    "time taken: 2287 seconds.  \n",
    "selected:  ['Spectrum_center_of_gravity_spectrum', 'Spectrum_stddev_spectrum', 'Spectrum_band_density', 'Spectrum_band_energy', 'Formant_f1_mean', 'Formant_mff', 'HNR_stddev_hnr', 'HNR_mean_hnr', 'HNR_relative_min_hnr_time', 'Intensity_q3_intensity', 'Intensity_relative_max_intensity_time', 'Pitch_pitch_slope_without_octave_jumps', 'Pitch_stddev_pitch', 'Pitch_mean_pitch', 'Pitch_max_pitch', 'Pitch_q1_pitch', 'Local Jitter']  "
   ]
  },
  {
   "cell_type": "markdown",
   "id": "a5f69336-20fa-41a2-bad9-8835a3870b00",
   "metadata": {},
   "source": [
    "# End"
   ]
  },
  {
   "cell_type": "markdown",
   "id": "1a6bb924-6f20-4da4-85d3-5bdac0e27531",
   "metadata": {},
   "source": [
    "### Feature Tables Part 2 \n",
    "\n",
    "| feature category   | num of sub attributes  |\n",
    "| ------------------ | ---------------------- |\n",
    "|Intensity           |    9                   |\n",
    "|pitch               |   12                   |\n",
    "|HNR                 |    6                   |\n",
    "|GNE                 |    5                   |\n",
    "|Local Jitter        |    1                   |\n",
    "|Local Shimmer       |    1                   |\n",
    "|Spectrum            |    9                   | \n",
    "|formant             |   14                   |"
   ]
  },
  {
   "cell_type": "code",
   "execution_count": null,
   "id": "d8e92f61-b756-4a9f-9dc4-5b09f3293d60",
   "metadata": {},
   "outputs": [],
   "source": []
  }
 ],
 "metadata": {
  "kernelspec": {
   "display_name": "Python 3 (ipykernel)",
   "language": "python",
   "name": "python3"
  },
  "language_info": {
   "codemirror_mode": {
    "name": "ipython",
    "version": 3
   },
   "file_extension": ".py",
   "mimetype": "text/x-python",
   "name": "python",
   "nbconvert_exporter": "python",
   "pygments_lexer": "ipython3",
   "version": "3.9.17"
  }
 },
 "nbformat": 4,
 "nbformat_minor": 5
}
