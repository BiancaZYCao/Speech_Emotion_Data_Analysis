{
 "cells": [
  {
   "cell_type": "code",
   "execution_count": 1,
   "id": "e8dba9c2-50a6-4935-85c4-36c696e704fb",
   "metadata": {},
   "outputs": [],
   "source": [
    "import librosa\n",
    "import librosa.display\n",
    "from librosa.core import load\n",
    "import numpy as np\n",
    "import pandas as pd\n",
    "import glob\n",
    "import os, sys\n",
    "import matplotlib.pyplot as plt\n",
    "from sklearn.feature_selection import SelectKBest, f_classif\n",
    "\n",
    "VERSION = 4 # input file version"
   ]
  },
  {
   "cell_type": "markdown",
   "id": "0caf5797-6094-48be-921c-d38efc777ba8",
   "metadata": {},
   "source": [
    "## Load data"
   ]
  },
  {
   "cell_type": "code",
   "execution_count": 2,
   "id": "f967b51a-bdb4-49b6-a189-b7fa3b882df3",
   "metadata": {},
   "outputs": [
    {
     "name": "stdout",
     "output_type": "stream",
     "text": [
      "shape of train set:  (10981, 1550)\n"
     ]
    }
   ],
   "source": [
    "# master_data = pd.read_csv(f'./dataset_info_combined_V{VERSION}.csv')\n",
    "df_joint_train = pd.read_csv(f'./features/cache_all_features_train_V{VERSION}.csv')\n",
    "feature_column_names = [i for i in df_joint_train.columns \\\n",
    "                        if i not in ['file_path','renamed_file_path','split','sentiment_value','emotional_category']]\n",
    "\n",
    "print(\"shape of train set: \", df_joint_train.shape)\n",
    "\n",
    "X = df_joint_train[feature_column_names]\n",
    "y_s = df_joint_train['sentiment_value']\n",
    "y_e = df_joint_train['emotional_category']\n",
    "\n",
    "from sklearn.preprocessing import LabelEncoder\n",
    "label_encoder = LabelEncoder()\n",
    "y_e_num = label_encoder.fit_transform(y_e)"
   ]
  },
  {
   "cell_type": "markdown",
   "id": "59e6e509-f641-4be0-9b74-a40615c8b8f6",
   "metadata": {},
   "source": [
    "### ANOVA F Test"
   ]
  },
  {
   "cell_type": "code",
   "execution_count": 3,
   "id": "921dc8df-5e6b-4b0e-9fc6-f9b9af743a3b",
   "metadata": {},
   "outputs": [
    {
     "name": "stdout",
     "output_type": "stream",
     "text": [
      "p_values:  [0.00000000e+000 3.37473741e-294 0.00000000e+000 ... 1.24653171e-179\n",
      " 6.50236372e-047 5.50686335e-044]\n",
      "based on p value  1545 significant_features\n",
      "scores:  [610.51256069 210.31431021 372.5802621  ... 126.49827078  33.80220847\n",
      "  31.79234655]\n",
      "100 significant_features:  ['mfcc_mean_1', 'mfcc_p10_4', 'mfcc_p10_5', 'mfcc_p10_11', 'mfcc_median_33', 'mfcc_p10_13', 'Pitch_pitch_slope_without_octave_jumps', 'Pitch_mean_absolute_pitch_slope', 'Pitch_q3_pitch', 'Pitch_median_intensity', 'Pitch_q1_pitch', 'mfcc_p10_3', 'Pitch_stddev_pitch', 'Pitch_max_pitch', 'mfcc_p90_1', 'mfcc_median_11', 'mfcc_std_15', 'mfcc_p90_20', 'mfcc_p90_21', 'mfcc_median_5', 'mfcc_median_4', 'mfcc_median_3', 'mfcc_median_1', 'Pitch_mean_pitch', 'mfcc_p10_1', 'GNE_max_gne', 'GNE_mean_gne', 'mfcc_std_14', 'mfcc_std_13', 'mfcc_std_12', 'mfcc_std_11', 'mfcc_std_5', 'mfcc_std_4', 'mfcc_std_3', 'mfcc_std_1', 'mfcc_std_17', 'mfcc_std_18', 'mfcc_std_19', 'mfcc_std_20', 'mfcc_std_21', 'mfcc_std_22', 'mfcc_std_23', 'Spectrum_band_energy_difference', 'Spectrum_band_density_difference', 'mfcc_std_24', 'mfcc_std_25', 'mfcc_std_26', 'mfcc_std_27', 'GNE_sum_gne', 'GNE_stddev_gne', 'Spectrum_center_of_gravity_spectrum', 'Formant_f1_mean', 'mfcc_std_16', 'Formant_f1_median', 'mfcc_p90_25', 'rms_mean', 'rms_median', 'rms_std', 'rms_p90', 'Intensity_max_intensity', 'zcr_median', 'Intensity_mean_intensity', 'Intensity_median_intensity', 'Intensity_q3_intensity', 'mfcc_mean_11', 'mfcc_mean_5', 'mfcc_mean_4', 'mfcc_mean_3', 'Pitch_min_pitch', 'mfcc_p90_26', 'mfcc_mean_33', 'mfcc_p90_22', 'mfcc_median_34', 'mfcc_std_10', 'Spectrum_skewness_spectrum', 'mel32_std_22', 'mfcc_p90_23', 'mfcc_p90_27', 'mfcc_p10_9', 'mfcc_p90_3', 'Formant_formant_dispersion', 'mfcc_std_28', 'mfcc_mean_2', 'mfcc_p90_2', 'mfcc_std_7', 'mel64_std_43', 'mfcc_p10_19', 'mfcc_p90_19', 'mel32_std_23', 'mfcc_mean_34', 'mfcc_mean_28', 'mel32_std_21', 'mfcc_p90_16', 'mfcc_p90_28', 'mfcc_mean_9', 'mfcc_median_32', 'mfcc_median_2', 'mel32_mean_22', 'mfcc_median_28', 'mfcc_p90_24']\n"
     ]
    }
   ],
   "source": [
    "top_N = 100\n",
    "\n",
    "# ANOVA F-test\n",
    "anova_selector = SelectKBest(f_classif, k=min(top_N, X.shape[1]))\n",
    "selected_features_anova = anova_selector.fit_transform(X, y_e)\n",
    "\n",
    "# Get p-values\n",
    "_, p_values = f_classif(X, y_e)\n",
    "print(\"p_values: \", p_values)\n",
    "significant_features_id = np.where(p_values<0.05)[0]\n",
    "print(f\"based on p value  {len(significant_features_id)} significant_features\")\n",
    "# Or you can print the F-scores\n",
    "scores = anova_selector.scores_\n",
    "print(\"scores: \", scores)\n",
    "\n",
    "# Optionally, you can sort by p-values and select features with the lowest ones manually\n",
    "sorted_idx = np.argsort(p_values)\n",
    "significant_features_id_topn  = sorted_idx[:top_N]\n",
    "print(f\"{top_N} significant_features: \", [feature_column_names[idx] for idx in significant_features_id_topn])"
   ]
  },
  {
   "cell_type": "markdown",
   "id": "8c5f0ae9-40a1-4464-87bd-2e6a81c2db28",
   "metadata": {},
   "source": [
    "### Coorelation +  mutal info + feature-feature correlation"
   ]
  },
  {
   "cell_type": "code",
   "execution_count": 4,
   "id": "2659c41e-0771-4de7-965c-fa04180c5ce1",
   "metadata": {},
   "outputs": [
    {
     "name": "stdout",
     "output_type": "stream",
     "text": [
      "Correlation coefficients between each feature and the labels:\n",
      " [-0.31875965  0.1874767   0.15073757 ...  0.1723755   0.09586706\n",
      " -0.09181611]\n",
      "Mutual Information scores:\n",
      " [0.26351935 0.09047474 0.15920847 ... 0.05468904 0.02472287 0.02471631]\n"
     ]
    }
   ],
   "source": [
    "# Create an array to store correlations\n",
    "correlations = np.zeros(X.shape[1])  \n",
    "for i in range(X.shape[1]):\n",
    "    correlations[i] = np.corrcoef(X.iloc[:, i], y_e_num)[0, 1]\n",
    "print(\"Correlation coefficients between each feature and the labels:\\n\", correlations)\n",
    "\n",
    "# to compute some form of association between categorical labels and numerical features, \n",
    "# you could consider using chi-squared tests for independence or mutual information scores.\n",
    "from sklearn.feature_selection import mutual_info_classif\n",
    "mutual_info_scores = mutual_info_classif(X, y_e)\n",
    "print(\"Mutual Information scores:\\n\", mutual_info_scores)\n",
    "\n",
    "# For feature-feature correlation\n",
    "feature_corr_matrix = np.corrcoef(X.T)\n",
    "\n",
    "# print(\"\\nFeature-feature correlation matrix:\\n\", feature_corr_matrix)"
   ]
  },
  {
   "cell_type": "markdown",
   "id": "80b56653-4b4d-4086-ad2f-a57c8d33a280",
   "metadata": {
    "jp-MarkdownHeadingCollapsed": true
   },
   "source": [
    "#### correlation plot (must select part of features) "
   ]
  },
  {
   "cell_type": "code",
   "execution_count": null,
   "id": "0554a07c-da3f-4b02-8bb2-7b8aab001397",
   "metadata": {},
   "outputs": [],
   "source": [
    "# import seaborn as sns\n",
    "# import matplotlib.pyplot as plt\n",
    "\n",
    "# # Create a mask to hide the upper triangle since it's redundant with the lower triangle\n",
    "# mask = np.triu(np.ones_like(feature_corr_matrix, dtype=bool))\n",
    "\n",
    "# # Set up the matplotlib figure\n",
    "# f, ax = plt.subplots(figsize=(10, 8))\n",
    "\n",
    "# # Generate a custom diverging colormap\n",
    "# cmap = sns.diverging_palette(230, 20, as_cmap=True)\n",
    "\n",
    "# # Make sure the length of column_name_original matches the number of features in your correlation matrix\n",
    "# assert len(column_names_origin) == feature_corr_matrix.shape[0]\n",
    "\n",
    "# # Generate the heatmap with custom labels and show the diagonal\n",
    "# sns.heatmap(feature_corr_matrix,  mask=mask, cmap=cmap, vmax=.3, center=0, annot=False,\n",
    "#             square=True, linewidths=.5, cbar_kws={\"shrink\": .2},\n",
    "#             xticklabels=column_names_origin, yticklabels=column_names_origin)\n",
    "\n",
    "# # Rotate the x-axis labels for better readability\n",
    "# plt.xticks(rotation=45, fontsize='small')\n",
    "# plt.yticks(fontsize='small')\n",
    "\n",
    "# plt.show()"
   ]
  },
  {
   "cell_type": "markdown",
   "id": "1445f1cd-df99-43f8-978e-f335645b4d1b",
   "metadata": {},
   "source": [
    "### Generate ranking table using emotion labels"
   ]
  },
  {
   "cell_type": "code",
   "execution_count": 5,
   "id": "8c6ca6e9-9ec5-4b50-ba1f-255e00beea74",
   "metadata": {},
   "outputs": [],
   "source": [
    "# ANOVA F-test with p-values\n",
    "anova_selector = SelectKBest(f_classif, k='all')\n",
    "anova_selector.fit(X, y_e)\n",
    "p_values = anova_selector.pvalues_\n",
    "f_scores = anova_selector.scores_\n",
    "is_significant_p = (p_values < 0.05).astype(int)  \n",
    "# ranking_by_f_score = np.argsort(f_scores)\n",
    "\n",
    "# Combine results into a single dataframe\n",
    "result_df = pd.DataFrame({\n",
    "    'feature': feature_column_names,\n",
    "    'p_value': p_values,\n",
    "    'is_significant': is_significant_p,\n",
    "    'f_score': f_scores,\n",
    "    'correlation_coeff': correlations,\n",
    "    'mutual_info_score': mutual_info_scores\n",
    "})\n",
    "\n",
    "result_df = result_df.round(4).sort_values(by='f_score',ascending=False)\n",
    "# result_df.head()\n",
    "result_df.to_csv(f'./features/relationship_stats_test_result_emotion_all_V{VERSION}.csv',index = False)"
   ]
  },
  {
   "cell_type": "markdown",
   "id": "93881023-b942-4984-bdfa-92a0271c2b55",
   "metadata": {},
   "source": [
    "### Use Sentiment Label"
   ]
  },
  {
   "cell_type": "code",
   "execution_count": 6,
   "id": "edcb1ee9-f9eb-4600-ac6d-a15fed39f8f2",
   "metadata": {},
   "outputs": [
    {
     "name": "stdout",
     "output_type": "stream",
     "text": [
      "Mutual Information scores:\n",
      " [0.07998662 0.02063289 0.03424365 ... 0.01581673 0.         0.        ]\n"
     ]
    },
    {
     "data": {
      "text/html": [
       "<div>\n",
       "<style scoped>\n",
       "    .dataframe tbody tr th:only-of-type {\n",
       "        vertical-align: middle;\n",
       "    }\n",
       "\n",
       "    .dataframe tbody tr th {\n",
       "        vertical-align: top;\n",
       "    }\n",
       "\n",
       "    .dataframe thead th {\n",
       "        text-align: right;\n",
       "    }\n",
       "</style>\n",
       "<table border=\"1\" class=\"dataframe\">\n",
       "  <thead>\n",
       "    <tr style=\"text-align: right;\">\n",
       "      <th></th>\n",
       "      <th>feature</th>\n",
       "      <th>p_value</th>\n",
       "      <th>is_significant</th>\n",
       "      <th>f_score</th>\n",
       "      <th>correlation_coeff</th>\n",
       "      <th>mutual_info_score</th>\n",
       "    </tr>\n",
       "  </thead>\n",
       "  <tbody>\n",
       "    <tr>\n",
       "      <th>1510</th>\n",
       "      <td>Pitch_pitch_slope_without_octave_jumps</td>\n",
       "      <td>0.0</td>\n",
       "      <td>1</td>\n",
       "      <td>1290.2384</td>\n",
       "      <td>0.3010</td>\n",
       "      <td>0.1150</td>\n",
       "    </tr>\n",
       "    <tr>\n",
       "      <th>1505</th>\n",
       "      <td>Pitch_stddev_pitch</td>\n",
       "      <td>0.0</td>\n",
       "      <td>1</td>\n",
       "      <td>872.1901</td>\n",
       "      <td>0.2545</td>\n",
       "      <td>0.0979</td>\n",
       "    </tr>\n",
       "    <tr>\n",
       "      <th>1509</th>\n",
       "      <td>Pitch_mean_absolute_pitch_slope</td>\n",
       "      <td>0.0</td>\n",
       "      <td>1</td>\n",
       "      <td>860.4551</td>\n",
       "      <td>0.2461</td>\n",
       "      <td>0.0912</td>\n",
       "    </tr>\n",
       "    <tr>\n",
       "      <th>1508</th>\n",
       "      <td>Pitch_q3_pitch</td>\n",
       "      <td>0.0</td>\n",
       "      <td>1</td>\n",
       "      <td>853.8400</td>\n",
       "      <td>0.1747</td>\n",
       "      <td>0.1036</td>\n",
       "    </tr>\n",
       "    <tr>\n",
       "      <th>92</th>\n",
       "      <td>mfcc_median_33</td>\n",
       "      <td>0.0</td>\n",
       "      <td>1</td>\n",
       "      <td>721.2840</td>\n",
       "      <td>0.1222</td>\n",
       "      <td>0.0707</td>\n",
       "    </tr>\n",
       "  </tbody>\n",
       "</table>\n",
       "</div>"
      ],
      "text/plain": [
       "                                     feature  p_value  is_significant  \\\n",
       "1510  Pitch_pitch_slope_without_octave_jumps      0.0               1   \n",
       "1505                      Pitch_stddev_pitch      0.0               1   \n",
       "1509         Pitch_mean_absolute_pitch_slope      0.0               1   \n",
       "1508                          Pitch_q3_pitch      0.0               1   \n",
       "92                            mfcc_median_33      0.0               1   \n",
       "\n",
       "        f_score  correlation_coeff  mutual_info_score  \n",
       "1510  1290.2384             0.3010             0.1150  \n",
       "1505   872.1901             0.2545             0.0979  \n",
       "1509   860.4551             0.2461             0.0912  \n",
       "1508   853.8400             0.1747             0.1036  \n",
       "92     721.2840             0.1222             0.0707  "
      ]
     },
     "execution_count": 6,
     "metadata": {},
     "output_type": "execute_result"
    }
   ],
   "source": [
    "# Create an array to store correlations\n",
    "correlations = np.zeros(X.shape[1])  \n",
    "for i in range(X.shape[1]):\n",
    "    correlations[i] = np.corrcoef(X.iloc[:, i], y_s)[0, 1]\n",
    "\n",
    "from sklearn.feature_selection import mutual_info_classif\n",
    "mutual_info_scores = mutual_info_classif(X, y_s)\n",
    "print(\"Mutual Information scores:\\n\", mutual_info_scores)\n",
    "\n",
    "# ANOVA F-test with p-values\n",
    "anova_selector = SelectKBest(f_classif, k='all')\n",
    "anova_selector.fit(X, y_s)\n",
    "p_values = anova_selector.pvalues_\n",
    "f_scores = anova_selector.scores_\n",
    "is_significant_p = (p_values < 0.05).astype(int)  \n",
    "\n",
    "result_df = pd.DataFrame({\n",
    "    'feature': feature_column_names,\n",
    "    'p_value': p_values,\n",
    "    'is_significant': is_significant_p,\n",
    "    'f_score': f_scores,\n",
    "    'correlation_coeff': correlations,\n",
    "    'mutual_info_score': mutual_info_scores\n",
    "})\n",
    "\n",
    "result_df = result_df.round(4).sort_values(by='f_score',ascending=False)\n",
    "\n",
    "result_df.to_csv(f'./features/relationship_stats_test_result_sentiment_all_V{VERSION}.csv',index = False)\n",
    "result_df.head()"
   ]
  },
  {
   "cell_type": "code",
   "execution_count": 7,
   "id": "f5c47d3a-bc30-4980-9b9e-db6df9083fbd",
   "metadata": {},
   "outputs": [
    {
     "data": {
      "text/html": [
       "<div>\n",
       "<style scoped>\n",
       "    .dataframe tbody tr th:only-of-type {\n",
       "        vertical-align: middle;\n",
       "    }\n",
       "\n",
       "    .dataframe tbody tr th {\n",
       "        vertical-align: top;\n",
       "    }\n",
       "\n",
       "    .dataframe thead th {\n",
       "        text-align: right;\n",
       "    }\n",
       "</style>\n",
       "<table border=\"1\" class=\"dataframe\">\n",
       "  <thead>\n",
       "    <tr style=\"text-align: right;\">\n",
       "      <th></th>\n",
       "      <th>p_value</th>\n",
       "      <th>is_significant</th>\n",
       "      <th>f_score</th>\n",
       "      <th>correlation_coeff</th>\n",
       "      <th>mutual_info_score</th>\n",
       "    </tr>\n",
       "  </thead>\n",
       "  <tbody>\n",
       "    <tr>\n",
       "      <th>count</th>\n",
       "      <td>1546.000000</td>\n",
       "      <td>1546.000000</td>\n",
       "      <td>1546.000000</td>\n",
       "      <td>1546.000000</td>\n",
       "      <td>1546.000000</td>\n",
       "    </tr>\n",
       "    <tr>\n",
       "      <th>mean</th>\n",
       "      <td>0.011053</td>\n",
       "      <td>0.961190</td>\n",
       "      <td>53.687398</td>\n",
       "      <td>-0.015961</td>\n",
       "      <td>0.036666</td>\n",
       "    </tr>\n",
       "    <tr>\n",
       "      <th>std</th>\n",
       "      <td>0.067890</td>\n",
       "      <td>0.193204</td>\n",
       "      <td>87.779360</td>\n",
       "      <td>0.054504</td>\n",
       "      <td>0.019041</td>\n",
       "    </tr>\n",
       "    <tr>\n",
       "      <th>min</th>\n",
       "      <td>0.000000</td>\n",
       "      <td>0.000000</td>\n",
       "      <td>0.082700</td>\n",
       "      <td>-0.204500</td>\n",
       "      <td>0.000000</td>\n",
       "    </tr>\n",
       "    <tr>\n",
       "      <th>25%</th>\n",
       "      <td>0.000000</td>\n",
       "      <td>1.000000</td>\n",
       "      <td>14.283200</td>\n",
       "      <td>-0.047075</td>\n",
       "      <td>0.020525</td>\n",
       "    </tr>\n",
       "    <tr>\n",
       "      <th>50%</th>\n",
       "      <td>0.000000</td>\n",
       "      <td>1.000000</td>\n",
       "      <td>31.134600</td>\n",
       "      <td>-0.023000</td>\n",
       "      <td>0.035900</td>\n",
       "    </tr>\n",
       "    <tr>\n",
       "      <th>75%</th>\n",
       "      <td>0.000000</td>\n",
       "      <td>1.000000</td>\n",
       "      <td>51.957600</td>\n",
       "      <td>0.006675</td>\n",
       "      <td>0.050475</td>\n",
       "    </tr>\n",
       "    <tr>\n",
       "      <th>max</th>\n",
       "      <td>0.920600</td>\n",
       "      <td>1.000000</td>\n",
       "      <td>1290.238400</td>\n",
       "      <td>0.301000</td>\n",
       "      <td>0.115000</td>\n",
       "    </tr>\n",
       "  </tbody>\n",
       "</table>\n",
       "</div>"
      ],
      "text/plain": [
       "           p_value  is_significant      f_score  correlation_coeff  \\\n",
       "count  1546.000000     1546.000000  1546.000000        1546.000000   \n",
       "mean      0.011053        0.961190    53.687398          -0.015961   \n",
       "std       0.067890        0.193204    87.779360           0.054504   \n",
       "min       0.000000        0.000000     0.082700          -0.204500   \n",
       "25%       0.000000        1.000000    14.283200          -0.047075   \n",
       "50%       0.000000        1.000000    31.134600          -0.023000   \n",
       "75%       0.000000        1.000000    51.957600           0.006675   \n",
       "max       0.920600        1.000000  1290.238400           0.301000   \n",
       "\n",
       "       mutual_info_score  \n",
       "count        1546.000000  \n",
       "mean            0.036666  \n",
       "std             0.019041  \n",
       "min             0.000000  \n",
       "25%             0.020525  \n",
       "50%             0.035900  \n",
       "75%             0.050475  \n",
       "max             0.115000  "
      ]
     },
     "execution_count": 7,
     "metadata": {},
     "output_type": "execute_result"
    }
   ],
   "source": [
    "result_df.describe()"
   ]
  },
  {
   "cell_type": "code",
   "execution_count": null,
   "id": "f9998c40-1400-41b6-9960-77943a558430",
   "metadata": {},
   "outputs": [],
   "source": []
  }
 ],
 "metadata": {
  "kernelspec": {
   "display_name": "Python 3 (ipykernel)",
   "language": "python",
   "name": "python3"
  },
  "language_info": {
   "codemirror_mode": {
    "name": "ipython",
    "version": 3
   },
   "file_extension": ".py",
   "mimetype": "text/x-python",
   "name": "python",
   "nbconvert_exporter": "python",
   "pygments_lexer": "ipython3",
   "version": "3.9.17"
  }
 },
 "nbformat": 4,
 "nbformat_minor": 5
}
