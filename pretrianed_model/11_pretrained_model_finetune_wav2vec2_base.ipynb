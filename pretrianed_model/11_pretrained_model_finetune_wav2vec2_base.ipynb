{
 "cells": [
  {
   "cell_type": "markdown",
   "metadata": {
    "id": "gAudC2og4a_q"
   },
   "source": [
    "## Speech Emotion Recognition: Audio Classification\n",
    "\n",
    "Dataset Source: https://www.kaggle.com/datasets/dmitrybabko/speech-emotion-recognition-en"
   ]
  },
  {
   "cell_type": "markdown",
   "metadata": {
    "id": "BwXKItBPMxzd"
   },
   "source": [
    "### Prepare"
   ]
  },
  {
   "cell_type": "markdown",
   "metadata": {
    "id": "_ESu1-8e4a_t"
   },
   "source": [
    "**bold text**#### Install Missing Libraries"
   ]
  },
  {
   "cell_type": "markdown",
   "metadata": {
    "id": "2iMF5Qns4a_u"
   },
   "source": [
    "#### Import Necessary Libraries"
   ]
  },
  {
   "cell_type": "code",
   "execution_count": 1,
   "metadata": {
    "colab": {
     "base_uri": "https://localhost:8080/"
    },
    "id": "H_E5cCPL4a_v",
    "outputId": "7db82e4b-fd44-41d3-83f1-64e6e44e9e7b"
   },
   "outputs": [],
   "source": [
    "import os, sys, random, glob\n",
    "os.environ['TOKENIZERS_PARALLELISM']='false'\n",
    "\n",
    "import numpy as np\n",
    "import pandas as pd\n",
    "\n",
    "import datasets\n",
    "from datasets import load_dataset, Audio, DatasetDict\n",
    "from datasets import Audio, Features, ClassLabel\n",
    "\n",
    "import torch\n",
    "\n",
    "import transformers\n",
    "from transformers import AutoFeatureExtractor, AutoModelForAudioClassification\n",
    "from transformers import TrainingArguments, Trainer\n",
    "\n",
    "import evaluate\n",
    "\n",
    "from IPython.display import display\n",
    "\n",
    "# !git lfs install"
   ]
  },
  {
   "cell_type": "code",
   "execution_count": 2,
   "metadata": {},
   "outputs": [],
   "source": [
    "# Check that MPS is available\n",
    "if not torch.backends.mps.is_available():\n",
    "    if not torch.backends.mps.is_built():\n",
    "        print(\"MPS not available because the current PyTorch install was not \"\n",
    "              \"built with MPS enabled.\")\n",
    "    else:\n",
    "        print(\"MPS not available because the current MacOS version is not 12.3+ \"\n",
    "              \"and/or you do not have an MPS-enabled device on this machine.\")\n",
    "\n",
    "else:\n",
    "    mps_device = torch.device(\"mps\")"
   ]
  },
  {
   "cell_type": "markdown",
   "metadata": {
    "id": "uzb1iY5qBCRo"
   },
   "source": [
    "#### Access to HuggingFace Hub"
   ]
  },
  {
   "cell_type": "code",
   "execution_count": 25,
   "metadata": {
    "colab": {
     "base_uri": "https://localhost:8080/"
    },
    "id": "Iu7zpD_MBBtl",
    "outputId": "61550c16-c970-4539-ac90-bbccf3275a00"
   },
   "outputs": [
    {
     "name": "stdout",
     "output_type": "stream",
     "text": [
      "\n",
      "    _|    _|  _|    _|    _|_|_|    _|_|_|  _|_|_|  _|      _|    _|_|_|      _|_|_|_|    _|_|      _|_|_|  _|_|_|_|\n",
      "    _|    _|  _|    _|  _|        _|          _|    _|_|    _|  _|            _|        _|    _|  _|        _|\n",
      "    _|_|_|_|  _|    _|  _|  _|_|  _|  _|_|    _|    _|  _|  _|  _|  _|_|      _|_|_|    _|_|_|_|  _|        _|_|_|\n",
      "    _|    _|  _|    _|  _|    _|  _|    _|    _|    _|    _|_|  _|    _|      _|        _|    _|  _|        _|\n",
      "    _|    _|    _|_|      _|_|_|    _|_|_|  _|_|_|  _|      _|    _|_|_|      _|        _|    _|    _|_|_|  _|_|_|_|\n",
      "\n",
      "    A token is already saved on your machine. Run `huggingface-cli whoami` to get more information or `huggingface-cli logout` if you want to log out.\n",
      "    Setting a new token will erase the existing one.\n",
      "    To login, `huggingface_hub` requires a token generated from https://huggingface.co/settings/tokens .\n",
      "Token: \n",
      "Add token as git credential? (Y/n) Y\n",
      "Token is valid (permission: write).\n",
      "\u001b[1m\u001b[31mCannot authenticate through git-credential as no helper is defined on your machine.\n",
      "You might have to re-authenticate when pushing to the Hugging Face Hub.\n",
      "Run the following command in your terminal in case you want to set the 'store' credential helper as default.\n",
      "\n",
      "git config --global credential.helper store\n",
      "\n",
      "Read https://git-scm.com/book/en/v2/Git-Tools-Credential-Storage for more details.\u001b[0m\n",
      "Token has not been saved to git credential helper.\n",
      "Your token has been saved to /root/.cache/huggingface/token\n",
      "Login successful\n"
     ]
    }
   ],
   "source": [
    "# !huggingface-cli login"
   ]
  },
  {
   "cell_type": "markdown",
   "metadata": {
    "id": "phiXzxn4MzLY"
   },
   "source": [
    "#### Mount Google Drive"
   ]
  },
  {
   "cell_type": "markdown",
   "metadata": {
    "id": "eyukqKAL4a_x"
   },
   "source": [
    "#### Display Library Versions"
   ]
  },
  {
   "cell_type": "code",
   "execution_count": 3,
   "metadata": {
    "colab": {
     "base_uri": "https://localhost:8080/"
    },
    "id": "6oO9jDvJ4a_x",
    "outputId": "6dea64eb-0d0b-4087-ce05-5c6c7956580f"
   },
   "outputs": [
    {
     "name": "stdout",
     "output_type": "stream",
     "text": [
      "        Python: 3.11.8\n",
      "         NumPy: 1.26.4\n",
      "        Pandas: 2.2.1\n",
      "      Datasets: 2.18.0\n",
      "         Torch: 2.2.1\n",
      "  Transformers: 4.39.0\n",
      "      Evaluate: 0.4.1\n"
     ]
    }
   ],
   "source": [
    "print(\"Python:\".rjust(15), sys.version[0:6])\n",
    "print(\"NumPy:\".rjust(15), np.__version__)\n",
    "print(\"Pandas:\".rjust(15), pd.__version__)\n",
    "print(\"Datasets:\".rjust(15), datasets.__version__)\n",
    "print(\"Torch:\".rjust(15), torch.__version__)\n",
    "print(\"Transformers:\".rjust(15), transformers.__version__)\n",
    "print(\"Evaluate:\".rjust(15), evaluate.__version__)"
   ]
  },
  {
   "cell_type": "markdown",
   "metadata": {
    "id": "GziK6_sKMr0H"
   },
   "source": [
    "### Load Data"
   ]
  },
  {
   "cell_type": "markdown",
   "metadata": {
    "id": "XqgOxwwW4a_y"
   },
   "source": [
    "#### Create Dictionaries to Convert Labels Between Strings & Integers"
   ]
  },
  {
   "cell_type": "code",
   "execution_count": 4,
   "metadata": {
    "colab": {
     "base_uri": "https://localhost:8080/"
    },
    "id": "sU6qYRfm4a_y",
    "outputId": "ef480c7e-5e78-4793-f585-dd37f1a2ca08"
   },
   "outputs": [
    {
     "name": "stdout",
     "output_type": "stream",
     "text": [
      "['SAD', 'ANGRY', 'DISGUST', 'FEAR', 'HAPPY', 'NEUTRAL']\n",
      "6\n",
      "{'SAD': '0', 'ANGRY': '1', 'DISGUST': '2', 'FEAR': '3', 'HAPPY': '4', 'NEUTRAL': '5'}\n",
      "{'0': 'SAD', '1': 'ANGRY', '2': 'DISGUST', '3': 'FEAR', '4': 'HAPPY', '5': 'NEUTRAL'}\n"
     ]
    }
   ],
   "source": [
    "labels = [\"SAD\",\n",
    "          \"ANGRY\",\n",
    "          \"DISGUST\",\n",
    "          \"FEAR\",\n",
    "          \"HAPPY\",\n",
    "          \"NEUTRAL\"]\n",
    "\n",
    "\n",
    "NUM_OF_LABELS = len(labels)\n",
    "\n",
    "label2id, id2label = dict(), dict()\n",
    "\n",
    "for i, label in enumerate(labels):\n",
    "    label2id[label] = str(i)\n",
    "    id2label[str(i)] = label\n",
    "\n",
    "initial_label_update = {\"SAD\": \"SAD\",\n",
    "                        \"ANG\": \"ANGRY\",\n",
    "                        \"DIS\": \"DISGUST\",\n",
    "                        \"FEA\": \"FEAR\",\n",
    "                        \"HAP\": \"HAPPY\",\n",
    "                        \"NEU\": \"NEUTRAL\"}\n",
    "\n",
    "\n",
    "print(labels)\n",
    "print(NUM_OF_LABELS)\n",
    "print(label2id)\n",
    "print(id2label)"
   ]
  },
  {
   "cell_type": "markdown",
   "metadata": {
    "id": "UbcGM0pf4a_y"
   },
   "source": [
    "#### Prepare Metadata File"
   ]
  },
  {
   "cell_type": "code",
   "execution_count": 5,
   "metadata": {
    "colab": {
     "base_uri": "https://localhost:8080/",
     "height": 204
    },
    "id": "qmV1P8IT4a_y",
    "outputId": "7878dc36-4546-4550-f4e2-8bccd009b321"
   },
   "outputs": [
    {
     "data": {
      "text/html": [
       "<div>\n",
       "<style scoped>\n",
       "    .dataframe tbody tr th:only-of-type {\n",
       "        vertical-align: middle;\n",
       "    }\n",
       "\n",
       "    .dataframe tbody tr th {\n",
       "        vertical-align: top;\n",
       "    }\n",
       "\n",
       "    .dataframe thead th {\n",
       "        text-align: right;\n",
       "    }\n",
       "</style>\n",
       "<table border=\"1\" class=\"dataframe\">\n",
       "  <thead>\n",
       "    <tr style=\"text-align: right;\">\n",
       "      <th></th>\n",
       "      <th>file_name</th>\n",
       "      <th>label</th>\n",
       "    </tr>\n",
       "  </thead>\n",
       "  <tbody>\n",
       "    <tr>\n",
       "      <th>0</th>\n",
       "      <td>1022_ITS_ANG_XX.wav</td>\n",
       "      <td>1</td>\n",
       "    </tr>\n",
       "    <tr>\n",
       "      <th>1</th>\n",
       "      <td>1037_ITS_ANG_XX.wav</td>\n",
       "      <td>1</td>\n",
       "    </tr>\n",
       "    <tr>\n",
       "      <th>2</th>\n",
       "      <td>1060_ITS_NEU_XX.wav</td>\n",
       "      <td>5</td>\n",
       "    </tr>\n",
       "    <tr>\n",
       "      <th>3</th>\n",
       "      <td>1075_ITS_NEU_XX.wav</td>\n",
       "      <td>5</td>\n",
       "    </tr>\n",
       "    <tr>\n",
       "      <th>4</th>\n",
       "      <td>1073_IOM_DIS_XX.wav</td>\n",
       "      <td>2</td>\n",
       "    </tr>\n",
       "  </tbody>\n",
       "</table>\n",
       "</div>"
      ],
      "text/plain": [
       "             file_name label\n",
       "0  1022_ITS_ANG_XX.wav     1\n",
       "1  1037_ITS_ANG_XX.wav     1\n",
       "2  1060_ITS_NEU_XX.wav     5\n",
       "3  1075_ITS_NEU_XX.wav     5\n",
       "4  1073_IOM_DIS_XX.wav     2"
      ]
     },
     "execution_count": 5,
     "metadata": {},
     "output_type": "execute_result"
    }
   ],
   "source": [
    "parent_dir = \"./dataset/CREMA-D\"\n",
    "\n",
    "dir_path = os.path.join(parent_dir, \"*.wav\")\n",
    "\n",
    "files_and_name = glob.glob(dir_path)\n",
    "\n",
    "metadata = pd.DataFrame(files_and_name, columns=[\"file_path\"])\n",
    "\n",
    "metadata['file_name'] = metadata['file_path'].apply(lambda x: x.split(\"/\")[-1])\n",
    "\n",
    "metadata['label'] = metadata['file_path'].apply(lambda x: x.split(\"/\")[-1].split(\"_\")[-2])\n",
    "metadata['label'] = metadata['label'].replace(initial_label_update)\n",
    "metadata['label'] = metadata['label'].replace(label2id)\n",
    "\n",
    "metadata = metadata.drop(columns=[\"file_path\"])\n",
    "\n",
    "metadata_file_location = os.path.join(parent_dir, \"metadata.csv\")\n",
    "metadata.to_csv(metadata_file_location, index=False)\n",
    "\n",
    "metadata.head()"
   ]
  },
  {
   "cell_type": "markdown",
   "metadata": {
    "id": "MLsi1jhk4a_z"
   },
   "source": [
    "#### Ingest & Preprocess Dataset"
   ]
  },
  {
   "cell_type": "code",
   "execution_count": 6,
   "metadata": {
    "colab": {
     "base_uri": "https://localhost:8080/",
     "height": 183,
     "referenced_widgets": [
      "67e7973445304dbbac3756439e05c6fe",
      "1e2e2604fc4f44dab763b917282afe8d",
      "6d4c1d69007b481589d9b879015ed961",
      "9e115884bf2243c29a319c27d45c9b54",
      "161934c65e4b4d0a91013c3199eb81e3",
      "f219c59680414104b85737e205b14853",
      "93b6a40ef65c4fbea7d1f97d0b59a080",
      "d0c06ac58d3c4f92969755f59169a490",
      "ca5225a9228145a081d1f50ed08c3959",
      "abe141834dba44aabc596beeac2439fa",
      "54a31ce74afb4d81b2d5bfb59a81eba0",
      "5762548bd181424e92db05c7fe18786f",
      "644877b67a3e492690f720bacf62af5f",
      "5343c893b1c449d08849a36c8cae162d",
      "df82694d5e9a4a55bd92af4246a20455",
      "593b86ba5c294aee8b087a25b7b58477",
      "44f7c65fe39c4fbe9979182e292ec124",
      "0b17c13f1bf64dfd850ea1f98ac2a84f",
      "6b2626f588df43f7b2f703a684889214",
      "493e573124f5405aad84fc92bb30679c",
      "6c18a0c193664416bedf4f06c6de4964",
      "6cc66767016a464c8e9dbdb3295f3c9c"
     ]
    },
    "id": "7KPgdAZc4a_z",
    "outputId": "a4a24631-c3da-4465-a130-895ecc42e1ed"
   },
   "outputs": [
    {
     "data": {
      "application/vnd.jupyter.widget-view+json": {
       "model_id": "ab264d49c6f2410f86be9726f87458c3",
       "version_major": 2,
       "version_minor": 0
      },
      "text/plain": [
       "Resolving data files:   0%|          | 0/7443 [00:00<?, ?it/s]"
      ]
     },
     "metadata": {},
     "output_type": "display_data"
    },
    {
     "data": {
      "application/vnd.jupyter.widget-view+json": {
       "model_id": "5ac05ca840c242a58d7c84748e40dc93",
       "version_major": 2,
       "version_minor": 0
      },
      "text/plain": [
       "Generating train split: 0 examples [00:00, ? examples/s]"
      ]
     },
     "metadata": {},
     "output_type": "display_data"
    },
    {
     "data": {
      "text/plain": [
       "{'audio': {'path': '/Users/bianca/Library/CloudStorage/OneDrive-SharedLibraries-NationalUniversityofSingapore/Capstone Scoping - 2. data/dataset/CREMA-D/1001_IEO_DIS_LO.wav',\n",
       "  'array': array([-0.00228882, -0.00204468, -0.00180054, ...,  0.        ,\n",
       "          0.        ,  0.        ]),\n",
       "  'sampling_rate': 16000},\n",
       " 'label': 2}"
      ]
     },
     "execution_count": 6,
     "metadata": {},
     "output_type": "execute_result"
    }
   ],
   "source": [
    "audio_data = load_dataset(parent_dir)\n",
    "audio_data['train'][10]"
   ]
  },
  {
   "cell_type": "markdown",
   "metadata": {
    "id": "gWwz7gy24a_z"
   },
   "source": [
    "#### Cast Audio Feature to Data Type of Audio"
   ]
  },
  {
   "cell_type": "code",
   "execution_count": 7,
   "metadata": {
    "id": "wpLxmDbl4a_z"
   },
   "outputs": [],
   "source": [
    "audio_data = audio_data.cast_column(\"audio\", Audio(sampling_rate=16000))"
   ]
  },
  {
   "cell_type": "markdown",
   "metadata": {
    "id": "X-yDS7FD4a_z"
   },
   "source": [
    "#### Split Dataset into Training & Testing Datasets"
   ]
  },
  {
   "cell_type": "code",
   "execution_count": 8,
   "metadata": {
    "id": "jO0fvIVB4a_z"
   },
   "outputs": [],
   "source": [
    "audio_data = audio_data.shuffle(seed=42)\n",
    "\n",
    "audio_data_split = audio_data['train'].train_test_split(test_size=0.25)\n",
    "\n",
    "ds = DatasetDict({\n",
    "    'train' : audio_data_split['train'],\n",
    "    'eval' : audio_data_split['test']\n",
    "})"
   ]
  },
  {
   "cell_type": "markdown",
   "metadata": {
    "id": "JfwPuvXe4a_z"
   },
   "source": [
    "#### Some Information About Training & Validation Datasets"
   ]
  },
  {
   "cell_type": "code",
   "execution_count": 9,
   "metadata": {
    "colab": {
     "base_uri": "https://localhost:8080/",
     "height": 475,
     "referenced_widgets": [
      "6df96b0b2b2349e4afc7f0a04d7b0322",
      "c58598b41c704d819ad3374fb4a0f45a",
      "b98ee2b322cb4756bfcc99b4a6acba62",
      "f658ae8010a14700a7da48d4df22a584",
      "8b6fe5b69fde46a084960bf08787ff81",
      "f167bec24d384f4d9fd0656b3ccc258c",
      "758b131cf0ab4202a4a4ff5b2593784a",
      "0c3ba53eded3414aaa92760fc711550f",
      "f439c0157c8744859436ae36f8f717d5",
      "d1e9f162dec747be95719fe30589d164",
      "688c23037f844c25b947c70bbb8396af",
      "8080b5c19cc74b1f8cae3a7bb2304b47",
      "09bbb4f0621d4e0a94c053bdd60e59a4",
      "fe0cb548a659461a99564aad149aa6c6",
      "cb2b018bff25414a8f086ec016bbd0e4",
      "c5c1e71e6730423789152ec1428594bf",
      "fbe7cf11b97841dea309fc06a9053fca",
      "7bb1199e03644366b2d711849ec3071e",
      "0f62860783b44320991c7010ff47f199",
      "ed0dd3f014f443d78d374a4f471a419f",
      "734b2ee4a3df4a8f9d36d05f8622c85f",
      "6e864f0767fe4928be9543bd0a6e4c02"
     ]
    },
    "id": "4N468Avc4a_z",
    "outputId": "a32134c9-daa2-450b-aaf5-71fede28c592"
   },
   "outputs": [
    {
     "name": "stdout",
     "output_type": "stream",
     "text": [
      "Training Dataset\n",
      "Training Dataset Info:  Dataset({\n",
      "    features: ['audio', 'label'],\n",
      "    num_rows: 5581\n",
      "})\n",
      "First Sample in Training Dataset {'audio': {'path': '/Users/bianca/Library/CloudStorage/OneDrive-SharedLibraries-NationalUniversityofSingapore/Capstone Scoping - 2. data/dataset/CREMA-D/1028_ITS_HAP_XX.wav', 'array': array([1.11694336e-02, 1.01928711e-02, 1.03149414e-02, ...,\n",
      "       6.10351562e-05, 6.10351562e-05, 6.10351562e-05]), 'sampling_rate': 16000}, 'label': 4}\n",
      "Last Sample in Training Dataset {'audio': {'path': '/Users/bianca/Library/CloudStorage/OneDrive-SharedLibraries-NationalUniversityofSingapore/Capstone Scoping - 2. data/dataset/CREMA-D/1046_ITS_SAD_XX.wav', 'array': array([-0.00231934, -0.00296021, -0.00350952, ...,  0.        ,\n",
      "        0.        ,  0.        ]), 'sampling_rate': 16000}, 'label': 0}\n"
     ]
    },
    {
     "data": {
      "application/vnd.jupyter.widget-view+json": {
       "model_id": "609922b50eac4d9894f445b9db2aa140",
       "version_major": 2,
       "version_minor": 0
      },
      "text/plain": [
       "Flattening the indices:   0%|          | 0/5581 [00:00<?, ? examples/s]"
      ]
     },
     "metadata": {},
     "output_type": "display_data"
    },
    {
     "name": "stdout",
     "output_type": "stream",
     "text": [
      "Unique Values in Label/Class:  [0, 1, 2, 3, 4, 5]\n",
      "\n",
      "\n",
      "Evaluation Dataset\n",
      "Evaluation Dataset Info:  Dataset({\n",
      "    features: ['audio', 'label'],\n",
      "    num_rows: 1861\n",
      "})\n",
      "First Sample in Evaluation Dataset {'audio': {'path': '/Users/bianca/Library/CloudStorage/OneDrive-SharedLibraries-NationalUniversityofSingapore/Capstone Scoping - 2. data/dataset/CREMA-D/1010_TSI_ANG_XX.wav', 'array': array([ 0.0005188 , -0.00033569, -0.00048828, ...,  0.        ,\n",
      "        0.        ,  0.        ]), 'sampling_rate': 16000}, 'label': 1}\n",
      "Last Sample in Evaluation Dataset {'audio': {'path': '/Users/bianca/Library/CloudStorage/OneDrive-SharedLibraries-NationalUniversityofSingapore/Capstone Scoping - 2. data/dataset/CREMA-D/1057_IWW_ANG_XX.wav', 'array': array([5.52368164e-03, 5.06591797e-03, 4.51660156e-03, ...,\n",
      "       0.00000000e+00, 0.00000000e+00, 3.05175781e-05]), 'sampling_rate': 16000}, 'label': 1}\n"
     ]
    },
    {
     "data": {
      "application/vnd.jupyter.widget-view+json": {
       "model_id": "08a117a027b7454bba3ac1795f1ccadf",
       "version_major": 2,
       "version_minor": 0
      },
      "text/plain": [
       "Flattening the indices:   0%|          | 0/1861 [00:00<?, ? examples/s]"
      ]
     },
     "metadata": {},
     "output_type": "display_data"
    },
    {
     "name": "stdout",
     "output_type": "stream",
     "text": [
      "Unique Values in Label/Class:  [0, 1, 2, 3, 4, 5]\n"
     ]
    }
   ],
   "source": [
    "print(\"Training Dataset\")\n",
    "print(\"Training Dataset Info: \", ds['train'])\n",
    "print(\"First Sample in Training Dataset\", ds['train'][0])\n",
    "print(\"Last Sample in Training Dataset\", ds['train'][-1])\n",
    "print(\"Unique Values in Label/Class: \", sorted(ds['train'].unique(\"label\")))\n",
    "\n",
    "print(\"\\n\\nEvaluation Dataset\")\n",
    "print(\"Evaluation Dataset Info: \", ds['eval'])\n",
    "print(\"First Sample in Evaluation Dataset\", ds['eval'][0])\n",
    "print(\"Last Sample in Evaluation Dataset\", ds['eval'][-1])\n",
    "print(\"Unique Values in Label/Class: \", sorted(ds['eval'].unique(\"label\")))"
   ]
  },
  {
   "cell_type": "markdown",
   "metadata": {
    "id": "ZWfY-YmK4a_0"
   },
   "source": [
    "#### Display Some Examples with Ability to Listen to Them"
   ]
  },
  {
   "cell_type": "code",
   "execution_count": 10,
   "metadata": {
    "colab": {
     "base_uri": "https://localhost:8080/",
     "height": 447
    },
    "id": "7mUs6zzv4a_0",
    "outputId": "0cca5db1-cdf1-4c77-cf43-e23e4f6a7e84"
   },
   "outputs": [
    {
     "name": "stdout",
     "output_type": "stream",
     "text": [
      "Label: SAD\n",
      "Shape: (47514,), sampling rate: 16000\n"
     ]
    },
    {
     "data": {
      "text/html": [
       "\n",
       "                <audio  controls=\"controls\" >\n",
       "                    <source src=\"data:audio/wav;base64,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\" type=\"audio/wav\" />\n",
       "                    Your browser does not support the audio element.\n",
       "                </audio>\n",
       "              "
      ],
      "text/plain": [
       "<IPython.lib.display.Audio object>"
      ]
     },
     "metadata": {},
     "output_type": "display_data"
    },
    {
     "name": "stdout",
     "output_type": "stream",
     "text": [
      "\n",
      "Label: DISGUST\n",
      "Shape: (50183,), sampling rate: 16000\n"
     ]
    },
    {
     "data": {
      "text/html": [
       "\n",
       "                <audio  controls=\"controls\" >\n",
       "                    <source src=\"data:audio/wav;base64,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\" type=\"audio/wav\" />\n",
       "                    Your browser does not support the audio element.\n",
       "                </audio>\n",
       "              "
      ],
      "text/plain": [
       "<IPython.lib.display.Audio object>"
      ]
     },
     "metadata": {},
     "output_type": "display_data"
    },
    {
     "name": "stdout",
     "output_type": "stream",
     "text": [
      "\n",
      "Label: ANGRY\n",
      "Shape: (43777,), sampling rate: 16000\n"
     ]
    },
    {
     "data": {
      "text/html": [
       "\n",
       "                <audio  controls=\"controls\" >\n",
       "                    <source src=\"data:audio/wav;base64,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\" type=\"audio/wav\" />\n",
       "                    Your browser does not support the audio element.\n",
       "                </audio>\n",
       "              "
      ],
      "text/plain": [
       "<IPython.lib.display.Audio object>"
      ]
     },
     "metadata": {},
     "output_type": "display_data"
    },
    {
     "name": "stdout",
     "output_type": "stream",
     "text": [
      "\n",
      "Label: FEAR\n",
      "Shape: (38972,), sampling rate: 16000\n"
     ]
    },
    {
     "data": {
      "text/html": [
       "\n",
       "                <audio  controls=\"controls\" >\n",
       "                    <source src=\"data:audio/wav;base64,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\" type=\"audio/wav\" />\n",
       "                    Your browser does not support the audio element.\n",
       "                </audio>\n",
       "              "
      ],
      "text/plain": [
       "<IPython.lib.display.Audio object>"
      ]
     },
     "metadata": {},
     "output_type": "display_data"
    },
    {
     "name": "stdout",
     "output_type": "stream",
     "text": [
      "\n",
      "Label: ANGRY\n",
      "Shape: (46446,), sampling rate: 16000\n"
     ]
    },
    {
     "data": {
      "text/html": [
       "\n",
       "                <audio  controls=\"controls\" >\n",
       "                    <source src=\"data:audio/wav;base64,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\" type=\"audio/wav\" />\n",
       "                    Your browser does not support the audio element.\n",
       "                </audio>\n",
       "              "
      ],
      "text/plain": [
       "<IPython.lib.display.Audio object>"
      ]
     },
     "metadata": {},
     "output_type": "display_data"
    },
    {
     "name": "stdout",
     "output_type": "stream",
     "text": [
      "\n"
     ]
    }
   ],
   "source": [
    "for _ in range(5):\n",
    "    from IPython.display import Audio, display\n",
    "    rand_idx = random.randint(0, len(ds[\"train\"])-1)\n",
    "    example = ds[\"train\"][rand_idx]\n",
    "    audio = example[\"audio\"]\n",
    "\n",
    "    print(f'Label: {id2label[str(example[\"label\"])]}')\n",
    "    print(f'Shape: {audio[\"array\"].shape}, sampling rate: {audio[\"sampling_rate\"]}')\n",
    "    display(Audio(audio[\"array\"], rate=audio[\"sampling_rate\"]))\n",
    "    print()"
   ]
  },
  {
   "cell_type": "markdown",
   "metadata": {
    "id": "UZsUoSvwM-AM"
   },
   "source": [
    "### Model\n"
   ]
  },
  {
   "cell_type": "markdown",
   "metadata": {
    "id": "mCXAXBmA4a_0"
   },
   "source": [
    "#### Basic Values/Constants"
   ]
  },
  {
   "cell_type": "code",
   "execution_count": 11,
   "metadata": {
    "id": "NFSJ5YWN4a_0"
   },
   "outputs": [],
   "source": [
    "MODEL_CKPT = \"facebook/wav2vec2-base\"\n",
    "MODEL_NAME = MODEL_CKPT.split(\"/\")[-1] + \"-Speech_Emotion_Recognition\"\n",
    "\n",
    "NUM_OF_EPOCHS = 10\n",
    "LEARNING_RATE = 3e-5\n",
    "\n",
    "BATCH_SIZE = 64 #32 GPU usage 7.2GB\n",
    "STRATEGY = \"epoch\""
   ]
  },
  {
   "cell_type": "markdown",
   "metadata": {
    "id": "PBNJ-muf4a_0"
   },
   "source": [
    "#### Set Sample Rate"
   ]
  },
  {
   "cell_type": "code",
   "execution_count": 12,
   "metadata": {
    "colab": {
     "base_uri": "https://localhost:8080/"
    },
    "id": "Cn7B2mjO4a_0",
    "outputId": "f9561d29-3fc9-48bc-b89a-b2cab268530d"
   },
   "outputs": [
    {
     "data": {
      "text/plain": [
       "16000"
      ]
     },
     "execution_count": 12,
     "metadata": {},
     "output_type": "execute_result"
    }
   ],
   "source": [
    "sampling_rate = ds[\"train\"].features[\"audio\"].sampling_rate\n",
    "sampling_rate"
   ]
  },
  {
   "cell_type": "markdown",
   "metadata": {
    "id": "8dPB_fw84a_0"
   },
   "source": [
    "#### Instantiate Instance of Feature Extractor"
   ]
  },
  {
   "cell_type": "code",
   "execution_count": 13,
   "metadata": {
    "colab": {
     "base_uri": "https://localhost:8080/",
     "height": 237,
     "referenced_widgets": [
      "a4ad86ea70ab4864a5aa76bd29a2a1fd",
      "76bfb6fa846f490bb4be32634152c7e8",
      "3de42c957103415a8b1ba4d35921032c",
      "ecfc470f904145a4926c4825af1808f9",
      "3bbd57a157dd4b59ad84ba5c6e43b9bf",
      "368230c5f76b4e7db377c81ddfa8d999",
      "63333e9c0ffd4228944486c2ca1ea51a",
      "7c69fd38de834a139792db8df3922466",
      "130b58341e374df78806a9e9e537e689",
      "8b9056cfaab149809d12c4a1e93d1947",
      "13f81062dfa041ca8d078725326c5434",
      "cdba1c2f975e4ba3a2731a267b509a33",
      "4b59ade7c5904061addb8b231b7ff3d5",
      "72a9dc27698d4cbdb69fce09d37786e8",
      "bd3728696ffb4e51b685fef984babde8",
      "7b44efad7368459b906cc6342c714814",
      "bdf4394578e343d4b4e8d3af5758f484",
      "e38e3f526d2743cba4252a348f6463ad",
      "e8390e6d06a4451989544953c94994f5",
      "d4a7473840494c018df35106ac94d582",
      "b7df73fe56cf44d5a38752533898780e",
      "3a17395fb4ca42ebaa126c8dd94c423b"
     ]
    },
    "id": "jO8OXKgi4a_0",
    "outputId": "dff3092c-fb74-4520-9660-b01b3fa2c9dd"
   },
   "outputs": [
    {
     "name": "stderr",
     "output_type": "stream",
     "text": [
      "/Users/bianca/anaconda3/envs/transformers/lib/python3.11/site-packages/transformers/configuration_utils.py:363: UserWarning: Passing `gradient_checkpointing` to a config initialization is deprecated and will be removed in v5 Transformers. Using `model.gradient_checkpointing_enable()` instead, or if you are using the `Trainer` API, pass `gradient_checkpointing=True` in your `TrainingArguments`.\n",
      "  warnings.warn(\n"
     ]
    }
   ],
   "source": [
    "feature_extractor = AutoFeatureExtractor.from_pretrained(MODEL_CKPT)"
   ]
  },
  {
   "cell_type": "markdown",
   "metadata": {
    "id": "o0Dsb67g4a_0"
   },
   "source": [
    "#### Define function to Preprocess Data"
   ]
  },
  {
   "cell_type": "code",
   "execution_count": 14,
   "metadata": {
    "colab": {
     "base_uri": "https://localhost:8080/",
     "height": 373,
     "referenced_widgets": [
      "b6ef066bd5c64a86afb70a3debff90ea",
      "91ba0b88c8c8472aa2b0ebe4d79193ad",
      "c8b4466b2bdf4d2e9aa1659c9e6b9f06",
      "81a26ba1596945f4aa5f8206b742b09d",
      "9ed5bc241fde44b183e719a64155ff46",
      "9a7059f889ec458181630fcaa8eef135",
      "3436af4a5a3f4b518756695aaae90c8d",
      "17813266dec9482dadbda4fabcc800cf",
      "f4d1fcdbbedc4f53939a383fe5ccf0b4",
      "97503727475b464092c4502915b2d5b3",
      "998f11f66f264898b12c038a9ff6b759",
      "6061e56d72514d249ceed303bb18e5f6",
      "f0e2ab6820a449938ecdd62a67f2c4f6",
      "9d4f367b67034025baf7a1d2fe00db77",
      "57a46504db3f4881be7b70e61cd93377",
      "7305c57ae84d4041a1793455f9815170",
      "ef598ca36d7d481ba65d41493aa5d4a5",
      "1c80041653a348afa47e1ef9070cd3e9",
      "f59779fbe41241669d175389a0310136",
      "e298441a37a84ead8d57cdb21b9bcef1",
      "22f5917b656a468a81610030a264b8a3",
      "c2bf2d14939046dc983968cdd9fff4ea"
     ]
    },
    "id": "SMQUceRS4a_0",
    "outputId": "1ef4e1bb-8640-491c-e7d4-9b4903c62428"
   },
   "outputs": [
    {
     "data": {
      "application/vnd.jupyter.widget-view+json": {
       "model_id": "92edfd17b0af41dca56e8277d06d7ea3",
       "version_major": 2,
       "version_minor": 0
      },
      "text/plain": [
       "Map (num_proc=4):   0%|          | 0/5581 [00:00<?, ? examples/s]"
      ]
     },
     "metadata": {},
     "output_type": "display_data"
    },
    {
     "data": {
      "application/vnd.jupyter.widget-view+json": {
       "model_id": "17df098675904d1081adde810c43f7f9",
       "version_major": 2,
       "version_minor": 0
      },
      "text/plain": [
       "Map (num_proc=4):   0%|          | 0/1861 [00:00<?, ? examples/s]"
      ]
     },
     "metadata": {},
     "output_type": "display_data"
    }
   ],
   "source": [
    "def preprocess_function(examples):\n",
    "    '''\n",
    "    This function prepares the dataset for the transformer\n",
    "    by applying the feature extractor to it (among other\n",
    "    processes).\n",
    "    '''\n",
    "    max_duration = 3.0 # seconds\n",
    "    audio_arrays = [x[\"array\"] for x in examples[\"audio\"]]\n",
    "    inputs = feature_extractor(audio_arrays,\n",
    "                               sampling_rate=feature_extractor.sampling_rate,\n",
    "                               max_length=int(feature_extractor.sampling_rate * max_duration),\n",
    "                               truncation=True)\n",
    "    return inputs\n",
    "\n",
    "encoded_audio = ds.map(preprocess_function, remove_columns=\"audio\",\n",
    "                       batch_size=100,batched=True,num_proc=4)"
   ]
  },
  {
   "cell_type": "markdown",
   "metadata": {
    "id": "aXmALQE84a_0"
   },
   "source": [
    "#### Define Metrics Evaluation Function"
   ]
  },
  {
   "cell_type": "code",
   "execution_count": 15,
   "metadata": {
    "id": "TNd53q3o4a_0"
   },
   "outputs": [],
   "source": [
    "def compute_metrics(p):\n",
    "    '''\n",
    "    This function calculates & returns the following metrics:\n",
    "    - accuracy\n",
    "    - f1 score\n",
    "    - recall\n",
    "    - precision\n",
    "    '''\n",
    "    import evaluate\n",
    "\n",
    "    accuracy_metric = evaluate.load(\"accuracy\")\n",
    "\n",
    "    accuracy = accuracy_metric.compute(predictions=np.argmax(p.predictions,\n",
    "                                                             axis=1),\n",
    "                                       references=p.label_ids)['accuracy']\n",
    "\n",
    "    ### ------------------- F1 scores -------------------\n",
    "\n",
    "    f1_score_metric = evaluate.load(\"f1\")\n",
    "\n",
    "    weighted_f1_score = f1_score_metric.compute(predictions=np.argmax(p.predictions,\n",
    "                                                                      axis=1),\n",
    "                                                references=p.label_ids,\n",
    "                                                average='weighted')[\"f1\"]\n",
    "\n",
    "    micro_f1_score = f1_score_metric.compute(predictions=np.argmax(p.predictions,\n",
    "                                                                   axis=1),\n",
    "                                             references=p.label_ids,\n",
    "                                             average='micro')['f1']\n",
    "\n",
    "    macro_f1_score = f1_score_metric.compute(predictions=np.argmax(p.predictions,\n",
    "                                                                   axis=1),\n",
    "                                             references=p.label_ids,\n",
    "                                             average='macro')[\"f1\"]\n",
    "\n",
    "    ### ------------------- recall -------------------\n",
    "\n",
    "    recall_metric = evaluate.load(\"recall\")\n",
    "\n",
    "    weighted_recall = recall_metric.compute(predictions=np.argmax(p.predictions,\n",
    "                                                                  axis=1),\n",
    "                                            references=p.label_ids,\n",
    "                                            average='weighted')[\"recall\"]\n",
    "\n",
    "    micro_recall = recall_metric.compute(predictions=np.argmax(p.predictions,\n",
    "                                                               axis=1),\n",
    "                                         references=p.label_ids,\n",
    "                                         average='micro')[\"recall\"]\n",
    "\n",
    "    macro_recall = recall_metric.compute(predictions=np.argmax(p.predictions,\n",
    "                                                               axis=1),\n",
    "                                         references=p.label_ids,\n",
    "                                         average='macro')[\"recall\"]\n",
    "\n",
    "    ### ------------------- precision -------------------\n",
    "\n",
    "    precision_metric = evaluate.load(\"precision\")\n",
    "\n",
    "    weighted_precision = precision_metric.compute(predictions=np.argmax(p.predictions,\n",
    "                                                                        axis=1),\n",
    "                                                  references=p.label_ids,\n",
    "                                                  average='weighted')[\"precision\"]\n",
    "\n",
    "    micro_precision = precision_metric.compute(predictions=np.argmax(p.predictions,\n",
    "                                                                     axis=1),\n",
    "                                               references=p.label_ids,\n",
    "                                               average='micro')[\"precision\"]\n",
    "\n",
    "    macro_precision = precision_metric.compute(predictions=np.argmax(p.predictions,\n",
    "                                                                     axis=1),\n",
    "                                               references=p.label_ids,\n",
    "                                               average='macro')[\"precision\"]\n",
    "\n",
    "    return {\"accuracy\" : accuracy,\n",
    "            \"Weighted F1\" : weighted_f1_score,\n",
    "            \"Micro F1\" : micro_f1_score,\n",
    "            \"Macro F1\" : macro_f1_score,\n",
    "            \"Weighted Recall\" : weighted_recall,\n",
    "            \"Micro Recall\" : micro_recall,\n",
    "            \"Macro Recall\" : macro_recall,\n",
    "            \"Weighted Precision\" : weighted_precision,\n",
    "            \"Micro Precision\" : micro_precision,\n",
    "            \"Macro Precision\" : macro_precision\n",
    "            }"
   ]
  },
  {
   "cell_type": "markdown",
   "metadata": {
    "id": "xeYTYwJJ4a_1"
   },
   "source": [
    "#### Instantiate Model"
   ]
  },
  {
   "cell_type": "code",
   "execution_count": 16,
   "metadata": {
    "colab": {
     "base_uri": "https://localhost:8080/",
     "height": 222,
     "referenced_widgets": [
      "0d26c3ec67904d87b04d3e00ab805d4e",
      "fb5afb6d9f384a5a9ceba113e10c2ed1",
      "15d3b8e2e752457f80791da617b28c39",
      "ebdb2f2581464df2a264efee3efb3fd5",
      "79a0f7ee5a554729b19e2d8feea21ace",
      "fd58ca9fceea48e3aa7ff5a5c4706f45",
      "f880048c3f78418a9eb3d526d2ec5d07",
      "c746424fa9be42408192b170f59344a7",
      "728108789ae54dc2acd562ddc8a9f396",
      "d144dd75f5bc42b1a99cb66b85984b02",
      "2a271dc50406472cb17768ec87a9f007"
     ]
    },
    "id": "iGbXOotE4a_1",
    "outputId": "3dbf6067-0b2e-4055-d97e-f8d8553cd38c"
   },
   "outputs": [
    {
     "name": "stderr",
     "output_type": "stream",
     "text": [
      "/Users/bianca/anaconda3/envs/transformers/lib/python3.11/site-packages/transformers/configuration_utils.py:363: UserWarning: Passing `gradient_checkpointing` to a config initialization is deprecated and will be removed in v5 Transformers. Using `model.gradient_checkpointing_enable()` instead, or if you are using the `Trainer` API, pass `gradient_checkpointing=True` in your `TrainingArguments`.\n",
      "  warnings.warn(\n",
      "Some weights of Wav2Vec2ForSequenceClassification were not initialized from the model checkpoint at facebook/wav2vec2-base and are newly initialized: ['classifier.bias', 'classifier.weight', 'projector.bias', 'projector.weight', 'wav2vec2.encoder.pos_conv_embed.conv.parametrizations.weight.original0', 'wav2vec2.encoder.pos_conv_embed.conv.parametrizations.weight.original1']\n",
      "You should probably TRAIN this model on a down-stream task to be able to use it for predictions and inference.\n"
     ]
    }
   ],
   "source": [
    "model = AutoModelForAudioClassification.from_pretrained(MODEL_CKPT,\n",
    "                                                        num_labels=NUM_OF_LABELS,\n",
    "                                                        label2id=label2id,\n",
    "                                                        id2label= id2label)"
   ]
  },
  {
   "cell_type": "markdown",
   "metadata": {
    "id": "jTAGcTzq4a_1"
   },
   "source": [
    "#### Define Training Arguments"
   ]
  },
  {
   "cell_type": "code",
   "execution_count": 17,
   "metadata": {
    "id": "LI_s1vGL4a_1"
   },
   "outputs": [
    {
     "name": "stderr",
     "output_type": "stream",
     "text": [
      "/Users/bianca/anaconda3/envs/transformers/lib/python3.11/site-packages/transformers/training_args.py:1983: UserWarning: `use_mps_device` is deprecated and will be removed in version 5.0 of 🤗 Transformers. `mps` device will be used by default if available similar to the way `cuda` device is used.Therefore, no action from user is required. \n",
      "  warnings.warn(\n"
     ]
    }
   ],
   "source": [
    "args = TrainingArguments(\n",
    "    output_dir=MODEL_NAME,\n",
    "    evaluation_strategy=STRATEGY,\n",
    "    num_train_epochs=NUM_OF_EPOCHS,\n",
    "    save_strategy=STRATEGY,\n",
    "    logging_strategy=\"steps\",\n",
    "    learning_rate=LEARNING_RATE,\n",
    "    per_device_train_batch_size=BATCH_SIZE,\n",
    "    per_device_eval_batch_size=BATCH_SIZE,\n",
    "    warmup_ratio=0.10,\n",
    "    gradient_accumulation_steps=4,\n",
    "    logging_first_step=True,\n",
    "    report_to=\"tensorboard\",\n",
    "    hub_private_repo=True,\n",
    "    # use_mps_device=True,\n",
    "    gradient_checkpointing=True\n",
    ")"
   ]
  },
  {
   "cell_type": "markdown",
   "metadata": {
    "id": "Tjavu1cl4a_1"
   },
   "source": [
    "#### Define Trainer"
   ]
  },
  {
   "cell_type": "code",
   "execution_count": 18,
   "metadata": {
    "colab": {
     "base_uri": "https://localhost:8080/",
     "height": 35
    },
    "id": "trye0frnfZr3",
    "outputId": "ade1bf11-4866-4ff1-b969-fa0a1ad2952c"
   },
   "outputs": [
    {
     "data": {
      "text/plain": [
       "'wav2vec2-base-Speech_Emotion_Recognition'"
      ]
     },
     "execution_count": 18,
     "metadata": {},
     "output_type": "execute_result"
    }
   ],
   "source": [
    "MODEL_NAME"
   ]
  },
  {
   "cell_type": "code",
   "execution_count": 19,
   "metadata": {
    "colab": {
     "base_uri": "https://localhost:8080/"
    },
    "id": "K-KjJsSu4a_1",
    "outputId": "181711c1-f857-4ea1-9d24-23d297415032"
   },
   "outputs": [
    {
     "name": "stderr",
     "output_type": "stream",
     "text": [
      "/Users/bianca/anaconda3/envs/transformers/lib/python3.11/site-packages/accelerate/accelerator.py:432: FutureWarning: Passing the following arguments to `Accelerator` is deprecated and will be removed in version 1.0 of Accelerate: dict_keys(['dispatch_batches', 'split_batches', 'even_batches', 'use_seedable_sampler']). Please pass an `accelerate.DataLoaderConfiguration` instead: \n",
      "dataloader_config = DataLoaderConfiguration(dispatch_batches=None, split_batches=False, even_batches=True, use_seedable_sampler=True)\n",
      "  warnings.warn(\n"
     ]
    }
   ],
   "source": [
    "trainer = Trainer(\n",
    "    model = model,\n",
    "    args = args,\n",
    "    train_dataset = encoded_audio[\"train\"],\n",
    "    eval_dataset = encoded_audio[\"eval\"],\n",
    "    tokenizer = feature_extractor,\n",
    "    compute_metrics = compute_metrics,\n",
    ")"
   ]
  },
  {
   "cell_type": "markdown",
   "metadata": {
    "id": "CvciuSvoP624"
   },
   "source": [
    "### Traning"
   ]
  },
  {
   "cell_type": "markdown",
   "metadata": {
    "id": "mgRsOvg_4a_1"
   },
   "source": [
    "#### Train Model"
   ]
  },
  {
   "cell_type": "code",
   "execution_count": null,
   "metadata": {
    "colab": {
     "base_uri": "https://localhost:8080/",
     "height": 1000,
     "referenced_widgets": [
      "8d586e2589ad46cc82ad4fa4e8e16a8f",
      "d9c0923778a54e1587e64982c471f6f7",
      "674f4e4fe94340cc8f2a1edc14e9b080",
      "d6c78a2d52c1428a8c45825e6090beb9",
      "e5acca8401d1484b8e39449b3cf89d64",
      "3caffb7b0d46454b8a3691cc0cc2ea92",
      "816f1361b8384472a1c593069df2bdcc",
      "518aeef9bf8d4c2ba4c61cb101c08bb6",
      "ac7e415b511a4ebb8990590e77102e4d",
      "ebec5600b8f041299137c90a540e61f8",
      "6b7fda4b96344694bb23d875d0c6097d",
      "996fe8f37a3c456bb4061bd387ff2f5f",
      "0d1fae3b2d3844a69383ca20504c069b",
      "32ec071d5e0e4342a8d7f8344819be70",
      "992c1153f1494f4cb9c4615b1ea7ed07",
      "9e44f6e7ab194ff7a8d57fd7f2a1c055",
      "e35c95910c774914add04d18dcc45f4b",
      "6ebeade749c24501bc25bd53eb24e3d3",
      "d0039c81cd454a9b872fe98a24d1c62d",
      "3002cf3e2df94c4b90cbee6eb959078c",
      "47ae9a5da26a4b3b9aa05f63ebb2d153",
      "b7fce89989244997a7a02c2e2e13f2d8",
      "04cc77e9c8204d27a63dd020bf6f8f69",
      "e223bd9187d14c08b5af821f8dc735a4",
      "857e4730e7f1488488d61f5fdaaae7bb",
      "422f9d12e4864651844ffc194267a3b3",
      "975b0cbe3e1342c3bd20e70d4c100729",
      "79042f29d56842b8a4941d4b3c8db3b9",
      "393a92207b5c4567a5c596c6cdcb5861",
      "fc3e25ee5d4541978fdb6535705cdc1e",
      "b26acc5d8a1f431db6d4e43bfa4b728a",
      "2526c8133f28416c8a92e5a4a4576534",
      "7fd37bd8851a49e5977a40994f3a48cd",
      "dc0d3392f6104084a7be9abf582e75dc",
      "44db4256e9fa431f97843344e1cc0dd1",
      "877dd9678ba14998818d9e6e341a9b48",
      "e2d50d64c2484d45ac27abd7c4ff6f91",
      "93157de5f43b4d6a8fa2050678c634dc",
      "30175dd9daab457e81b102f81aa8ad6f",
      "29742023c0a44909a044f6a2b8c1c34d",
      "476f3ff36fb84540981444562f790621",
      "7eb0f4bbe5eb4404870b45de9faab7a9",
      "e56cd33f7d3a423ba5786857ddf8765f",
      "06396210eb14414b88ab65c0d1a0bf04"
     ]
    },
    "id": "e0fxvSCa4a_1",
    "outputId": "9ca277b2-662a-4e59-ccea-78b70aa2f14c"
   },
   "outputs": [],
   "source": [
    "trainer.train()"
   ]
  },
  {
   "cell_type": "markdown",
   "metadata": {
    "id": "ySUArWcy4a_1"
   },
   "source": [
    "#### Evaluate Model"
   ]
  },
  {
   "cell_type": "code",
   "execution_count": 26,
   "metadata": {
    "colab": {
     "base_uri": "https://localhost:8080/",
     "height": 343
    },
    "id": "ozYSNygp4a_1",
    "outputId": "4e0c8442-3cd4-4b7f-9c15-42857b8d7d51"
   },
   "outputs": [
    {
     "name": "stderr",
     "output_type": "stream",
     "text": [
      "***** Running Evaluation *****\n",
      "  Num examples = 1861\n",
      "  Batch size = 32\n"
     ]
    },
    {
     "data": {
      "text/html": [
       "\n",
       "    <div>\n",
       "      \n",
       "      <progress value='118' max='59' style='width:300px; height:20px; vertical-align: middle;'></progress>\n",
       "      [59/59 08:38]\n",
       "    </div>\n",
       "    "
      ],
      "text/plain": [
       "<IPython.core.display.HTML object>"
      ]
     },
     "metadata": {},
     "output_type": "display_data"
    },
    {
     "data": {
      "text/plain": [
       "{'eval_loss': 0.8106924891471863,\n",
       " 'eval_accuracy': 0.7281031703385277,\n",
       " 'eval_Weighted F1': 0.7247543780750472,\n",
       " 'eval_Micro F1': 0.7281031703385277,\n",
       " 'eval_Macro F1': 0.7268519957485492,\n",
       " 'eval_Weighted Recall': 0.7281031703385277,\n",
       " 'eval_Micro Recall': 0.7281031703385277,\n",
       " 'eval_Macro Recall': 0.7310833557439055,\n",
       " 'eval_Weighted Precision': 0.7319188411210771,\n",
       " 'eval_Micro Precision': 0.7281031703385277,\n",
       " 'eval_Macro Precision': 0.732869407033253,\n",
       " 'eval_runtime': 83.3066,\n",
       " 'eval_samples_per_second': 22.339,\n",
       " 'eval_steps_per_second': 0.708,\n",
       " 'epoch': 9.98}"
      ]
     },
     "execution_count": 26,
     "metadata": {},
     "output_type": "execute_result"
    }
   ],
   "source": [
    "trainer.evaluate()"
   ]
  },
  {
   "cell_type": "markdown",
   "metadata": {
    "id": "z_7DU_Wh4a_1"
   },
   "source": [
    "#### Push Model to Hub (My Profile!!!)"
   ]
  },
  {
   "cell_type": "code",
   "execution_count": 34,
   "metadata": {
    "colab": {
     "base_uri": "https://localhost:8080/",
     "height": 168,
     "referenced_widgets": [
      "6823c45ae67941eb98385b190eca0b1e",
      "11163a77177543bca353dbaaadd1fd1c",
      "37ff595780244960bfcd84ba50d4dd20",
      "425d67e78e4e43008f315100063476de",
      "9a2f276ab0064f73a6e197fc3ab79096",
      "c73185c40f06414caa19fdcdb67b6427",
      "25eccebaadaa4f898fbd14de869bb0f6",
      "5bfe23c5c7df429b9356e8520d490bd3",
      "f64995ed735f421d88936626224a8a42",
      "3b1d3dbbe06c4ef58d2d40bdb3493828",
      "16e8057446014e759db90f2f2efc46f8"
     ]
    },
    "id": "99m-jENC4a_1",
    "outputId": "434ebdab-a8c3-41c8-c8cd-3e69106c27cb"
   },
   "outputs": [
    {
     "name": "stderr",
     "output_type": "stream",
     "text": [
      "Configuration saved in wav2vec2-base-Speech_Emotion_Recognition/config.json\n",
      "Model weights saved in wav2vec2-base-Speech_Emotion_Recognition/pytorch_model.bin\n",
      "Uploading the following files to BiancaZYCao/wav2vec2-base-Speech_Emotion_Recognition: pytorch_model.bin,config.json\n"
     ]
    },
    {
     "data": {
      "application/vnd.jupyter.widget-view+json": {
       "model_id": "6823c45ae67941eb98385b190eca0b1e",
       "version_major": 2,
       "version_minor": 0
      },
      "text/plain": [
       "pytorch_model.bin:   0%|          | 0.00/378M [00:00<?, ?B/s]"
      ]
     },
     "metadata": {},
     "output_type": "display_data"
    },
    {
     "data": {
      "application/vnd.google.colaboratory.intrinsic+json": {
       "type": "string"
      },
      "text/plain": [
       "CommitInfo(commit_url='https://huggingface.co/BiancaZYCao/wav2vec2-base-Speech_Emotion_Recognition/commit/1dda97df49119df844a25b16b2f23d309691be08', commit_message='Upload Wav2Vec2ForSequenceClassification', commit_description='', oid='1dda97df49119df844a25b16b2f23d309691be08', pr_url=None, pr_revision=None, pr_num=None)"
      ]
     },
     "execution_count": 34,
     "metadata": {},
     "output_type": "execute_result"
    }
   ],
   "source": [
    "trainer.model.push_to_hub('BiancaZYCao/wav2vec2-base-Speech_Emotion_Recognition')"
   ]
  },
  {
   "cell_type": "markdown",
   "metadata": {
    "id": "w7SoxH1hjWfz"
   },
   "source": []
  },
  {
   "cell_type": "code",
   "execution_count": 31,
   "metadata": {
    "colab": {
     "base_uri": "https://localhost:8080/"
    },
    "id": "1CHfrEOPgH9R",
    "outputId": "25820e2a-762f-4ff9-cae9-9fd2b3de4c53"
   },
   "outputs": [
    {
     "name": "stderr",
     "output_type": "stream",
     "text": [
      "Saving model checkpoint to /content/drive/MyDrive/models/\n",
      "Configuration saved in /content/drive/MyDrive/models/config.json\n",
      "Model weights saved in /content/drive/MyDrive/models/pytorch_model.bin\n",
      "Feature extractor saved in /content/drive/MyDrive/models/preprocessor_config.json\n",
      "Saving model checkpoint to wav2vec2-base-Speech_Emotion_Recognition\n",
      "Configuration saved in wav2vec2-base-Speech_Emotion_Recognition/config.json\n",
      "Model weights saved in wav2vec2-base-Speech_Emotion_Recognition/pytorch_model.bin\n",
      "Feature extractor saved in wav2vec2-base-Speech_Emotion_Recognition/preprocessor_config.json\n",
      "Dropping the following result as it does not have all the necessary fields:\n",
      "{'dataset': {'name': 'audiofolder', 'type': 'audiofolder', 'config': 'default', 'split': 'None', 'args': 'default'}, 'metrics': [{'name': 'Accuracy', 'type': 'accuracy', 'value': 0.7281031703385277}]}\n"
     ]
    }
   ],
   "source": [
    "trainer.save_model('/content/drive/MyDrive/models/')"
   ]
  },
  {
   "cell_type": "markdown",
   "metadata": {
    "id": "kp_-BY0n4a_1"
   },
   "source": [
    "### Notes & Other Takeaways From This Project\n",
    "****\n",
    "-\n",
    "- Results:\n",
    "    - Accuracy: 0.753895754970446\n",
    "    - Weighted F1: 0.7514267219693074\n",
    "    - Weighted Recall: 0.753895754970446\n",
    "    - Weighted Precision: 0.7564957587826933\n",
    "****"
   ]
  }
 ],
 "metadata": {
  "accelerator": "GPU",
  "colab": {
   "collapsed_sections": [
    "PBNJ-muf4a_0",
    "8dPB_fw84a_0"
   ],
   "provenance": [],
   "toc_visible": true
  },
  "gpuClass": "standard",
  "kernelspec": {
   "display_name": "Python 3 (ipykernel)",
   "language": "python",
   "name": "python3"
  },
  "language_info": {
   "codemirror_mode": {
    "name": "ipython",
    "version": 3
   },
   "file_extension": ".py",
   "mimetype": "text/x-python",
   "name": "python",
   "nbconvert_exporter": "python",
   "pygments_lexer": "ipython3",
   "version": "3.11.8"
  },
  "vscode": {
   "interpreter": {
    "hash": "41bc52750e0704433c7c40a5c68d8f60e760babe95f2dffc82e8c3790208ff57"
   }
  },
  "widgets": {
   "application/vnd.jupyter.widget-state+json": {
    "04cc77e9c8204d27a63dd020bf6f8f69": {
     "model_module": "@jupyter-widgets/controls",
     "model_module_version": "1.5.0",
     "model_name": "HBoxModel",
     "state": {
      "_dom_classes": [],
      "_model_module": "@jupyter-widgets/controls",
      "_model_module_version": "1.5.0",
      "_model_name": "HBoxModel",
      "_view_count": null,
      "_view_module": "@jupyter-widgets/controls",
      "_view_module_version": "1.5.0",
      "_view_name": "HBoxView",
      "box_style": "",
      "children": [
       "IPY_MODEL_e223bd9187d14c08b5af821f8dc735a4",
       "IPY_MODEL_857e4730e7f1488488d61f5fdaaae7bb",
       "IPY_MODEL_422f9d12e4864651844ffc194267a3b3"
      ],
      "layout": "IPY_MODEL_975b0cbe3e1342c3bd20e70d4c100729"
     }
    },
    "06396210eb14414b88ab65c0d1a0bf04": {
     "model_module": "@jupyter-widgets/controls",
     "model_module_version": "1.5.0",
     "model_name": "DescriptionStyleModel",
     "state": {
      "_model_module": "@jupyter-widgets/controls",
      "_model_module_version": "1.5.0",
      "_model_name": "DescriptionStyleModel",
      "_view_count": null,
      "_view_module": "@jupyter-widgets/base",
      "_view_module_version": "1.2.0",
      "_view_name": "StyleView",
      "description_width": ""
     }
    },
    "09bbb4f0621d4e0a94c053bdd60e59a4": {
     "model_module": "@jupyter-widgets/controls",
     "model_module_version": "1.5.0",
     "model_name": "HTMLModel",
     "state": {
      "_dom_classes": [],
      "_model_module": "@jupyter-widgets/controls",
      "_model_module_version": "1.5.0",
      "_model_name": "HTMLModel",
      "_view_count": null,
      "_view_module": "@jupyter-widgets/controls",
      "_view_module_version": "1.5.0",
      "_view_name": "HTMLView",
      "description": "",
      "description_tooltip": null,
      "layout": "IPY_MODEL_fbe7cf11b97841dea309fc06a9053fca",
      "placeholder": "​",
      "style": "IPY_MODEL_7bb1199e03644366b2d711849ec3071e",
      "value": "Flattening the indices: 100%"
     }
    },
    "0b17c13f1bf64dfd850ea1f98ac2a84f": {
     "model_module": "@jupyter-widgets/controls",
     "model_module_version": "1.5.0",
     "model_name": "DescriptionStyleModel",
     "state": {
      "_model_module": "@jupyter-widgets/controls",
      "_model_module_version": "1.5.0",
      "_model_name": "DescriptionStyleModel",
      "_view_count": null,
      "_view_module": "@jupyter-widgets/base",
      "_view_module_version": "1.2.0",
      "_view_name": "StyleView",
      "description_width": ""
     }
    },
    "0c3ba53eded3414aaa92760fc711550f": {
     "model_module": "@jupyter-widgets/base",
     "model_module_version": "1.2.0",
     "model_name": "LayoutModel",
     "state": {
      "_model_module": "@jupyter-widgets/base",
      "_model_module_version": "1.2.0",
      "_model_name": "LayoutModel",
      "_view_count": null,
      "_view_module": "@jupyter-widgets/base",
      "_view_module_version": "1.2.0",
      "_view_name": "LayoutView",
      "align_content": null,
      "align_items": null,
      "align_self": null,
      "border": null,
      "bottom": null,
      "display": null,
      "flex": null,
      "flex_flow": null,
      "grid_area": null,
      "grid_auto_columns": null,
      "grid_auto_flow": null,
      "grid_auto_rows": null,
      "grid_column": null,
      "grid_gap": null,
      "grid_row": null,
      "grid_template_areas": null,
      "grid_template_columns": null,
      "grid_template_rows": null,
      "height": null,
      "justify_content": null,
      "justify_items": null,
      "left": null,
      "margin": null,
      "max_height": null,
      "max_width": null,
      "min_height": null,
      "min_width": null,
      "object_fit": null,
      "object_position": null,
      "order": null,
      "overflow": null,
      "overflow_x": null,
      "overflow_y": null,
      "padding": null,
      "right": null,
      "top": null,
      "visibility": null,
      "width": null
     }
    },
    "0d1fae3b2d3844a69383ca20504c069b": {
     "model_module": "@jupyter-widgets/controls",
     "model_module_version": "1.5.0",
     "model_name": "HTMLModel",
     "state": {
      "_dom_classes": [],
      "_model_module": "@jupyter-widgets/controls",
      "_model_module_version": "1.5.0",
      "_model_name": "HTMLModel",
      "_view_count": null,
      "_view_module": "@jupyter-widgets/controls",
      "_view_module_version": "1.5.0",
      "_view_name": "HTMLView",
      "description": "",
      "description_tooltip": null,
      "layout": "IPY_MODEL_e35c95910c774914add04d18dcc45f4b",
      "placeholder": "​",
      "style": "IPY_MODEL_6ebeade749c24501bc25bd53eb24e3d3",
      "value": "Downloading builder script: 100%"
     }
    },
    "0d26c3ec67904d87b04d3e00ab805d4e": {
     "model_module": "@jupyter-widgets/controls",
     "model_module_version": "1.5.0",
     "model_name": "HBoxModel",
     "state": {
      "_dom_classes": [],
      "_model_module": "@jupyter-widgets/controls",
      "_model_module_version": "1.5.0",
      "_model_name": "HBoxModel",
      "_view_count": null,
      "_view_module": "@jupyter-widgets/controls",
      "_view_module_version": "1.5.0",
      "_view_name": "HBoxView",
      "box_style": "",
      "children": [
       "IPY_MODEL_fb5afb6d9f384a5a9ceba113e10c2ed1",
       "IPY_MODEL_15d3b8e2e752457f80791da617b28c39",
       "IPY_MODEL_ebdb2f2581464df2a264efee3efb3fd5"
      ],
      "layout": "IPY_MODEL_79a0f7ee5a554729b19e2d8feea21ace"
     }
    },
    "0f62860783b44320991c7010ff47f199": {
     "model_module": "@jupyter-widgets/base",
     "model_module_version": "1.2.0",
     "model_name": "LayoutModel",
     "state": {
      "_model_module": "@jupyter-widgets/base",
      "_model_module_version": "1.2.0",
      "_model_name": "LayoutModel",
      "_view_count": null,
      "_view_module": "@jupyter-widgets/base",
      "_view_module_version": "1.2.0",
      "_view_name": "LayoutView",
      "align_content": null,
      "align_items": null,
      "align_self": null,
      "border": null,
      "bottom": null,
      "display": null,
      "flex": null,
      "flex_flow": null,
      "grid_area": null,
      "grid_auto_columns": null,
      "grid_auto_flow": null,
      "grid_auto_rows": null,
      "grid_column": null,
      "grid_gap": null,
      "grid_row": null,
      "grid_template_areas": null,
      "grid_template_columns": null,
      "grid_template_rows": null,
      "height": null,
      "justify_content": null,
      "justify_items": null,
      "left": null,
      "margin": null,
      "max_height": null,
      "max_width": null,
      "min_height": null,
      "min_width": null,
      "object_fit": null,
      "object_position": null,
      "order": null,
      "overflow": null,
      "overflow_x": null,
      "overflow_y": null,
      "padding": null,
      "right": null,
      "top": null,
      "visibility": null,
      "width": null
     }
    },
    "11163a77177543bca353dbaaadd1fd1c": {
     "model_module": "@jupyter-widgets/controls",
     "model_module_version": "1.5.0",
     "model_name": "HTMLModel",
     "state": {
      "_dom_classes": [],
      "_model_module": "@jupyter-widgets/controls",
      "_model_module_version": "1.5.0",
      "_model_name": "HTMLModel",
      "_view_count": null,
      "_view_module": "@jupyter-widgets/controls",
      "_view_module_version": "1.5.0",
      "_view_name": "HTMLView",
      "description": "",
      "description_tooltip": null,
      "layout": "IPY_MODEL_c73185c40f06414caa19fdcdb67b6427",
      "placeholder": "​",
      "style": "IPY_MODEL_25eccebaadaa4f898fbd14de869bb0f6",
      "value": "pytorch_model.bin: 100%"
     }
    },
    "130b58341e374df78806a9e9e537e689": {
     "model_module": "@jupyter-widgets/controls",
     "model_module_version": "1.5.0",
     "model_name": "ProgressStyleModel",
     "state": {
      "_model_module": "@jupyter-widgets/controls",
      "_model_module_version": "1.5.0",
      "_model_name": "ProgressStyleModel",
      "_view_count": null,
      "_view_module": "@jupyter-widgets/base",
      "_view_module_version": "1.2.0",
      "_view_name": "StyleView",
      "bar_color": null,
      "description_width": ""
     }
    },
    "13f81062dfa041ca8d078725326c5434": {
     "model_module": "@jupyter-widgets/controls",
     "model_module_version": "1.5.0",
     "model_name": "DescriptionStyleModel",
     "state": {
      "_model_module": "@jupyter-widgets/controls",
      "_model_module_version": "1.5.0",
      "_model_name": "DescriptionStyleModel",
      "_view_count": null,
      "_view_module": "@jupyter-widgets/base",
      "_view_module_version": "1.2.0",
      "_view_name": "StyleView",
      "description_width": ""
     }
    },
    "15d3b8e2e752457f80791da617b28c39": {
     "model_module": "@jupyter-widgets/controls",
     "model_module_version": "1.5.0",
     "model_name": "FloatProgressModel",
     "state": {
      "_dom_classes": [],
      "_model_module": "@jupyter-widgets/controls",
      "_model_module_version": "1.5.0",
      "_model_name": "FloatProgressModel",
      "_view_count": null,
      "_view_module": "@jupyter-widgets/controls",
      "_view_module_version": "1.5.0",
      "_view_name": "ProgressView",
      "bar_style": "success",
      "description": "",
      "description_tooltip": null,
      "layout": "IPY_MODEL_c746424fa9be42408192b170f59344a7",
      "max": 380267417,
      "min": 0,
      "orientation": "horizontal",
      "style": "IPY_MODEL_728108789ae54dc2acd562ddc8a9f396",
      "value": 380267417
     }
    },
    "161934c65e4b4d0a91013c3199eb81e3": {
     "model_module": "@jupyter-widgets/base",
     "model_module_version": "1.2.0",
     "model_name": "LayoutModel",
     "state": {
      "_model_module": "@jupyter-widgets/base",
      "_model_module_version": "1.2.0",
      "_model_name": "LayoutModel",
      "_view_count": null,
      "_view_module": "@jupyter-widgets/base",
      "_view_module_version": "1.2.0",
      "_view_name": "LayoutView",
      "align_content": null,
      "align_items": null,
      "align_self": null,
      "border": null,
      "bottom": null,
      "display": null,
      "flex": null,
      "flex_flow": null,
      "grid_area": null,
      "grid_auto_columns": null,
      "grid_auto_flow": null,
      "grid_auto_rows": null,
      "grid_column": null,
      "grid_gap": null,
      "grid_row": null,
      "grid_template_areas": null,
      "grid_template_columns": null,
      "grid_template_rows": null,
      "height": null,
      "justify_content": null,
      "justify_items": null,
      "left": null,
      "margin": null,
      "max_height": null,
      "max_width": null,
      "min_height": null,
      "min_width": null,
      "object_fit": null,
      "object_position": null,
      "order": null,
      "overflow": null,
      "overflow_x": null,
      "overflow_y": null,
      "padding": null,
      "right": null,
      "top": null,
      "visibility": null,
      "width": null
     }
    },
    "16e8057446014e759db90f2f2efc46f8": {
     "model_module": "@jupyter-widgets/controls",
     "model_module_version": "1.5.0",
     "model_name": "DescriptionStyleModel",
     "state": {
      "_model_module": "@jupyter-widgets/controls",
      "_model_module_version": "1.5.0",
      "_model_name": "DescriptionStyleModel",
      "_view_count": null,
      "_view_module": "@jupyter-widgets/base",
      "_view_module_version": "1.2.0",
      "_view_name": "StyleView",
      "description_width": ""
     }
    },
    "17813266dec9482dadbda4fabcc800cf": {
     "model_module": "@jupyter-widgets/base",
     "model_module_version": "1.2.0",
     "model_name": "LayoutModel",
     "state": {
      "_model_module": "@jupyter-widgets/base",
      "_model_module_version": "1.2.0",
      "_model_name": "LayoutModel",
      "_view_count": null,
      "_view_module": "@jupyter-widgets/base",
      "_view_module_version": "1.2.0",
      "_view_name": "LayoutView",
      "align_content": null,
      "align_items": null,
      "align_self": null,
      "border": null,
      "bottom": null,
      "display": null,
      "flex": null,
      "flex_flow": null,
      "grid_area": null,
      "grid_auto_columns": null,
      "grid_auto_flow": null,
      "grid_auto_rows": null,
      "grid_column": null,
      "grid_gap": null,
      "grid_row": null,
      "grid_template_areas": null,
      "grid_template_columns": null,
      "grid_template_rows": null,
      "height": null,
      "justify_content": null,
      "justify_items": null,
      "left": null,
      "margin": null,
      "max_height": null,
      "max_width": null,
      "min_height": null,
      "min_width": null,
      "object_fit": null,
      "object_position": null,
      "order": null,
      "overflow": null,
      "overflow_x": null,
      "overflow_y": null,
      "padding": null,
      "right": null,
      "top": null,
      "visibility": null,
      "width": null
     }
    },
    "1c80041653a348afa47e1ef9070cd3e9": {
     "model_module": "@jupyter-widgets/controls",
     "model_module_version": "1.5.0",
     "model_name": "DescriptionStyleModel",
     "state": {
      "_model_module": "@jupyter-widgets/controls",
      "_model_module_version": "1.5.0",
      "_model_name": "DescriptionStyleModel",
      "_view_count": null,
      "_view_module": "@jupyter-widgets/base",
      "_view_module_version": "1.2.0",
      "_view_name": "StyleView",
      "description_width": ""
     }
    },
    "1e2e2604fc4f44dab763b917282afe8d": {
     "model_module": "@jupyter-widgets/controls",
     "model_module_version": "1.5.0",
     "model_name": "HTMLModel",
     "state": {
      "_dom_classes": [],
      "_model_module": "@jupyter-widgets/controls",
      "_model_module_version": "1.5.0",
      "_model_name": "HTMLModel",
      "_view_count": null,
      "_view_module": "@jupyter-widgets/controls",
      "_view_module_version": "1.5.0",
      "_view_name": "HTMLView",
      "description": "",
      "description_tooltip": null,
      "layout": "IPY_MODEL_f219c59680414104b85737e205b14853",
      "placeholder": "​",
      "style": "IPY_MODEL_93b6a40ef65c4fbea7d1f97d0b59a080",
      "value": "Resolving data files: 100%"
     }
    },
    "22f5917b656a468a81610030a264b8a3": {
     "model_module": "@jupyter-widgets/base",
     "model_module_version": "1.2.0",
     "model_name": "LayoutModel",
     "state": {
      "_model_module": "@jupyter-widgets/base",
      "_model_module_version": "1.2.0",
      "_model_name": "LayoutModel",
      "_view_count": null,
      "_view_module": "@jupyter-widgets/base",
      "_view_module_version": "1.2.0",
      "_view_name": "LayoutView",
      "align_content": null,
      "align_items": null,
      "align_self": null,
      "border": null,
      "bottom": null,
      "display": null,
      "flex": null,
      "flex_flow": null,
      "grid_area": null,
      "grid_auto_columns": null,
      "grid_auto_flow": null,
      "grid_auto_rows": null,
      "grid_column": null,
      "grid_gap": null,
      "grid_row": null,
      "grid_template_areas": null,
      "grid_template_columns": null,
      "grid_template_rows": null,
      "height": null,
      "justify_content": null,
      "justify_items": null,
      "left": null,
      "margin": null,
      "max_height": null,
      "max_width": null,
      "min_height": null,
      "min_width": null,
      "object_fit": null,
      "object_position": null,
      "order": null,
      "overflow": null,
      "overflow_x": null,
      "overflow_y": null,
      "padding": null,
      "right": null,
      "top": null,
      "visibility": null,
      "width": null
     }
    },
    "2526c8133f28416c8a92e5a4a4576534": {
     "model_module": "@jupyter-widgets/base",
     "model_module_version": "1.2.0",
     "model_name": "LayoutModel",
     "state": {
      "_model_module": "@jupyter-widgets/base",
      "_model_module_version": "1.2.0",
      "_model_name": "LayoutModel",
      "_view_count": null,
      "_view_module": "@jupyter-widgets/base",
      "_view_module_version": "1.2.0",
      "_view_name": "LayoutView",
      "align_content": null,
      "align_items": null,
      "align_self": null,
      "border": null,
      "bottom": null,
      "display": null,
      "flex": null,
      "flex_flow": null,
      "grid_area": null,
      "grid_auto_columns": null,
      "grid_auto_flow": null,
      "grid_auto_rows": null,
      "grid_column": null,
      "grid_gap": null,
      "grid_row": null,
      "grid_template_areas": null,
      "grid_template_columns": null,
      "grid_template_rows": null,
      "height": null,
      "justify_content": null,
      "justify_items": null,
      "left": null,
      "margin": null,
      "max_height": null,
      "max_width": null,
      "min_height": null,
      "min_width": null,
      "object_fit": null,
      "object_position": null,
      "order": null,
      "overflow": null,
      "overflow_x": null,
      "overflow_y": null,
      "padding": null,
      "right": null,
      "top": null,
      "visibility": null,
      "width": null
     }
    },
    "25eccebaadaa4f898fbd14de869bb0f6": {
     "model_module": "@jupyter-widgets/controls",
     "model_module_version": "1.5.0",
     "model_name": "DescriptionStyleModel",
     "state": {
      "_model_module": "@jupyter-widgets/controls",
      "_model_module_version": "1.5.0",
      "_model_name": "DescriptionStyleModel",
      "_view_count": null,
      "_view_module": "@jupyter-widgets/base",
      "_view_module_version": "1.2.0",
      "_view_name": "StyleView",
      "description_width": ""
     }
    },
    "29742023c0a44909a044f6a2b8c1c34d": {
     "model_module": "@jupyter-widgets/controls",
     "model_module_version": "1.5.0",
     "model_name": "DescriptionStyleModel",
     "state": {
      "_model_module": "@jupyter-widgets/controls",
      "_model_module_version": "1.5.0",
      "_model_name": "DescriptionStyleModel",
      "_view_count": null,
      "_view_module": "@jupyter-widgets/base",
      "_view_module_version": "1.2.0",
      "_view_name": "StyleView",
      "description_width": ""
     }
    },
    "2a271dc50406472cb17768ec87a9f007": {
     "model_module": "@jupyter-widgets/controls",
     "model_module_version": "1.5.0",
     "model_name": "DescriptionStyleModel",
     "state": {
      "_model_module": "@jupyter-widgets/controls",
      "_model_module_version": "1.5.0",
      "_model_name": "DescriptionStyleModel",
      "_view_count": null,
      "_view_module": "@jupyter-widgets/base",
      "_view_module_version": "1.2.0",
      "_view_name": "StyleView",
      "description_width": ""
     }
    },
    "3002cf3e2df94c4b90cbee6eb959078c": {
     "model_module": "@jupyter-widgets/controls",
     "model_module_version": "1.5.0",
     "model_name": "ProgressStyleModel",
     "state": {
      "_model_module": "@jupyter-widgets/controls",
      "_model_module_version": "1.5.0",
      "_model_name": "ProgressStyleModel",
      "_view_count": null,
      "_view_module": "@jupyter-widgets/base",
      "_view_module_version": "1.2.0",
      "_view_name": "StyleView",
      "bar_color": null,
      "description_width": ""
     }
    },
    "30175dd9daab457e81b102f81aa8ad6f": {
     "model_module": "@jupyter-widgets/base",
     "model_module_version": "1.2.0",
     "model_name": "LayoutModel",
     "state": {
      "_model_module": "@jupyter-widgets/base",
      "_model_module_version": "1.2.0",
      "_model_name": "LayoutModel",
      "_view_count": null,
      "_view_module": "@jupyter-widgets/base",
      "_view_module_version": "1.2.0",
      "_view_name": "LayoutView",
      "align_content": null,
      "align_items": null,
      "align_self": null,
      "border": null,
      "bottom": null,
      "display": null,
      "flex": null,
      "flex_flow": null,
      "grid_area": null,
      "grid_auto_columns": null,
      "grid_auto_flow": null,
      "grid_auto_rows": null,
      "grid_column": null,
      "grid_gap": null,
      "grid_row": null,
      "grid_template_areas": null,
      "grid_template_columns": null,
      "grid_template_rows": null,
      "height": null,
      "justify_content": null,
      "justify_items": null,
      "left": null,
      "margin": null,
      "max_height": null,
      "max_width": null,
      "min_height": null,
      "min_width": null,
      "object_fit": null,
      "object_position": null,
      "order": null,
      "overflow": null,
      "overflow_x": null,
      "overflow_y": null,
      "padding": null,
      "right": null,
      "top": null,
      "visibility": null,
      "width": null
     }
    },
    "32ec071d5e0e4342a8d7f8344819be70": {
     "model_module": "@jupyter-widgets/controls",
     "model_module_version": "1.5.0",
     "model_name": "FloatProgressModel",
     "state": {
      "_dom_classes": [],
      "_model_module": "@jupyter-widgets/controls",
      "_model_module_version": "1.5.0",
      "_model_name": "FloatProgressModel",
      "_view_count": null,
      "_view_module": "@jupyter-widgets/controls",
      "_view_module_version": "1.5.0",
      "_view_name": "ProgressView",
      "bar_style": "success",
      "description": "",
      "description_tooltip": null,
      "layout": "IPY_MODEL_d0039c81cd454a9b872fe98a24d1c62d",
      "max": 6771,
      "min": 0,
      "orientation": "horizontal",
      "style": "IPY_MODEL_3002cf3e2df94c4b90cbee6eb959078c",
      "value": 6771
     }
    },
    "3436af4a5a3f4b518756695aaae90c8d": {
     "model_module": "@jupyter-widgets/controls",
     "model_module_version": "1.5.0",
     "model_name": "DescriptionStyleModel",
     "state": {
      "_model_module": "@jupyter-widgets/controls",
      "_model_module_version": "1.5.0",
      "_model_name": "DescriptionStyleModel",
      "_view_count": null,
      "_view_module": "@jupyter-widgets/base",
      "_view_module_version": "1.2.0",
      "_view_name": "StyleView",
      "description_width": ""
     }
    },
    "368230c5f76b4e7db377c81ddfa8d999": {
     "model_module": "@jupyter-widgets/base",
     "model_module_version": "1.2.0",
     "model_name": "LayoutModel",
     "state": {
      "_model_module": "@jupyter-widgets/base",
      "_model_module_version": "1.2.0",
      "_model_name": "LayoutModel",
      "_view_count": null,
      "_view_module": "@jupyter-widgets/base",
      "_view_module_version": "1.2.0",
      "_view_name": "LayoutView",
      "align_content": null,
      "align_items": null,
      "align_self": null,
      "border": null,
      "bottom": null,
      "display": null,
      "flex": null,
      "flex_flow": null,
      "grid_area": null,
      "grid_auto_columns": null,
      "grid_auto_flow": null,
      "grid_auto_rows": null,
      "grid_column": null,
      "grid_gap": null,
      "grid_row": null,
      "grid_template_areas": null,
      "grid_template_columns": null,
      "grid_template_rows": null,
      "height": null,
      "justify_content": null,
      "justify_items": null,
      "left": null,
      "margin": null,
      "max_height": null,
      "max_width": null,
      "min_height": null,
      "min_width": null,
      "object_fit": null,
      "object_position": null,
      "order": null,
      "overflow": null,
      "overflow_x": null,
      "overflow_y": null,
      "padding": null,
      "right": null,
      "top": null,
      "visibility": null,
      "width": null
     }
    },
    "37ff595780244960bfcd84ba50d4dd20": {
     "model_module": "@jupyter-widgets/controls",
     "model_module_version": "1.5.0",
     "model_name": "FloatProgressModel",
     "state": {
      "_dom_classes": [],
      "_model_module": "@jupyter-widgets/controls",
      "_model_module_version": "1.5.0",
      "_model_name": "FloatProgressModel",
      "_view_count": null,
      "_view_module": "@jupyter-widgets/controls",
      "_view_module_version": "1.5.0",
      "_view_name": "ProgressView",
      "bar_style": "success",
      "description": "",
      "description_tooltip": null,
      "layout": "IPY_MODEL_5bfe23c5c7df429b9356e8520d490bd3",
      "max": 378354982,
      "min": 0,
      "orientation": "horizontal",
      "style": "IPY_MODEL_f64995ed735f421d88936626224a8a42",
      "value": 378354982
     }
    },
    "393a92207b5c4567a5c596c6cdcb5861": {
     "model_module": "@jupyter-widgets/controls",
     "model_module_version": "1.5.0",
     "model_name": "DescriptionStyleModel",
     "state": {
      "_model_module": "@jupyter-widgets/controls",
      "_model_module_version": "1.5.0",
      "_model_name": "DescriptionStyleModel",
      "_view_count": null,
      "_view_module": "@jupyter-widgets/base",
      "_view_module_version": "1.2.0",
      "_view_name": "StyleView",
      "description_width": ""
     }
    },
    "3a17395fb4ca42ebaa126c8dd94c423b": {
     "model_module": "@jupyter-widgets/controls",
     "model_module_version": "1.5.0",
     "model_name": "DescriptionStyleModel",
     "state": {
      "_model_module": "@jupyter-widgets/controls",
      "_model_module_version": "1.5.0",
      "_model_name": "DescriptionStyleModel",
      "_view_count": null,
      "_view_module": "@jupyter-widgets/base",
      "_view_module_version": "1.2.0",
      "_view_name": "StyleView",
      "description_width": ""
     }
    },
    "3b1d3dbbe06c4ef58d2d40bdb3493828": {
     "model_module": "@jupyter-widgets/base",
     "model_module_version": "1.2.0",
     "model_name": "LayoutModel",
     "state": {
      "_model_module": "@jupyter-widgets/base",
      "_model_module_version": "1.2.0",
      "_model_name": "LayoutModel",
      "_view_count": null,
      "_view_module": "@jupyter-widgets/base",
      "_view_module_version": "1.2.0",
      "_view_name": "LayoutView",
      "align_content": null,
      "align_items": null,
      "align_self": null,
      "border": null,
      "bottom": null,
      "display": null,
      "flex": null,
      "flex_flow": null,
      "grid_area": null,
      "grid_auto_columns": null,
      "grid_auto_flow": null,
      "grid_auto_rows": null,
      "grid_column": null,
      "grid_gap": null,
      "grid_row": null,
      "grid_template_areas": null,
      "grid_template_columns": null,
      "grid_template_rows": null,
      "height": null,
      "justify_content": null,
      "justify_items": null,
      "left": null,
      "margin": null,
      "max_height": null,
      "max_width": null,
      "min_height": null,
      "min_width": null,
      "object_fit": null,
      "object_position": null,
      "order": null,
      "overflow": null,
      "overflow_x": null,
      "overflow_y": null,
      "padding": null,
      "right": null,
      "top": null,
      "visibility": null,
      "width": null
     }
    },
    "3bbd57a157dd4b59ad84ba5c6e43b9bf": {
     "model_module": "@jupyter-widgets/base",
     "model_module_version": "1.2.0",
     "model_name": "LayoutModel",
     "state": {
      "_model_module": "@jupyter-widgets/base",
      "_model_module_version": "1.2.0",
      "_model_name": "LayoutModel",
      "_view_count": null,
      "_view_module": "@jupyter-widgets/base",
      "_view_module_version": "1.2.0",
      "_view_name": "LayoutView",
      "align_content": null,
      "align_items": null,
      "align_self": null,
      "border": null,
      "bottom": null,
      "display": null,
      "flex": null,
      "flex_flow": null,
      "grid_area": null,
      "grid_auto_columns": null,
      "grid_auto_flow": null,
      "grid_auto_rows": null,
      "grid_column": null,
      "grid_gap": null,
      "grid_row": null,
      "grid_template_areas": null,
      "grid_template_columns": null,
      "grid_template_rows": null,
      "height": null,
      "justify_content": null,
      "justify_items": null,
      "left": null,
      "margin": null,
      "max_height": null,
      "max_width": null,
      "min_height": null,
      "min_width": null,
      "object_fit": null,
      "object_position": null,
      "order": null,
      "overflow": null,
      "overflow_x": null,
      "overflow_y": null,
      "padding": null,
      "right": null,
      "top": null,
      "visibility": null,
      "width": null
     }
    },
    "3caffb7b0d46454b8a3691cc0cc2ea92": {
     "model_module": "@jupyter-widgets/base",
     "model_module_version": "1.2.0",
     "model_name": "LayoutModel",
     "state": {
      "_model_module": "@jupyter-widgets/base",
      "_model_module_version": "1.2.0",
      "_model_name": "LayoutModel",
      "_view_count": null,
      "_view_module": "@jupyter-widgets/base",
      "_view_module_version": "1.2.0",
      "_view_name": "LayoutView",
      "align_content": null,
      "align_items": null,
      "align_self": null,
      "border": null,
      "bottom": null,
      "display": null,
      "flex": null,
      "flex_flow": null,
      "grid_area": null,
      "grid_auto_columns": null,
      "grid_auto_flow": null,
      "grid_auto_rows": null,
      "grid_column": null,
      "grid_gap": null,
      "grid_row": null,
      "grid_template_areas": null,
      "grid_template_columns": null,
      "grid_template_rows": null,
      "height": null,
      "justify_content": null,
      "justify_items": null,
      "left": null,
      "margin": null,
      "max_height": null,
      "max_width": null,
      "min_height": null,
      "min_width": null,
      "object_fit": null,
      "object_position": null,
      "order": null,
      "overflow": null,
      "overflow_x": null,
      "overflow_y": null,
      "padding": null,
      "right": null,
      "top": null,
      "visibility": null,
      "width": null
     }
    },
    "3de42c957103415a8b1ba4d35921032c": {
     "model_module": "@jupyter-widgets/controls",
     "model_module_version": "1.5.0",
     "model_name": "FloatProgressModel",
     "state": {
      "_dom_classes": [],
      "_model_module": "@jupyter-widgets/controls",
      "_model_module_version": "1.5.0",
      "_model_name": "FloatProgressModel",
      "_view_count": null,
      "_view_module": "@jupyter-widgets/controls",
      "_view_module_version": "1.5.0",
      "_view_name": "ProgressView",
      "bar_style": "success",
      "description": "",
      "description_tooltip": null,
      "layout": "IPY_MODEL_7c69fd38de834a139792db8df3922466",
      "max": 159,
      "min": 0,
      "orientation": "horizontal",
      "style": "IPY_MODEL_130b58341e374df78806a9e9e537e689",
      "value": 159
     }
    },
    "422f9d12e4864651844ffc194267a3b3": {
     "model_module": "@jupyter-widgets/controls",
     "model_module_version": "1.5.0",
     "model_name": "HTMLModel",
     "state": {
      "_dom_classes": [],
      "_model_module": "@jupyter-widgets/controls",
      "_model_module_version": "1.5.0",
      "_model_name": "HTMLModel",
      "_view_count": null,
      "_view_module": "@jupyter-widgets/controls",
      "_view_module_version": "1.5.0",
      "_view_name": "HTMLView",
      "description": "",
      "description_tooltip": null,
      "layout": "IPY_MODEL_2526c8133f28416c8a92e5a4a4576534",
      "placeholder": "​",
      "style": "IPY_MODEL_7fd37bd8851a49e5977a40994f3a48cd",
      "value": " 7.36k/7.36k [00:00&lt;00:00, 464kB/s]"
     }
    },
    "425d67e78e4e43008f315100063476de": {
     "model_module": "@jupyter-widgets/controls",
     "model_module_version": "1.5.0",
     "model_name": "HTMLModel",
     "state": {
      "_dom_classes": [],
      "_model_module": "@jupyter-widgets/controls",
      "_model_module_version": "1.5.0",
      "_model_name": "HTMLModel",
      "_view_count": null,
      "_view_module": "@jupyter-widgets/controls",
      "_view_module_version": "1.5.0",
      "_view_name": "HTMLView",
      "description": "",
      "description_tooltip": null,
      "layout": "IPY_MODEL_3b1d3dbbe06c4ef58d2d40bdb3493828",
      "placeholder": "​",
      "style": "IPY_MODEL_16e8057446014e759db90f2f2efc46f8",
      "value": " 378M/378M [00:08&lt;00:00, 40.4MB/s]"
     }
    },
    "44db4256e9fa431f97843344e1cc0dd1": {
     "model_module": "@jupyter-widgets/controls",
     "model_module_version": "1.5.0",
     "model_name": "HTMLModel",
     "state": {
      "_dom_classes": [],
      "_model_module": "@jupyter-widgets/controls",
      "_model_module_version": "1.5.0",
      "_model_name": "HTMLModel",
      "_view_count": null,
      "_view_module": "@jupyter-widgets/controls",
      "_view_module_version": "1.5.0",
      "_view_name": "HTMLView",
      "description": "",
      "description_tooltip": null,
      "layout": "IPY_MODEL_30175dd9daab457e81b102f81aa8ad6f",
      "placeholder": "​",
      "style": "IPY_MODEL_29742023c0a44909a044f6a2b8c1c34d",
      "value": "Downloading builder script: 100%"
     }
    },
    "44f7c65fe39c4fbe9979182e292ec124": {
     "model_module": "@jupyter-widgets/base",
     "model_module_version": "1.2.0",
     "model_name": "LayoutModel",
     "state": {
      "_model_module": "@jupyter-widgets/base",
      "_model_module_version": "1.2.0",
      "_model_name": "LayoutModel",
      "_view_count": null,
      "_view_module": "@jupyter-widgets/base",
      "_view_module_version": "1.2.0",
      "_view_name": "LayoutView",
      "align_content": null,
      "align_items": null,
      "align_self": null,
      "border": null,
      "bottom": null,
      "display": null,
      "flex": null,
      "flex_flow": null,
      "grid_area": null,
      "grid_auto_columns": null,
      "grid_auto_flow": null,
      "grid_auto_rows": null,
      "grid_column": null,
      "grid_gap": null,
      "grid_row": null,
      "grid_template_areas": null,
      "grid_template_columns": null,
      "grid_template_rows": null,
      "height": null,
      "justify_content": null,
      "justify_items": null,
      "left": null,
      "margin": null,
      "max_height": null,
      "max_width": null,
      "min_height": null,
      "min_width": null,
      "object_fit": null,
      "object_position": null,
      "order": null,
      "overflow": null,
      "overflow_x": null,
      "overflow_y": null,
      "padding": null,
      "right": null,
      "top": null,
      "visibility": null,
      "width": null
     }
    },
    "476f3ff36fb84540981444562f790621": {
     "model_module": "@jupyter-widgets/base",
     "model_module_version": "1.2.0",
     "model_name": "LayoutModel",
     "state": {
      "_model_module": "@jupyter-widgets/base",
      "_model_module_version": "1.2.0",
      "_model_name": "LayoutModel",
      "_view_count": null,
      "_view_module": "@jupyter-widgets/base",
      "_view_module_version": "1.2.0",
      "_view_name": "LayoutView",
      "align_content": null,
      "align_items": null,
      "align_self": null,
      "border": null,
      "bottom": null,
      "display": null,
      "flex": null,
      "flex_flow": null,
      "grid_area": null,
      "grid_auto_columns": null,
      "grid_auto_flow": null,
      "grid_auto_rows": null,
      "grid_column": null,
      "grid_gap": null,
      "grid_row": null,
      "grid_template_areas": null,
      "grid_template_columns": null,
      "grid_template_rows": null,
      "height": null,
      "justify_content": null,
      "justify_items": null,
      "left": null,
      "margin": null,
      "max_height": null,
      "max_width": null,
      "min_height": null,
      "min_width": null,
      "object_fit": null,
      "object_position": null,
      "order": null,
      "overflow": null,
      "overflow_x": null,
      "overflow_y": null,
      "padding": null,
      "right": null,
      "top": null,
      "visibility": null,
      "width": null
     }
    },
    "47ae9a5da26a4b3b9aa05f63ebb2d153": {
     "model_module": "@jupyter-widgets/base",
     "model_module_version": "1.2.0",
     "model_name": "LayoutModel",
     "state": {
      "_model_module": "@jupyter-widgets/base",
      "_model_module_version": "1.2.0",
      "_model_name": "LayoutModel",
      "_view_count": null,
      "_view_module": "@jupyter-widgets/base",
      "_view_module_version": "1.2.0",
      "_view_name": "LayoutView",
      "align_content": null,
      "align_items": null,
      "align_self": null,
      "border": null,
      "bottom": null,
      "display": null,
      "flex": null,
      "flex_flow": null,
      "grid_area": null,
      "grid_auto_columns": null,
      "grid_auto_flow": null,
      "grid_auto_rows": null,
      "grid_column": null,
      "grid_gap": null,
      "grid_row": null,
      "grid_template_areas": null,
      "grid_template_columns": null,
      "grid_template_rows": null,
      "height": null,
      "justify_content": null,
      "justify_items": null,
      "left": null,
      "margin": null,
      "max_height": null,
      "max_width": null,
      "min_height": null,
      "min_width": null,
      "object_fit": null,
      "object_position": null,
      "order": null,
      "overflow": null,
      "overflow_x": null,
      "overflow_y": null,
      "padding": null,
      "right": null,
      "top": null,
      "visibility": null,
      "width": null
     }
    },
    "493e573124f5405aad84fc92bb30679c": {
     "model_module": "@jupyter-widgets/controls",
     "model_module_version": "1.5.0",
     "model_name": "ProgressStyleModel",
     "state": {
      "_model_module": "@jupyter-widgets/controls",
      "_model_module_version": "1.5.0",
      "_model_name": "ProgressStyleModel",
      "_view_count": null,
      "_view_module": "@jupyter-widgets/base",
      "_view_module_version": "1.2.0",
      "_view_name": "StyleView",
      "bar_color": null,
      "description_width": ""
     }
    },
    "4b59ade7c5904061addb8b231b7ff3d5": {
     "model_module": "@jupyter-widgets/controls",
     "model_module_version": "1.5.0",
     "model_name": "HTMLModel",
     "state": {
      "_dom_classes": [],
      "_model_module": "@jupyter-widgets/controls",
      "_model_module_version": "1.5.0",
      "_model_name": "HTMLModel",
      "_view_count": null,
      "_view_module": "@jupyter-widgets/controls",
      "_view_module_version": "1.5.0",
      "_view_name": "HTMLView",
      "description": "",
      "description_tooltip": null,
      "layout": "IPY_MODEL_bdf4394578e343d4b4e8d3af5758f484",
      "placeholder": "​",
      "style": "IPY_MODEL_e38e3f526d2743cba4252a348f6463ad",
      "value": "config.json: 100%"
     }
    },
    "518aeef9bf8d4c2ba4c61cb101c08bb6": {
     "model_module": "@jupyter-widgets/base",
     "model_module_version": "1.2.0",
     "model_name": "LayoutModel",
     "state": {
      "_model_module": "@jupyter-widgets/base",
      "_model_module_version": "1.2.0",
      "_model_name": "LayoutModel",
      "_view_count": null,
      "_view_module": "@jupyter-widgets/base",
      "_view_module_version": "1.2.0",
      "_view_name": "LayoutView",
      "align_content": null,
      "align_items": null,
      "align_self": null,
      "border": null,
      "bottom": null,
      "display": null,
      "flex": null,
      "flex_flow": null,
      "grid_area": null,
      "grid_auto_columns": null,
      "grid_auto_flow": null,
      "grid_auto_rows": null,
      "grid_column": null,
      "grid_gap": null,
      "grid_row": null,
      "grid_template_areas": null,
      "grid_template_columns": null,
      "grid_template_rows": null,
      "height": null,
      "justify_content": null,
      "justify_items": null,
      "left": null,
      "margin": null,
      "max_height": null,
      "max_width": null,
      "min_height": null,
      "min_width": null,
      "object_fit": null,
      "object_position": null,
      "order": null,
      "overflow": null,
      "overflow_x": null,
      "overflow_y": null,
      "padding": null,
      "right": null,
      "top": null,
      "visibility": null,
      "width": null
     }
    },
    "5343c893b1c449d08849a36c8cae162d": {
     "model_module": "@jupyter-widgets/controls",
     "model_module_version": "1.5.0",
     "model_name": "FloatProgressModel",
     "state": {
      "_dom_classes": [],
      "_model_module": "@jupyter-widgets/controls",
      "_model_module_version": "1.5.0",
      "_model_name": "FloatProgressModel",
      "_view_count": null,
      "_view_module": "@jupyter-widgets/controls",
      "_view_module_version": "1.5.0",
      "_view_name": "ProgressView",
      "bar_style": "success",
      "description": "",
      "description_tooltip": null,
      "layout": "IPY_MODEL_6b2626f588df43f7b2f703a684889214",
      "max": 1,
      "min": 0,
      "orientation": "horizontal",
      "style": "IPY_MODEL_493e573124f5405aad84fc92bb30679c",
      "value": 1
     }
    },
    "54a31ce74afb4d81b2d5bfb59a81eba0": {
     "model_module": "@jupyter-widgets/controls",
     "model_module_version": "1.5.0",
     "model_name": "DescriptionStyleModel",
     "state": {
      "_model_module": "@jupyter-widgets/controls",
      "_model_module_version": "1.5.0",
      "_model_name": "DescriptionStyleModel",
      "_view_count": null,
      "_view_module": "@jupyter-widgets/base",
      "_view_module_version": "1.2.0",
      "_view_name": "StyleView",
      "description_width": ""
     }
    },
    "5762548bd181424e92db05c7fe18786f": {
     "model_module": "@jupyter-widgets/controls",
     "model_module_version": "1.5.0",
     "model_name": "HBoxModel",
     "state": {
      "_dom_classes": [],
      "_model_module": "@jupyter-widgets/controls",
      "_model_module_version": "1.5.0",
      "_model_name": "HBoxModel",
      "_view_count": null,
      "_view_module": "@jupyter-widgets/controls",
      "_view_module_version": "1.5.0",
      "_view_name": "HBoxView",
      "box_style": "",
      "children": [
       "IPY_MODEL_644877b67a3e492690f720bacf62af5f",
       "IPY_MODEL_5343c893b1c449d08849a36c8cae162d",
       "IPY_MODEL_df82694d5e9a4a55bd92af4246a20455"
      ],
      "layout": "IPY_MODEL_593b86ba5c294aee8b087a25b7b58477"
     }
    },
    "57a46504db3f4881be7b70e61cd93377": {
     "model_module": "@jupyter-widgets/controls",
     "model_module_version": "1.5.0",
     "model_name": "HTMLModel",
     "state": {
      "_dom_classes": [],
      "_model_module": "@jupyter-widgets/controls",
      "_model_module_version": "1.5.0",
      "_model_name": "HTMLModel",
      "_view_count": null,
      "_view_module": "@jupyter-widgets/controls",
      "_view_module_version": "1.5.0",
      "_view_name": "HTMLView",
      "description": "",
      "description_tooltip": null,
      "layout": "IPY_MODEL_22f5917b656a468a81610030a264b8a3",
      "placeholder": "​",
      "style": "IPY_MODEL_c2bf2d14939046dc983968cdd9fff4ea",
      "value": " 1861/1861 [03:46&lt;00:00,  9.44 examples/s]"
     }
    },
    "593b86ba5c294aee8b087a25b7b58477": {
     "model_module": "@jupyter-widgets/base",
     "model_module_version": "1.2.0",
     "model_name": "LayoutModel",
     "state": {
      "_model_module": "@jupyter-widgets/base",
      "_model_module_version": "1.2.0",
      "_model_name": "LayoutModel",
      "_view_count": null,
      "_view_module": "@jupyter-widgets/base",
      "_view_module_version": "1.2.0",
      "_view_name": "LayoutView",
      "align_content": null,
      "align_items": null,
      "align_self": null,
      "border": null,
      "bottom": null,
      "display": null,
      "flex": null,
      "flex_flow": null,
      "grid_area": null,
      "grid_auto_columns": null,
      "grid_auto_flow": null,
      "grid_auto_rows": null,
      "grid_column": null,
      "grid_gap": null,
      "grid_row": null,
      "grid_template_areas": null,
      "grid_template_columns": null,
      "grid_template_rows": null,
      "height": null,
      "justify_content": null,
      "justify_items": null,
      "left": null,
      "margin": null,
      "max_height": null,
      "max_width": null,
      "min_height": null,
      "min_width": null,
      "object_fit": null,
      "object_position": null,
      "order": null,
      "overflow": null,
      "overflow_x": null,
      "overflow_y": null,
      "padding": null,
      "right": null,
      "top": null,
      "visibility": null,
      "width": null
     }
    },
    "5bfe23c5c7df429b9356e8520d490bd3": {
     "model_module": "@jupyter-widgets/base",
     "model_module_version": "1.2.0",
     "model_name": "LayoutModel",
     "state": {
      "_model_module": "@jupyter-widgets/base",
      "_model_module_version": "1.2.0",
      "_model_name": "LayoutModel",
      "_view_count": null,
      "_view_module": "@jupyter-widgets/base",
      "_view_module_version": "1.2.0",
      "_view_name": "LayoutView",
      "align_content": null,
      "align_items": null,
      "align_self": null,
      "border": null,
      "bottom": null,
      "display": null,
      "flex": null,
      "flex_flow": null,
      "grid_area": null,
      "grid_auto_columns": null,
      "grid_auto_flow": null,
      "grid_auto_rows": null,
      "grid_column": null,
      "grid_gap": null,
      "grid_row": null,
      "grid_template_areas": null,
      "grid_template_columns": null,
      "grid_template_rows": null,
      "height": null,
      "justify_content": null,
      "justify_items": null,
      "left": null,
      "margin": null,
      "max_height": null,
      "max_width": null,
      "min_height": null,
      "min_width": null,
      "object_fit": null,
      "object_position": null,
      "order": null,
      "overflow": null,
      "overflow_x": null,
      "overflow_y": null,
      "padding": null,
      "right": null,
      "top": null,
      "visibility": null,
      "width": null
     }
    },
    "6061e56d72514d249ceed303bb18e5f6": {
     "model_module": "@jupyter-widgets/controls",
     "model_module_version": "1.5.0",
     "model_name": "HBoxModel",
     "state": {
      "_dom_classes": [],
      "_model_module": "@jupyter-widgets/controls",
      "_model_module_version": "1.5.0",
      "_model_name": "HBoxModel",
      "_view_count": null,
      "_view_module": "@jupyter-widgets/controls",
      "_view_module_version": "1.5.0",
      "_view_name": "HBoxView",
      "box_style": "",
      "children": [
       "IPY_MODEL_f0e2ab6820a449938ecdd62a67f2c4f6",
       "IPY_MODEL_9d4f367b67034025baf7a1d2fe00db77",
       "IPY_MODEL_57a46504db3f4881be7b70e61cd93377"
      ],
      "layout": "IPY_MODEL_7305c57ae84d4041a1793455f9815170"
     }
    },
    "63333e9c0ffd4228944486c2ca1ea51a": {
     "model_module": "@jupyter-widgets/controls",
     "model_module_version": "1.5.0",
     "model_name": "DescriptionStyleModel",
     "state": {
      "_model_module": "@jupyter-widgets/controls",
      "_model_module_version": "1.5.0",
      "_model_name": "DescriptionStyleModel",
      "_view_count": null,
      "_view_module": "@jupyter-widgets/base",
      "_view_module_version": "1.2.0",
      "_view_name": "StyleView",
      "description_width": ""
     }
    },
    "644877b67a3e492690f720bacf62af5f": {
     "model_module": "@jupyter-widgets/controls",
     "model_module_version": "1.5.0",
     "model_name": "HTMLModel",
     "state": {
      "_dom_classes": [],
      "_model_module": "@jupyter-widgets/controls",
      "_model_module_version": "1.5.0",
      "_model_name": "HTMLModel",
      "_view_count": null,
      "_view_module": "@jupyter-widgets/controls",
      "_view_module_version": "1.5.0",
      "_view_name": "HTMLView",
      "description": "",
      "description_tooltip": null,
      "layout": "IPY_MODEL_44f7c65fe39c4fbe9979182e292ec124",
      "placeholder": "​",
      "style": "IPY_MODEL_0b17c13f1bf64dfd850ea1f98ac2a84f",
      "value": "Generating train split: "
     }
    },
    "674f4e4fe94340cc8f2a1edc14e9b080": {
     "model_module": "@jupyter-widgets/controls",
     "model_module_version": "1.5.0",
     "model_name": "FloatProgressModel",
     "state": {
      "_dom_classes": [],
      "_model_module": "@jupyter-widgets/controls",
      "_model_module_version": "1.5.0",
      "_model_name": "FloatProgressModel",
      "_view_count": null,
      "_view_module": "@jupyter-widgets/controls",
      "_view_module_version": "1.5.0",
      "_view_name": "ProgressView",
      "bar_style": "success",
      "description": "",
      "description_tooltip": null,
      "layout": "IPY_MODEL_518aeef9bf8d4c2ba4c61cb101c08bb6",
      "max": 4203,
      "min": 0,
      "orientation": "horizontal",
      "style": "IPY_MODEL_ac7e415b511a4ebb8990590e77102e4d",
      "value": 4203
     }
    },
    "67e7973445304dbbac3756439e05c6fe": {
     "model_module": "@jupyter-widgets/controls",
     "model_module_version": "1.5.0",
     "model_name": "HBoxModel",
     "state": {
      "_dom_classes": [],
      "_model_module": "@jupyter-widgets/controls",
      "_model_module_version": "1.5.0",
      "_model_name": "HBoxModel",
      "_view_count": null,
      "_view_module": "@jupyter-widgets/controls",
      "_view_module_version": "1.5.0",
      "_view_name": "HBoxView",
      "box_style": "",
      "children": [
       "IPY_MODEL_1e2e2604fc4f44dab763b917282afe8d",
       "IPY_MODEL_6d4c1d69007b481589d9b879015ed961",
       "IPY_MODEL_9e115884bf2243c29a319c27d45c9b54"
      ],
      "layout": "IPY_MODEL_161934c65e4b4d0a91013c3199eb81e3"
     }
    },
    "6823c45ae67941eb98385b190eca0b1e": {
     "model_module": "@jupyter-widgets/controls",
     "model_module_version": "1.5.0",
     "model_name": "HBoxModel",
     "state": {
      "_dom_classes": [],
      "_model_module": "@jupyter-widgets/controls",
      "_model_module_version": "1.5.0",
      "_model_name": "HBoxModel",
      "_view_count": null,
      "_view_module": "@jupyter-widgets/controls",
      "_view_module_version": "1.5.0",
      "_view_name": "HBoxView",
      "box_style": "",
      "children": [
       "IPY_MODEL_11163a77177543bca353dbaaadd1fd1c",
       "IPY_MODEL_37ff595780244960bfcd84ba50d4dd20",
       "IPY_MODEL_425d67e78e4e43008f315100063476de"
      ],
      "layout": "IPY_MODEL_9a2f276ab0064f73a6e197fc3ab79096"
     }
    },
    "688c23037f844c25b947c70bbb8396af": {
     "model_module": "@jupyter-widgets/controls",
     "model_module_version": "1.5.0",
     "model_name": "DescriptionStyleModel",
     "state": {
      "_model_module": "@jupyter-widgets/controls",
      "_model_module_version": "1.5.0",
      "_model_name": "DescriptionStyleModel",
      "_view_count": null,
      "_view_module": "@jupyter-widgets/base",
      "_view_module_version": "1.2.0",
      "_view_name": "StyleView",
      "description_width": ""
     }
    },
    "6b2626f588df43f7b2f703a684889214": {
     "model_module": "@jupyter-widgets/base",
     "model_module_version": "1.2.0",
     "model_name": "LayoutModel",
     "state": {
      "_model_module": "@jupyter-widgets/base",
      "_model_module_version": "1.2.0",
      "_model_name": "LayoutModel",
      "_view_count": null,
      "_view_module": "@jupyter-widgets/base",
      "_view_module_version": "1.2.0",
      "_view_name": "LayoutView",
      "align_content": null,
      "align_items": null,
      "align_self": null,
      "border": null,
      "bottom": null,
      "display": null,
      "flex": null,
      "flex_flow": null,
      "grid_area": null,
      "grid_auto_columns": null,
      "grid_auto_flow": null,
      "grid_auto_rows": null,
      "grid_column": null,
      "grid_gap": null,
      "grid_row": null,
      "grid_template_areas": null,
      "grid_template_columns": null,
      "grid_template_rows": null,
      "height": null,
      "justify_content": null,
      "justify_items": null,
      "left": null,
      "margin": null,
      "max_height": null,
      "max_width": null,
      "min_height": null,
      "min_width": null,
      "object_fit": null,
      "object_position": null,
      "order": null,
      "overflow": null,
      "overflow_x": null,
      "overflow_y": null,
      "padding": null,
      "right": null,
      "top": null,
      "visibility": null,
      "width": "20px"
     }
    },
    "6b7fda4b96344694bb23d875d0c6097d": {
     "model_module": "@jupyter-widgets/controls",
     "model_module_version": "1.5.0",
     "model_name": "DescriptionStyleModel",
     "state": {
      "_model_module": "@jupyter-widgets/controls",
      "_model_module_version": "1.5.0",
      "_model_name": "DescriptionStyleModel",
      "_view_count": null,
      "_view_module": "@jupyter-widgets/base",
      "_view_module_version": "1.2.0",
      "_view_name": "StyleView",
      "description_width": ""
     }
    },
    "6c18a0c193664416bedf4f06c6de4964": {
     "model_module": "@jupyter-widgets/base",
     "model_module_version": "1.2.0",
     "model_name": "LayoutModel",
     "state": {
      "_model_module": "@jupyter-widgets/base",
      "_model_module_version": "1.2.0",
      "_model_name": "LayoutModel",
      "_view_count": null,
      "_view_module": "@jupyter-widgets/base",
      "_view_module_version": "1.2.0",
      "_view_name": "LayoutView",
      "align_content": null,
      "align_items": null,
      "align_self": null,
      "border": null,
      "bottom": null,
      "display": null,
      "flex": null,
      "flex_flow": null,
      "grid_area": null,
      "grid_auto_columns": null,
      "grid_auto_flow": null,
      "grid_auto_rows": null,
      "grid_column": null,
      "grid_gap": null,
      "grid_row": null,
      "grid_template_areas": null,
      "grid_template_columns": null,
      "grid_template_rows": null,
      "height": null,
      "justify_content": null,
      "justify_items": null,
      "left": null,
      "margin": null,
      "max_height": null,
      "max_width": null,
      "min_height": null,
      "min_width": null,
      "object_fit": null,
      "object_position": null,
      "order": null,
      "overflow": null,
      "overflow_x": null,
      "overflow_y": null,
      "padding": null,
      "right": null,
      "top": null,
      "visibility": null,
      "width": null
     }
    },
    "6cc66767016a464c8e9dbdb3295f3c9c": {
     "model_module": "@jupyter-widgets/controls",
     "model_module_version": "1.5.0",
     "model_name": "DescriptionStyleModel",
     "state": {
      "_model_module": "@jupyter-widgets/controls",
      "_model_module_version": "1.5.0",
      "_model_name": "DescriptionStyleModel",
      "_view_count": null,
      "_view_module": "@jupyter-widgets/base",
      "_view_module_version": "1.2.0",
      "_view_name": "StyleView",
      "description_width": ""
     }
    },
    "6d4c1d69007b481589d9b879015ed961": {
     "model_module": "@jupyter-widgets/controls",
     "model_module_version": "1.5.0",
     "model_name": "FloatProgressModel",
     "state": {
      "_dom_classes": [],
      "_model_module": "@jupyter-widgets/controls",
      "_model_module_version": "1.5.0",
      "_model_name": "FloatProgressModel",
      "_view_count": null,
      "_view_module": "@jupyter-widgets/controls",
      "_view_module_version": "1.5.0",
      "_view_name": "ProgressView",
      "bar_style": "success",
      "description": "",
      "description_tooltip": null,
      "layout": "IPY_MODEL_d0c06ac58d3c4f92969755f59169a490",
      "max": 7443,
      "min": 0,
      "orientation": "horizontal",
      "style": "IPY_MODEL_ca5225a9228145a081d1f50ed08c3959",
      "value": 7443
     }
    },
    "6df96b0b2b2349e4afc7f0a04d7b0322": {
     "model_module": "@jupyter-widgets/controls",
     "model_module_version": "1.5.0",
     "model_name": "HBoxModel",
     "state": {
      "_dom_classes": [],
      "_model_module": "@jupyter-widgets/controls",
      "_model_module_version": "1.5.0",
      "_model_name": "HBoxModel",
      "_view_count": null,
      "_view_module": "@jupyter-widgets/controls",
      "_view_module_version": "1.5.0",
      "_view_name": "HBoxView",
      "box_style": "",
      "children": [
       "IPY_MODEL_c58598b41c704d819ad3374fb4a0f45a",
       "IPY_MODEL_b98ee2b322cb4756bfcc99b4a6acba62",
       "IPY_MODEL_f658ae8010a14700a7da48d4df22a584"
      ],
      "layout": "IPY_MODEL_8b6fe5b69fde46a084960bf08787ff81"
     }
    },
    "6e864f0767fe4928be9543bd0a6e4c02": {
     "model_module": "@jupyter-widgets/controls",
     "model_module_version": "1.5.0",
     "model_name": "DescriptionStyleModel",
     "state": {
      "_model_module": "@jupyter-widgets/controls",
      "_model_module_version": "1.5.0",
      "_model_name": "DescriptionStyleModel",
      "_view_count": null,
      "_view_module": "@jupyter-widgets/base",
      "_view_module_version": "1.2.0",
      "_view_name": "StyleView",
      "description_width": ""
     }
    },
    "6ebeade749c24501bc25bd53eb24e3d3": {
     "model_module": "@jupyter-widgets/controls",
     "model_module_version": "1.5.0",
     "model_name": "DescriptionStyleModel",
     "state": {
      "_model_module": "@jupyter-widgets/controls",
      "_model_module_version": "1.5.0",
      "_model_name": "DescriptionStyleModel",
      "_view_count": null,
      "_view_module": "@jupyter-widgets/base",
      "_view_module_version": "1.2.0",
      "_view_name": "StyleView",
      "description_width": ""
     }
    },
    "728108789ae54dc2acd562ddc8a9f396": {
     "model_module": "@jupyter-widgets/controls",
     "model_module_version": "1.5.0",
     "model_name": "ProgressStyleModel",
     "state": {
      "_model_module": "@jupyter-widgets/controls",
      "_model_module_version": "1.5.0",
      "_model_name": "ProgressStyleModel",
      "_view_count": null,
      "_view_module": "@jupyter-widgets/base",
      "_view_module_version": "1.2.0",
      "_view_name": "StyleView",
      "bar_color": null,
      "description_width": ""
     }
    },
    "72a9dc27698d4cbdb69fce09d37786e8": {
     "model_module": "@jupyter-widgets/controls",
     "model_module_version": "1.5.0",
     "model_name": "FloatProgressModel",
     "state": {
      "_dom_classes": [],
      "_model_module": "@jupyter-widgets/controls",
      "_model_module_version": "1.5.0",
      "_model_name": "FloatProgressModel",
      "_view_count": null,
      "_view_module": "@jupyter-widgets/controls",
      "_view_module_version": "1.5.0",
      "_view_name": "ProgressView",
      "bar_style": "success",
      "description": "",
      "description_tooltip": null,
      "layout": "IPY_MODEL_e8390e6d06a4451989544953c94994f5",
      "max": 1842,
      "min": 0,
      "orientation": "horizontal",
      "style": "IPY_MODEL_d4a7473840494c018df35106ac94d582",
      "value": 1842
     }
    },
    "7305c57ae84d4041a1793455f9815170": {
     "model_module": "@jupyter-widgets/base",
     "model_module_version": "1.2.0",
     "model_name": "LayoutModel",
     "state": {
      "_model_module": "@jupyter-widgets/base",
      "_model_module_version": "1.2.0",
      "_model_name": "LayoutModel",
      "_view_count": null,
      "_view_module": "@jupyter-widgets/base",
      "_view_module_version": "1.2.0",
      "_view_name": "LayoutView",
      "align_content": null,
      "align_items": null,
      "align_self": null,
      "border": null,
      "bottom": null,
      "display": null,
      "flex": null,
      "flex_flow": null,
      "grid_area": null,
      "grid_auto_columns": null,
      "grid_auto_flow": null,
      "grid_auto_rows": null,
      "grid_column": null,
      "grid_gap": null,
      "grid_row": null,
      "grid_template_areas": null,
      "grid_template_columns": null,
      "grid_template_rows": null,
      "height": null,
      "justify_content": null,
      "justify_items": null,
      "left": null,
      "margin": null,
      "max_height": null,
      "max_width": null,
      "min_height": null,
      "min_width": null,
      "object_fit": null,
      "object_position": null,
      "order": null,
      "overflow": null,
      "overflow_x": null,
      "overflow_y": null,
      "padding": null,
      "right": null,
      "top": null,
      "visibility": null,
      "width": null
     }
    },
    "734b2ee4a3df4a8f9d36d05f8622c85f": {
     "model_module": "@jupyter-widgets/base",
     "model_module_version": "1.2.0",
     "model_name": "LayoutModel",
     "state": {
      "_model_module": "@jupyter-widgets/base",
      "_model_module_version": "1.2.0",
      "_model_name": "LayoutModel",
      "_view_count": null,
      "_view_module": "@jupyter-widgets/base",
      "_view_module_version": "1.2.0",
      "_view_name": "LayoutView",
      "align_content": null,
      "align_items": null,
      "align_self": null,
      "border": null,
      "bottom": null,
      "display": null,
      "flex": null,
      "flex_flow": null,
      "grid_area": null,
      "grid_auto_columns": null,
      "grid_auto_flow": null,
      "grid_auto_rows": null,
      "grid_column": null,
      "grid_gap": null,
      "grid_row": null,
      "grid_template_areas": null,
      "grid_template_columns": null,
      "grid_template_rows": null,
      "height": null,
      "justify_content": null,
      "justify_items": null,
      "left": null,
      "margin": null,
      "max_height": null,
      "max_width": null,
      "min_height": null,
      "min_width": null,
      "object_fit": null,
      "object_position": null,
      "order": null,
      "overflow": null,
      "overflow_x": null,
      "overflow_y": null,
      "padding": null,
      "right": null,
      "top": null,
      "visibility": null,
      "width": null
     }
    },
    "758b131cf0ab4202a4a4ff5b2593784a": {
     "model_module": "@jupyter-widgets/controls",
     "model_module_version": "1.5.0",
     "model_name": "DescriptionStyleModel",
     "state": {
      "_model_module": "@jupyter-widgets/controls",
      "_model_module_version": "1.5.0",
      "_model_name": "DescriptionStyleModel",
      "_view_count": null,
      "_view_module": "@jupyter-widgets/base",
      "_view_module_version": "1.2.0",
      "_view_name": "StyleView",
      "description_width": ""
     }
    },
    "76bfb6fa846f490bb4be32634152c7e8": {
     "model_module": "@jupyter-widgets/controls",
     "model_module_version": "1.5.0",
     "model_name": "HTMLModel",
     "state": {
      "_dom_classes": [],
      "_model_module": "@jupyter-widgets/controls",
      "_model_module_version": "1.5.0",
      "_model_name": "HTMLModel",
      "_view_count": null,
      "_view_module": "@jupyter-widgets/controls",
      "_view_module_version": "1.5.0",
      "_view_name": "HTMLView",
      "description": "",
      "description_tooltip": null,
      "layout": "IPY_MODEL_368230c5f76b4e7db377c81ddfa8d999",
      "placeholder": "​",
      "style": "IPY_MODEL_63333e9c0ffd4228944486c2ca1ea51a",
      "value": "preprocessor_config.json: 100%"
     }
    },
    "79042f29d56842b8a4941d4b3c8db3b9": {
     "model_module": "@jupyter-widgets/base",
     "model_module_version": "1.2.0",
     "model_name": "LayoutModel",
     "state": {
      "_model_module": "@jupyter-widgets/base",
      "_model_module_version": "1.2.0",
      "_model_name": "LayoutModel",
      "_view_count": null,
      "_view_module": "@jupyter-widgets/base",
      "_view_module_version": "1.2.0",
      "_view_name": "LayoutView",
      "align_content": null,
      "align_items": null,
      "align_self": null,
      "border": null,
      "bottom": null,
      "display": null,
      "flex": null,
      "flex_flow": null,
      "grid_area": null,
      "grid_auto_columns": null,
      "grid_auto_flow": null,
      "grid_auto_rows": null,
      "grid_column": null,
      "grid_gap": null,
      "grid_row": null,
      "grid_template_areas": null,
      "grid_template_columns": null,
      "grid_template_rows": null,
      "height": null,
      "justify_content": null,
      "justify_items": null,
      "left": null,
      "margin": null,
      "max_height": null,
      "max_width": null,
      "min_height": null,
      "min_width": null,
      "object_fit": null,
      "object_position": null,
      "order": null,
      "overflow": null,
      "overflow_x": null,
      "overflow_y": null,
      "padding": null,
      "right": null,
      "top": null,
      "visibility": null,
      "width": null
     }
    },
    "79a0f7ee5a554729b19e2d8feea21ace": {
     "model_module": "@jupyter-widgets/base",
     "model_module_version": "1.2.0",
     "model_name": "LayoutModel",
     "state": {
      "_model_module": "@jupyter-widgets/base",
      "_model_module_version": "1.2.0",
      "_model_name": "LayoutModel",
      "_view_count": null,
      "_view_module": "@jupyter-widgets/base",
      "_view_module_version": "1.2.0",
      "_view_name": "LayoutView",
      "align_content": null,
      "align_items": null,
      "align_self": null,
      "border": null,
      "bottom": null,
      "display": null,
      "flex": null,
      "flex_flow": null,
      "grid_area": null,
      "grid_auto_columns": null,
      "grid_auto_flow": null,
      "grid_auto_rows": null,
      "grid_column": null,
      "grid_gap": null,
      "grid_row": null,
      "grid_template_areas": null,
      "grid_template_columns": null,
      "grid_template_rows": null,
      "height": null,
      "justify_content": null,
      "justify_items": null,
      "left": null,
      "margin": null,
      "max_height": null,
      "max_width": null,
      "min_height": null,
      "min_width": null,
      "object_fit": null,
      "object_position": null,
      "order": null,
      "overflow": null,
      "overflow_x": null,
      "overflow_y": null,
      "padding": null,
      "right": null,
      "top": null,
      "visibility": null,
      "width": null
     }
    },
    "7b44efad7368459b906cc6342c714814": {
     "model_module": "@jupyter-widgets/base",
     "model_module_version": "1.2.0",
     "model_name": "LayoutModel",
     "state": {
      "_model_module": "@jupyter-widgets/base",
      "_model_module_version": "1.2.0",
      "_model_name": "LayoutModel",
      "_view_count": null,
      "_view_module": "@jupyter-widgets/base",
      "_view_module_version": "1.2.0",
      "_view_name": "LayoutView",
      "align_content": null,
      "align_items": null,
      "align_self": null,
      "border": null,
      "bottom": null,
      "display": null,
      "flex": null,
      "flex_flow": null,
      "grid_area": null,
      "grid_auto_columns": null,
      "grid_auto_flow": null,
      "grid_auto_rows": null,
      "grid_column": null,
      "grid_gap": null,
      "grid_row": null,
      "grid_template_areas": null,
      "grid_template_columns": null,
      "grid_template_rows": null,
      "height": null,
      "justify_content": null,
      "justify_items": null,
      "left": null,
      "margin": null,
      "max_height": null,
      "max_width": null,
      "min_height": null,
      "min_width": null,
      "object_fit": null,
      "object_position": null,
      "order": null,
      "overflow": null,
      "overflow_x": null,
      "overflow_y": null,
      "padding": null,
      "right": null,
      "top": null,
      "visibility": null,
      "width": null
     }
    },
    "7bb1199e03644366b2d711849ec3071e": {
     "model_module": "@jupyter-widgets/controls",
     "model_module_version": "1.5.0",
     "model_name": "DescriptionStyleModel",
     "state": {
      "_model_module": "@jupyter-widgets/controls",
      "_model_module_version": "1.5.0",
      "_model_name": "DescriptionStyleModel",
      "_view_count": null,
      "_view_module": "@jupyter-widgets/base",
      "_view_module_version": "1.2.0",
      "_view_name": "StyleView",
      "description_width": ""
     }
    },
    "7c69fd38de834a139792db8df3922466": {
     "model_module": "@jupyter-widgets/base",
     "model_module_version": "1.2.0",
     "model_name": "LayoutModel",
     "state": {
      "_model_module": "@jupyter-widgets/base",
      "_model_module_version": "1.2.0",
      "_model_name": "LayoutModel",
      "_view_count": null,
      "_view_module": "@jupyter-widgets/base",
      "_view_module_version": "1.2.0",
      "_view_name": "LayoutView",
      "align_content": null,
      "align_items": null,
      "align_self": null,
      "border": null,
      "bottom": null,
      "display": null,
      "flex": null,
      "flex_flow": null,
      "grid_area": null,
      "grid_auto_columns": null,
      "grid_auto_flow": null,
      "grid_auto_rows": null,
      "grid_column": null,
      "grid_gap": null,
      "grid_row": null,
      "grid_template_areas": null,
      "grid_template_columns": null,
      "grid_template_rows": null,
      "height": null,
      "justify_content": null,
      "justify_items": null,
      "left": null,
      "margin": null,
      "max_height": null,
      "max_width": null,
      "min_height": null,
      "min_width": null,
      "object_fit": null,
      "object_position": null,
      "order": null,
      "overflow": null,
      "overflow_x": null,
      "overflow_y": null,
      "padding": null,
      "right": null,
      "top": null,
      "visibility": null,
      "width": null
     }
    },
    "7eb0f4bbe5eb4404870b45de9faab7a9": {
     "model_module": "@jupyter-widgets/controls",
     "model_module_version": "1.5.0",
     "model_name": "ProgressStyleModel",
     "state": {
      "_model_module": "@jupyter-widgets/controls",
      "_model_module_version": "1.5.0",
      "_model_name": "ProgressStyleModel",
      "_view_count": null,
      "_view_module": "@jupyter-widgets/base",
      "_view_module_version": "1.2.0",
      "_view_name": "StyleView",
      "bar_color": null,
      "description_width": ""
     }
    },
    "7fd37bd8851a49e5977a40994f3a48cd": {
     "model_module": "@jupyter-widgets/controls",
     "model_module_version": "1.5.0",
     "model_name": "DescriptionStyleModel",
     "state": {
      "_model_module": "@jupyter-widgets/controls",
      "_model_module_version": "1.5.0",
      "_model_name": "DescriptionStyleModel",
      "_view_count": null,
      "_view_module": "@jupyter-widgets/base",
      "_view_module_version": "1.2.0",
      "_view_name": "StyleView",
      "description_width": ""
     }
    },
    "8080b5c19cc74b1f8cae3a7bb2304b47": {
     "model_module": "@jupyter-widgets/controls",
     "model_module_version": "1.5.0",
     "model_name": "HBoxModel",
     "state": {
      "_dom_classes": [],
      "_model_module": "@jupyter-widgets/controls",
      "_model_module_version": "1.5.0",
      "_model_name": "HBoxModel",
      "_view_count": null,
      "_view_module": "@jupyter-widgets/controls",
      "_view_module_version": "1.5.0",
      "_view_name": "HBoxView",
      "box_style": "",
      "children": [
       "IPY_MODEL_09bbb4f0621d4e0a94c053bdd60e59a4",
       "IPY_MODEL_fe0cb548a659461a99564aad149aa6c6",
       "IPY_MODEL_cb2b018bff25414a8f086ec016bbd0e4"
      ],
      "layout": "IPY_MODEL_c5c1e71e6730423789152ec1428594bf"
     }
    },
    "816f1361b8384472a1c593069df2bdcc": {
     "model_module": "@jupyter-widgets/controls",
     "model_module_version": "1.5.0",
     "model_name": "DescriptionStyleModel",
     "state": {
      "_model_module": "@jupyter-widgets/controls",
      "_model_module_version": "1.5.0",
      "_model_name": "DescriptionStyleModel",
      "_view_count": null,
      "_view_module": "@jupyter-widgets/base",
      "_view_module_version": "1.2.0",
      "_view_name": "StyleView",
      "description_width": ""
     }
    },
    "81a26ba1596945f4aa5f8206b742b09d": {
     "model_module": "@jupyter-widgets/controls",
     "model_module_version": "1.5.0",
     "model_name": "HTMLModel",
     "state": {
      "_dom_classes": [],
      "_model_module": "@jupyter-widgets/controls",
      "_model_module_version": "1.5.0",
      "_model_name": "HTMLModel",
      "_view_count": null,
      "_view_module": "@jupyter-widgets/controls",
      "_view_module_version": "1.5.0",
      "_view_name": "HTMLView",
      "description": "",
      "description_tooltip": null,
      "layout": "IPY_MODEL_97503727475b464092c4502915b2d5b3",
      "placeholder": "​",
      "style": "IPY_MODEL_998f11f66f264898b12c038a9ff6b759",
      "value": " 5581/5581 [11:26&lt;00:00,  5.32 examples/s]"
     }
    },
    "857e4730e7f1488488d61f5fdaaae7bb": {
     "model_module": "@jupyter-widgets/controls",
     "model_module_version": "1.5.0",
     "model_name": "FloatProgressModel",
     "state": {
      "_dom_classes": [],
      "_model_module": "@jupyter-widgets/controls",
      "_model_module_version": "1.5.0",
      "_model_name": "FloatProgressModel",
      "_view_count": null,
      "_view_module": "@jupyter-widgets/controls",
      "_view_module_version": "1.5.0",
      "_view_name": "ProgressView",
      "bar_style": "success",
      "description": "",
      "description_tooltip": null,
      "layout": "IPY_MODEL_fc3e25ee5d4541978fdb6535705cdc1e",
      "max": 7363,
      "min": 0,
      "orientation": "horizontal",
      "style": "IPY_MODEL_b26acc5d8a1f431db6d4e43bfa4b728a",
      "value": 7363
     }
    },
    "877dd9678ba14998818d9e6e341a9b48": {
     "model_module": "@jupyter-widgets/controls",
     "model_module_version": "1.5.0",
     "model_name": "FloatProgressModel",
     "state": {
      "_dom_classes": [],
      "_model_module": "@jupyter-widgets/controls",
      "_model_module_version": "1.5.0",
      "_model_name": "FloatProgressModel",
      "_view_count": null,
      "_view_module": "@jupyter-widgets/controls",
      "_view_module_version": "1.5.0",
      "_view_name": "ProgressView",
      "bar_style": "success",
      "description": "",
      "description_tooltip": null,
      "layout": "IPY_MODEL_476f3ff36fb84540981444562f790621",
      "max": 7546,
      "min": 0,
      "orientation": "horizontal",
      "style": "IPY_MODEL_7eb0f4bbe5eb4404870b45de9faab7a9",
      "value": 7546
     }
    },
    "8b6fe5b69fde46a084960bf08787ff81": {
     "model_module": "@jupyter-widgets/base",
     "model_module_version": "1.2.0",
     "model_name": "LayoutModel",
     "state": {
      "_model_module": "@jupyter-widgets/base",
      "_model_module_version": "1.2.0",
      "_model_name": "LayoutModel",
      "_view_count": null,
      "_view_module": "@jupyter-widgets/base",
      "_view_module_version": "1.2.0",
      "_view_name": "LayoutView",
      "align_content": null,
      "align_items": null,
      "align_self": null,
      "border": null,
      "bottom": null,
      "display": null,
      "flex": null,
      "flex_flow": null,
      "grid_area": null,
      "grid_auto_columns": null,
      "grid_auto_flow": null,
      "grid_auto_rows": null,
      "grid_column": null,
      "grid_gap": null,
      "grid_row": null,
      "grid_template_areas": null,
      "grid_template_columns": null,
      "grid_template_rows": null,
      "height": null,
      "justify_content": null,
      "justify_items": null,
      "left": null,
      "margin": null,
      "max_height": null,
      "max_width": null,
      "min_height": null,
      "min_width": null,
      "object_fit": null,
      "object_position": null,
      "order": null,
      "overflow": null,
      "overflow_x": null,
      "overflow_y": null,
      "padding": null,
      "right": null,
      "top": null,
      "visibility": null,
      "width": null
     }
    },
    "8b9056cfaab149809d12c4a1e93d1947": {
     "model_module": "@jupyter-widgets/base",
     "model_module_version": "1.2.0",
     "model_name": "LayoutModel",
     "state": {
      "_model_module": "@jupyter-widgets/base",
      "_model_module_version": "1.2.0",
      "_model_name": "LayoutModel",
      "_view_count": null,
      "_view_module": "@jupyter-widgets/base",
      "_view_module_version": "1.2.0",
      "_view_name": "LayoutView",
      "align_content": null,
      "align_items": null,
      "align_self": null,
      "border": null,
      "bottom": null,
      "display": null,
      "flex": null,
      "flex_flow": null,
      "grid_area": null,
      "grid_auto_columns": null,
      "grid_auto_flow": null,
      "grid_auto_rows": null,
      "grid_column": null,
      "grid_gap": null,
      "grid_row": null,
      "grid_template_areas": null,
      "grid_template_columns": null,
      "grid_template_rows": null,
      "height": null,
      "justify_content": null,
      "justify_items": null,
      "left": null,
      "margin": null,
      "max_height": null,
      "max_width": null,
      "min_height": null,
      "min_width": null,
      "object_fit": null,
      "object_position": null,
      "order": null,
      "overflow": null,
      "overflow_x": null,
      "overflow_y": null,
      "padding": null,
      "right": null,
      "top": null,
      "visibility": null,
      "width": null
     }
    },
    "8d586e2589ad46cc82ad4fa4e8e16a8f": {
     "model_module": "@jupyter-widgets/controls",
     "model_module_version": "1.5.0",
     "model_name": "HBoxModel",
     "state": {
      "_dom_classes": [],
      "_model_module": "@jupyter-widgets/controls",
      "_model_module_version": "1.5.0",
      "_model_name": "HBoxModel",
      "_view_count": null,
      "_view_module": "@jupyter-widgets/controls",
      "_view_module_version": "1.5.0",
      "_view_name": "HBoxView",
      "box_style": "",
      "children": [
       "IPY_MODEL_d9c0923778a54e1587e64982c471f6f7",
       "IPY_MODEL_674f4e4fe94340cc8f2a1edc14e9b080",
       "IPY_MODEL_d6c78a2d52c1428a8c45825e6090beb9"
      ],
      "layout": "IPY_MODEL_e5acca8401d1484b8e39449b3cf89d64"
     }
    },
    "91ba0b88c8c8472aa2b0ebe4d79193ad": {
     "model_module": "@jupyter-widgets/controls",
     "model_module_version": "1.5.0",
     "model_name": "HTMLModel",
     "state": {
      "_dom_classes": [],
      "_model_module": "@jupyter-widgets/controls",
      "_model_module_version": "1.5.0",
      "_model_name": "HTMLModel",
      "_view_count": null,
      "_view_module": "@jupyter-widgets/controls",
      "_view_module_version": "1.5.0",
      "_view_name": "HTMLView",
      "description": "",
      "description_tooltip": null,
      "layout": "IPY_MODEL_9a7059f889ec458181630fcaa8eef135",
      "placeholder": "​",
      "style": "IPY_MODEL_3436af4a5a3f4b518756695aaae90c8d",
      "value": "Map (num_proc=4): 100%"
     }
    },
    "93157de5f43b4d6a8fa2050678c634dc": {
     "model_module": "@jupyter-widgets/base",
     "model_module_version": "1.2.0",
     "model_name": "LayoutModel",
     "state": {
      "_model_module": "@jupyter-widgets/base",
      "_model_module_version": "1.2.0",
      "_model_name": "LayoutModel",
      "_view_count": null,
      "_view_module": "@jupyter-widgets/base",
      "_view_module_version": "1.2.0",
      "_view_name": "LayoutView",
      "align_content": null,
      "align_items": null,
      "align_self": null,
      "border": null,
      "bottom": null,
      "display": null,
      "flex": null,
      "flex_flow": null,
      "grid_area": null,
      "grid_auto_columns": null,
      "grid_auto_flow": null,
      "grid_auto_rows": null,
      "grid_column": null,
      "grid_gap": null,
      "grid_row": null,
      "grid_template_areas": null,
      "grid_template_columns": null,
      "grid_template_rows": null,
      "height": null,
      "justify_content": null,
      "justify_items": null,
      "left": null,
      "margin": null,
      "max_height": null,
      "max_width": null,
      "min_height": null,
      "min_width": null,
      "object_fit": null,
      "object_position": null,
      "order": null,
      "overflow": null,
      "overflow_x": null,
      "overflow_y": null,
      "padding": null,
      "right": null,
      "top": null,
      "visibility": null,
      "width": null
     }
    },
    "93b6a40ef65c4fbea7d1f97d0b59a080": {
     "model_module": "@jupyter-widgets/controls",
     "model_module_version": "1.5.0",
     "model_name": "DescriptionStyleModel",
     "state": {
      "_model_module": "@jupyter-widgets/controls",
      "_model_module_version": "1.5.0",
      "_model_name": "DescriptionStyleModel",
      "_view_count": null,
      "_view_module": "@jupyter-widgets/base",
      "_view_module_version": "1.2.0",
      "_view_name": "StyleView",
      "description_width": ""
     }
    },
    "97503727475b464092c4502915b2d5b3": {
     "model_module": "@jupyter-widgets/base",
     "model_module_version": "1.2.0",
     "model_name": "LayoutModel",
     "state": {
      "_model_module": "@jupyter-widgets/base",
      "_model_module_version": "1.2.0",
      "_model_name": "LayoutModel",
      "_view_count": null,
      "_view_module": "@jupyter-widgets/base",
      "_view_module_version": "1.2.0",
      "_view_name": "LayoutView",
      "align_content": null,
      "align_items": null,
      "align_self": null,
      "border": null,
      "bottom": null,
      "display": null,
      "flex": null,
      "flex_flow": null,
      "grid_area": null,
      "grid_auto_columns": null,
      "grid_auto_flow": null,
      "grid_auto_rows": null,
      "grid_column": null,
      "grid_gap": null,
      "grid_row": null,
      "grid_template_areas": null,
      "grid_template_columns": null,
      "grid_template_rows": null,
      "height": null,
      "justify_content": null,
      "justify_items": null,
      "left": null,
      "margin": null,
      "max_height": null,
      "max_width": null,
      "min_height": null,
      "min_width": null,
      "object_fit": null,
      "object_position": null,
      "order": null,
      "overflow": null,
      "overflow_x": null,
      "overflow_y": null,
      "padding": null,
      "right": null,
      "top": null,
      "visibility": null,
      "width": null
     }
    },
    "975b0cbe3e1342c3bd20e70d4c100729": {
     "model_module": "@jupyter-widgets/base",
     "model_module_version": "1.2.0",
     "model_name": "LayoutModel",
     "state": {
      "_model_module": "@jupyter-widgets/base",
      "_model_module_version": "1.2.0",
      "_model_name": "LayoutModel",
      "_view_count": null,
      "_view_module": "@jupyter-widgets/base",
      "_view_module_version": "1.2.0",
      "_view_name": "LayoutView",
      "align_content": null,
      "align_items": null,
      "align_self": null,
      "border": null,
      "bottom": null,
      "display": null,
      "flex": null,
      "flex_flow": null,
      "grid_area": null,
      "grid_auto_columns": null,
      "grid_auto_flow": null,
      "grid_auto_rows": null,
      "grid_column": null,
      "grid_gap": null,
      "grid_row": null,
      "grid_template_areas": null,
      "grid_template_columns": null,
      "grid_template_rows": null,
      "height": null,
      "justify_content": null,
      "justify_items": null,
      "left": null,
      "margin": null,
      "max_height": null,
      "max_width": null,
      "min_height": null,
      "min_width": null,
      "object_fit": null,
      "object_position": null,
      "order": null,
      "overflow": null,
      "overflow_x": null,
      "overflow_y": null,
      "padding": null,
      "right": null,
      "top": null,
      "visibility": null,
      "width": null
     }
    },
    "992c1153f1494f4cb9c4615b1ea7ed07": {
     "model_module": "@jupyter-widgets/controls",
     "model_module_version": "1.5.0",
     "model_name": "HTMLModel",
     "state": {
      "_dom_classes": [],
      "_model_module": "@jupyter-widgets/controls",
      "_model_module_version": "1.5.0",
      "_model_name": "HTMLModel",
      "_view_count": null,
      "_view_module": "@jupyter-widgets/controls",
      "_view_module_version": "1.5.0",
      "_view_name": "HTMLView",
      "description": "",
      "description_tooltip": null,
      "layout": "IPY_MODEL_47ae9a5da26a4b3b9aa05f63ebb2d153",
      "placeholder": "​",
      "style": "IPY_MODEL_b7fce89989244997a7a02c2e2e13f2d8",
      "value": " 6.77k/6.77k [00:00&lt;00:00, 448kB/s]"
     }
    },
    "996fe8f37a3c456bb4061bd387ff2f5f": {
     "model_module": "@jupyter-widgets/controls",
     "model_module_version": "1.5.0",
     "model_name": "HBoxModel",
     "state": {
      "_dom_classes": [],
      "_model_module": "@jupyter-widgets/controls",
      "_model_module_version": "1.5.0",
      "_model_name": "HBoxModel",
      "_view_count": null,
      "_view_module": "@jupyter-widgets/controls",
      "_view_module_version": "1.5.0",
      "_view_name": "HBoxView",
      "box_style": "",
      "children": [
       "IPY_MODEL_0d1fae3b2d3844a69383ca20504c069b",
       "IPY_MODEL_32ec071d5e0e4342a8d7f8344819be70",
       "IPY_MODEL_992c1153f1494f4cb9c4615b1ea7ed07"
      ],
      "layout": "IPY_MODEL_9e44f6e7ab194ff7a8d57fd7f2a1c055"
     }
    },
    "998f11f66f264898b12c038a9ff6b759": {
     "model_module": "@jupyter-widgets/controls",
     "model_module_version": "1.5.0",
     "model_name": "DescriptionStyleModel",
     "state": {
      "_model_module": "@jupyter-widgets/controls",
      "_model_module_version": "1.5.0",
      "_model_name": "DescriptionStyleModel",
      "_view_count": null,
      "_view_module": "@jupyter-widgets/base",
      "_view_module_version": "1.2.0",
      "_view_name": "StyleView",
      "description_width": ""
     }
    },
    "9a2f276ab0064f73a6e197fc3ab79096": {
     "model_module": "@jupyter-widgets/base",
     "model_module_version": "1.2.0",
     "model_name": "LayoutModel",
     "state": {
      "_model_module": "@jupyter-widgets/base",
      "_model_module_version": "1.2.0",
      "_model_name": "LayoutModel",
      "_view_count": null,
      "_view_module": "@jupyter-widgets/base",
      "_view_module_version": "1.2.0",
      "_view_name": "LayoutView",
      "align_content": null,
      "align_items": null,
      "align_self": null,
      "border": null,
      "bottom": null,
      "display": null,
      "flex": null,
      "flex_flow": null,
      "grid_area": null,
      "grid_auto_columns": null,
      "grid_auto_flow": null,
      "grid_auto_rows": null,
      "grid_column": null,
      "grid_gap": null,
      "grid_row": null,
      "grid_template_areas": null,
      "grid_template_columns": null,
      "grid_template_rows": null,
      "height": null,
      "justify_content": null,
      "justify_items": null,
      "left": null,
      "margin": null,
      "max_height": null,
      "max_width": null,
      "min_height": null,
      "min_width": null,
      "object_fit": null,
      "object_position": null,
      "order": null,
      "overflow": null,
      "overflow_x": null,
      "overflow_y": null,
      "padding": null,
      "right": null,
      "top": null,
      "visibility": null,
      "width": null
     }
    },
    "9a7059f889ec458181630fcaa8eef135": {
     "model_module": "@jupyter-widgets/base",
     "model_module_version": "1.2.0",
     "model_name": "LayoutModel",
     "state": {
      "_model_module": "@jupyter-widgets/base",
      "_model_module_version": "1.2.0",
      "_model_name": "LayoutModel",
      "_view_count": null,
      "_view_module": "@jupyter-widgets/base",
      "_view_module_version": "1.2.0",
      "_view_name": "LayoutView",
      "align_content": null,
      "align_items": null,
      "align_self": null,
      "border": null,
      "bottom": null,
      "display": null,
      "flex": null,
      "flex_flow": null,
      "grid_area": null,
      "grid_auto_columns": null,
      "grid_auto_flow": null,
      "grid_auto_rows": null,
      "grid_column": null,
      "grid_gap": null,
      "grid_row": null,
      "grid_template_areas": null,
      "grid_template_columns": null,
      "grid_template_rows": null,
      "height": null,
      "justify_content": null,
      "justify_items": null,
      "left": null,
      "margin": null,
      "max_height": null,
      "max_width": null,
      "min_height": null,
      "min_width": null,
      "object_fit": null,
      "object_position": null,
      "order": null,
      "overflow": null,
      "overflow_x": null,
      "overflow_y": null,
      "padding": null,
      "right": null,
      "top": null,
      "visibility": null,
      "width": null
     }
    },
    "9d4f367b67034025baf7a1d2fe00db77": {
     "model_module": "@jupyter-widgets/controls",
     "model_module_version": "1.5.0",
     "model_name": "FloatProgressModel",
     "state": {
      "_dom_classes": [],
      "_model_module": "@jupyter-widgets/controls",
      "_model_module_version": "1.5.0",
      "_model_name": "FloatProgressModel",
      "_view_count": null,
      "_view_module": "@jupyter-widgets/controls",
      "_view_module_version": "1.5.0",
      "_view_name": "ProgressView",
      "bar_style": "success",
      "description": "",
      "description_tooltip": null,
      "layout": "IPY_MODEL_f59779fbe41241669d175389a0310136",
      "max": 1861,
      "min": 0,
      "orientation": "horizontal",
      "style": "IPY_MODEL_e298441a37a84ead8d57cdb21b9bcef1",
      "value": 1861
     }
    },
    "9e115884bf2243c29a319c27d45c9b54": {
     "model_module": "@jupyter-widgets/controls",
     "model_module_version": "1.5.0",
     "model_name": "HTMLModel",
     "state": {
      "_dom_classes": [],
      "_model_module": "@jupyter-widgets/controls",
      "_model_module_version": "1.5.0",
      "_model_name": "HTMLModel",
      "_view_count": null,
      "_view_module": "@jupyter-widgets/controls",
      "_view_module_version": "1.5.0",
      "_view_name": "HTMLView",
      "description": "",
      "description_tooltip": null,
      "layout": "IPY_MODEL_abe141834dba44aabc596beeac2439fa",
      "placeholder": "​",
      "style": "IPY_MODEL_54a31ce74afb4d81b2d5bfb59a81eba0",
      "value": " 7443/7443 [00:00&lt;00:00, 12383.38it/s]"
     }
    },
    "9e44f6e7ab194ff7a8d57fd7f2a1c055": {
     "model_module": "@jupyter-widgets/base",
     "model_module_version": "1.2.0",
     "model_name": "LayoutModel",
     "state": {
      "_model_module": "@jupyter-widgets/base",
      "_model_module_version": "1.2.0",
      "_model_name": "LayoutModel",
      "_view_count": null,
      "_view_module": "@jupyter-widgets/base",
      "_view_module_version": "1.2.0",
      "_view_name": "LayoutView",
      "align_content": null,
      "align_items": null,
      "align_self": null,
      "border": null,
      "bottom": null,
      "display": null,
      "flex": null,
      "flex_flow": null,
      "grid_area": null,
      "grid_auto_columns": null,
      "grid_auto_flow": null,
      "grid_auto_rows": null,
      "grid_column": null,
      "grid_gap": null,
      "grid_row": null,
      "grid_template_areas": null,
      "grid_template_columns": null,
      "grid_template_rows": null,
      "height": null,
      "justify_content": null,
      "justify_items": null,
      "left": null,
      "margin": null,
      "max_height": null,
      "max_width": null,
      "min_height": null,
      "min_width": null,
      "object_fit": null,
      "object_position": null,
      "order": null,
      "overflow": null,
      "overflow_x": null,
      "overflow_y": null,
      "padding": null,
      "right": null,
      "top": null,
      "visibility": null,
      "width": null
     }
    },
    "9ed5bc241fde44b183e719a64155ff46": {
     "model_module": "@jupyter-widgets/base",
     "model_module_version": "1.2.0",
     "model_name": "LayoutModel",
     "state": {
      "_model_module": "@jupyter-widgets/base",
      "_model_module_version": "1.2.0",
      "_model_name": "LayoutModel",
      "_view_count": null,
      "_view_module": "@jupyter-widgets/base",
      "_view_module_version": "1.2.0",
      "_view_name": "LayoutView",
      "align_content": null,
      "align_items": null,
      "align_self": null,
      "border": null,
      "bottom": null,
      "display": null,
      "flex": null,
      "flex_flow": null,
      "grid_area": null,
      "grid_auto_columns": null,
      "grid_auto_flow": null,
      "grid_auto_rows": null,
      "grid_column": null,
      "grid_gap": null,
      "grid_row": null,
      "grid_template_areas": null,
      "grid_template_columns": null,
      "grid_template_rows": null,
      "height": null,
      "justify_content": null,
      "justify_items": null,
      "left": null,
      "margin": null,
      "max_height": null,
      "max_width": null,
      "min_height": null,
      "min_width": null,
      "object_fit": null,
      "object_position": null,
      "order": null,
      "overflow": null,
      "overflow_x": null,
      "overflow_y": null,
      "padding": null,
      "right": null,
      "top": null,
      "visibility": null,
      "width": null
     }
    },
    "a4ad86ea70ab4864a5aa76bd29a2a1fd": {
     "model_module": "@jupyter-widgets/controls",
     "model_module_version": "1.5.0",
     "model_name": "HBoxModel",
     "state": {
      "_dom_classes": [],
      "_model_module": "@jupyter-widgets/controls",
      "_model_module_version": "1.5.0",
      "_model_name": "HBoxModel",
      "_view_count": null,
      "_view_module": "@jupyter-widgets/controls",
      "_view_module_version": "1.5.0",
      "_view_name": "HBoxView",
      "box_style": "",
      "children": [
       "IPY_MODEL_76bfb6fa846f490bb4be32634152c7e8",
       "IPY_MODEL_3de42c957103415a8b1ba4d35921032c",
       "IPY_MODEL_ecfc470f904145a4926c4825af1808f9"
      ],
      "layout": "IPY_MODEL_3bbd57a157dd4b59ad84ba5c6e43b9bf"
     }
    },
    "abe141834dba44aabc596beeac2439fa": {
     "model_module": "@jupyter-widgets/base",
     "model_module_version": "1.2.0",
     "model_name": "LayoutModel",
     "state": {
      "_model_module": "@jupyter-widgets/base",
      "_model_module_version": "1.2.0",
      "_model_name": "LayoutModel",
      "_view_count": null,
      "_view_module": "@jupyter-widgets/base",
      "_view_module_version": "1.2.0",
      "_view_name": "LayoutView",
      "align_content": null,
      "align_items": null,
      "align_self": null,
      "border": null,
      "bottom": null,
      "display": null,
      "flex": null,
      "flex_flow": null,
      "grid_area": null,
      "grid_auto_columns": null,
      "grid_auto_flow": null,
      "grid_auto_rows": null,
      "grid_column": null,
      "grid_gap": null,
      "grid_row": null,
      "grid_template_areas": null,
      "grid_template_columns": null,
      "grid_template_rows": null,
      "height": null,
      "justify_content": null,
      "justify_items": null,
      "left": null,
      "margin": null,
      "max_height": null,
      "max_width": null,
      "min_height": null,
      "min_width": null,
      "object_fit": null,
      "object_position": null,
      "order": null,
      "overflow": null,
      "overflow_x": null,
      "overflow_y": null,
      "padding": null,
      "right": null,
      "top": null,
      "visibility": null,
      "width": null
     }
    },
    "ac7e415b511a4ebb8990590e77102e4d": {
     "model_module": "@jupyter-widgets/controls",
     "model_module_version": "1.5.0",
     "model_name": "ProgressStyleModel",
     "state": {
      "_model_module": "@jupyter-widgets/controls",
      "_model_module_version": "1.5.0",
      "_model_name": "ProgressStyleModel",
      "_view_count": null,
      "_view_module": "@jupyter-widgets/base",
      "_view_module_version": "1.2.0",
      "_view_name": "StyleView",
      "bar_color": null,
      "description_width": ""
     }
    },
    "b26acc5d8a1f431db6d4e43bfa4b728a": {
     "model_module": "@jupyter-widgets/controls",
     "model_module_version": "1.5.0",
     "model_name": "ProgressStyleModel",
     "state": {
      "_model_module": "@jupyter-widgets/controls",
      "_model_module_version": "1.5.0",
      "_model_name": "ProgressStyleModel",
      "_view_count": null,
      "_view_module": "@jupyter-widgets/base",
      "_view_module_version": "1.2.0",
      "_view_name": "StyleView",
      "bar_color": null,
      "description_width": ""
     }
    },
    "b6ef066bd5c64a86afb70a3debff90ea": {
     "model_module": "@jupyter-widgets/controls",
     "model_module_version": "1.5.0",
     "model_name": "HBoxModel",
     "state": {
      "_dom_classes": [],
      "_model_module": "@jupyter-widgets/controls",
      "_model_module_version": "1.5.0",
      "_model_name": "HBoxModel",
      "_view_count": null,
      "_view_module": "@jupyter-widgets/controls",
      "_view_module_version": "1.5.0",
      "_view_name": "HBoxView",
      "box_style": "",
      "children": [
       "IPY_MODEL_91ba0b88c8c8472aa2b0ebe4d79193ad",
       "IPY_MODEL_c8b4466b2bdf4d2e9aa1659c9e6b9f06",
       "IPY_MODEL_81a26ba1596945f4aa5f8206b742b09d"
      ],
      "layout": "IPY_MODEL_9ed5bc241fde44b183e719a64155ff46"
     }
    },
    "b7df73fe56cf44d5a38752533898780e": {
     "model_module": "@jupyter-widgets/base",
     "model_module_version": "1.2.0",
     "model_name": "LayoutModel",
     "state": {
      "_model_module": "@jupyter-widgets/base",
      "_model_module_version": "1.2.0",
      "_model_name": "LayoutModel",
      "_view_count": null,
      "_view_module": "@jupyter-widgets/base",
      "_view_module_version": "1.2.0",
      "_view_name": "LayoutView",
      "align_content": null,
      "align_items": null,
      "align_self": null,
      "border": null,
      "bottom": null,
      "display": null,
      "flex": null,
      "flex_flow": null,
      "grid_area": null,
      "grid_auto_columns": null,
      "grid_auto_flow": null,
      "grid_auto_rows": null,
      "grid_column": null,
      "grid_gap": null,
      "grid_row": null,
      "grid_template_areas": null,
      "grid_template_columns": null,
      "grid_template_rows": null,
      "height": null,
      "justify_content": null,
      "justify_items": null,
      "left": null,
      "margin": null,
      "max_height": null,
      "max_width": null,
      "min_height": null,
      "min_width": null,
      "object_fit": null,
      "object_position": null,
      "order": null,
      "overflow": null,
      "overflow_x": null,
      "overflow_y": null,
      "padding": null,
      "right": null,
      "top": null,
      "visibility": null,
      "width": null
     }
    },
    "b7fce89989244997a7a02c2e2e13f2d8": {
     "model_module": "@jupyter-widgets/controls",
     "model_module_version": "1.5.0",
     "model_name": "DescriptionStyleModel",
     "state": {
      "_model_module": "@jupyter-widgets/controls",
      "_model_module_version": "1.5.0",
      "_model_name": "DescriptionStyleModel",
      "_view_count": null,
      "_view_module": "@jupyter-widgets/base",
      "_view_module_version": "1.2.0",
      "_view_name": "StyleView",
      "description_width": ""
     }
    },
    "b98ee2b322cb4756bfcc99b4a6acba62": {
     "model_module": "@jupyter-widgets/controls",
     "model_module_version": "1.5.0",
     "model_name": "FloatProgressModel",
     "state": {
      "_dom_classes": [],
      "_model_module": "@jupyter-widgets/controls",
      "_model_module_version": "1.5.0",
      "_model_name": "FloatProgressModel",
      "_view_count": null,
      "_view_module": "@jupyter-widgets/controls",
      "_view_module_version": "1.5.0",
      "_view_name": "ProgressView",
      "bar_style": "success",
      "description": "",
      "description_tooltip": null,
      "layout": "IPY_MODEL_0c3ba53eded3414aaa92760fc711550f",
      "max": 5581,
      "min": 0,
      "orientation": "horizontal",
      "style": "IPY_MODEL_f439c0157c8744859436ae36f8f717d5",
      "value": 5581
     }
    },
    "bd3728696ffb4e51b685fef984babde8": {
     "model_module": "@jupyter-widgets/controls",
     "model_module_version": "1.5.0",
     "model_name": "HTMLModel",
     "state": {
      "_dom_classes": [],
      "_model_module": "@jupyter-widgets/controls",
      "_model_module_version": "1.5.0",
      "_model_name": "HTMLModel",
      "_view_count": null,
      "_view_module": "@jupyter-widgets/controls",
      "_view_module_version": "1.5.0",
      "_view_name": "HTMLView",
      "description": "",
      "description_tooltip": null,
      "layout": "IPY_MODEL_b7df73fe56cf44d5a38752533898780e",
      "placeholder": "​",
      "style": "IPY_MODEL_3a17395fb4ca42ebaa126c8dd94c423b",
      "value": " 1.84k/1.84k [00:00&lt;00:00, 133kB/s]"
     }
    },
    "bdf4394578e343d4b4e8d3af5758f484": {
     "model_module": "@jupyter-widgets/base",
     "model_module_version": "1.2.0",
     "model_name": "LayoutModel",
     "state": {
      "_model_module": "@jupyter-widgets/base",
      "_model_module_version": "1.2.0",
      "_model_name": "LayoutModel",
      "_view_count": null,
      "_view_module": "@jupyter-widgets/base",
      "_view_module_version": "1.2.0",
      "_view_name": "LayoutView",
      "align_content": null,
      "align_items": null,
      "align_self": null,
      "border": null,
      "bottom": null,
      "display": null,
      "flex": null,
      "flex_flow": null,
      "grid_area": null,
      "grid_auto_columns": null,
      "grid_auto_flow": null,
      "grid_auto_rows": null,
      "grid_column": null,
      "grid_gap": null,
      "grid_row": null,
      "grid_template_areas": null,
      "grid_template_columns": null,
      "grid_template_rows": null,
      "height": null,
      "justify_content": null,
      "justify_items": null,
      "left": null,
      "margin": null,
      "max_height": null,
      "max_width": null,
      "min_height": null,
      "min_width": null,
      "object_fit": null,
      "object_position": null,
      "order": null,
      "overflow": null,
      "overflow_x": null,
      "overflow_y": null,
      "padding": null,
      "right": null,
      "top": null,
      "visibility": null,
      "width": null
     }
    },
    "c2bf2d14939046dc983968cdd9fff4ea": {
     "model_module": "@jupyter-widgets/controls",
     "model_module_version": "1.5.0",
     "model_name": "DescriptionStyleModel",
     "state": {
      "_model_module": "@jupyter-widgets/controls",
      "_model_module_version": "1.5.0",
      "_model_name": "DescriptionStyleModel",
      "_view_count": null,
      "_view_module": "@jupyter-widgets/base",
      "_view_module_version": "1.2.0",
      "_view_name": "StyleView",
      "description_width": ""
     }
    },
    "c58598b41c704d819ad3374fb4a0f45a": {
     "model_module": "@jupyter-widgets/controls",
     "model_module_version": "1.5.0",
     "model_name": "HTMLModel",
     "state": {
      "_dom_classes": [],
      "_model_module": "@jupyter-widgets/controls",
      "_model_module_version": "1.5.0",
      "_model_name": "HTMLModel",
      "_view_count": null,
      "_view_module": "@jupyter-widgets/controls",
      "_view_module_version": "1.5.0",
      "_view_name": "HTMLView",
      "description": "",
      "description_tooltip": null,
      "layout": "IPY_MODEL_f167bec24d384f4d9fd0656b3ccc258c",
      "placeholder": "​",
      "style": "IPY_MODEL_758b131cf0ab4202a4a4ff5b2593784a",
      "value": "Flattening the indices: 100%"
     }
    },
    "c5c1e71e6730423789152ec1428594bf": {
     "model_module": "@jupyter-widgets/base",
     "model_module_version": "1.2.0",
     "model_name": "LayoutModel",
     "state": {
      "_model_module": "@jupyter-widgets/base",
      "_model_module_version": "1.2.0",
      "_model_name": "LayoutModel",
      "_view_count": null,
      "_view_module": "@jupyter-widgets/base",
      "_view_module_version": "1.2.0",
      "_view_name": "LayoutView",
      "align_content": null,
      "align_items": null,
      "align_self": null,
      "border": null,
      "bottom": null,
      "display": null,
      "flex": null,
      "flex_flow": null,
      "grid_area": null,
      "grid_auto_columns": null,
      "grid_auto_flow": null,
      "grid_auto_rows": null,
      "grid_column": null,
      "grid_gap": null,
      "grid_row": null,
      "grid_template_areas": null,
      "grid_template_columns": null,
      "grid_template_rows": null,
      "height": null,
      "justify_content": null,
      "justify_items": null,
      "left": null,
      "margin": null,
      "max_height": null,
      "max_width": null,
      "min_height": null,
      "min_width": null,
      "object_fit": null,
      "object_position": null,
      "order": null,
      "overflow": null,
      "overflow_x": null,
      "overflow_y": null,
      "padding": null,
      "right": null,
      "top": null,
      "visibility": null,
      "width": null
     }
    },
    "c73185c40f06414caa19fdcdb67b6427": {
     "model_module": "@jupyter-widgets/base",
     "model_module_version": "1.2.0",
     "model_name": "LayoutModel",
     "state": {
      "_model_module": "@jupyter-widgets/base",
      "_model_module_version": "1.2.0",
      "_model_name": "LayoutModel",
      "_view_count": null,
      "_view_module": "@jupyter-widgets/base",
      "_view_module_version": "1.2.0",
      "_view_name": "LayoutView",
      "align_content": null,
      "align_items": null,
      "align_self": null,
      "border": null,
      "bottom": null,
      "display": null,
      "flex": null,
      "flex_flow": null,
      "grid_area": null,
      "grid_auto_columns": null,
      "grid_auto_flow": null,
      "grid_auto_rows": null,
      "grid_column": null,
      "grid_gap": null,
      "grid_row": null,
      "grid_template_areas": null,
      "grid_template_columns": null,
      "grid_template_rows": null,
      "height": null,
      "justify_content": null,
      "justify_items": null,
      "left": null,
      "margin": null,
      "max_height": null,
      "max_width": null,
      "min_height": null,
      "min_width": null,
      "object_fit": null,
      "object_position": null,
      "order": null,
      "overflow": null,
      "overflow_x": null,
      "overflow_y": null,
      "padding": null,
      "right": null,
      "top": null,
      "visibility": null,
      "width": null
     }
    },
    "c746424fa9be42408192b170f59344a7": {
     "model_module": "@jupyter-widgets/base",
     "model_module_version": "1.2.0",
     "model_name": "LayoutModel",
     "state": {
      "_model_module": "@jupyter-widgets/base",
      "_model_module_version": "1.2.0",
      "_model_name": "LayoutModel",
      "_view_count": null,
      "_view_module": "@jupyter-widgets/base",
      "_view_module_version": "1.2.0",
      "_view_name": "LayoutView",
      "align_content": null,
      "align_items": null,
      "align_self": null,
      "border": null,
      "bottom": null,
      "display": null,
      "flex": null,
      "flex_flow": null,
      "grid_area": null,
      "grid_auto_columns": null,
      "grid_auto_flow": null,
      "grid_auto_rows": null,
      "grid_column": null,
      "grid_gap": null,
      "grid_row": null,
      "grid_template_areas": null,
      "grid_template_columns": null,
      "grid_template_rows": null,
      "height": null,
      "justify_content": null,
      "justify_items": null,
      "left": null,
      "margin": null,
      "max_height": null,
      "max_width": null,
      "min_height": null,
      "min_width": null,
      "object_fit": null,
      "object_position": null,
      "order": null,
      "overflow": null,
      "overflow_x": null,
      "overflow_y": null,
      "padding": null,
      "right": null,
      "top": null,
      "visibility": null,
      "width": null
     }
    },
    "c8b4466b2bdf4d2e9aa1659c9e6b9f06": {
     "model_module": "@jupyter-widgets/controls",
     "model_module_version": "1.5.0",
     "model_name": "FloatProgressModel",
     "state": {
      "_dom_classes": [],
      "_model_module": "@jupyter-widgets/controls",
      "_model_module_version": "1.5.0",
      "_model_name": "FloatProgressModel",
      "_view_count": null,
      "_view_module": "@jupyter-widgets/controls",
      "_view_module_version": "1.5.0",
      "_view_name": "ProgressView",
      "bar_style": "success",
      "description": "",
      "description_tooltip": null,
      "layout": "IPY_MODEL_17813266dec9482dadbda4fabcc800cf",
      "max": 5581,
      "min": 0,
      "orientation": "horizontal",
      "style": "IPY_MODEL_f4d1fcdbbedc4f53939a383fe5ccf0b4",
      "value": 5581
     }
    },
    "ca5225a9228145a081d1f50ed08c3959": {
     "model_module": "@jupyter-widgets/controls",
     "model_module_version": "1.5.0",
     "model_name": "ProgressStyleModel",
     "state": {
      "_model_module": "@jupyter-widgets/controls",
      "_model_module_version": "1.5.0",
      "_model_name": "ProgressStyleModel",
      "_view_count": null,
      "_view_module": "@jupyter-widgets/base",
      "_view_module_version": "1.2.0",
      "_view_name": "StyleView",
      "bar_color": null,
      "description_width": ""
     }
    },
    "cb2b018bff25414a8f086ec016bbd0e4": {
     "model_module": "@jupyter-widgets/controls",
     "model_module_version": "1.5.0",
     "model_name": "HTMLModel",
     "state": {
      "_dom_classes": [],
      "_model_module": "@jupyter-widgets/controls",
      "_model_module_version": "1.5.0",
      "_model_name": "HTMLModel",
      "_view_count": null,
      "_view_module": "@jupyter-widgets/controls",
      "_view_module_version": "1.5.0",
      "_view_name": "HTMLView",
      "description": "",
      "description_tooltip": null,
      "layout": "IPY_MODEL_734b2ee4a3df4a8f9d36d05f8622c85f",
      "placeholder": "​",
      "style": "IPY_MODEL_6e864f0767fe4928be9543bd0a6e4c02",
      "value": " 1861/1861 [00:00&lt;00:00, 17160.90 examples/s]"
     }
    },
    "cdba1c2f975e4ba3a2731a267b509a33": {
     "model_module": "@jupyter-widgets/controls",
     "model_module_version": "1.5.0",
     "model_name": "HBoxModel",
     "state": {
      "_dom_classes": [],
      "_model_module": "@jupyter-widgets/controls",
      "_model_module_version": "1.5.0",
      "_model_name": "HBoxModel",
      "_view_count": null,
      "_view_module": "@jupyter-widgets/controls",
      "_view_module_version": "1.5.0",
      "_view_name": "HBoxView",
      "box_style": "",
      "children": [
       "IPY_MODEL_4b59ade7c5904061addb8b231b7ff3d5",
       "IPY_MODEL_72a9dc27698d4cbdb69fce09d37786e8",
       "IPY_MODEL_bd3728696ffb4e51b685fef984babde8"
      ],
      "layout": "IPY_MODEL_7b44efad7368459b906cc6342c714814"
     }
    },
    "d0039c81cd454a9b872fe98a24d1c62d": {
     "model_module": "@jupyter-widgets/base",
     "model_module_version": "1.2.0",
     "model_name": "LayoutModel",
     "state": {
      "_model_module": "@jupyter-widgets/base",
      "_model_module_version": "1.2.0",
      "_model_name": "LayoutModel",
      "_view_count": null,
      "_view_module": "@jupyter-widgets/base",
      "_view_module_version": "1.2.0",
      "_view_name": "LayoutView",
      "align_content": null,
      "align_items": null,
      "align_self": null,
      "border": null,
      "bottom": null,
      "display": null,
      "flex": null,
      "flex_flow": null,
      "grid_area": null,
      "grid_auto_columns": null,
      "grid_auto_flow": null,
      "grid_auto_rows": null,
      "grid_column": null,
      "grid_gap": null,
      "grid_row": null,
      "grid_template_areas": null,
      "grid_template_columns": null,
      "grid_template_rows": null,
      "height": null,
      "justify_content": null,
      "justify_items": null,
      "left": null,
      "margin": null,
      "max_height": null,
      "max_width": null,
      "min_height": null,
      "min_width": null,
      "object_fit": null,
      "object_position": null,
      "order": null,
      "overflow": null,
      "overflow_x": null,
      "overflow_y": null,
      "padding": null,
      "right": null,
      "top": null,
      "visibility": null,
      "width": null
     }
    },
    "d0c06ac58d3c4f92969755f59169a490": {
     "model_module": "@jupyter-widgets/base",
     "model_module_version": "1.2.0",
     "model_name": "LayoutModel",
     "state": {
      "_model_module": "@jupyter-widgets/base",
      "_model_module_version": "1.2.0",
      "_model_name": "LayoutModel",
      "_view_count": null,
      "_view_module": "@jupyter-widgets/base",
      "_view_module_version": "1.2.0",
      "_view_name": "LayoutView",
      "align_content": null,
      "align_items": null,
      "align_self": null,
      "border": null,
      "bottom": null,
      "display": null,
      "flex": null,
      "flex_flow": null,
      "grid_area": null,
      "grid_auto_columns": null,
      "grid_auto_flow": null,
      "grid_auto_rows": null,
      "grid_column": null,
      "grid_gap": null,
      "grid_row": null,
      "grid_template_areas": null,
      "grid_template_columns": null,
      "grid_template_rows": null,
      "height": null,
      "justify_content": null,
      "justify_items": null,
      "left": null,
      "margin": null,
      "max_height": null,
      "max_width": null,
      "min_height": null,
      "min_width": null,
      "object_fit": null,
      "object_position": null,
      "order": null,
      "overflow": null,
      "overflow_x": null,
      "overflow_y": null,
      "padding": null,
      "right": null,
      "top": null,
      "visibility": null,
      "width": null
     }
    },
    "d144dd75f5bc42b1a99cb66b85984b02": {
     "model_module": "@jupyter-widgets/base",
     "model_module_version": "1.2.0",
     "model_name": "LayoutModel",
     "state": {
      "_model_module": "@jupyter-widgets/base",
      "_model_module_version": "1.2.0",
      "_model_name": "LayoutModel",
      "_view_count": null,
      "_view_module": "@jupyter-widgets/base",
      "_view_module_version": "1.2.0",
      "_view_name": "LayoutView",
      "align_content": null,
      "align_items": null,
      "align_self": null,
      "border": null,
      "bottom": null,
      "display": null,
      "flex": null,
      "flex_flow": null,
      "grid_area": null,
      "grid_auto_columns": null,
      "grid_auto_flow": null,
      "grid_auto_rows": null,
      "grid_column": null,
      "grid_gap": null,
      "grid_row": null,
      "grid_template_areas": null,
      "grid_template_columns": null,
      "grid_template_rows": null,
      "height": null,
      "justify_content": null,
      "justify_items": null,
      "left": null,
      "margin": null,
      "max_height": null,
      "max_width": null,
      "min_height": null,
      "min_width": null,
      "object_fit": null,
      "object_position": null,
      "order": null,
      "overflow": null,
      "overflow_x": null,
      "overflow_y": null,
      "padding": null,
      "right": null,
      "top": null,
      "visibility": null,
      "width": null
     }
    },
    "d1e9f162dec747be95719fe30589d164": {
     "model_module": "@jupyter-widgets/base",
     "model_module_version": "1.2.0",
     "model_name": "LayoutModel",
     "state": {
      "_model_module": "@jupyter-widgets/base",
      "_model_module_version": "1.2.0",
      "_model_name": "LayoutModel",
      "_view_count": null,
      "_view_module": "@jupyter-widgets/base",
      "_view_module_version": "1.2.0",
      "_view_name": "LayoutView",
      "align_content": null,
      "align_items": null,
      "align_self": null,
      "border": null,
      "bottom": null,
      "display": null,
      "flex": null,
      "flex_flow": null,
      "grid_area": null,
      "grid_auto_columns": null,
      "grid_auto_flow": null,
      "grid_auto_rows": null,
      "grid_column": null,
      "grid_gap": null,
      "grid_row": null,
      "grid_template_areas": null,
      "grid_template_columns": null,
      "grid_template_rows": null,
      "height": null,
      "justify_content": null,
      "justify_items": null,
      "left": null,
      "margin": null,
      "max_height": null,
      "max_width": null,
      "min_height": null,
      "min_width": null,
      "object_fit": null,
      "object_position": null,
      "order": null,
      "overflow": null,
      "overflow_x": null,
      "overflow_y": null,
      "padding": null,
      "right": null,
      "top": null,
      "visibility": null,
      "width": null
     }
    },
    "d4a7473840494c018df35106ac94d582": {
     "model_module": "@jupyter-widgets/controls",
     "model_module_version": "1.5.0",
     "model_name": "ProgressStyleModel",
     "state": {
      "_model_module": "@jupyter-widgets/controls",
      "_model_module_version": "1.5.0",
      "_model_name": "ProgressStyleModel",
      "_view_count": null,
      "_view_module": "@jupyter-widgets/base",
      "_view_module_version": "1.2.0",
      "_view_name": "StyleView",
      "bar_color": null,
      "description_width": ""
     }
    },
    "d6c78a2d52c1428a8c45825e6090beb9": {
     "model_module": "@jupyter-widgets/controls",
     "model_module_version": "1.5.0",
     "model_name": "HTMLModel",
     "state": {
      "_dom_classes": [],
      "_model_module": "@jupyter-widgets/controls",
      "_model_module_version": "1.5.0",
      "_model_name": "HTMLModel",
      "_view_count": null,
      "_view_module": "@jupyter-widgets/controls",
      "_view_module_version": "1.5.0",
      "_view_name": "HTMLView",
      "description": "",
      "description_tooltip": null,
      "layout": "IPY_MODEL_ebec5600b8f041299137c90a540e61f8",
      "placeholder": "​",
      "style": "IPY_MODEL_6b7fda4b96344694bb23d875d0c6097d",
      "value": " 4.20k/4.20k [00:00&lt;00:00, 305kB/s]"
     }
    },
    "d9c0923778a54e1587e64982c471f6f7": {
     "model_module": "@jupyter-widgets/controls",
     "model_module_version": "1.5.0",
     "model_name": "HTMLModel",
     "state": {
      "_dom_classes": [],
      "_model_module": "@jupyter-widgets/controls",
      "_model_module_version": "1.5.0",
      "_model_name": "HTMLModel",
      "_view_count": null,
      "_view_module": "@jupyter-widgets/controls",
      "_view_module_version": "1.5.0",
      "_view_name": "HTMLView",
      "description": "",
      "description_tooltip": null,
      "layout": "IPY_MODEL_3caffb7b0d46454b8a3691cc0cc2ea92",
      "placeholder": "​",
      "style": "IPY_MODEL_816f1361b8384472a1c593069df2bdcc",
      "value": "Downloading builder script: 100%"
     }
    },
    "dc0d3392f6104084a7be9abf582e75dc": {
     "model_module": "@jupyter-widgets/controls",
     "model_module_version": "1.5.0",
     "model_name": "HBoxModel",
     "state": {
      "_dom_classes": [],
      "_model_module": "@jupyter-widgets/controls",
      "_model_module_version": "1.5.0",
      "_model_name": "HBoxModel",
      "_view_count": null,
      "_view_module": "@jupyter-widgets/controls",
      "_view_module_version": "1.5.0",
      "_view_name": "HBoxView",
      "box_style": "",
      "children": [
       "IPY_MODEL_44db4256e9fa431f97843344e1cc0dd1",
       "IPY_MODEL_877dd9678ba14998818d9e6e341a9b48",
       "IPY_MODEL_e2d50d64c2484d45ac27abd7c4ff6f91"
      ],
      "layout": "IPY_MODEL_93157de5f43b4d6a8fa2050678c634dc"
     }
    },
    "df82694d5e9a4a55bd92af4246a20455": {
     "model_module": "@jupyter-widgets/controls",
     "model_module_version": "1.5.0",
     "model_name": "HTMLModel",
     "state": {
      "_dom_classes": [],
      "_model_module": "@jupyter-widgets/controls",
      "_model_module_version": "1.5.0",
      "_model_name": "HTMLModel",
      "_view_count": null,
      "_view_module": "@jupyter-widgets/controls",
      "_view_module_version": "1.5.0",
      "_view_name": "HTMLView",
      "description": "",
      "description_tooltip": null,
      "layout": "IPY_MODEL_6c18a0c193664416bedf4f06c6de4964",
      "placeholder": "​",
      "style": "IPY_MODEL_6cc66767016a464c8e9dbdb3295f3c9c",
      "value": " 7442/0 [00:01&lt;00:00, 7796.16 examples/s]"
     }
    },
    "e223bd9187d14c08b5af821f8dc735a4": {
     "model_module": "@jupyter-widgets/controls",
     "model_module_version": "1.5.0",
     "model_name": "HTMLModel",
     "state": {
      "_dom_classes": [],
      "_model_module": "@jupyter-widgets/controls",
      "_model_module_version": "1.5.0",
      "_model_name": "HTMLModel",
      "_view_count": null,
      "_view_module": "@jupyter-widgets/controls",
      "_view_module_version": "1.5.0",
      "_view_name": "HTMLView",
      "description": "",
      "description_tooltip": null,
      "layout": "IPY_MODEL_79042f29d56842b8a4941d4b3c8db3b9",
      "placeholder": "​",
      "style": "IPY_MODEL_393a92207b5c4567a5c596c6cdcb5861",
      "value": "Downloading builder script: 100%"
     }
    },
    "e298441a37a84ead8d57cdb21b9bcef1": {
     "model_module": "@jupyter-widgets/controls",
     "model_module_version": "1.5.0",
     "model_name": "ProgressStyleModel",
     "state": {
      "_model_module": "@jupyter-widgets/controls",
      "_model_module_version": "1.5.0",
      "_model_name": "ProgressStyleModel",
      "_view_count": null,
      "_view_module": "@jupyter-widgets/base",
      "_view_module_version": "1.2.0",
      "_view_name": "StyleView",
      "bar_color": null,
      "description_width": ""
     }
    },
    "e2d50d64c2484d45ac27abd7c4ff6f91": {
     "model_module": "@jupyter-widgets/controls",
     "model_module_version": "1.5.0",
     "model_name": "HTMLModel",
     "state": {
      "_dom_classes": [],
      "_model_module": "@jupyter-widgets/controls",
      "_model_module_version": "1.5.0",
      "_model_name": "HTMLModel",
      "_view_count": null,
      "_view_module": "@jupyter-widgets/controls",
      "_view_module_version": "1.5.0",
      "_view_name": "HTMLView",
      "description": "",
      "description_tooltip": null,
      "layout": "IPY_MODEL_e56cd33f7d3a423ba5786857ddf8765f",
      "placeholder": "​",
      "style": "IPY_MODEL_06396210eb14414b88ab65c0d1a0bf04",
      "value": " 7.55k/7.55k [00:00&lt;00:00, 493kB/s]"
     }
    },
    "e35c95910c774914add04d18dcc45f4b": {
     "model_module": "@jupyter-widgets/base",
     "model_module_version": "1.2.0",
     "model_name": "LayoutModel",
     "state": {
      "_model_module": "@jupyter-widgets/base",
      "_model_module_version": "1.2.0",
      "_model_name": "LayoutModel",
      "_view_count": null,
      "_view_module": "@jupyter-widgets/base",
      "_view_module_version": "1.2.0",
      "_view_name": "LayoutView",
      "align_content": null,
      "align_items": null,
      "align_self": null,
      "border": null,
      "bottom": null,
      "display": null,
      "flex": null,
      "flex_flow": null,
      "grid_area": null,
      "grid_auto_columns": null,
      "grid_auto_flow": null,
      "grid_auto_rows": null,
      "grid_column": null,
      "grid_gap": null,
      "grid_row": null,
      "grid_template_areas": null,
      "grid_template_columns": null,
      "grid_template_rows": null,
      "height": null,
      "justify_content": null,
      "justify_items": null,
      "left": null,
      "margin": null,
      "max_height": null,
      "max_width": null,
      "min_height": null,
      "min_width": null,
      "object_fit": null,
      "object_position": null,
      "order": null,
      "overflow": null,
      "overflow_x": null,
      "overflow_y": null,
      "padding": null,
      "right": null,
      "top": null,
      "visibility": null,
      "width": null
     }
    },
    "e38e3f526d2743cba4252a348f6463ad": {
     "model_module": "@jupyter-widgets/controls",
     "model_module_version": "1.5.0",
     "model_name": "DescriptionStyleModel",
     "state": {
      "_model_module": "@jupyter-widgets/controls",
      "_model_module_version": "1.5.0",
      "_model_name": "DescriptionStyleModel",
      "_view_count": null,
      "_view_module": "@jupyter-widgets/base",
      "_view_module_version": "1.2.0",
      "_view_name": "StyleView",
      "description_width": ""
     }
    },
    "e56cd33f7d3a423ba5786857ddf8765f": {
     "model_module": "@jupyter-widgets/base",
     "model_module_version": "1.2.0",
     "model_name": "LayoutModel",
     "state": {
      "_model_module": "@jupyter-widgets/base",
      "_model_module_version": "1.2.0",
      "_model_name": "LayoutModel",
      "_view_count": null,
      "_view_module": "@jupyter-widgets/base",
      "_view_module_version": "1.2.0",
      "_view_name": "LayoutView",
      "align_content": null,
      "align_items": null,
      "align_self": null,
      "border": null,
      "bottom": null,
      "display": null,
      "flex": null,
      "flex_flow": null,
      "grid_area": null,
      "grid_auto_columns": null,
      "grid_auto_flow": null,
      "grid_auto_rows": null,
      "grid_column": null,
      "grid_gap": null,
      "grid_row": null,
      "grid_template_areas": null,
      "grid_template_columns": null,
      "grid_template_rows": null,
      "height": null,
      "justify_content": null,
      "justify_items": null,
      "left": null,
      "margin": null,
      "max_height": null,
      "max_width": null,
      "min_height": null,
      "min_width": null,
      "object_fit": null,
      "object_position": null,
      "order": null,
      "overflow": null,
      "overflow_x": null,
      "overflow_y": null,
      "padding": null,
      "right": null,
      "top": null,
      "visibility": null,
      "width": null
     }
    },
    "e5acca8401d1484b8e39449b3cf89d64": {
     "model_module": "@jupyter-widgets/base",
     "model_module_version": "1.2.0",
     "model_name": "LayoutModel",
     "state": {
      "_model_module": "@jupyter-widgets/base",
      "_model_module_version": "1.2.0",
      "_model_name": "LayoutModel",
      "_view_count": null,
      "_view_module": "@jupyter-widgets/base",
      "_view_module_version": "1.2.0",
      "_view_name": "LayoutView",
      "align_content": null,
      "align_items": null,
      "align_self": null,
      "border": null,
      "bottom": null,
      "display": null,
      "flex": null,
      "flex_flow": null,
      "grid_area": null,
      "grid_auto_columns": null,
      "grid_auto_flow": null,
      "grid_auto_rows": null,
      "grid_column": null,
      "grid_gap": null,
      "grid_row": null,
      "grid_template_areas": null,
      "grid_template_columns": null,
      "grid_template_rows": null,
      "height": null,
      "justify_content": null,
      "justify_items": null,
      "left": null,
      "margin": null,
      "max_height": null,
      "max_width": null,
      "min_height": null,
      "min_width": null,
      "object_fit": null,
      "object_position": null,
      "order": null,
      "overflow": null,
      "overflow_x": null,
      "overflow_y": null,
      "padding": null,
      "right": null,
      "top": null,
      "visibility": null,
      "width": null
     }
    },
    "e8390e6d06a4451989544953c94994f5": {
     "model_module": "@jupyter-widgets/base",
     "model_module_version": "1.2.0",
     "model_name": "LayoutModel",
     "state": {
      "_model_module": "@jupyter-widgets/base",
      "_model_module_version": "1.2.0",
      "_model_name": "LayoutModel",
      "_view_count": null,
      "_view_module": "@jupyter-widgets/base",
      "_view_module_version": "1.2.0",
      "_view_name": "LayoutView",
      "align_content": null,
      "align_items": null,
      "align_self": null,
      "border": null,
      "bottom": null,
      "display": null,
      "flex": null,
      "flex_flow": null,
      "grid_area": null,
      "grid_auto_columns": null,
      "grid_auto_flow": null,
      "grid_auto_rows": null,
      "grid_column": null,
      "grid_gap": null,
      "grid_row": null,
      "grid_template_areas": null,
      "grid_template_columns": null,
      "grid_template_rows": null,
      "height": null,
      "justify_content": null,
      "justify_items": null,
      "left": null,
      "margin": null,
      "max_height": null,
      "max_width": null,
      "min_height": null,
      "min_width": null,
      "object_fit": null,
      "object_position": null,
      "order": null,
      "overflow": null,
      "overflow_x": null,
      "overflow_y": null,
      "padding": null,
      "right": null,
      "top": null,
      "visibility": null,
      "width": null
     }
    },
    "ebdb2f2581464df2a264efee3efb3fd5": {
     "model_module": "@jupyter-widgets/controls",
     "model_module_version": "1.5.0",
     "model_name": "HTMLModel",
     "state": {
      "_dom_classes": [],
      "_model_module": "@jupyter-widgets/controls",
      "_model_module_version": "1.5.0",
      "_model_name": "HTMLModel",
      "_view_count": null,
      "_view_module": "@jupyter-widgets/controls",
      "_view_module_version": "1.5.0",
      "_view_name": "HTMLView",
      "description": "",
      "description_tooltip": null,
      "layout": "IPY_MODEL_d144dd75f5bc42b1a99cb66b85984b02",
      "placeholder": "​",
      "style": "IPY_MODEL_2a271dc50406472cb17768ec87a9f007",
      "value": " 380M/380M [00:02&lt;00:00, 197MB/s]"
     }
    },
    "ebec5600b8f041299137c90a540e61f8": {
     "model_module": "@jupyter-widgets/base",
     "model_module_version": "1.2.0",
     "model_name": "LayoutModel",
     "state": {
      "_model_module": "@jupyter-widgets/base",
      "_model_module_version": "1.2.0",
      "_model_name": "LayoutModel",
      "_view_count": null,
      "_view_module": "@jupyter-widgets/base",
      "_view_module_version": "1.2.0",
      "_view_name": "LayoutView",
      "align_content": null,
      "align_items": null,
      "align_self": null,
      "border": null,
      "bottom": null,
      "display": null,
      "flex": null,
      "flex_flow": null,
      "grid_area": null,
      "grid_auto_columns": null,
      "grid_auto_flow": null,
      "grid_auto_rows": null,
      "grid_column": null,
      "grid_gap": null,
      "grid_row": null,
      "grid_template_areas": null,
      "grid_template_columns": null,
      "grid_template_rows": null,
      "height": null,
      "justify_content": null,
      "justify_items": null,
      "left": null,
      "margin": null,
      "max_height": null,
      "max_width": null,
      "min_height": null,
      "min_width": null,
      "object_fit": null,
      "object_position": null,
      "order": null,
      "overflow": null,
      "overflow_x": null,
      "overflow_y": null,
      "padding": null,
      "right": null,
      "top": null,
      "visibility": null,
      "width": null
     }
    },
    "ecfc470f904145a4926c4825af1808f9": {
     "model_module": "@jupyter-widgets/controls",
     "model_module_version": "1.5.0",
     "model_name": "HTMLModel",
     "state": {
      "_dom_classes": [],
      "_model_module": "@jupyter-widgets/controls",
      "_model_module_version": "1.5.0",
      "_model_name": "HTMLModel",
      "_view_count": null,
      "_view_module": "@jupyter-widgets/controls",
      "_view_module_version": "1.5.0",
      "_view_name": "HTMLView",
      "description": "",
      "description_tooltip": null,
      "layout": "IPY_MODEL_8b9056cfaab149809d12c4a1e93d1947",
      "placeholder": "​",
      "style": "IPY_MODEL_13f81062dfa041ca8d078725326c5434",
      "value": " 159/159 [00:00&lt;00:00, 10.6kB/s]"
     }
    },
    "ed0dd3f014f443d78d374a4f471a419f": {
     "model_module": "@jupyter-widgets/controls",
     "model_module_version": "1.5.0",
     "model_name": "ProgressStyleModel",
     "state": {
      "_model_module": "@jupyter-widgets/controls",
      "_model_module_version": "1.5.0",
      "_model_name": "ProgressStyleModel",
      "_view_count": null,
      "_view_module": "@jupyter-widgets/base",
      "_view_module_version": "1.2.0",
      "_view_name": "StyleView",
      "bar_color": null,
      "description_width": ""
     }
    },
    "ef598ca36d7d481ba65d41493aa5d4a5": {
     "model_module": "@jupyter-widgets/base",
     "model_module_version": "1.2.0",
     "model_name": "LayoutModel",
     "state": {
      "_model_module": "@jupyter-widgets/base",
      "_model_module_version": "1.2.0",
      "_model_name": "LayoutModel",
      "_view_count": null,
      "_view_module": "@jupyter-widgets/base",
      "_view_module_version": "1.2.0",
      "_view_name": "LayoutView",
      "align_content": null,
      "align_items": null,
      "align_self": null,
      "border": null,
      "bottom": null,
      "display": null,
      "flex": null,
      "flex_flow": null,
      "grid_area": null,
      "grid_auto_columns": null,
      "grid_auto_flow": null,
      "grid_auto_rows": null,
      "grid_column": null,
      "grid_gap": null,
      "grid_row": null,
      "grid_template_areas": null,
      "grid_template_columns": null,
      "grid_template_rows": null,
      "height": null,
      "justify_content": null,
      "justify_items": null,
      "left": null,
      "margin": null,
      "max_height": null,
      "max_width": null,
      "min_height": null,
      "min_width": null,
      "object_fit": null,
      "object_position": null,
      "order": null,
      "overflow": null,
      "overflow_x": null,
      "overflow_y": null,
      "padding": null,
      "right": null,
      "top": null,
      "visibility": null,
      "width": null
     }
    },
    "f0e2ab6820a449938ecdd62a67f2c4f6": {
     "model_module": "@jupyter-widgets/controls",
     "model_module_version": "1.5.0",
     "model_name": "HTMLModel",
     "state": {
      "_dom_classes": [],
      "_model_module": "@jupyter-widgets/controls",
      "_model_module_version": "1.5.0",
      "_model_name": "HTMLModel",
      "_view_count": null,
      "_view_module": "@jupyter-widgets/controls",
      "_view_module_version": "1.5.0",
      "_view_name": "HTMLView",
      "description": "",
      "description_tooltip": null,
      "layout": "IPY_MODEL_ef598ca36d7d481ba65d41493aa5d4a5",
      "placeholder": "​",
      "style": "IPY_MODEL_1c80041653a348afa47e1ef9070cd3e9",
      "value": "Map (num_proc=4): 100%"
     }
    },
    "f167bec24d384f4d9fd0656b3ccc258c": {
     "model_module": "@jupyter-widgets/base",
     "model_module_version": "1.2.0",
     "model_name": "LayoutModel",
     "state": {
      "_model_module": "@jupyter-widgets/base",
      "_model_module_version": "1.2.0",
      "_model_name": "LayoutModel",
      "_view_count": null,
      "_view_module": "@jupyter-widgets/base",
      "_view_module_version": "1.2.0",
      "_view_name": "LayoutView",
      "align_content": null,
      "align_items": null,
      "align_self": null,
      "border": null,
      "bottom": null,
      "display": null,
      "flex": null,
      "flex_flow": null,
      "grid_area": null,
      "grid_auto_columns": null,
      "grid_auto_flow": null,
      "grid_auto_rows": null,
      "grid_column": null,
      "grid_gap": null,
      "grid_row": null,
      "grid_template_areas": null,
      "grid_template_columns": null,
      "grid_template_rows": null,
      "height": null,
      "justify_content": null,
      "justify_items": null,
      "left": null,
      "margin": null,
      "max_height": null,
      "max_width": null,
      "min_height": null,
      "min_width": null,
      "object_fit": null,
      "object_position": null,
      "order": null,
      "overflow": null,
      "overflow_x": null,
      "overflow_y": null,
      "padding": null,
      "right": null,
      "top": null,
      "visibility": null,
      "width": null
     }
    },
    "f219c59680414104b85737e205b14853": {
     "model_module": "@jupyter-widgets/base",
     "model_module_version": "1.2.0",
     "model_name": "LayoutModel",
     "state": {
      "_model_module": "@jupyter-widgets/base",
      "_model_module_version": "1.2.0",
      "_model_name": "LayoutModel",
      "_view_count": null,
      "_view_module": "@jupyter-widgets/base",
      "_view_module_version": "1.2.0",
      "_view_name": "LayoutView",
      "align_content": null,
      "align_items": null,
      "align_self": null,
      "border": null,
      "bottom": null,
      "display": null,
      "flex": null,
      "flex_flow": null,
      "grid_area": null,
      "grid_auto_columns": null,
      "grid_auto_flow": null,
      "grid_auto_rows": null,
      "grid_column": null,
      "grid_gap": null,
      "grid_row": null,
      "grid_template_areas": null,
      "grid_template_columns": null,
      "grid_template_rows": null,
      "height": null,
      "justify_content": null,
      "justify_items": null,
      "left": null,
      "margin": null,
      "max_height": null,
      "max_width": null,
      "min_height": null,
      "min_width": null,
      "object_fit": null,
      "object_position": null,
      "order": null,
      "overflow": null,
      "overflow_x": null,
      "overflow_y": null,
      "padding": null,
      "right": null,
      "top": null,
      "visibility": null,
      "width": null
     }
    },
    "f439c0157c8744859436ae36f8f717d5": {
     "model_module": "@jupyter-widgets/controls",
     "model_module_version": "1.5.0",
     "model_name": "ProgressStyleModel",
     "state": {
      "_model_module": "@jupyter-widgets/controls",
      "_model_module_version": "1.5.0",
      "_model_name": "ProgressStyleModel",
      "_view_count": null,
      "_view_module": "@jupyter-widgets/base",
      "_view_module_version": "1.2.0",
      "_view_name": "StyleView",
      "bar_color": null,
      "description_width": ""
     }
    },
    "f4d1fcdbbedc4f53939a383fe5ccf0b4": {
     "model_module": "@jupyter-widgets/controls",
     "model_module_version": "1.5.0",
     "model_name": "ProgressStyleModel",
     "state": {
      "_model_module": "@jupyter-widgets/controls",
      "_model_module_version": "1.5.0",
      "_model_name": "ProgressStyleModel",
      "_view_count": null,
      "_view_module": "@jupyter-widgets/base",
      "_view_module_version": "1.2.0",
      "_view_name": "StyleView",
      "bar_color": null,
      "description_width": ""
     }
    },
    "f59779fbe41241669d175389a0310136": {
     "model_module": "@jupyter-widgets/base",
     "model_module_version": "1.2.0",
     "model_name": "LayoutModel",
     "state": {
      "_model_module": "@jupyter-widgets/base",
      "_model_module_version": "1.2.0",
      "_model_name": "LayoutModel",
      "_view_count": null,
      "_view_module": "@jupyter-widgets/base",
      "_view_module_version": "1.2.0",
      "_view_name": "LayoutView",
      "align_content": null,
      "align_items": null,
      "align_self": null,
      "border": null,
      "bottom": null,
      "display": null,
      "flex": null,
      "flex_flow": null,
      "grid_area": null,
      "grid_auto_columns": null,
      "grid_auto_flow": null,
      "grid_auto_rows": null,
      "grid_column": null,
      "grid_gap": null,
      "grid_row": null,
      "grid_template_areas": null,
      "grid_template_columns": null,
      "grid_template_rows": null,
      "height": null,
      "justify_content": null,
      "justify_items": null,
      "left": null,
      "margin": null,
      "max_height": null,
      "max_width": null,
      "min_height": null,
      "min_width": null,
      "object_fit": null,
      "object_position": null,
      "order": null,
      "overflow": null,
      "overflow_x": null,
      "overflow_y": null,
      "padding": null,
      "right": null,
      "top": null,
      "visibility": null,
      "width": null
     }
    },
    "f64995ed735f421d88936626224a8a42": {
     "model_module": "@jupyter-widgets/controls",
     "model_module_version": "1.5.0",
     "model_name": "ProgressStyleModel",
     "state": {
      "_model_module": "@jupyter-widgets/controls",
      "_model_module_version": "1.5.0",
      "_model_name": "ProgressStyleModel",
      "_view_count": null,
      "_view_module": "@jupyter-widgets/base",
      "_view_module_version": "1.2.0",
      "_view_name": "StyleView",
      "bar_color": null,
      "description_width": ""
     }
    },
    "f658ae8010a14700a7da48d4df22a584": {
     "model_module": "@jupyter-widgets/controls",
     "model_module_version": "1.5.0",
     "model_name": "HTMLModel",
     "state": {
      "_dom_classes": [],
      "_model_module": "@jupyter-widgets/controls",
      "_model_module_version": "1.5.0",
      "_model_name": "HTMLModel",
      "_view_count": null,
      "_view_module": "@jupyter-widgets/controls",
      "_view_module_version": "1.5.0",
      "_view_name": "HTMLView",
      "description": "",
      "description_tooltip": null,
      "layout": "IPY_MODEL_d1e9f162dec747be95719fe30589d164",
      "placeholder": "​",
      "style": "IPY_MODEL_688c23037f844c25b947c70bbb8396af",
      "value": " 5581/5581 [00:00&lt;00:00, 19241.41 examples/s]"
     }
    },
    "f880048c3f78418a9eb3d526d2ec5d07": {
     "model_module": "@jupyter-widgets/controls",
     "model_module_version": "1.5.0",
     "model_name": "DescriptionStyleModel",
     "state": {
      "_model_module": "@jupyter-widgets/controls",
      "_model_module_version": "1.5.0",
      "_model_name": "DescriptionStyleModel",
      "_view_count": null,
      "_view_module": "@jupyter-widgets/base",
      "_view_module_version": "1.2.0",
      "_view_name": "StyleView",
      "description_width": ""
     }
    },
    "fb5afb6d9f384a5a9ceba113e10c2ed1": {
     "model_module": "@jupyter-widgets/controls",
     "model_module_version": "1.5.0",
     "model_name": "HTMLModel",
     "state": {
      "_dom_classes": [],
      "_model_module": "@jupyter-widgets/controls",
      "_model_module_version": "1.5.0",
      "_model_name": "HTMLModel",
      "_view_count": null,
      "_view_module": "@jupyter-widgets/controls",
      "_view_module_version": "1.5.0",
      "_view_name": "HTMLView",
      "description": "",
      "description_tooltip": null,
      "layout": "IPY_MODEL_fd58ca9fceea48e3aa7ff5a5c4706f45",
      "placeholder": "​",
      "style": "IPY_MODEL_f880048c3f78418a9eb3d526d2ec5d07",
      "value": "pytorch_model.bin: 100%"
     }
    },
    "fbe7cf11b97841dea309fc06a9053fca": {
     "model_module": "@jupyter-widgets/base",
     "model_module_version": "1.2.0",
     "model_name": "LayoutModel",
     "state": {
      "_model_module": "@jupyter-widgets/base",
      "_model_module_version": "1.2.0",
      "_model_name": "LayoutModel",
      "_view_count": null,
      "_view_module": "@jupyter-widgets/base",
      "_view_module_version": "1.2.0",
      "_view_name": "LayoutView",
      "align_content": null,
      "align_items": null,
      "align_self": null,
      "border": null,
      "bottom": null,
      "display": null,
      "flex": null,
      "flex_flow": null,
      "grid_area": null,
      "grid_auto_columns": null,
      "grid_auto_flow": null,
      "grid_auto_rows": null,
      "grid_column": null,
      "grid_gap": null,
      "grid_row": null,
      "grid_template_areas": null,
      "grid_template_columns": null,
      "grid_template_rows": null,
      "height": null,
      "justify_content": null,
      "justify_items": null,
      "left": null,
      "margin": null,
      "max_height": null,
      "max_width": null,
      "min_height": null,
      "min_width": null,
      "object_fit": null,
      "object_position": null,
      "order": null,
      "overflow": null,
      "overflow_x": null,
      "overflow_y": null,
      "padding": null,
      "right": null,
      "top": null,
      "visibility": null,
      "width": null
     }
    },
    "fc3e25ee5d4541978fdb6535705cdc1e": {
     "model_module": "@jupyter-widgets/base",
     "model_module_version": "1.2.0",
     "model_name": "LayoutModel",
     "state": {
      "_model_module": "@jupyter-widgets/base",
      "_model_module_version": "1.2.0",
      "_model_name": "LayoutModel",
      "_view_count": null,
      "_view_module": "@jupyter-widgets/base",
      "_view_module_version": "1.2.0",
      "_view_name": "LayoutView",
      "align_content": null,
      "align_items": null,
      "align_self": null,
      "border": null,
      "bottom": null,
      "display": null,
      "flex": null,
      "flex_flow": null,
      "grid_area": null,
      "grid_auto_columns": null,
      "grid_auto_flow": null,
      "grid_auto_rows": null,
      "grid_column": null,
      "grid_gap": null,
      "grid_row": null,
      "grid_template_areas": null,
      "grid_template_columns": null,
      "grid_template_rows": null,
      "height": null,
      "justify_content": null,
      "justify_items": null,
      "left": null,
      "margin": null,
      "max_height": null,
      "max_width": null,
      "min_height": null,
      "min_width": null,
      "object_fit": null,
      "object_position": null,
      "order": null,
      "overflow": null,
      "overflow_x": null,
      "overflow_y": null,
      "padding": null,
      "right": null,
      "top": null,
      "visibility": null,
      "width": null
     }
    },
    "fd58ca9fceea48e3aa7ff5a5c4706f45": {
     "model_module": "@jupyter-widgets/base",
     "model_module_version": "1.2.0",
     "model_name": "LayoutModel",
     "state": {
      "_model_module": "@jupyter-widgets/base",
      "_model_module_version": "1.2.0",
      "_model_name": "LayoutModel",
      "_view_count": null,
      "_view_module": "@jupyter-widgets/base",
      "_view_module_version": "1.2.0",
      "_view_name": "LayoutView",
      "align_content": null,
      "align_items": null,
      "align_self": null,
      "border": null,
      "bottom": null,
      "display": null,
      "flex": null,
      "flex_flow": null,
      "grid_area": null,
      "grid_auto_columns": null,
      "grid_auto_flow": null,
      "grid_auto_rows": null,
      "grid_column": null,
      "grid_gap": null,
      "grid_row": null,
      "grid_template_areas": null,
      "grid_template_columns": null,
      "grid_template_rows": null,
      "height": null,
      "justify_content": null,
      "justify_items": null,
      "left": null,
      "margin": null,
      "max_height": null,
      "max_width": null,
      "min_height": null,
      "min_width": null,
      "object_fit": null,
      "object_position": null,
      "order": null,
      "overflow": null,
      "overflow_x": null,
      "overflow_y": null,
      "padding": null,
      "right": null,
      "top": null,
      "visibility": null,
      "width": null
     }
    },
    "fe0cb548a659461a99564aad149aa6c6": {
     "model_module": "@jupyter-widgets/controls",
     "model_module_version": "1.5.0",
     "model_name": "FloatProgressModel",
     "state": {
      "_dom_classes": [],
      "_model_module": "@jupyter-widgets/controls",
      "_model_module_version": "1.5.0",
      "_model_name": "FloatProgressModel",
      "_view_count": null,
      "_view_module": "@jupyter-widgets/controls",
      "_view_module_version": "1.5.0",
      "_view_name": "ProgressView",
      "bar_style": "success",
      "description": "",
      "description_tooltip": null,
      "layout": "IPY_MODEL_0f62860783b44320991c7010ff47f199",
      "max": 1861,
      "min": 0,
      "orientation": "horizontal",
      "style": "IPY_MODEL_ed0dd3f014f443d78d374a4f471a419f",
      "value": 1861
     }
    }
   }
  }
 },
 "nbformat": 4,
 "nbformat_minor": 4
}
