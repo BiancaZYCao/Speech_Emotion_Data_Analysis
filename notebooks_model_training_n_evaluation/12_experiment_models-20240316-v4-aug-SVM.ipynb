{
 "cells": [
  {
   "cell_type": "code",
   "execution_count": 1,
   "id": "e8dba9c2-50a6-4935-85c4-36c696e704fb",
   "metadata": {},
   "outputs": [],
   "source": [
    "import numpy as np\n",
    "import pandas as pd\n",
    "import glob\n",
    "import os, sys\n",
    "import matplotlib.pyplot as plt\n",
    "import time\n",
    "import warnings\n",
    "warnings.simplefilter(action='ignore', category=FutureWarning)\n",
    "warnings.simplefilter(action='ignore', category=UserWarning)\n",
    "VERSION = 4\n",
    "RANDOM_SEED = 26"
   ]
  },
  {
   "cell_type": "markdown",
   "id": "97e31f3f-dc53-4213-8f43-3483d34dfec3",
   "metadata": {},
   "source": [
    "## Load data"
   ]
  },
  {
   "cell_type": "markdown",
   "id": "659733a7-b892-482e-b64f-459f44cc7a78",
   "metadata": {},
   "source": [
    "### Load Data - downsampled"
   ]
  },
  {
   "cell_type": "code",
   "execution_count": 2,
   "id": "21e49c50-5175-47ef-b9fa-8880cff6e84e",
   "metadata": {},
   "outputs": [
    {
     "name": "stdout",
     "output_type": "stream",
     "text": [
      "shape of test  set:  (1180, 1550)\n",
      "shape of train set:  (24885, 1546)\n"
     ]
    },
    {
     "data": {
      "text/plain": [
       "sentiment_value\n",
       "-1    7999\n",
       " 0    8560\n",
       " 1    8326\n",
       "Name: file_path, dtype: int64"
      ]
     },
     "execution_count": 2,
     "metadata": {},
     "output_type": "execute_result"
    }
   ],
   "source": [
    "# df_joint_train_org   = pd.read_csv(f'./features/cache_all_features_train_V{VERSION}.csv')\n",
    "# df_joint_train_org   = df_joint_train_org.drop(columns=['GNE_max_gne','GNE_mean_gne','GNE_stddev_gne','GNE_sum_gne'])\n",
    "                       \n",
    "# df_joint_test_org = pd.read_csv(f'./features/cache_all_features_test_V{VERSION}.csv').drop(\n",
    "#     columns=['GNE_max_gne','GNE_mean_gne','GNE_stddev_gne','GNE_sum_gne'])\n",
    "\n",
    "# print(\"shape of train set: \", df_joint_train_org.shape)\n",
    "# print(\"shape of test  set: \", df_joint_test_org.shape)\n",
    "\n",
    "\n",
    "# df_joint_train  = pd.read_csv(f'./features/cache_train_V4_resampled_2500.csv')\n",
    "df_joint_test = pd.read_csv(f'./cache_all_features_test_V4.csv')\n",
    "\n",
    "# print(\"shape of train set: \", df_joint_train.shape)\n",
    "print(\"shape of test  set: \", df_joint_test.shape)\n",
    "\n",
    "df_joint_train_aug  = pd.read_csv(f'./cache_train_V4_augmented.csv')\n",
    "feature_column_names = [i for i in df_joint_train_aug.columns \\\n",
    "                        if i not in ['file_path','renamed_file_path','split','sentiment_value','emotional_category']]\n",
    "             \n",
    "print(\"shape of train set: \", df_joint_train_aug.shape)\n",
    "df_joint_train_aug.groupby('sentiment_value')['file_path'].count()"
   ]
  },
  {
   "cell_type": "markdown",
   "id": "e7410936-ebd7-4086-8cef-258f277df6a5",
   "metadata": {},
   "source": [
    "### best guess feature combinations"
   ]
  },
  {
   "cell_type": "code",
   "execution_count": 3,
   "id": "1d60449b-65d7-4052-96bf-1b4ed2012440",
   "metadata": {},
   "outputs": [],
   "source": [
    "# generate selected features \n",
    "def generate_selected_features_by_type(feature_column_names,input,stats,number=1):\n",
    "    selected_result = []\n",
    "    for name in feature_column_names:\n",
    "        if input+\"_\"+stats in name:\n",
    "            selected_result.append(name)\n",
    "    if number < len(selected_result):\n",
    "        selected_result = selected_result[:number]\n",
    "    return selected_result\n",
    "\n",
    "# example to take mfcc 20 mean & std; mel32; zcr all 5 stats features\n",
    "feature_MFCC20_mean  = generate_selected_features_by_type(feature_column_names,\"mfcc\",\"mean\",20)\n",
    "feature_MFCC20_std   = generate_selected_features_by_type(feature_column_names,\"mfcc\",\"std\",20)\n",
    "feature_mel32_median = generate_selected_features_by_type(feature_column_names,\"mel32\",\"median\",32)\n",
    "feature_mel32_std    = generate_selected_features_by_type(feature_column_names,\"mel32\",\"std\",32)\n",
    "feature_zcr_stats    = generate_selected_features_by_type(feature_column_names,\"zcr\",\"\",5)\n",
    "feature_rms_stats    = generate_selected_features_by_type(feature_column_names,\"rms\",\"\",5)\n",
    "selected_spect = ['Spectrum_band_energy_difference','Spectrum_band_density_difference','Spectrum_center_of_gravity_spectrum','Spectrum_skewness_spectrum','Spectrum_kurtosis_spectrum', 'Spectrum_stddev_spectrum','Spectrum_band_density', 'Spectrum_band_energy']\n",
    "selected_formant = ['Formant_f1_mean','Formant_f1_median','Formant_f3_mean','Formant_fitch_vtl','Formant_mff','Formant_formant_dispersion']\n",
    "selected_pitch = ['Pitch_pitch_slope_without_octave_jumps', 'Pitch_q3_pitch','Pitch_stddev_pitch', 'Pitch_mean_absolute_pitch_slope','Pitch_mean_pitch', 'Pitch_max_pitch', 'Pitch_q1_pitch', 'Pitch_min_pitch']\n",
    "selected_intensity = ['Intensity_max_intensity', 'Intensity_q3_intensity','Intensity_median_intensity', 'Intensity_mean_intensity', 'Intensity_stddev_intensity','Intensity_relative_max_intensity_time']\n",
    "selected_HNR = ['HNR_stddev_hnr', 'HNR_mean_hnr','HNR_relative_min_hnr_time','HNR_max_hnr']\n",
    "selected_prosody = selected_intensity + selected_pitch # + ['Local Jitter','Local Shimmer']\n",
    "selected_feature_names = feature_MFCC20_mean + feature_MFCC20_std + feature_mel32_median + feature_mel32_std + \\\n",
    "                        feature_zcr_stats + feature_rms_stats + selected_intensity + selected_pitch "
   ]
  },
  {
   "cell_type": "code",
   "execution_count": 4,
   "id": "b35ff200-a507-4585-8895-cd6078d86277",
   "metadata": {},
   "outputs": [],
   "source": [
    "# default use augmented training set and balanced test set\n",
    "X_train = df_joint_train_aug[selected_feature_names]\n",
    "y_train_s = df_joint_train_aug['sentiment_value']\n",
    "y_train_e = df_joint_train_aug['emotional_category']\n",
    "\n",
    "# from sklearn.preprocessing import LabelEncoder\n",
    "# label_encoder = LabelEncoder()\n",
    "# y_e_num = label_encoder.fit_transform(y_train_e)\n",
    "\n",
    "X_test = df_joint_test[selected_feature_names]\n",
    "y_test_s = df_joint_test['sentiment_value']\n",
    "y_test_e = df_joint_test['emotional_category']\n",
    "\n",
    "# y_test_e_num = label_encoder.fit_transform(y_test_e)"
   ]
  },
  {
   "cell_type": "code",
   "execution_count": 5,
   "id": "2a1663e5-5686-40cc-9141-45e27b2d20d3",
   "metadata": {},
   "outputs": [
    {
     "data": {
      "text/plain": [
       "((24885, 128), (1180, 128))"
      ]
     },
     "execution_count": 5,
     "metadata": {},
     "output_type": "execute_result"
    }
   ],
   "source": [
    "X_train.shape, X_test.shape"
   ]
  },
  {
   "cell_type": "code",
   "execution_count": 6,
   "id": "b631ca7f",
   "metadata": {},
   "outputs": [],
   "source": [
    "# !pip install lightgbm"
   ]
  },
  {
   "cell_type": "markdown",
   "id": "ad8c5de8-86fb-4ded-9158-71f1f2c2958a",
   "metadata": {},
   "source": [
    "## Models"
   ]
  },
  {
   "cell_type": "code",
   "execution_count": 7,
   "id": "484c6370-fd24-4584-9484-c61b8e2fc061",
   "metadata": {},
   "outputs": [],
   "source": [
    "from sklearn.tree import DecisionTreeClassifier\n",
    "from sklearn.ensemble import RandomForestClassifier\n",
    "from sklearn.metrics import classification_report, confusion_matrix,accuracy_score, precision_recall_fscore_support\n",
    "from sklearn.svm import SVC\n",
    "from sklearn.neighbors import KNeighborsClassifier\n",
    "from sklearn.ensemble import GradientBoostingClassifier, AdaBoostClassifier,HistGradientBoostingClassifier\n",
    "from lightgbm import LGBMClassifier\n",
    "\n",
    "# Common adjustable parameters\n",
    "common_params = {\n",
    "    'RandomForest': {'n_estimators': 100, 'criterion':'gini', 'max_depth': None, \n",
    "                     'min_samples_split':100, 'bootstrap':True, 'n_jobs':3, 'random_state': RANDOM_SEED},\n",
    "    'SVM': {'kernel': 'rbf', 'C': 0.01, 'probability': True},\n",
    "    'SVM1': {'kernel': 'rbf', 'C': 0.05, 'probability': True},\n",
    "    'SVM2': {'kernel': 'rbf', 'C': 0.1, 'probability': True},\n",
    "    'SVM3': {'kernel': 'rbf', 'C': 0.5, 'probability': True},\n",
    "    'SVM4': {'kernel': 'rbf', 'C': 1, 'probability': True},\n",
    "    'SVM5': {'kernel': 'rbf', 'C': 2.0, 'probability': True},\n",
    "    'SVM6': {'kernel': 'rbf', 'C': 3.0, 'probability': True},\n",
    "    'SVM7': {'kernel': 'rbf', 'C': 5, 'probability': True},\n",
    "    'SVM8': {'kernel': 'rbf', 'C': 10, 'probability': True},\n",
    "    'SVM9': {'kernel': 'rbf', 'C': 20, 'probability': True},\n",
    "    'SVM10': {'kernel': 'rbf', 'C': 50, 'probability': True},\n",
    "    'KNN': {'n_neighbors': 2},\n",
    "    'KNN1': {'n_neighbors': 3},\n",
    "    'KNN2': {'n_neighbors': 4},\n",
    "    'KNN3': {'n_neighbors': 5},\n",
    "    'KNN4': {'n_neighbors': 6},\n",
    "    'KNN5': {'n_neighbors': 8},\n",
    "    'KNN6': {'n_neighbors': 10},\n",
    "    'KNN7': {'n_neighbors': 12},\n",
    "    'KNN8': {'n_neighbors': 15},\n",
    "    'KNN9': {'n_neighbors': 20},\n",
    "    'KNN10': {'n_neighbors': 30},\n",
    "    'GradientBoosting': {'loss': 'log_loss', 'learning_rate': 0.1, 'n_estimators': 100, 'subsample': 1.0,\n",
    "                         'criterion': 'friedman_mse', 'min_samples_split': 2, 'max_depth': 3},\n",
    "    'GradientBoostingFast': {'loss': 'log_loss', 'learning_rate': 0.1, 'max_iter': 100},\n",
    "    'AdaBoost': {'n_estimators': 50, 'learning_rate': 1.0},\n",
    "    'LightGBM': {'boosting_type': 'gbdt', 'learning_rate': 0.1, 'n_estimators': 100, 'subsample': 1.0,\n",
    "                 'min_child_samples': 20, 'max_depth': -1}    \n",
    "}\n",
    "\n",
    "# Models with common adjustable parameters\n",
    "dtree   = DecisionTreeClassifier()\n",
    "rforest = RandomForestClassifier(**common_params['RandomForest'])\n",
    "svm     = SVC(**common_params['SVM'])\n",
    "svm1     = SVC(**common_params['SVM1'])\n",
    "svm2     = SVC(**common_params['SVM2'])\n",
    "svm3     = SVC(**common_params['SVM3'])\n",
    "svm4     = SVC(**common_params['SVM4'])\n",
    "svm5     = SVC(**common_params['SVM5'])\n",
    "svm6     = SVC(**common_params['SVM6'])\n",
    "svm7     = SVC(**common_params['SVM7'])\n",
    "svm8     = SVC(**common_params['SVM8'])\n",
    "svm9     = SVC(**common_params['SVM9'])\n",
    "svm10     = SVC(**common_params['SVM10'])\n",
    "\n",
    "knn     = KNeighborsClassifier(**common_params['KNN'])\n",
    "knn1     = KNeighborsClassifier(**common_params['KNN1'])\n",
    "knn2     = KNeighborsClassifier(**common_params['KNN2'])\n",
    "knn3     = KNeighborsClassifier(**common_params['KNN3'])\n",
    "knn4     = KNeighborsClassifier(**common_params['KNN4'])\n",
    "knn5     = KNeighborsClassifier(**common_params['KNN5'])\n",
    "knn6     = KNeighborsClassifier(**common_params['KNN6'])\n",
    "knn7     = KNeighborsClassifier(**common_params['KNN7'])\n",
    "knn8     = KNeighborsClassifier(**common_params['KNN8'])\n",
    "knn9     = KNeighborsClassifier(**common_params['KNN9'])\n",
    "knn10     = KNeighborsClassifier(**common_params['KNN10'])\n",
    "gboost  = GradientBoostingClassifier(**common_params['GradientBoosting'])\n",
    "gb_fast = HistGradientBoostingClassifier(**common_params['GradientBoostingFast'])\n",
    "adaBoost= AdaBoostClassifier(**common_params['AdaBoost'])\n",
    "lightgbm=LGBMClassifier(**common_params['LightGBM'])"
   ]
  },
  {
   "cell_type": "code",
   "execution_count": 8,
   "id": "5204f103-77c7-430d-bdff-bc65a1e26af9",
   "metadata": {},
   "outputs": [],
   "source": [
    "# def exp_clf_with_feature_selected(clf_model, X_train, X_test, y_train, y_test):\n",
    "#     start = time.time()\n",
    "#     print(f'Model Name: {clf_model.__class__};\\n Train set shape {X_train.shape}, num of class {y_train.unique().size}')\n",
    "#     predictions = clf_model.fit(X_train, y_train).predict(X_test.values)\n",
    "    \n",
    "#     print(classification_report(y_test, predictions))\n",
    "#     print(confusion_matrix(y_test, predictions))\n",
    "    \n",
    "#     precision, recall, f1score, support = precision_recall_fscore_support(y_test, predictions, average=None)\n",
    "#     # TODO make all metrics into result dict for recording \n",
    "#     probabilities = clf_model.predict_proba(X_test.values)\n",
    "#     print('prbabilities distribution: \\n', pd.DataFrame(probabilities,columns=clf_model.classes_).describe())\n",
    "#     print(f'Time taken: {round(time.time()-start,3)} seconds.\\n')"
   ]
  },
  {
   "cell_type": "code",
   "execution_count": 9,
   "id": "580e3cad",
   "metadata": {},
   "outputs": [],
   "source": [
    "import pickle\n",
    "\n",
    "def exp_clf_with_feature_selected(clf_model, X_train, X_test, y_train, y_test,verbose=True):\n",
    "    start = time.time()\n",
    "    \n",
    "    clf_model.fit(X_train, y_train)\n",
    "    predictions = clf_model.predict(X_test.values)\n",
    "    \n",
    "    # Calculate metrics\n",
    "    report = classification_report(y_test, predictions, output_dict=True)\n",
    "    metrics = {\n",
    "        'accuracy': report['accuracy'],\n",
    "        'precision': report['macro avg']['precision'],\n",
    "        'recall': report['macro avg']['recall'],\n",
    "        'f1-score': report['macro avg']['f1-score']\n",
    "    }\n",
    "    for class_name in report.keys():\n",
    "        if class_name not in ['accuracy', 'macro avg', 'weighted avg']:\n",
    "            metrics[class_name+'_precision'] = report[class_name]['precision']\n",
    "            metrics[class_name+'_recall'] = report[class_name]['recall'],\n",
    "            metrics[class_name+'_f1-score'] = report[class_name]['f1-score']\n",
    "    \n",
    "    feature_columns = list(X_train.columns)\n",
    "    num_classes = y_train.nunique()\n",
    "    class_names = list(y_train.unique())\n",
    "    \n",
    "    model_filename = f\"./models/{clf_model.__class__.__name__}_model\"\n",
    "    model_filename += f\"_{num_classes}cls_{len(feature_columns)}feat_{round(report['accuracy']*100)}acc.pkl\"\n",
    "    with open(model_filename, 'wb') as file:\n",
    "        pickle.dump(clf_model, file)\n",
    "    \n",
    "    results = {**metrics,\n",
    "        'num_classes': num_classes,\n",
    "        'class_names': class_names,\n",
    "        'model_filename': model_filename,\n",
    "        'feature_columns': feature_columns,\n",
    "    }\n",
    "    \n",
    "    if verbose:\n",
    "        print(f\"Model Name: {clf_model.__class__.__name__};\\nTrain set shape {X_train.shape}, num of class {num_classes}\")\n",
    "        print(classification_report(y_test, predictions))\n",
    "        print(confusion_matrix(y_test, predictions))\n",
    "        probabilities = clf_model.predict_proba(X_test.values)\n",
    "        print('Probabilities distribution:\\n', pd.DataFrame(probabilities, columns=clf_model.classes_).describe())\n",
    "    print(f\"Model: {clf_model.__class__.__name__};Time taken: {round(time.time()-start, 3)} seconds.\\n\")\n",
    "\n",
    "    return results, clf_model\n"
   ]
  },
  {
   "cell_type": "markdown",
   "id": "dc283451-e5be-41f4-9936-9cfc26c33c4b",
   "metadata": {},
   "source": [
    "### Sentiment 3-class Classifier Sample code"
   ]
  },
  {
   "cell_type": "code",
   "execution_count": 10,
   "id": "d8f05f0d",
   "metadata": {},
   "outputs": [
    {
     "name": "stdout",
     "output_type": "stream",
     "text": [
      "Model Name: SVC;\n",
      "Train set shape (24885, 128), num of class 3\n",
      "              precision    recall  f1-score   support\n",
      "\n",
      "          -1       0.71      0.31      0.43       748\n",
      "           0       0.29      0.79      0.43       183\n",
      "           1       0.37      0.53      0.44       249\n",
      "\n",
      "    accuracy                           0.43      1180\n",
      "   macro avg       0.46      0.54      0.43      1180\n",
      "weighted avg       0.57      0.43      0.43      1180\n",
      "\n",
      "[[230 299 219]\n",
      " [ 28 145  10]\n",
      " [ 68  48 133]]\n",
      "Probabilities distribution:\n",
      "                 -1            0            1\n",
      "count  1180.000000  1180.000000  1180.000000\n",
      "mean      0.335558     0.329718     0.334724\n",
      "std       0.096860     0.246889     0.240948\n",
      "min       0.131565     0.007774     0.029126\n",
      "25%       0.255908     0.095174     0.115059\n",
      "50%       0.334962     0.292190     0.280060\n",
      "75%       0.425199     0.549067     0.539015\n",
      "max       0.539176     0.839309     0.822119\n",
      "Model: SVC;Time taken: 1146.989 seconds.\n",
      "\n"
     ]
    }
   ],
   "source": [
    "result, m_trained = exp_clf_with_feature_selected(svm, X_train, X_test, y_train_s, y_test_s)"
   ]
  },
  {
   "cell_type": "code",
   "execution_count": 11,
   "id": "8a36c005",
   "metadata": {},
   "outputs": [
    {
     "name": "stdout",
     "output_type": "stream",
     "text": [
      "Model Name: SVC;\n",
      "Train set shape (24885, 128), num of class 3\n",
      "              precision    recall  f1-score   support\n",
      "\n",
      "          -1       0.73      0.37      0.50       748\n",
      "           0       0.31      0.78      0.45       183\n",
      "           1       0.42      0.58      0.49       249\n",
      "\n",
      "    accuracy                           0.48      1180\n",
      "   macro avg       0.49      0.58      0.48      1180\n",
      "weighted avg       0.60      0.48      0.49      1180\n",
      "\n",
      "[[280 274 194]\n",
      " [ 36 143   4]\n",
      " [ 66  39 144]]\n",
      "Probabilities distribution:\n",
      "                 -1            0            1\n",
      "count  1180.000000  1180.000000  1180.000000\n",
      "mean      0.359899     0.315435     0.324666\n",
      "std       0.133785     0.269637     0.251623\n",
      "min       0.116418     0.001445     0.021641\n",
      "25%       0.245925     0.049692     0.097165\n",
      "50%       0.353773     0.254108     0.257981\n",
      "75%       0.480039     0.570074     0.537123\n",
      "max       0.698382     0.850168     0.866858\n",
      "Model: SVC;Time taken: 1049.68 seconds.\n",
      "\n"
     ]
    }
   ],
   "source": [
    "result, m_trained = exp_clf_with_feature_selected(svm1, X_train, X_test, y_train_s, y_test_s)"
   ]
  },
  {
   "cell_type": "code",
   "execution_count": 12,
   "id": "9674f237",
   "metadata": {},
   "outputs": [
    {
     "name": "stdout",
     "output_type": "stream",
     "text": [
      "Model Name: SVC;\n",
      "Train set shape (24885, 128), num of class 3\n",
      "              precision    recall  f1-score   support\n",
      "\n",
      "          -1       0.76      0.41      0.54       748\n",
      "           0       0.32      0.78      0.45       183\n",
      "           1       0.45      0.60      0.52       249\n",
      "\n",
      "    accuracy                           0.51      1180\n",
      "   macro avg       0.51      0.60      0.50      1180\n",
      "weighted avg       0.63      0.51      0.52      1180\n",
      "\n",
      "[[310 262 176]\n",
      " [ 38 142   3]\n",
      " [ 61  39 149]]\n",
      "Probabilities distribution:\n",
      "                 -1            0            1\n",
      "count  1180.000000  1180.000000  1180.000000\n",
      "mean      0.373087     0.311196     0.315718\n",
      "std       0.148389     0.275216     0.257432\n",
      "min       0.085989     0.000979     0.013441\n",
      "25%       0.248386     0.038406     0.086461\n",
      "50%       0.364767     0.243907     0.241159\n",
      "75%       0.496717     0.575376     0.534455\n",
      "max       0.851733     0.860904     0.911849\n",
      "Model: SVC;Time taken: 1074.791 seconds.\n",
      "\n"
     ]
    }
   ],
   "source": [
    "result, m_trained = exp_clf_with_feature_selected(svm2, X_train, X_test, y_train_s, y_test_s)"
   ]
  },
  {
   "cell_type": "code",
   "execution_count": 13,
   "id": "af5aad48",
   "metadata": {},
   "outputs": [
    {
     "name": "stdout",
     "output_type": "stream",
     "text": [
      "Model Name: SVC;\n",
      "Train set shape (24885, 128), num of class 3\n",
      "              precision    recall  f1-score   support\n",
      "\n",
      "          -1       0.80      0.54      0.65       748\n",
      "           0       0.34      0.81      0.48       183\n",
      "           1       0.60      0.58      0.59       249\n",
      "\n",
      "    accuracy                           0.59      1180\n",
      "   macro avg       0.58      0.65      0.57      1180\n",
      "weighted avg       0.69      0.59      0.61      1180\n",
      "\n",
      "[[404 251  93]\n",
      " [ 31 149   3]\n",
      " [ 69  35 145]]\n",
      "Probabilities distribution:\n",
      "                 -1            0            1\n",
      "count  1180.000000  1180.000000  1180.000000\n",
      "mean      0.412642     0.296897     0.290460\n",
      "std       0.200607     0.282704     0.270436\n",
      "min       0.025379     0.000046     0.005147\n",
      "25%       0.244274     0.020439     0.066483\n",
      "50%       0.402359     0.214961     0.190595\n",
      "75%       0.562785     0.557246     0.449629\n",
      "max       0.993212     0.892252     0.974306\n",
      "Model: SVC;Time taken: 893.69 seconds.\n",
      "\n"
     ]
    }
   ],
   "source": [
    "result, m_trained = exp_clf_with_feature_selected(svm3, X_train, X_test, y_train_s, y_test_s)"
   ]
  },
  {
   "cell_type": "code",
   "execution_count": 14,
   "id": "aa1e3fb5",
   "metadata": {},
   "outputs": [
    {
     "name": "stdout",
     "output_type": "stream",
     "text": [
      "Model Name: SVC;\n",
      "Train set shape (24885, 128), num of class 3\n",
      "              precision    recall  f1-score   support\n",
      "\n",
      "          -1       0.82      0.56      0.67       748\n",
      "           0       0.37      0.86      0.51       183\n",
      "           1       0.62      0.58      0.60       249\n",
      "\n",
      "    accuracy                           0.61      1180\n",
      "   macro avg       0.60      0.67      0.59      1180\n",
      "weighted avg       0.71      0.61      0.63      1180\n",
      "\n",
      "[[422 240  86]\n",
      " [ 23 157   3]\n",
      " [ 71  33 145]]\n",
      "Probabilities distribution:\n",
      "                 -1            0            1\n",
      "count  1180.000000  1180.000000  1180.000000\n",
      "mean      0.431888     0.285411     0.282702\n",
      "std       0.222502     0.281920     0.276715\n",
      "min       0.018461     0.000011     0.002643\n",
      "25%       0.252393     0.013795     0.060844\n",
      "50%       0.417532     0.192396     0.172921\n",
      "75%       0.599607     0.537712     0.434876\n",
      "max       0.997280     0.899496     0.981340\n",
      "Model: SVC;Time taken: 758.196 seconds.\n",
      "\n"
     ]
    }
   ],
   "source": [
    "result, m_trained = exp_clf_with_feature_selected(svm4, X_train, X_test, y_train_s, y_test_s)"
   ]
  },
  {
   "cell_type": "code",
   "execution_count": 15,
   "id": "d606a6ec",
   "metadata": {},
   "outputs": [
    {
     "name": "stdout",
     "output_type": "stream",
     "text": [
      "Model Name: SVC;\n",
      "Train set shape (24885, 128), num of class 3\n",
      "              precision    recall  f1-score   support\n",
      "\n",
      "          -1       0.82      0.59      0.69       748\n",
      "           0       0.39      0.86      0.53       183\n",
      "           1       0.63      0.59      0.61       249\n",
      "\n",
      "    accuracy                           0.63      1180\n",
      "   macro avg       0.61      0.68      0.61      1180\n",
      "weighted avg       0.71      0.63      0.65      1180\n",
      "\n",
      "[[444 221  83]\n",
      " [ 22 157   4]\n",
      " [ 75  28 146]]\n",
      "Probabilities distribution:\n",
      "                 -1            0            1\n",
      "count  1180.000000  1180.000000  1180.000000\n",
      "mean      0.454991     0.270760     0.274248\n",
      "std       0.242399     0.279414     0.281033\n",
      "min       0.014122     0.000002     0.002006\n",
      "25%       0.259123     0.009293     0.054476\n",
      "50%       0.434998     0.170139     0.159226\n",
      "75%       0.643571     0.503868     0.400522\n",
      "max       0.997988     0.905222     0.985190\n",
      "Model: SVC;Time taken: 699.37 seconds.\n",
      "\n"
     ]
    }
   ],
   "source": [
    "result, m_trained = exp_clf_with_feature_selected(svm5, X_train, X_test, y_train_s, y_test_s)"
   ]
  },
  {
   "cell_type": "code",
   "execution_count": 16,
   "id": "81b2f180",
   "metadata": {},
   "outputs": [
    {
     "name": "stdout",
     "output_type": "stream",
     "text": [
      "Model Name: SVC;\n",
      "Train set shape (24885, 128), num of class 3\n",
      "              precision    recall  f1-score   support\n",
      "\n",
      "          -1       0.82      0.61      0.70       748\n",
      "           0       0.40      0.84      0.54       183\n",
      "           1       0.63      0.59      0.61       249\n",
      "\n",
      "    accuracy                           0.64      1180\n",
      "   macro avg       0.62      0.68      0.62      1180\n",
      "weighted avg       0.72      0.64      0.66      1180\n",
      "\n",
      "[[459 205  84]\n",
      " [ 25 154   4]\n",
      " [ 74  27 148]]\n",
      "Probabilities distribution:\n",
      "                 -1            0            1\n",
      "count  1180.000000  1180.000000  1180.000000\n",
      "mean      0.466624     0.262174     0.271203\n",
      "std       0.252483     0.277264     0.284316\n",
      "min       0.009364     0.000001     0.002408\n",
      "25%       0.266756     0.007438     0.050290\n",
      "50%       0.448746     0.154962     0.152228\n",
      "75%       0.666259     0.486621     0.402417\n",
      "max       0.997407     0.918068     0.990281\n",
      "Model: SVC;Time taken: 685.572 seconds.\n",
      "\n"
     ]
    }
   ],
   "source": [
    "result, m_trained = exp_clf_with_feature_selected(svm6, X_train, X_test, y_train_s, y_test_s)"
   ]
  },
  {
   "cell_type": "code",
   "execution_count": 17,
   "id": "299c7853",
   "metadata": {},
   "outputs": [
    {
     "name": "stdout",
     "output_type": "stream",
     "text": [
      "Model Name: SVC;\n",
      "Train set shape (24885, 128), num of class 3\n",
      "              precision    recall  f1-score   support\n",
      "\n",
      "          -1       0.82      0.65      0.73       748\n",
      "           0       0.42      0.81      0.55       183\n",
      "           1       0.65      0.61      0.63       249\n",
      "\n",
      "    accuracy                           0.67      1180\n",
      "   macro avg       0.63      0.69      0.64      1180\n",
      "weighted avg       0.72      0.67      0.68      1180\n",
      "\n",
      "[[488 182  78]\n",
      " [ 31 149   3]\n",
      " [ 75  23 151]]\n",
      "Probabilities distribution:\n",
      "                 -1             0            1\n",
      "count  1180.000000  1.180000e+03  1180.000000\n",
      "mean      0.481468  2.525013e-01     0.266031\n",
      "std       0.262015  2.740661e-01     0.286198\n",
      "min       0.006268  9.674107e-07     0.001910\n",
      "25%       0.275684  5.819207e-03     0.046684\n",
      "50%       0.468235  1.453960e-01     0.141977\n",
      "75%       0.691326  4.530897e-01     0.393866\n",
      "max       0.996809  9.435031e-01     0.993585\n",
      "Model: SVC;Time taken: 662.859 seconds.\n",
      "\n"
     ]
    }
   ],
   "source": [
    "result, m_trained = exp_clf_with_feature_selected(svm7, X_train, X_test, y_train_s, y_test_s)"
   ]
  },
  {
   "cell_type": "code",
   "execution_count": 18,
   "id": "34ffff85",
   "metadata": {},
   "outputs": [
    {
     "name": "stdout",
     "output_type": "stream",
     "text": [
      "Model Name: SVC;\n",
      "Train set shape (24885, 128), num of class 3\n",
      "              precision    recall  f1-score   support\n",
      "\n",
      "          -1       0.83      0.69      0.75       748\n",
      "           0       0.45      0.81      0.58       183\n",
      "           1       0.66      0.61      0.63       249\n",
      "\n",
      "    accuracy                           0.69      1180\n",
      "   macro avg       0.65      0.70      0.65      1180\n",
      "weighted avg       0.73      0.69      0.70      1180\n",
      "\n",
      "[[515 156  77]\n",
      " [ 33 148   2]\n",
      " [ 76  22 151]]\n",
      "Probabilities distribution:\n",
      "                 -1             0            1\n",
      "count  1180.000000  1.180000e+03  1180.000000\n",
      "mean      0.499569  2.424879e-01     0.257943\n",
      "std       0.276258  2.719409e-01     0.290379\n",
      "min       0.003219  8.623728e-07     0.001037\n",
      "25%       0.278337  3.575818e-03     0.039197\n",
      "50%       0.496840  1.333750e-01     0.127898\n",
      "75%       0.725203  4.297191e-01     0.382482\n",
      "max       0.997026  9.665202e-01     0.996741\n",
      "Model: SVC;Time taken: 629.555 seconds.\n",
      "\n"
     ]
    }
   ],
   "source": [
    "result, m_trained = exp_clf_with_feature_selected(svm8, X_train, X_test, y_train_s, y_test_s)"
   ]
  },
  {
   "cell_type": "code",
   "execution_count": 19,
   "id": "cbe8ce04",
   "metadata": {},
   "outputs": [
    {
     "name": "stdout",
     "output_type": "stream",
     "text": [
      "Model Name: SVC;\n",
      "Train set shape (24885, 128), num of class 3\n",
      "              precision    recall  f1-score   support\n",
      "\n",
      "          -1       0.83      0.73      0.77       748\n",
      "           0       0.49      0.80      0.60       183\n",
      "           1       0.67      0.59      0.63       249\n",
      "\n",
      "    accuracy                           0.71      1180\n",
      "   macro avg       0.66      0.71      0.67      1180\n",
      "weighted avg       0.74      0.71      0.72      1180\n",
      "\n",
      "[[543 136  69]\n",
      " [ 33 147   3]\n",
      " [ 82  20 147]]\n",
      "Probabilities distribution:\n",
      "                 -1             0            1\n",
      "count  1180.000000  1.180000e+03  1180.000000\n",
      "mean      0.513337  2.369479e-01     0.249715\n",
      "std       0.287223  2.730310e-01     0.292536\n",
      "min       0.001964  7.325207e-07     0.000758\n",
      "25%       0.280285  2.520250e-03     0.035648\n",
      "50%       0.516720  1.207621e-01     0.114526\n",
      "75%       0.753457  4.085441e-01     0.367213\n",
      "max       0.998818  9.792954e-01     0.998025\n",
      "Model: SVC;Time taken: 606.62 seconds.\n",
      "\n"
     ]
    }
   ],
   "source": [
    "result, m_trained = exp_clf_with_feature_selected(svm9, X_train, X_test, y_train_s, y_test_s)"
   ]
  },
  {
   "cell_type": "code",
   "execution_count": 20,
   "id": "5e233785",
   "metadata": {},
   "outputs": [
    {
     "name": "stdout",
     "output_type": "stream",
     "text": [
      "Model Name: SVC;\n",
      "Train set shape (24885, 128), num of class 3\n",
      "              precision    recall  f1-score   support\n",
      "\n",
      "          -1       0.83      0.74      0.78       748\n",
      "           0       0.49      0.80      0.61       183\n",
      "           1       0.68      0.59      0.63       249\n",
      "\n",
      "    accuracy                           0.72      1180\n",
      "   macro avg       0.67      0.71      0.67      1180\n",
      "weighted avg       0.74      0.72      0.72      1180\n",
      "\n",
      "[[552 129  67]\n",
      " [ 34 146   3]\n",
      " [ 81  22 146]]\n",
      "Probabilities distribution:\n",
      "                 -1             0            1\n",
      "count  1180.000000  1.180000e+03  1180.000000\n",
      "mean      0.528210  2.334483e-01     0.238342\n",
      "std       0.302032  2.791225e-01     0.294236\n",
      "min       0.000001  1.424814e-07     0.000374\n",
      "25%       0.270987  1.499340e-03     0.028608\n",
      "50%       0.536833  9.631812e-02     0.098305\n",
      "75%       0.792668  4.142379e-01     0.336991\n",
      "max       0.999569  9.867499e-01     0.999998\n",
      "Model: SVC;Time taken: 585.486 seconds.\n",
      "\n"
     ]
    }
   ],
   "source": [
    "result, m_trained = exp_clf_with_feature_selected(svm10, X_train, X_test, y_train_s, y_test_s)"
   ]
  },
  {
   "cell_type": "code",
   "execution_count": 21,
   "id": "4de039fa",
   "metadata": {
    "scrolled": true
   },
   "outputs": [],
   "source": [
    "# change model as the first parameter in the function \n",
    "# result, m_trained = exp_clf_with_feature_selected(gb_fast, X_train, X_test, y_train_s, y_test_s)"
   ]
  },
  {
   "cell_type": "code",
   "execution_count": 22,
   "id": "6b01cadc",
   "metadata": {},
   "outputs": [],
   "source": [
    "# result, m_trained = exp_clf_with_feature_selected(adaBoost, X_train, X_test, y_train_s, y_test_s)"
   ]
  },
  {
   "cell_type": "code",
   "execution_count": 23,
   "id": "78d211a8",
   "metadata": {},
   "outputs": [],
   "source": [
    "# result, m_trained = exp_clf_with_feature_selected(gboost, X_train, X_test, y_train_s, y_test_s)"
   ]
  },
  {
   "cell_type": "code",
   "execution_count": 24,
   "id": "2f2913c3",
   "metadata": {},
   "outputs": [],
   "source": [
    "# result, m_trained = exp_clf_with_feature_selected(knn, X_train, X_test, y_train_s, y_test_s)"
   ]
  },
  {
   "cell_type": "code",
   "execution_count": 25,
   "id": "ba91bdce",
   "metadata": {},
   "outputs": [],
   "source": [
    "# result, m_trained = exp_clf_with_feature_selected(svm, X_train, X_test, y_train_s, y_test_s)"
   ]
  },
  {
   "cell_type": "code",
   "execution_count": 26,
   "id": "cf1ba4ed",
   "metadata": {},
   "outputs": [],
   "source": [
    "# result, m_trained = exp_clf_with_feature_selected(rforest, X_train, X_test, y_train_s, y_test_s)"
   ]
  },
  {
   "cell_type": "code",
   "execution_count": 27,
   "id": "70e917ab",
   "metadata": {},
   "outputs": [],
   "source": [
    "# result, m_trained = exp_clf_with_feature_selected(lightgbm, X_train, X_test, y_train_s, y_test_s)"
   ]
  },
  {
   "cell_type": "code",
   "execution_count": 28,
   "id": "5f37ce60",
   "metadata": {},
   "outputs": [],
   "source": [
    "# result, m_trained = exp_clf_with_feature_selected(dtree, X_train, X_test, y_train_s, y_test_s)"
   ]
  },
  {
   "cell_type": "markdown",
   "id": "3b833185",
   "metadata": {},
   "source": [
    "### How to save experiment metrics result"
   ]
  },
  {
   "cell_type": "code",
   "execution_count": null,
   "id": "3de33925",
   "metadata": {},
   "outputs": [
    {
     "name": "stdout",
     "output_type": "stream",
     "text": [
      "Model: SVC;Time taken: 997.225 seconds.\n",
      "\n",
      "Model: SVC;Time taken: 909.189 seconds.\n",
      "\n",
      "Model: SVC;Time taken: 847.941 seconds.\n",
      "\n",
      "Model: SVC;Time taken: 754.93 seconds.\n",
      "\n"
     ]
    }
   ],
   "source": [
    "exp_results = []\n",
    "for clf_model in [svm,svm1,svm2,svm3,svm4,svm5,svm6,svm7,svm8,svm9,svm10]:\n",
    "    result, m_trained = exp_clf_with_feature_selected(clf_model, X_train, X_test, y_train_s, y_test_s,verbose=False)\n",
    "    exp_results.append(result)\n",
    "pd.DataFrame(exp_results)"
   ]
  },
  {
   "cell_type": "code",
   "execution_count": null,
   "id": "40156aa6",
   "metadata": {},
   "outputs": [],
   "source": [
    "# exp_results = []\n",
    "# for clf_model in [rforest,adaBoost,gb_fast,gboost,knn,svm,lightgbm,dtree]:\n",
    "#     result, m_trained = exp_clf_with_feature_selected(clf_model, X_train, X_test, y_train_s, y_test_s,verbose=False)\n",
    "#     exp_results.append(result)\n",
    "# pd.DataFrame(exp_results)"
   ]
  },
  {
   "cell_type": "code",
   "execution_count": null,
   "id": "77cc7ece",
   "metadata": {},
   "outputs": [],
   "source": [
    "pd.DataFrame(exp_results).to_excel(\"exp_result-0316-v4-aug-svm.xlsx\")"
   ]
  },
  {
   "cell_type": "markdown",
   "id": "fb541dfd",
   "metadata": {},
   "source": [
    "### Emotion 8-class"
   ]
  },
  {
   "cell_type": "code",
   "execution_count": null,
   "id": "24440668",
   "metadata": {},
   "outputs": [],
   "source": [
    "exp_results = []\n",
    "for clf_model in [svm,svm1,svm2,svm3,svm4,svm5,svm6,svm7,svm8,svm9,svm10]:\n",
    "    result, m_trained = exp_clf_with_feature_selected(clf_model, X_train, X_test, y_train_e, y_test_e,verbose=False)\n",
    "    exp_results.append(result)\n",
    "pd.DataFrame(exp_results)"
   ]
  },
  {
   "cell_type": "code",
   "execution_count": null,
   "id": "f7883e44",
   "metadata": {},
   "outputs": [],
   "source": [
    "pd.DataFrame(exp_results).to_excel(\"exp_result-0316-v4-aug-svm-8.xlsx\")"
   ]
  },
  {
   "cell_type": "code",
   "execution_count": null,
   "id": "6cf1db22",
   "metadata": {},
   "outputs": [],
   "source": [
    "exp_clf_with_feature_selected(svm, X_train, X_test, y_train_e, y_test_e)"
   ]
  },
  {
   "cell_type": "code",
   "execution_count": null,
   "id": "56e916c4",
   "metadata": {},
   "outputs": [],
   "source": [
    "exp_clf_with_feature_selected(svm1, X_train, X_test, y_train_e, y_test_e)"
   ]
  },
  {
   "cell_type": "code",
   "execution_count": null,
   "id": "aae09f3b",
   "metadata": {},
   "outputs": [],
   "source": [
    "exp_clf_with_feature_selected(svm2, X_train, X_test, y_train_e, y_test_e)"
   ]
  },
  {
   "cell_type": "code",
   "execution_count": null,
   "id": "b8966d8b",
   "metadata": {},
   "outputs": [],
   "source": [
    "exp_clf_with_feature_selected(svm3, X_train, X_test, y_train_e, y_test_e)"
   ]
  },
  {
   "cell_type": "code",
   "execution_count": null,
   "id": "0c6d02fd",
   "metadata": {},
   "outputs": [],
   "source": [
    "exp_clf_with_feature_selected(svm4, X_train, X_test, y_train_e, y_test_e)"
   ]
  },
  {
   "cell_type": "code",
   "execution_count": null,
   "id": "739df984",
   "metadata": {},
   "outputs": [],
   "source": [
    "exp_clf_with_feature_selected(svm5, X_train, X_test, y_train_e, y_test_e)"
   ]
  },
  {
   "cell_type": "code",
   "execution_count": null,
   "id": "48db931e",
   "metadata": {},
   "outputs": [],
   "source": [
    "exp_clf_with_feature_selected(svm6, X_train, X_test, y_train_e, y_test_e)"
   ]
  },
  {
   "cell_type": "code",
   "execution_count": null,
   "id": "6819ff1a",
   "metadata": {},
   "outputs": [],
   "source": [
    "exp_clf_with_feature_selected(svm7, X_train, X_test, y_train_e, y_test_e)"
   ]
  },
  {
   "cell_type": "code",
   "execution_count": null,
   "id": "66294227",
   "metadata": {},
   "outputs": [],
   "source": [
    "exp_clf_with_feature_selected(svm8, X_train, X_test, y_train_e, y_test_e)"
   ]
  },
  {
   "cell_type": "code",
   "execution_count": null,
   "id": "016d3345",
   "metadata": {},
   "outputs": [],
   "source": [
    "exp_clf_with_feature_selected(svm9, X_train, X_test, y_train_e, y_test_e)"
   ]
  },
  {
   "cell_type": "code",
   "execution_count": null,
   "id": "7ffb4990",
   "metadata": {},
   "outputs": [],
   "source": [
    "exp_clf_with_feature_selected(svm10, X_train, X_test, y_train_e, y_test_e)"
   ]
  },
  {
   "cell_type": "code",
   "execution_count": null,
   "id": "bb331830",
   "metadata": {},
   "outputs": [],
   "source": []
  },
  {
   "cell_type": "code",
   "execution_count": null,
   "id": "e50763a8",
   "metadata": {},
   "outputs": [],
   "source": [
    "# change y_lable into emo\n",
    "# exp_clf_with_feature_selected(gb_fast, X_train, X_test, y_train_e, y_test_e)"
   ]
  },
  {
   "cell_type": "code",
   "execution_count": null,
   "id": "0f4e477a",
   "metadata": {},
   "outputs": [],
   "source": [
    "# check how long on normal gradient boosting\n",
    "# exp_clf_with_feature_selected(gboost, X_train, X_test, y_train_e, y_test_e)"
   ]
  },
  {
   "cell_type": "markdown",
   "id": "11eaa733-2935-4b1d-a787-5b6a7912a554",
   "metadata": {},
   "source": [
    "### Threshold tuning"
   ]
  },
  {
   "cell_type": "code",
   "execution_count": null,
   "id": "657ed0f6-90f6-4f5c-9825-c9fc877abecc",
   "metadata": {},
   "outputs": [],
   "source": [
    "# Calculate accuracy for the given threshold\n",
    "\n",
    "probabilities = svm3.predict_proba(X_test)\n",
    "\n",
    "def calc_acc_by_thres(probabilities, threshold, y_test):\n",
    "    predictions_adj = []\n",
    "    # Loop through each sample's probabilities\n",
    "    for probs in probabilities:\n",
    "        if probs[0] > threshold:\n",
    "            pred_class = -1\n",
    "        elif probs[1] > probs[2]:\n",
    "            pred_class = 0\n",
    "        else:\n",
    "            pred_class = 1\n",
    "        predictions_adj.append(pred_class)\n",
    "    accuracy = np.mean(predictions_adj == y_test)\n",
    "    precision, recall, f1score, _ = precision_recall_fscore_support(y_test_s, predictions_adj, average=None)\n",
    "    return accuracy, min(f1score), np.var(f1score)\n",
    "\n",
    "best_threshold = None\n",
    "best_accuracy = 0.0\n",
    "best_f1score = 0.0\n",
    "# best_f1s_var = 10\n",
    "\n",
    "# Define a range of threshold values to try\n",
    "threshold_range = np.linspace(0.25, 0.75, 100)\n",
    "for threshold in threshold_range:\n",
    "    accuracy, min_f1_score, var_f1_score = calc_acc_by_thres(probabilities, threshold, y_test_s)\n",
    "    # if accuracy > best_accuracy:\n",
    "    #     best_accuracy = accuracy\n",
    "    #     best_threshold = threshold\n",
    "    if min_f1_score > best_f1score:\n",
    "        best_f1score = min_f1_score\n",
    "        best_threshold = threshold\n",
    "        best_accuracy = accuracy\n",
    "    # if var_f1_score < best_f1s_var:\n",
    "    #     best_f1score = min_f1_score\n",
    "    #     best_threshold = threshold\n",
    "    #     best_accuracy = accuracy\n",
    "    #     best_f1s_var = var_f1_score\n",
    "        \n",
    "\n",
    "print(\"Best Threshold:\", best_threshold)\n",
    "print(\"Best Accuracy:\", best_accuracy)\n",
    "print(\"Best min f1 score:\", best_f1score)\n",
    "# print(\"Best var f1 score:\", best_f1s_var)"
   ]
  },
  {
   "cell_type": "code",
   "execution_count": null,
   "id": "13905459",
   "metadata": {},
   "outputs": [],
   "source": [
    "# if you want to adjust the threshold; Predict probabilities for each class label;\n",
    "# best threshold and best_threshold x 110% 120% 130% to see trend\n",
    "probabilities = svm.predict_proba(X_test)\n",
    "\n",
    "threshold = best_threshold\n",
    "print('BEST Threshold:', threshold) \n",
    "predictions_adj = []\n",
    "for probs in probabilities:\n",
    "    if probs[0] > threshold:\n",
    "        pred_class = -1\n",
    "    elif probs[1] > probs[2]:\n",
    "        pred_class = 0\n",
    "    else:\n",
    "        pred_class = 1\n",
    "    predictions_adj.append(pred_class)\n",
    "print(classification_report(y_test_s, predictions_adj))\n",
    "print(confusion_matrix(y_test_s, predictions_adj))\n",
    "print(\"Accuracy:\", np.mean(predictions_adj == y_test_s))\n",
    "\n",
    "threshold = best_threshold*1.1\n",
    "print('Threshold-2:', threshold) \n",
    "predictions_adj = []\n",
    "for probs in probabilities:\n",
    "    if probs[0] > threshold:\n",
    "        pred_class = -1\n",
    "    elif probs[1] > probs[2]:\n",
    "        pred_class = 0\n",
    "    else:\n",
    "        pred_class = 1\n",
    "    predictions_adj.append(pred_class)\n",
    "print(classification_report(y_test_s, predictions_adj))\n",
    "print(confusion_matrix(y_test_s, predictions_adj))\n",
    "print(\"Accuracy:\", np.mean(predictions_adj == y_test_s))\n",
    "\n",
    "threshold = best_threshold*1.2\n",
    "print('Threshold-3:', threshold) \n",
    "predictions_adj = []\n",
    "for probs in probabilities:\n",
    "    if probs[0] > threshold:\n",
    "        pred_class = -1\n",
    "    elif probs[1] > probs[2]:\n",
    "        pred_class = 0\n",
    "    else:\n",
    "        pred_class = 1\n",
    "    predictions_adj.append(pred_class)\n",
    "print(classification_report(y_test_s, predictions_adj))\n",
    "print(confusion_matrix(y_test_s, predictions_adj))\n",
    "print(\"Accuracy:\", np.mean(predictions_adj == y_test_s))\n",
    "\n",
    "threshold = best_threshold*1.3\n",
    "print('Threshold-4:', threshold) \n",
    "predictions_adj = []\n",
    "for probs in probabilities:\n",
    "    if probs[0] > threshold:\n",
    "        pred_class = -1\n",
    "    elif probs[1] > probs[2]:\n",
    "        pred_class = 0\n",
    "    else:\n",
    "        pred_class = 1\n",
    "    predictions_adj.append(pred_class)\n",
    "print(classification_report(y_test_s, predictions_adj))\n",
    "print(confusion_matrix(y_test_s, predictions_adj))\n",
    "print(\"Accuracy:\", np.mean(predictions_adj == y_test_s))"
   ]
  },
  {
   "cell_type": "code",
   "execution_count": null,
   "id": "de7dd4fe",
   "metadata": {},
   "outputs": [],
   "source": []
  }
 ],
 "metadata": {
  "kernelspec": {
   "display_name": "Python 3 (ipykernel)",
   "language": "python",
   "name": "python3"
  },
  "language_info": {
   "codemirror_mode": {
    "name": "ipython",
    "version": 3
   },
   "file_extension": ".py",
   "mimetype": "text/x-python",
   "name": "python",
   "nbconvert_exporter": "python",
   "pygments_lexer": "ipython3",
   "version": "3.11.4"
  }
 },
 "nbformat": 4,
 "nbformat_minor": 5
}
