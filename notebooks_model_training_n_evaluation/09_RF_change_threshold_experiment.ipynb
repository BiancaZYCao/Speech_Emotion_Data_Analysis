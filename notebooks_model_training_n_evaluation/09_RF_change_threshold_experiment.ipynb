{
 "cells": [
  {
   "cell_type": "code",
   "execution_count": 2,
   "id": "e8dba9c2-50a6-4935-85c4-36c696e704fb",
   "metadata": {},
   "outputs": [],
   "source": [
    "import numpy as np\n",
    "import pandas as pd\n",
    "import glob\n",
    "import os, sys\n",
    "import matplotlib.pyplot as plt\n",
    "import time\n",
    "import warnings\n",
    "warnings.simplefilter(action='ignore', category=FutureWarning)\n",
    "VERSION = 4"
   ]
  },
  {
   "cell_type": "markdown",
   "id": "659733a7-b892-482e-b64f-459f44cc7a78",
   "metadata": {},
   "source": [
    "### Load Data"
   ]
  },
  {
   "cell_type": "code",
   "execution_count": 3,
   "id": "c4f92909-5a35-4597-a92b-199d51328884",
   "metadata": {},
   "outputs": [
    {
     "name": "stdout",
     "output_type": "stream",
     "text": [
      "shape of train set:  (10981, 1550)\n"
     ]
    }
   ],
   "source": [
    "df_joint_train = pd.read_csv(f'./features/cache_all_features_train_V4.csv')\n",
    "\n",
    "print(\"shape of train set: \", df_joint_train.shape)"
   ]
  },
  {
   "cell_type": "code",
   "execution_count": 12,
   "id": "863ff3eb-390c-49af-a43c-74cd1bfaa9ff",
   "metadata": {},
   "outputs": [
    {
     "name": "stdout",
     "output_type": "stream",
     "text": [
      "shape of train set:  (13904, 1547)\n",
      "shape of test  set:  (1180, 1550)\n"
     ]
    }
   ],
   "source": [
    "df_joint_train_aug = pd.read_csv(f'./dataset/splitted/cache_all_features_augenmented_train_data_v4_1547features.csv')\n",
    "feature_column_names = [i for i in df_joint_train.columns \\\n",
    "                        if i not in ['file_path','renamed_file_path','split','sentiment_value','emotional_category']]\n",
    "\n",
    "df_joint_test = pd.read_csv(f'./features/cache_all_features_test_V{VERSION}.csv')\n",
    "\n",
    "print(\"shape of train set: \", df_joint_train_aug.shape)\n",
    "print(\"shape of test  set: \", df_joint_test.shape)"
   ]
  },
  {
   "cell_type": "code",
   "execution_count": 13,
   "id": "b35ff200-a507-4585-8895-cd6078d86277",
   "metadata": {},
   "outputs": [],
   "source": [
    "X_train = df_joint_train[feature_column_names]\n",
    "y_train_s = df_joint_train['sentiment_value']\n",
    "y_train_e = df_joint_train['emotional_category']\n",
    "\n",
    "from sklearn.preprocessing import LabelEncoder\n",
    "label_encoder = LabelEncoder()\n",
    "y_e_num = label_encoder.fit_transform(y_train_e)\n",
    "\n",
    "X_test = df_joint_test[feature_column_names]\n",
    "y_test_s = df_joint_test['sentiment_value']\n",
    "y_test_e = df_joint_test['emotional_category']\n",
    "\n",
    "from sklearn.preprocessing import LabelEncoder\n",
    "label_encoder = LabelEncoder()\n",
    "y_test_e_num = label_encoder.fit_transform(y_test_e)"
   ]
  },
  {
   "cell_type": "code",
   "execution_count": 9,
   "id": "1d60449b-65d7-4052-96bf-1b4ed2012440",
   "metadata": {},
   "outputs": [],
   "source": [
    "### generate selected features \n",
    "# PREFIXES = {'mfcc': 60,'chroma': 12, 'mel32': 32, 'mel64': 64,'mel128': 128, 'zcr': 1, 'rms': 1}\n",
    "def generate_selected_features_by_type(feature_column_names,input,stats,number=1):\n",
    "    selected_result = []\n",
    "    for name in feature_column_names:\n",
    "        if input+\"_\"+stats in name:\n",
    "            selected_result.append(name)\n",
    "    if number < len(selected_result):\n",
    "        selected_result = selected_result[:number]\n",
    "    return selected_result\n",
    "\n",
    "# example to take mfcc 20 mean & std; mel32; zcr all 5 stats features\n",
    "feature_MFCC20_mean = generate_selected_features_by_type(feature_column_names,\"mfcc\",\"mean\",20)\n",
    "feature_MFCC20_std  = generate_selected_features_by_type(feature_column_names,\"mfcc\",\"std\",20)\n",
    "feature_mel32_stats = generate_selected_features_by_type(feature_column_names,\"mel32\",\"\",32*5)\n",
    "feature_zcr_stats   = generate_selected_features_by_type(feature_column_names,\"zcr\",\"\",5)\n",
    "feature_rms_stats   = generate_selected_features_by_type(feature_column_names,\"rms\",\"\",5)"
   ]
  },
  {
   "cell_type": "code",
   "execution_count": 10,
   "id": "cb07ae91-fb8f-47fd-8ae4-020865c37312",
   "metadata": {},
   "outputs": [],
   "source": [
    "# # REF: previous study selected prosody features\n",
    "selected_spect = ['Spectrum_band_energy_difference','Spectrum_band_density_difference','Spectrum_center_of_gravity_spectrum','Spectrum_skewness_spectrum','Spectrum_kurtosis_spectrum', 'Spectrum_stddev_spectrum','Spectrum_band_density', 'Spectrum_band_energy']\n",
    "selected_formant = ['Formant_f1_mean','Formant_f1_median','Formant_f3_mean','Formant_fitch_vtl','Formant_mff','Formant_formant_dispersion']\n",
    "selected_GNE = ['GNE_max_gne', 'GNE_stddev_gne', 'GNE_mean_gne', 'GNE_sum_gne']\n",
    "selected_pitch = ['Pitch_pitch_slope_without_octave_jumps', 'Pitch_q3_pitch','Pitch_stddev_pitch', 'Pitch_mean_absolute_pitch_slope','Pitch_mean_pitch', 'Pitch_max_pitch', 'Pitch_q1_pitch', 'Pitch_min_pitch']\n",
    "selected_intensity = ['Intensity_max_intensity', 'Intensity_q3_intensity','Intensity_median_intensity', 'Intensity_mean_intensity', 'Intensity_stddev_intensity','Intensity_relative_max_intensity_time']\n",
    "selected_HNR = ['HNR_stddev_hnr', 'HNR_mean_hnr','HNR_relative_min_hnr_time','HNR_max_hnr']\n",
    "selected_prosody = selected_spect + selected_formant + selected_HNR + selected_intensity + selected_pitch + ['Local Jitter','Local Shimmer']"
   ]
  },
  {
   "cell_type": "markdown",
   "id": "ad8c5de8-86fb-4ded-9158-71f1f2c2958a",
   "metadata": {},
   "source": [
    "## Experiments"
   ]
  },
  {
   "cell_type": "code",
   "execution_count": 14,
   "id": "2a1663e5-5686-40cc-9141-45e27b2d20d3",
   "metadata": {},
   "outputs": [],
   "source": [
    "# Example try MFCC 20 mean & std + ZCR & RMS\n",
    "# feature_column_names = feature_MFCC20_mean + feature_MFCC20_std + feature_zcr_stats + feature_rms_stats\n",
    "feature_column_names = selected_prosody\n",
    "\n",
    "X_train = df_joint_train[feature_column_names]\n",
    "X_test = df_joint_test[feature_column_names]"
   ]
  },
  {
   "cell_type": "markdown",
   "id": "11eaa733-2935-4b1d-a787-5b6a7912a554",
   "metadata": {},
   "source": [
    "### Sentiment 3-class Decision Tree Classifier"
   ]
  },
  {
   "cell_type": "code",
   "execution_count": 15,
   "id": "b1144b56-b488-4c63-bcb1-d4b0f3e9de93",
   "metadata": {},
   "outputs": [
    {
     "name": "stdout",
     "output_type": "stream",
     "text": [
      "              precision    recall  f1-score   support\n",
      "\n",
      "          -1       0.78      0.78      0.78       748\n",
      "           0       0.57      0.57      0.57       183\n",
      "           1       0.54      0.54      0.54       249\n",
      "\n",
      "    accuracy                           0.70      1180\n",
      "   macro avg       0.63      0.63      0.63      1180\n",
      "weighted avg       0.70      0.70      0.70      1180\n",
      "\n"
     ]
    }
   ],
   "source": [
    "from sklearn.tree import DecisionTreeClassifier\n",
    "dtree = DecisionTreeClassifier()\n",
    "dtree.fit(X_train, y_train_s)\n",
    "predictions = dtree.predict(X_test)\n",
    "from sklearn.metrics import classification_report,confusion_matrix\n",
    "print(classification_report(y_test_s,predictions))"
   ]
  },
  {
   "cell_type": "markdown",
   "id": "dc283451-e5be-41f4-9936-9cfc26c33c4b",
   "metadata": {},
   "source": [
    "### Sentiment 3-class Random Forest Classifier"
   ]
  },
  {
   "cell_type": "code",
   "execution_count": 17,
   "id": "28f5bdc7",
   "metadata": {},
   "outputs": [
    {
     "name": "stdout",
     "output_type": "stream",
     "text": [
      "              precision    recall  f1-score   support\n",
      "\n",
      "          -1       0.75      0.96      0.84       748\n",
      "           0       0.81      0.48      0.60       183\n",
      "           1       0.89      0.43      0.58       249\n",
      "\n",
      "    accuracy                           0.77      1180\n",
      "   macro avg       0.82      0.62      0.68      1180\n",
      "weighted avg       0.79      0.77      0.75      1180\n",
      "\n",
      "[[717  19  12]\n",
      " [ 95  87   1]\n",
      " [140   1 108]]\n"
     ]
    },
    {
     "data": {
      "image/png": "[encoded data removed]",
      "text/plain": [
       "<Figure size 640x480 with 1 Axes>"
      ]
     },
     "metadata": {},
     "output_type": "display_data"
    }
   ],
   "source": [
    "from sklearn.ensemble import RandomForestClassifier\n",
    "from sklearn.metrics import classification_report, confusion_matrix\n",
    "\n",
    "rand_forest = RandomForestClassifier()\n",
    "rand_forest.fit(X_train, y_train_s)\n",
    "predictions = rand_forest.predict(X_test) \n",
    "# Evaluate the model\n",
    "print(classification_report(y_test_s, predictions))\n",
    "print(confusion_matrix(y_test_s, predictions))\n",
    "# Visualize feature importances\n",
    "feature_importances = pd.Series(rand_forest.feature_importances_, index=X_train.columns)\n",
    "feature_importances.nlargest(20).plot(kind='barh')\n",
    "plt.show()"
   ]
  },
  {
   "cell_type": "code",
   "execution_count": 18,
   "id": "e3a2fe17-67a5-47dd-ae0a-8fdc8daaa543",
   "metadata": {},
   "outputs": [],
   "source": [
    "# # if you want to adjust the threshold \n",
    "# Predict probabilities for each class label\n",
    "probabilities = rand_forest.predict_proba(X_test)"
   ]
  },
  {
   "cell_type": "code",
   "execution_count": 19,
   "id": "4f8c5fac-bae0-4395-883e-8f5e588098d4",
   "metadata": {},
   "outputs": [
    {
     "data": {
      "text/plain": [
       "array([[0.66, 0.28, 0.06],\n",
       "       [0.87, 0.07, 0.06],\n",
       "       [1.  , 0.  , 0.  ],\n",
       "       ...,\n",
       "       [0.96, 0.04, 0.  ],\n",
       "       [0.9 , 0.1 , 0.  ],\n",
       "       [0.97, 0.02, 0.01]])"
      ]
     },
     "execution_count": 19,
     "metadata": {},
     "output_type": "execute_result"
    }
   ],
   "source": [
    "probabilities"
   ]
  },
  {
   "cell_type": "code",
   "execution_count": 20,
   "id": "657ed0f6-90f6-4f5c-9825-c9fc877abecc",
   "metadata": {},
   "outputs": [
    {
     "name": "stdout",
     "output_type": "stream",
     "text": [
      "Best Threshold: 0.5126262626262627\n",
      "Best Accuracy: 0.785593220338983\n",
      "Best min f1 score: 0.635\n"
     ]
    }
   ],
   "source": [
    "# Calculate accuracy for the given threshold\n",
    "from sklearn.metrics import precision_recall_fscore_support\n",
    "def calc_acc_by_thres(probabilities, threshold, y_test):\n",
    "    predictions_adj = []\n",
    "    # Loop through each sample's probabilities\n",
    "    for probs in probabilities:\n",
    "        if probs[0] > threshold:\n",
    "            pred_class = -1\n",
    "        elif probs[1] > probs[2]:\n",
    "            pred_class = 0\n",
    "        else:\n",
    "            pred_class = 1\n",
    "        predictions_adj.append(pred_class)\n",
    "    accuracy = np.mean(predictions_adj == y_test)\n",
    "    precision, recall, f1score, _ = precision_recall_fscore_support(y_test_s, predictions_adj, average=None)\n",
    "    return accuracy, min(f1score), np.var(f1score)\n",
    "\n",
    "best_threshold = None\n",
    "best_accuracy = 0.0\n",
    "best_f1score = 0.0\n",
    "# best_f1s_var = 10\n",
    "\n",
    "# Define a range of threshold values to try\n",
    "threshold_range = np.linspace(0.25, 0.75, 100)\n",
    "for threshold in threshold_range:\n",
    "    accuracy, min_f1_score, var_f1_score = calc_acc_by_thres(probabilities, threshold, y_test_s)\n",
    "    if accuracy > best_accuracy:\n",
    "        best_accuracy = accuracy\n",
    "        best_threshold = threshold\n",
    "        best_f1score = min_f1_score\n",
    "    # if min_f1_score > best_f1score:\n",
    "    #     best_f1score = min_f1_score\n",
    "    #     best_threshold = threshold\n",
    "    #     best_accuracy = accuracy\n",
    "    # if var_f1_score < best_f1s_var:\n",
    "    #     best_f1score = min_f1_score\n",
    "    #     best_threshold = threshold\n",
    "    #     best_accuracy = accuracy\n",
    "    #     best_f1s_var = var_f1_score\n",
    "        \n",
    "\n",
    "print(\"Best Threshold:\", best_threshold)\n",
    "print(\"Best Accuracy:\", best_accuracy)\n",
    "print(\"Best min f1 score:\", best_f1score)\n",
    "# print(\"Best var f1 score:\", best_f1s_var)"
   ]
  },
  {
   "cell_type": "markdown",
   "id": "fd21eb8c-7cea-4515-9ae6-b5158077b34d",
   "metadata": {},
   "source": [
    "Best Threshold: 0.643939393939394\n",
    "Best Accuracy: 0.7601694915254237\n",
    "Best min f1 score: 0.6577777777777778  \n",
    "Best Threshold: 0.5025252525252526\n",
    "Best Accuracy: 0.7889830508474577\n",
    "Best min f1 score: 0.6138107416879796"
   ]
  },
  {
   "cell_type": "code",
   "execution_count": 13,
   "id": "159c22ed-05aa-4f3a-9164-be08873b82fe",
   "metadata": {},
   "outputs": [
    {
     "name": "stdout",
     "output_type": "stream",
     "text": [
      "threshold 0.5025\n",
      "              precision    recall  f1-score   support\n",
      "\n",
      "          -1       0.80      0.91      0.85       748\n",
      "           0       0.67      0.64      0.66       183\n",
      "           1       0.82      0.52      0.63       249\n",
      "\n",
      "    accuracy                           0.78      1180\n",
      "   macro avg       0.76      0.69      0.71      1180\n",
      "weighted avg       0.79      0.78      0.78      1180\n",
      "\n",
      "[[679  45  24]\n",
      " [ 60 118   5]\n",
      " [108  12 129]]\n",
      "Accuracy: 0.7847457627118644\n",
      "threshold 0.6439\n",
      "              precision    recall  f1-score   support\n",
      "\n",
      "          -1       0.86      0.80      0.83       748\n",
      "           0       0.57      0.79      0.66       183\n",
      "           1       0.68      0.62      0.65       249\n",
      "\n",
      "    accuracy                           0.76      1180\n",
      "   macro avg       0.70      0.74      0.71      1180\n",
      "weighted avg       0.77      0.76      0.76      1180\n",
      "\n",
      "[[599  85  64]\n",
      " [ 31 144   8]\n",
      " [ 70  24 155]]\n",
      "Accuracy: 0.7610169491525424\n"
     ]
    }
   ],
   "source": [
    "print('threshold 0.5025') \n",
    "threshold = 0.5328 \n",
    "\n",
    "predictions_adj = []\n",
    "for probs in probabilities:\n",
    "    if probs[0] > threshold:\n",
    "        pred_class = -1\n",
    "    elif probs[1] > probs[2]:\n",
    "        pred_class = 0\n",
    "    else:\n",
    "        pred_class = 1\n",
    "    predictions_adj.append(pred_class)\n",
    "print(classification_report(y_test_s, predictions_adj))\n",
    "print(confusion_matrix(y_test_s, predictions_adj))\n",
    "print(\"Accuracy:\", np.mean(predictions_adj == y_test_s))\n",
    "\n",
    "print('threshold 0.6439') \n",
    "threshold = 0.6237\n",
    "predictions_adj = []\n",
    "for probs in probabilities:\n",
    "    if probs[0] > threshold:\n",
    "        pred_class = -1\n",
    "    elif probs[1] > probs[2]:\n",
    "        pred_class = 0\n",
    "    else:\n",
    "        pred_class = 1\n",
    "    predictions_adj.append(pred_class)\n",
    "print(classification_report(y_test_s, predictions_adj))\n",
    "print(confusion_matrix(y_test_s, predictions_adj))\n",
    "print(\"Accuracy:\", np.mean(predictions_adj == y_test_s))"
   ]
  },
  {
   "cell_type": "code",
   "execution_count": null,
   "id": "68fcfb4f-c921-44e0-bdb5-3528bf49ae88",
   "metadata": {},
   "outputs": [],
   "source": [
    "precision, recall, f1score, _ = precision_recall_fscore_support(y_test_s, predictions_adj, average=None)\n",
    "\n",
    "metrics_dict = {}\n",
    "for i in range(len(precision)):\n",
    "    class_label = f\"class_{i-1}\"\n",
    "    metrics_dict[f\"{class_label}_precision\"] = round(precision[i],3)\n",
    "    metrics_dict[f\"{class_label}_recall\"] = round(recall[i],3)\n",
    "    metrics_dict[f\"{class_label}_f1score\"] = round(f1score[i],3)\n",
    "\n",
    "print(metrics_dict)"
   ]
  },
  {
   "cell_type": "code",
   "execution_count": null,
   "id": "a486644d-0b77-4512-8799-18325aee67c7",
   "metadata": {},
   "outputs": [],
   "source": [
    "misclassified_indices = []\n",
    "print('threshold 0.6237') \n",
    "# Iterate over each sample's probabilities and corresponding true label\n",
    "for i, (pred_class, true_label) in enumerate(zip(predictions_adj, y_test_s)):\n",
    "    if pred_class != true_label:\n",
    "        misclassified_indices.append(i)\n",
    "\n",
    "print(\"Misclassified Data Points:\")\n",
    "for index in misclassified_indices:\n",
    "    if y_test_s[index] == 1: \n",
    "        print(f\"Index: {index}, Predicted Label: {predictions_adj[index]}, True Label: {y_test_s[index]}\")\n",
    "        print(f\"Data:\", df_joint_test[df_joint_test.index==index])\n",
    "        break\n"
   ]
  },
  {
   "cell_type": "code",
   "execution_count": null,
   "id": "ac37ca7e-097d-4260-89d5-468b9b91b387",
   "metadata": {},
   "outputs": [],
   "source": []
  }
 ],
 "metadata": {
  "kernelspec": {
   "display_name": "Python 3 (ipykernel)",
   "language": "python",
   "name": "python3"
  },
  "language_info": {
   "codemirror_mode": {
    "name": "ipython",
    "version": 3
   },
   "file_extension": ".py",
   "mimetype": "text/x-python",
   "name": "python",
   "nbconvert_exporter": "python",
   "pygments_lexer": "ipython3",
   "version": "3.11.3"
  }
 },
 "nbformat": 4,
 "nbformat_minor": 5
}
