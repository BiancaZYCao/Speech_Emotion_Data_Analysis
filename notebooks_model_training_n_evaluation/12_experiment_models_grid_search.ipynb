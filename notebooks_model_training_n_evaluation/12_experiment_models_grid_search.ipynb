{
 "cells": [
  {
   "cell_type": "code",
   "execution_count": 2,
   "id": "e8dba9c2-50a6-4935-85c4-36c696e704fb",
   "metadata": {
    "id": "e8dba9c2-50a6-4935-85c4-36c696e704fb"
   },
   "outputs": [],
   "source": [
    "import numpy as np\n",
    "import pandas as pd\n",
    "import glob\n",
    "import os, sys\n",
    "# import matplotlib.pyplot as plt\n",
    "import time\n",
    "import warnings\n",
    "warnings.simplefilter(action='ignore', category=FutureWarning)\n",
    "warnings.simplefilter(action='ignore', category=UserWarning)\n",
    "VERSION = 4\n",
    "RANDOM_SEED = 7"
   ]
  },
  {
   "cell_type": "markdown",
   "id": "97e31f3f-dc53-4213-8f43-3483d34dfec3",
   "metadata": {
    "id": "97e31f3f-dc53-4213-8f43-3483d34dfec3"
   },
   "source": [
    "## Load data"
   ]
  },
  {
   "cell_type": "markdown",
   "id": "659733a7-b892-482e-b64f-459f44cc7a78",
   "metadata": {
    "id": "659733a7-b892-482e-b64f-459f44cc7a78"
   },
   "source": [
    "### Load Data - downsampled"
   ]
  },
  {
   "cell_type": "code",
   "execution_count": 3,
   "id": "21e49c50-5175-47ef-b9fa-8880cff6e84e",
   "metadata": {
    "colab": {
     "base_uri": "https://localhost:8080/"
    },
    "id": "21e49c50-5175-47ef-b9fa-8880cff6e84e",
    "outputId": "24edc1f3-5671-4e29-a3e0-677f54be73f1"
   },
   "outputs": [
    {
     "name": "stdout",
     "output_type": "stream",
     "text": [
      "shape of test  set:  (680, 1546)\n",
      "shape of train set:  (24885, 1546)\n"
     ]
    },
    {
     "data": {
      "text/plain": [
       "sentiment_value\n",
       "-1    7999\n",
       " 0    8560\n",
       " 1    8326\n",
       "Name: file_path, dtype: int64"
      ]
     },
     "execution_count": 3,
     "metadata": {},
     "output_type": "execute_result"
    }
   ],
   "source": [
    "# df_joint_train_org   = pd.read_csv(f'./data_extracted_features/cache_all_features_train_V{VERSION}.csv')\n",
    "# df_joint_train_org   = df_joint_train_org.drop(columns=['GNE_max_gne','GNE_mean_gne','GNE_stddev_gne','GNE_sum_gne'])\n",
    "\n",
    "# df_joint_test_org = pd.read_csv(f'./data_extracted_features/cache_all_features_test_V{VERSION}.csv').drop(\n",
    "#     columns=['GNE_max_gne','GNE_mean_gne','GNE_stddev_gne','GNE_sum_gne'])\n",
    "\n",
    "# print(\"shape of train set: \", df_joint_train_org.shape)\n",
    "# print(\"shape of test  set: \", df_joint_test_org.shape)\n",
    "\n",
    "\n",
    "# df_joint_train  = pd.read_csv(f'./data_extracted_features/cache_train_V4_resampled_2500.csv')\n",
    "df_joint_test = pd.read_csv(f'./features/cache_test_V4_resampled_250.csv')\n",
    "\n",
    "# print(\"shape of train set: \", df_joint_train.shape)\n",
    "print(\"shape of test  set: \", df_joint_test.shape)\n",
    "\n",
    "df_joint_train_aug  = pd.read_csv(f'./features/cache_train_V4_augmented.csv')\n",
    "feature_column_names = [i for i in df_joint_train_aug.columns \\\n",
    "                        if i not in ['file_path','renamed_file_path','split','sentiment_value','emotional_category']]\n",
    "\n",
    "print(\"shape of train set: \", df_joint_train_aug.shape)\n",
    "df_joint_train_aug.groupby('sentiment_value')['file_path'].count()"
   ]
  },
  {
   "cell_type": "markdown",
   "id": "e7410936-ebd7-4086-8cef-258f277df6a5",
   "metadata": {
    "id": "e7410936-ebd7-4086-8cef-258f277df6a5"
   },
   "source": [
    "### best guess feature combinations"
   ]
  },
  {
   "cell_type": "code",
   "execution_count": 4,
   "id": "1d60449b-65d7-4052-96bf-1b4ed2012440",
   "metadata": {
    "id": "1d60449b-65d7-4052-96bf-1b4ed2012440"
   },
   "outputs": [],
   "source": [
    "# generate selected features\n",
    "def generate_selected_features_by_type(feature_column_names,input,stats,number=1):\n",
    "    selected_result = []\n",
    "    for name in feature_column_names:\n",
    "        if input+\"_\"+stats in name:\n",
    "            selected_result.append(name)\n",
    "    if number < len(selected_result):\n",
    "        selected_result = selected_result[:number]\n",
    "    return selected_result\n",
    "\n",
    "# example to take mfcc 20 mean & std; mel32; zcr all 5 stats features\n",
    "feature_MFCC20_mean  = generate_selected_features_by_type(feature_column_names,\"mfcc\",\"mean\",20)\n",
    "feature_MFCC20_std   = generate_selected_features_by_type(feature_column_names,\"mfcc\",\"std\",20)\n",
    "feature_mel32_median = generate_selected_features_by_type(feature_column_names,\"mel32\",\"median\",32)\n",
    "feature_mel32_std    = generate_selected_features_by_type(feature_column_names,\"mel32\",\"std\",32)\n",
    "feature_zcr_stats    = generate_selected_features_by_type(feature_column_names,\"zcr\",\"\",5)\n",
    "feature_rms_stats    = generate_selected_features_by_type(feature_column_names,\"rms\",\"\",5)\n",
    "selected_spect = ['Spectrum_band_energy_difference','Spectrum_band_density_difference','Spectrum_center_of_gravity_spectrum','Spectrum_skewness_spectrum','Spectrum_kurtosis_spectrum', 'Spectrum_stddev_spectrum','Spectrum_band_density', 'Spectrum_band_energy']\n",
    "selected_formant = ['Formant_f1_mean','Formant_f1_median','Formant_f3_mean','Formant_fitch_vtl','Formant_mff','Formant_formant_dispersion']\n",
    "selected_pitch = ['Pitch_pitch_slope_without_octave_jumps', 'Pitch_q3_pitch','Pitch_stddev_pitch', 'Pitch_mean_absolute_pitch_slope','Pitch_mean_pitch', 'Pitch_max_pitch', 'Pitch_q1_pitch', 'Pitch_min_pitch']\n",
    "selected_intensity = ['Intensity_max_intensity', 'Intensity_q3_intensity','Intensity_median_intensity', 'Intensity_mean_intensity', 'Intensity_stddev_intensity','Intensity_relative_max_intensity_time']\n",
    "selected_HNR = ['HNR_stddev_hnr', 'HNR_mean_hnr','HNR_relative_min_hnr_time','HNR_max_hnr']\n",
    "selected_prosody = selected_intensity + selected_pitch #+ ['Local Jitter','Local Shimmer']\n",
    "feature_column_names = feature_MFCC20_mean + feature_MFCC20_std + feature_mel32_stats + feature_zcr_stats + feature_rms_stats+ selected_prosody\n",
    "\n",
    "selected_feature_names = feature_MFCC20_mean + feature_MFCC20_std + feature_mel32_median + feature_mel32_std + \\\n",
    "                         feature_rms_stats + selected_intensity + selected_pitch + selected_spect"
   ]
  },
  {
   "cell_type": "code",
   "execution_count": 6,
   "id": "b35ff200-a507-4585-8895-cd6078d86277",
   "metadata": {
    "id": "b35ff200-a507-4585-8895-cd6078d86277"
   },
   "outputs": [],
   "source": [
    "# default use augmented training set and balanced test set\n",
    "X_train = df_joint_train_aug[selected_feature_names]\n",
    "y_train_s = df_joint_train_aug['sentiment_value']\n",
    "y_train_e = df_joint_train_aug['emotional_category']\n",
    "\n",
    "from sklearn.preprocessing import LabelEncoder\n",
    "label_encoder = LabelEncoder()\n",
    "y_train_e_num = label_encoder.fit_transform(y_train_e)\n",
    "\n",
    "X_test = df_joint_test[selected_feature_names]\n",
    "y_test_s = df_joint_test['sentiment_value']\n",
    "y_test_e = df_joint_test['emotional_category']\n",
    "\n",
    "y_test_e_num = label_encoder.fit_transform(y_test_e)"
   ]
  },
  {
   "cell_type": "code",
   "execution_count": 7,
   "id": "2a1663e5-5686-40cc-9141-45e27b2d20d3",
   "metadata": {
    "colab": {
     "base_uri": "https://localhost:8080/"
    },
    "id": "2a1663e5-5686-40cc-9141-45e27b2d20d3",
    "outputId": "8bcf07cc-310d-42b2-d65d-7f78b8e1e118"
   },
   "outputs": [
    {
     "data": {
      "text/plain": [
       "((24885, 131), (680, 131))"
      ]
     },
     "execution_count": 7,
     "metadata": {},
     "output_type": "execute_result"
    }
   ],
   "source": [
    "X_train.shape, X_test.shape"
   ]
  },
  {
   "cell_type": "markdown",
   "id": "ad8c5de8-86fb-4ded-9158-71f1f2c2958a",
   "metadata": {
    "id": "ad8c5de8-86fb-4ded-9158-71f1f2c2958a"
   },
   "source": [
    "## Models - conventional ML"
   ]
  },
  {
   "cell_type": "code",
   "execution_count": 8,
   "id": "484c6370-fd24-4584-9484-c61b8e2fc061",
   "metadata": {
    "id": "484c6370-fd24-4584-9484-c61b8e2fc061"
   },
   "outputs": [],
   "source": [
    "from sklearn.tree import DecisionTreeClassifier\n",
    "from sklearn.ensemble import RandomForestClassifier\n",
    "from sklearn.metrics import classification_report, confusion_matrix,accuracy_score, precision_recall_fscore_support\n",
    "from sklearn.svm import SVC\n",
    "from sklearn.neighbors import KNeighborsClassifier\n",
    "from sklearn.ensemble import GradientBoostingClassifier, AdaBoostClassifier,HistGradientBoostingClassifier\n",
    "# from lightgbm import LGBMClassifier\n",
    "\n",
    "# Common adjustable parameters\n",
    "common_params = {\n",
    "    'RandomForest': {'n_estimators': 100, 'criterion':'gini', 'max_depth': None,\n",
    "                     'min_samples_split':100, 'bootstrap':True, 'n_jobs':3, 'random_state': RANDOM_SEED},\n",
    "    'SVM': {'kernel': 'rbf', 'C': 1.0, 'probability': True},\n",
    "    'KNN': {'n_neighbors': 5},\n",
    "    'GradientBoosting': {'loss': 'log_loss', 'learning_rate': 0.1, 'n_estimators': 100, 'subsample': 1.0,\n",
    "                         'criterion': 'friedman_mse', 'min_samples_split': 2, 'max_depth': 3},\n",
    "    'GradientBoostingFast': {'loss': 'log_loss', 'learning_rate': 0.1, 'max_iter': 100},\n",
    "    'AdaBoost': {'n_estimators': 50, 'learning_rate': 1.0},\n",
    "    'LightGBM': {'boosting_type': 'gbdt', 'learning_rate': 0.1, 'n_estimators': 100, 'subsample': 1.0,\n",
    "                 'min_child_samples': 20, 'max_depth': -1}\n",
    "}\n",
    "\n",
    "# Models with common adjustable parameters\n",
    "dtree   = DecisionTreeClassifier()\n",
    "rforest = RandomForestClassifier(**common_params['RandomForest'])\n",
    "svm     = SVC(**common_params['SVM'])\n",
    "knn     = KNeighborsClassifier(**common_params['KNN'])\n",
    "gboost  = GradientBoostingClassifier(**common_params['GradientBoosting'])\n",
    "gb_fast = HistGradientBoostingClassifier(**common_params['GradientBoostingFast'])\n",
    "adaBoost= AdaBoostClassifier(**common_params['AdaBoost'])\n",
    "# lightgbm=LGBMClassifier(**common_params['LightGBM'])"
   ]
  },
  {
   "cell_type": "markdown",
   "id": "34f37c6a-e4b8-48ee-a6bd-fe9b58be24e9",
   "metadata": {},
   "source": [
    "### Grid Search use RF  and example"
   ]
  },
  {
   "cell_type": "markdown",
   "id": "sm5XouA3GcU7",
   "metadata": {
    "id": "sm5XouA3GcU7"
   },
   "source": [
    "### experiment classifier"
   ]
  },
  {
   "cell_type": "code",
   "execution_count": 12,
   "id": "580e3cad",
   "metadata": {
    "id": "580e3cad"
   },
   "outputs": [],
   "source": [
    "import pickle\n",
    "\n",
    "def exp_clf_with_feature_selected(clf_model, X_train, X_test, y_train, y_test,verbose=True):\n",
    "    start = time.time()\n",
    "\n",
    "    clf_model.fit(X_train, y_train)\n",
    "    predictions = clf_model.predict(X_test.values)\n",
    "\n",
    "    # Calculate metrics\n",
    "    report = classification_report(y_test, predictions, output_dict=True)\n",
    "    metrics = {\n",
    "        'accuracy': report['accuracy'],\n",
    "        'precision': report['macro avg']['precision'],\n",
    "        'recall': report['macro avg']['recall'],\n",
    "        'f1-score': report['macro avg']['f1-score']\n",
    "    }\n",
    "    for class_name in report.keys():\n",
    "        if class_name not in ['accuracy', 'macro avg', 'weighted avg']:\n",
    "            metrics[class_name+'_precision'] = report[class_name]['precision']\n",
    "            metrics[class_name+'_recall'] = report[class_name]['recall'],\n",
    "            metrics[class_name+'_f1-score'] = report[class_name]['f1-score']\n",
    "\n",
    "    feature_columns = list(X_train.columns)\n",
    "    num_classes = y_train.nunique()\n",
    "    class_names = list(y_train.unique())\n",
    "\n",
    "    model_filename = f\"./models/{clf_model.__class__.__name__}_model\"\n",
    "    model_filename += f\"_{num_classes}cls_{len(feature_columns)}feat_{round(report['accuracy']*100)}acc.pkl\"\n",
    "    with open(model_filename, 'wb') as file:\n",
    "        pickle.dump(clf_model, file)\n",
    "\n",
    "    results = {**metrics,\n",
    "        'num_classes': num_classes,\n",
    "        'class_names': class_names,\n",
    "        'model_filename': model_filename,\n",
    "        'feature_columns': feature_columns,\n",
    "    }\n",
    "\n",
    "    if verbose:\n",
    "        print(f\"Model Name: {clf_model.__class__.__name__};\\nTrain set shape {X_train.shape}, num of class {num_classes}\")\n",
    "        print(classification_report(y_test, predictions))\n",
    "        print(confusion_matrix(y_test, predictions))\n",
    "        probabilities = clf_model.predict_proba(X_test.values)\n",
    "        print('Probabilities distribution:\\n', pd.DataFrame(probabilities, columns=clf_model.classes_).describe())\n",
    "    print(f\"Model: {clf_model.__class__.__name__};Time taken: {round(time.time()-start, 3)} seconds.\\n\")\n",
    "\n",
    "    return results, clf_model\n"
   ]
  },
  {
   "cell_type": "markdown",
   "id": "dc283451-e5be-41f4-9936-9cfc26c33c4b",
   "metadata": {
    "id": "dc283451-e5be-41f4-9936-9cfc26c33c4b"
   },
   "source": [
    "### Sentiment 3-class Classifier Sample code"
   ]
  },
  {
   "cell_type": "code",
   "execution_count": 13,
   "id": "9b5754f8-e220-4443-81fa-32c013f12a9f",
   "metadata": {},
   "outputs": [
    {
     "data": {
      "text/plain": [
       "array([ 50, 100, 150, 200, 250, 300, 350, 400, 450])"
      ]
     },
     "execution_count": 13,
     "metadata": {},
     "output_type": "execute_result"
    }
   ],
   "source": [
    "np.arange(50, 500, 50)"
   ]
  },
  {
   "cell_type": "code",
   "execution_count": null,
   "id": "4de039fa",
   "metadata": {
    "id": "4de039fa",
    "outputId": "c164d7de-45ce-4b10-8975-91d1aaa69e72"
   },
   "outputs": [],
   "source": [
    "# step 1 find the best n_estimators: larger underfitting, smaller overfitting \n",
    "acc_list = {}\n",
    "for n_est in [10, 25, 50, 75, 100, 150, 200, 250, 300, 400, 500, 750, 1000]:\n",
    "    # if not (n_est in acc_list):\n",
    "    rforest = RandomForestClassifier(n_estimators=n_est)\n",
    "    result, m_trained = exp_clf_with_feature_selected(rforest, X_train, X_test, y_train_s, y_test_s, verbose=False)\n",
    "    acc_list[n_est] = result['accuracy']"
   ]
  },
  {
   "cell_type": "code",
   "execution_count": 21,
   "id": "cb002411-77ec-4689-ac0d-3f12464658ae",
   "metadata": {},
   "outputs": [
    {
     "data": {
      "text/plain": [
       "{50: 0.736764705882353,\n",
       " 100: 0.736764705882353,\n",
       " 150: 0.7029411764705882,\n",
       " 200: 0.7338235294117647,\n",
       " 250: 0.7397058823529412,\n",
       " 300: 0.7338235294117647,\n",
       " 350: 0.7279411764705882,\n",
       " 400: 0.7397058823529412,\n",
       " 450: 0.7411764705882353,\n",
       " 10: 0.6705882352941176,\n",
       " 25: 0.7102941176470589,\n",
       " 75: 0.7264705882352941,\n",
       " 500: 0.7352941176470589,\n",
       " 750: 0.736764705882353,\n",
       " 1000: 0.7411764705882353}"
      ]
     },
     "execution_count": 21,
     "metadata": {},
     "output_type": "execute_result"
    }
   ],
   "source": [
    "acc_list"
   ]
  },
  {
   "cell_type": "code",
   "execution_count": 23,
   "id": "8a21454c-e6b5-4a8f-b60a-5656b6e3a9b1",
   "metadata": {},
   "outputs": [
    {
     "name": "stdout",
     "output_type": "stream",
     "text": [
      "Best Parameters: {'max_depth': None, 'min_samples_split': 2}\n",
      "Best Score: 0.7468756278882861\n"
     ]
    }
   ],
   "source": [
    "from sklearn.model_selection import KFold, GridSearchCV\n",
    "\n",
    "param_grid = { 'max_depth': [None, 5, 10, 20, 25, 50],       # Maximum depth of the trees\n",
    "              'min_samples_split': [2, 5, 10],   # Minimum number of samples required to split an internal node\n",
    "             }\n",
    "# ,\"max_depth\":[8,9,10]\n",
    "# param_grid = {\n",
    "#     'n_estimators': [50, 100, 150],  # Number of trees in the forest\n",
    "#     'max_depth': [None, 10, 20],       # Maximum depth of the trees\n",
    "#     'min_samples_split': [2, 5, 10],   # Minimum number of samples required to split an internal node\n",
    "#     'min_samples_leaf': [1, 2, 4],     # Minimum number of samples required to be at a leaf node\n",
    "#     'max_features': ['auto', 'sqrt'],  # Number of features to consider when looking for the best split\n",
    "#     'bootstrap': [True, False]         # Whether bootstrap samples are used when building trees\n",
    "# }\n",
    "\n",
    "grid_search = GridSearchCV(estimator=RandomForestClassifier(n_estimators=50,oob_score=True), \n",
    "                           param_grid=param_grid, cv=3, scoring='accuracy', n_jobs=4)\n",
    "\n",
    "# Fit the grid search to the data X_train, X_test, y_train_s, y_test_s\n",
    "grid_search.fit(X_train, y_train_s)\n",
    "\n",
    "best_params = grid_search.best_params_\n",
    "best_score = grid_search.best_score_\n",
    "\n",
    "print(\"Best Parameters:\", best_params)\n",
    "print(\"Best Score:\", best_score)"
   ]
  },
  {
   "cell_type": "markdown",
   "id": "3b833185",
   "metadata": {
    "id": "3b833185"
   },
   "source": [
    "### How to save experiment metrics result"
   ]
  },
  {
   "cell_type": "markdown",
   "id": "fb541dfd",
   "metadata": {
    "id": "fb541dfd"
   },
   "source": [
    "### Emotion 8-class"
   ]
  },
  {
   "cell_type": "code",
   "execution_count": null,
   "id": "e118a0a7",
   "metadata": {
    "id": "e118a0a7",
    "outputId": "e3673e05-e280-4f76-84a6-102228db8922"
   },
   "outputs": [
    {
     "name": "stdout",
     "output_type": "stream",
     "text": [
      "Model Name: RandomForestClassifier;\n",
      "Train set shape (24885, 84), num of class 8\n",
      "              precision    recall  f1-score   support\n",
      "\n",
      "       Anger       0.74      0.65      0.69        62\n",
      "    Calmness       0.39      1.00      0.56        16\n",
      "     Disgust       0.72      0.21      0.33        62\n",
      "        Fear       0.94      0.26      0.41        62\n",
      "   Happiness       0.69      0.67      0.68       187\n",
      "  Neutrality       0.59      0.88      0.71       167\n",
      "     Sadness       0.56      0.52      0.54        62\n",
      "    Surprise       0.87      0.85      0.86        62\n",
      "\n",
      "    accuracy                           0.65       680\n",
      "   macro avg       0.69      0.63      0.60       680\n",
      "weighted avg       0.69      0.65      0.63       680\n",
      "\n",
      "[[ 40   0   0   0  18   1   1   2]\n",
      " [  0  16   0   0   0   0   0   0]\n",
      " [  0   3  13   1  14  25   5   1]\n",
      " [  1   0   1  16  14  18   9   3]\n",
      " [ 13   7   4   0 125  35   2   1]\n",
      " [  0   8   0   0   4 147   8   0]\n",
      " [  0   5   0   0   2  22  32   1]\n",
      " [  0   2   0   0   5   2   0  53]]\n",
      "Probabilities distribution:\n",
      "             Anger    Calmness     Disgust        Fear   Happiness  Neutrality  \\\n",
      "count  680.000000  680.000000  680.000000  680.000000  680.000000  680.000000   \n",
      "mean     0.096420    0.033469    0.092105    0.096714    0.234033    0.259244   \n",
      "std      0.151980    0.112901    0.087261    0.111521    0.206461    0.264417   \n",
      "min      0.000000    0.000000    0.000000    0.000000    0.000000    0.000195   \n",
      "25%      0.010949    0.000102    0.038155    0.038073    0.082225    0.023016   \n",
      "50%      0.028116    0.001210    0.083293    0.076289    0.168534    0.170945   \n",
      "75%      0.105712    0.004841    0.115638    0.118327    0.326164    0.454171   \n",
      "max      0.901417    0.755536    0.785445    0.886855    0.975262    0.997965   \n",
      "\n",
      "          Sadness    Surprise  \n",
      "count  680.000000  680.000000  \n",
      "mean     0.099745    0.088269  \n",
      "std      0.136833    0.184769  \n",
      "min      0.000236    0.000000  \n",
      "25%      0.014152    0.004628  \n",
      "50%      0.053731    0.017077  \n",
      "75%      0.115156    0.071423  \n",
      "max      0.705089    0.949723  \n",
      "Model: RandomForestClassifier;Time taken: 4.42 seconds.\n",
      "\n"
     ]
    },
    {
     "data": {
      "text/plain": [
       "({'accuracy': 0.65,\n",
       "  'precision': 0.6874315613239665,\n",
       "  'recall': 0.6290699608201227,\n",
       "  'f1-score': 0.5954085578190418,\n",
       "  'Anger_precision': 0.7407407407407407,\n",
       "  'Anger_recall': (0.6451612903225806,),\n",
       "  'Anger_f1-score': 0.689655172413793,\n",
       "  'Calmness_precision': 0.3902439024390244,\n",
       "  'Calmness_recall': (1.0,),\n",
       "  'Calmness_f1-score': 0.5614035087719299,\n",
       "  'Disgust_precision': 0.7222222222222222,\n",
       "  'Disgust_recall': (0.20967741935483872,),\n",
       "  'Disgust_f1-score': 0.325,\n",
       "  'Fear_precision': 0.9411764705882353,\n",
       "  'Fear_recall': (0.25806451612903225,),\n",
       "  'Fear_f1-score': 0.4050632911392405,\n",
       "  'Happiness_precision': 0.6868131868131868,\n",
       "  'Happiness_recall': (0.6684491978609626,),\n",
       "  'Happiness_f1-score': 0.6775067750677507,\n",
       "  'Neutrality_precision': 0.588,\n",
       "  'Neutrality_recall': (0.8802395209580839,),\n",
       "  'Neutrality_f1-score': 0.7050359712230216,\n",
       "  'Sadness_precision': 0.5614035087719298,\n",
       "  'Sadness_recall': (0.5161290322580645,),\n",
       "  'Sadness_f1-score': 0.5378151260504201,\n",
       "  'Surprise_precision': 0.8688524590163934,\n",
       "  'Surprise_recall': (0.8548387096774194,),\n",
       "  'Surprise_f1-score': 0.8617886178861789,\n",
       "  'num_classes': 8,\n",
       "  'class_names': ['Disgust',\n",
       "   'Anger',\n",
       "   'Fear',\n",
       "   'Sadness',\n",
       "   'Happiness',\n",
       "   'Surprise',\n",
       "   'Neutrality',\n",
       "   'Calmness'],\n",
       "  'model_filename': './models/RandomForestClassifier_model_8cls_84feat_65acc.pkl',\n",
       "  'feature_columns': ['mfcc_mean_1',\n",
       "   'mfcc_mean_2',\n",
       "   'mfcc_mean_3',\n",
       "   'mfcc_mean_4',\n",
       "   'mfcc_mean_5',\n",
       "   'mfcc_mean_6',\n",
       "   'mfcc_mean_7',\n",
       "   'mfcc_mean_8',\n",
       "   'mfcc_mean_9',\n",
       "   'mfcc_mean_10',\n",
       "   'mfcc_mean_11',\n",
       "   'mfcc_mean_12',\n",
       "   'mfcc_mean_13',\n",
       "   'mfcc_mean_14',\n",
       "   'mfcc_mean_15',\n",
       "   'mfcc_mean_16',\n",
       "   'mfcc_mean_17',\n",
       "   'mfcc_mean_18',\n",
       "   'mfcc_mean_19',\n",
       "   'mfcc_mean_20',\n",
       "   'mfcc_std_1',\n",
       "   'mfcc_std_2',\n",
       "   'mfcc_std_3',\n",
       "   'mfcc_std_4',\n",
       "   'mfcc_std_5',\n",
       "   'mfcc_std_6',\n",
       "   'mfcc_std_7',\n",
       "   'mfcc_std_8',\n",
       "   'mfcc_std_9',\n",
       "   'mfcc_std_10',\n",
       "   'mfcc_std_11',\n",
       "   'mfcc_std_12',\n",
       "   'mfcc_std_13',\n",
       "   'mfcc_std_14',\n",
       "   'mfcc_std_15',\n",
       "   'mfcc_std_16',\n",
       "   'mfcc_std_17',\n",
       "   'mfcc_std_18',\n",
       "   'mfcc_std_19',\n",
       "   'mfcc_std_20',\n",
       "   'zcr_mean',\n",
       "   'zcr_median',\n",
       "   'zcr_std',\n",
       "   'zcr_p10',\n",
       "   'zcr_p90',\n",
       "   'HNR_stddev_hnr',\n",
       "   'HNR_mean_hnr',\n",
       "   'HNR_relative_min_hnr_time',\n",
       "   'HNR_max_hnr',\n",
       "   'Formant_f1_mean',\n",
       "   'Formant_f1_median',\n",
       "   'Formant_f3_mean',\n",
       "   'Formant_fitch_vtl',\n",
       "   'Formant_mff',\n",
       "   'Formant_formant_dispersion',\n",
       "   'rms_mean',\n",
       "   'rms_median',\n",
       "   'rms_std',\n",
       "   'rms_p10',\n",
       "   'rms_p90',\n",
       "   'Intensity_max_intensity',\n",
       "   'Intensity_q3_intensity',\n",
       "   'Intensity_median_intensity',\n",
       "   'Intensity_mean_intensity',\n",
       "   'Intensity_stddev_intensity',\n",
       "   'Intensity_relative_max_intensity_time',\n",
       "   'Pitch_pitch_slope_without_octave_jumps',\n",
       "   'Pitch_q3_pitch',\n",
       "   'Pitch_stddev_pitch',\n",
       "   'Pitch_mean_absolute_pitch_slope',\n",
       "   'Pitch_mean_pitch',\n",
       "   'Pitch_max_pitch',\n",
       "   'Pitch_q1_pitch',\n",
       "   'Pitch_min_pitch',\n",
       "   'Spectrum_band_energy_difference',\n",
       "   'Spectrum_band_density_difference',\n",
       "   'Spectrum_center_of_gravity_spectrum',\n",
       "   'Spectrum_skewness_spectrum',\n",
       "   'Spectrum_kurtosis_spectrum',\n",
       "   'Spectrum_stddev_spectrum',\n",
       "   'Spectrum_band_density',\n",
       "   'Spectrum_band_energy',\n",
       "   'Local Jitter',\n",
       "   'Local Shimmer']},\n",
       " RandomForestClassifier(min_samples_split=100, n_jobs=3, random_state=7))"
      ]
     },
     "execution_count": 12,
     "metadata": {},
     "output_type": "execute_result"
    }
   ],
   "source": [
    "comb_84 = feature_MFCC20_mean + feature_MFCC20_std + feature_zcr_stats + selected_HNR + selected_formant + \\\n",
    "            feature_rms_stats + selected_intensity + selected_pitch + selected_spect+\\\n",
    "            ['Local Jitter','Local Shimmer']\n",
    "X_train = df_joint_train_aug[comb_84]\n",
    "X_test = df_joint_test[comb_84]\n",
    "exp_clf_with_feature_selected(rforest, X_train, X_test, y_train_e, y_test_e, verbose=False)"
   ]
  }
 ],
 "metadata": {
  "accelerator": "GPU",
  "colab": {
   "collapsed_sections": [
    "ad8c5de8-86fb-4ded-9158-71f1f2c2958a",
    "sm5XouA3GcU7",
    "dc283451-e5be-41f4-9936-9cfc26c33c4b",
    "3b833185",
    "fb541dfd",
    "11eaa733-2935-4b1d-a787-5b6a7912a554"
   ],
   "gpuType": "T4",
   "provenance": [],
   "toc_visible": true
  },
  "kernelspec": {
   "display_name": "Python 3 (ipykernel)",
   "language": "python",
   "name": "python3"
  },
  "language_info": {
   "codemirror_mode": {
    "name": "ipython",
    "version": 3
   },
   "file_extension": ".py",
   "mimetype": "text/x-python",
   "name": "python",
   "nbconvert_exporter": "python",
   "pygments_lexer": "ipython3",
   "version": "3.11.8"
  }
 },
 "nbformat": 4,
 "nbformat_minor": 5
}
