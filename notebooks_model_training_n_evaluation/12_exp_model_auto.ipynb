{
 "cells": [
  {
   "cell_type": "code",
   "execution_count": 1,
   "id": "e8dba9c2-50a6-4935-85c4-36c696e704fb",
   "metadata": {},
   "outputs": [],
   "source": [
    "import numpy as np\n",
    "import pandas as pd\n",
    "import glob\n",
    "import os, sys\n",
    "import matplotlib.pyplot as plt\n",
    "from sklearn.tree import DecisionTreeClassifier\n",
    "from sklearn.ensemble import RandomForestClassifier\n",
    "from sklearn.metrics import classification_report, confusion_matrix,accuracy_score, precision_recall_fscore_support\n",
    "from sklearn.svm import SVC\n",
    "from sklearn.neighbors import KNeighborsClassifier\n",
    "from sklearn.ensemble import GradientBoostingClassifier, AdaBoostClassifier,\n",
    "import time\n",
    "import warnings\n",
    "warnings.simplefilter(action='ignore', category=FutureWarning)\n",
    "warnings.simplefilter(action='ignore', category=UserWarning)\n",
    "VERSION = 4\n",
    "RANDOM_SEED = 7"
   ]
  },
  {
   "cell_type": "markdown",
   "id": "97e31f3f-dc53-4213-8f43-3483d34dfec3",
   "metadata": {},
   "source": [
    "## Load data"
   ]
  },
  {
   "cell_type": "markdown",
   "id": "659733a7-b892-482e-b64f-459f44cc7a78",
   "metadata": {},
   "source": [
    "### Load Data - downsampled"
   ]
  },
  {
   "cell_type": "code",
   "execution_count": 2,
   "id": "21e49c50-5175-47ef-b9fa-8880cff6e84e",
   "metadata": {},
   "outputs": [
    {
     "name": "stdout",
     "output_type": "stream",
     "text": [
      "shape of test  set:  (680, 1546)\n",
      "shape of train set:  (24885, 1546)\n"
     ]
    },
    {
     "data": {
      "text/plain": [
       "sentiment_value\n",
       "-1    7999\n",
       " 0    8560\n",
       " 1    8326\n",
       "Name: file_path, dtype: int64"
      ]
     },
     "execution_count": 2,
     "metadata": {},
     "output_type": "execute_result"
    }
   ],
   "source": [
    "# df_joint_train_org   = pd.read_csv(f'./features/cache_all_features_train_V{VERSION}.csv')\n",
    "# df_joint_train_org   = df_joint_train_org.drop(columns=['GNE_max_gne','GNE_mean_gne','GNE_stddev_gne','GNE_sum_gne'])\n",
    "                       \n",
    "# df_joint_test_org = pd.read_csv(f'./features/cache_all_features_test_V{VERSION}.csv').drop(\n",
    "#     columns=['GNE_max_gne','GNE_mean_gne','GNE_stddev_gne','GNE_sum_gne'])\n",
    "\n",
    "# print(\"shape of train set: \", df_joint_train_org.shape)\n",
    "# print(\"shape of test  set: \", df_joint_test_org.shape)\n",
    "\n",
    "\n",
    "# df_joint_train  = pd.read_csv(f'./features/cache_train_V4_resampled_2500.csv')\n",
    "df_joint_test = pd.read_csv(f'./features/cache_test_V4_resampled_250.csv')\n",
    "\n",
    "# print(\"shape of train set: \", df_joint_train.shape)\n",
    "print(\"shape of test  set: \", df_joint_test.shape)\n",
    "\n",
    "df_joint_train_aug  = pd.read_csv(f'./features/cache_train_V4_augmented.csv')\n",
    "feature_column_names = [i for i in df_joint_train_aug.columns \\\n",
    "                        if i not in ['file_path','renamed_file_path','split','sentiment_value','emotional_category']]\n",
    "             \n",
    "print(\"shape of train set: \", df_joint_train_aug.shape)\n",
    "df_joint_train_aug.groupby('sentiment_value')['file_path'].count()"
   ]
  },
  {
   "cell_type": "markdown",
   "id": "e7410936-ebd7-4086-8cef-258f277df6a5",
   "metadata": {},
   "source": [
    "### best guess feature combinations"
   ]
  },
  {
   "cell_type": "code",
   "execution_count": 3,
   "id": "1d60449b-65d7-4052-96bf-1b4ed2012440",
   "metadata": {},
   "outputs": [],
   "source": [
    "# generate selected features \n",
    "def generate_selected_features_by_type(feature_column_names,input,stats,number=1):\n",
    "    selected_result = []\n",
    "    for name in feature_column_names:\n",
    "        if input+\"_\"+stats in name:\n",
    "            selected_result.append(name)\n",
    "    if number < len(selected_result):\n",
    "        selected_result = selected_result[:number]\n",
    "    return selected_result\n",
    "\n",
    "# example to take mfcc 20 mean & std; mel32; zcr all 5 stats features\n",
    "feature_MFCC20_mean  = generate_selected_features_by_type(feature_column_names,\"mfcc\",\"mean\",20)\n",
    "feature_MFCC20_std   = generate_selected_features_by_type(feature_column_names,\"mfcc\",\"std\",20)\n",
    "feature_mel32_median = generate_selected_features_by_type(feature_column_names,\"mel32\",\"median\",32)\n",
    "feature_mel32_std    = generate_selected_features_by_type(feature_column_names,\"mel32\",\"std\",32)\n",
    "feature_zcr_stats    = generate_selected_features_by_type(feature_column_names,\"zcr\",\"\",5)\n",
    "feature_rms_stats    = generate_selected_features_by_type(feature_column_names,\"rms\",\"\",5)\n",
    "selected_spect = ['Spectrum_band_energy_difference','Spectrum_band_density_difference','Spectrum_center_of_gravity_spectrum','Spectrum_skewness_spectrum','Spectrum_kurtosis_spectrum', 'Spectrum_stddev_spectrum','Spectrum_band_density', 'Spectrum_band_energy']\n",
    "selected_formant = ['Formant_f1_mean','Formant_f1_median','Formant_f3_mean','Formant_fitch_vtl','Formant_mff','Formant_formant_dispersion']\n",
    "selected_pitch = ['Pitch_pitch_slope_without_octave_jumps', 'Pitch_q3_pitch','Pitch_stddev_pitch', 'Pitch_mean_absolute_pitch_slope','Pitch_mean_pitch', 'Pitch_max_pitch', 'Pitch_q1_pitch', 'Pitch_min_pitch']\n",
    "selected_intensity = ['Intensity_max_intensity', 'Intensity_q3_intensity','Intensity_median_intensity', 'Intensity_mean_intensity', 'Intensity_stddev_intensity','Intensity_relative_max_intensity_time']\n",
    "selected_HNR = ['HNR_stddev_hnr', 'HNR_mean_hnr','HNR_relative_min_hnr_time','HNR_max_hnr']\n",
    "selected_prosody = selected_intensity + selected_pitch # + ['Local Jitter','Local Shimmer']\n",
    "selected_feature_names = feature_MFCC20_mean + feature_MFCC20_std + feature_mel32_median + feature_mel32_std + \\\n",
    "                        feature_zcr_stats + feature_rms_stats + selected_intensity + selected_pitch \n"
   ]
  },
  {
   "cell_type": "code",
   "execution_count": 4,
   "id": "b35ff200-a507-4585-8895-cd6078d86277",
   "metadata": {},
   "outputs": [],
   "source": [
    "# default use augmented training set and balanced test set\n",
    "X_train = df_joint_train_aug[selected_feature_names]\n",
    "y_train_s = df_joint_train_aug['sentiment_value']\n",
    "y_train_e = df_joint_train_aug['emotional_category']\n",
    "\n",
    "# from sklearn.preprocessing import LabelEncoder\n",
    "# label_encoder = LabelEncoder()\n",
    "# y_e_num = label_encoder.fit_transform(y_train_e)\n",
    "\n",
    "X_test = df_joint_test[selected_feature_names]\n",
    "y_test_s = df_joint_test['sentiment_value']\n",
    "y_test_e = df_joint_test['emotional_category']\n",
    "\n",
    "# y_test_e_num = label_encoder.fit_transform(y_test_e)"
   ]
  },
  {
   "cell_type": "code",
   "execution_count": 5,
   "id": "2a1663e5-5686-40cc-9141-45e27b2d20d3",
   "metadata": {},
   "outputs": [
    {
     "data": {
      "text/plain": [
       "((24885, 128), (680, 128))"
      ]
     },
     "execution_count": 5,
     "metadata": {},
     "output_type": "execute_result"
    }
   ],
   "source": [
    "X_train.shape, X_test.shape"
   ]
  },
  {
   "cell_type": "markdown",
   "id": "ad8c5de8-86fb-4ded-9158-71f1f2c2958a",
   "metadata": {},
   "source": [
    "## Models"
   ]
  },
  {
   "cell_type": "code",
   "execution_count": 10,
   "id": "484c6370-fd24-4584-9484-c61b8e2fc061",
   "metadata": {},
   "outputs": [
    {
     "ename": "SyntaxError",
     "evalue": "invalid syntax. Perhaps you forgot a comma? (3364612971.py, line 30)",
     "output_type": "error",
     "traceback": [
      "\u001b[0;36m  Cell \u001b[0;32mIn[10], line 30\u001b[0;36m\u001b[0m\n\u001b[0;31m    'GradientBoostingFast': HistGradientBoostingClassifier()\u001b[0m\n\u001b[0m                            ^\u001b[0m\n\u001b[0;31mSyntaxError\u001b[0m\u001b[0;31m:\u001b[0m invalid syntax. Perhaps you forgot a comma?\n"
     ]
    }
   ],
   "source": [
    "from sklearn.tree import DecisionTreeClassifier\n",
    "from sklearn.ensemble import RandomForestClassifier\n",
    "from sklearn.metrics import classification_report, confusion_matrix,accuracy_score, precision_recall_fscore_support\n",
    "from sklearn.svm import SVC\n",
    "from sklearn.neighbors import KNeighborsClassifier\n",
    "from sklearn.ensemble import GradientBoostingClassifier, AdaBoostClassifier,HistGradientBoostingClassifier\n",
    "\n",
    "\n",
    "# Common adjustable parameters\n",
    "common_params = {\n",
    "    'RandomForest': {'n_estimators': 100, 'criterion':'gini', 'max_depth': None, \n",
    "                     'min_samples_split':100, 'bootstrap':True, 'n_jobs':3, 'random_state': RANDOM_SEED},\n",
    "    'SVM': {'kernel': 'rbf', 'C': 1.0, 'probability': True},\n",
    "    'KNN': {'n_neighbors': 5},\n",
    "    'GradientBoosting': {'loss': 'log_loss', 'learning_rate': 0.1, 'n_estimators': 100, 'subsample': 1.0,\n",
    "                         'criterion': 'friedman_mse', 'min_samples_split': 2, 'max_depth': 3},\n",
    "    'GradientBoostingFast': {'loss': 'log_loss', 'learning_rate': 0.1, 'max_iter': 100},\n",
    "    'AdaBoost': {'n_estimators': 50, 'learning_rate': 1.0},\n",
    "    'LightGBM': {'boosting_type': 'gbdt', 'learning_rate': 0.1, 'n_estimators': 100, 'subsample': 1.0,\n",
    "                 'min_child_samples': 20, 'max_depth': -1}    \n",
    "}\n",
    "\n",
    "# Models with common adjustable parameters\n",
    "models = {\n",
    "    'DecisionTree': DecisionTreeClassifier(),\n",
    "    'RandomForest': RandomForestClassifier(**common_params['RandomForest']),\n",
    "    'SVM': SVC(**common_params['SVM']),\n",
    "    'KNN': KNeighborsClassifier(**common_params['KNN']),\n",
    "    'GradientBoosting': GradientBoostingClassifier(**common_params['GradientBoosting']),\n",
    "    'GradientBoostingFast': HistGradientBoostingClassifier(**common_params['GradientBoostingFast']),\n",
    "    'AdaBoost': AdaBoostClassifier(**common_params['AdaBoost']),\n",
    "    # 'LightGBM': LGBMClassifier(**common_params['LightGBM'])\n",
    "}"
   ]
  },
  {
   "cell_type": "code",
   "execution_count": 7,
   "id": "5204f103-77c7-430d-bdff-bc65a1e26af9",
   "metadata": {},
   "outputs": [],
   "source": [
    "def try_clf_with_feature_selected(clf_name, X_train, X_test, y_train, y_test):\n",
    "    start = time.time()\n",
    "    print(f'Model Name: {clf_name};\\n Train set shape {X_train.shape}, num of class {y_train.unique().size}')\n",
    "    clf_model = models[clf_name]\n",
    "    if clf_name == 'KNN':\n",
    "        predictions = clf_model.fit(X_train, y_train).predict(X_test.values)\n",
    "    else:\n",
    "        predictions = clf_model.fit(X_train, y_train).predict(X_test)\n",
    "    \n",
    "    print(classification_report(y_test, predictions))\n",
    "    print(confusion_matrix(y_test, predictions))\n",
    "    \n",
    "    precision, recall, f1score, support = precision_recall_fscore_support(y_test_s, predictions, average=None)\n",
    "    # TODO make all metrics into result dict for recording \n",
    "    probabilities = clf_model.predict_proba(X_test) if clf_name != 'KNN' else  clf_model.predict_proba(X_test.values)\n",
    "    print('prbabilities distribution: \\n', pd.DataFrame(probabilities,columns=clf_model.classes_).describe())\n",
    "    print(f'Time taken: {round(time.time()-start,3)} seconds.\\n')"
   ]
  },
  {
   "cell_type": "markdown",
   "id": "dc283451-e5be-41f4-9936-9cfc26c33c4b",
   "metadata": {},
   "source": [
    "### Sentiment 3-class Random Forest Classifier"
   ]
  },
  {
   "cell_type": "code",
   "execution_count": 8,
   "id": "71beb6d3-b16a-44d3-8d64-394b6d8cbabc",
   "metadata": {},
   "outputs": [
    {
     "name": "stdout",
     "output_type": "stream",
     "text": [
      "Model Name: DecisionTree;\n",
      " Train set shape (24885, 128), num of class 3\n",
      "              precision    recall  f1-score   support\n",
      "\n",
      "          -1       0.57      0.70      0.63       248\n",
      "           0       0.70      0.59      0.64       183\n",
      "           1       0.69      0.61      0.65       249\n",
      "\n",
      "    accuracy                           0.64       680\n",
      "   macro avg       0.65      0.63      0.64       680\n",
      "weighted avg       0.65      0.64      0.64       680\n",
      "\n",
      "[[174  29  45]\n",
      " [ 52 108  23]\n",
      " [ 80  17 152]]\n",
      "prbabilities distribution: \n",
      "               -1           0           1\n",
      "count  680.00000  680.000000  680.000000\n",
      "mean     0.45000    0.226471    0.323529\n",
      "std      0.49786    0.418855    0.468167\n",
      "min      0.00000    0.000000    0.000000\n",
      "25%      0.00000    0.000000    0.000000\n",
      "50%      0.00000    0.000000    0.000000\n",
      "75%      1.00000    0.000000    1.000000\n",
      "max      1.00000    1.000000    1.000000\n",
      "Time taken: 3.564 seconds.\n",
      "\n",
      "Model Name: RandomForest;\n",
      " Train set shape (24885, 128), num of class 3\n",
      "              precision    recall  f1-score   support\n",
      "\n",
      "          -1       0.71      0.79      0.75       248\n",
      "           0       0.69      0.87      0.77       183\n",
      "           1       0.91      0.62      0.74       249\n",
      "\n",
      "    accuracy                           0.75       680\n",
      "   macro avg       0.77      0.76      0.75       680\n",
      "weighted avg       0.77      0.75      0.75       680\n",
      "\n",
      "[[197  37  14]\n",
      " [ 22 159   2]\n",
      " [ 59  36 154]]\n",
      "prbabilities distribution: \n",
      "                -1           0           1\n",
      "count  680.000000  680.000000  680.000000\n",
      "mean     0.398174    0.282760    0.319066\n",
      "std      0.226389    0.263384    0.267975\n",
      "min      0.008038    0.000103    0.001135\n",
      "25%      0.261452    0.030256    0.115560\n",
      "50%      0.366470    0.234998    0.232218\n",
      "75%      0.544002    0.477838    0.428373\n",
      "max      0.950973    0.990827    0.990770\n",
      "Time taken: 5.138 seconds.\n",
      "\n",
      "Model Name: SVM;\n",
      " Train set shape (24885, 128), num of class 3\n",
      "              precision    recall  f1-score   support\n",
      "\n",
      "          -1       0.59      0.55      0.57       248\n",
      "           0       0.56      0.86      0.68       183\n",
      "           1       0.85      0.58      0.69       249\n",
      "\n",
      "    accuracy                           0.64       680\n",
      "   macro avg       0.67      0.66      0.65       680\n",
      "weighted avg       0.68      0.64      0.64       680\n",
      "\n",
      "[[136  89  23]\n",
      " [ 23 157   3]\n",
      " [ 71  33 145]]\n",
      "prbabilities distribution: \n",
      "                -1           0           1\n",
      "count  680.000000  680.000000  680.000000\n",
      "mean     0.379824    0.302916    0.317260\n",
      "std      0.209544    0.289218    0.307288\n",
      "min      0.018105    0.000010    0.002589\n",
      "25%      0.205071    0.010324    0.060424\n",
      "50%      0.349118    0.226442    0.195764\n",
      "75%      0.520953    0.563293    0.525161\n",
      "max      0.997335    0.897741    0.981699\n",
      "Time taken: 178.041 seconds.\n",
      "\n",
      "Model Name: KNN;\n",
      " Train set shape (24885, 128), num of class 3\n",
      "              precision    recall  f1-score   support\n",
      "\n",
      "          -1       0.56      0.69      0.62       248\n",
      "           0       0.66      0.63      0.65       183\n",
      "           1       0.79      0.63      0.70       249\n",
      "\n",
      "    accuracy                           0.65       680\n",
      "   macro avg       0.67      0.65      0.66       680\n",
      "weighted avg       0.67      0.65      0.66       680\n",
      "\n",
      "[[172  38  38]\n",
      " [ 63 115   5]\n",
      " [ 72  20 157]]\n",
      "prbabilities distribution: \n",
      "                -1           0           1\n",
      "count  680.000000  680.000000  680.000000\n",
      "mean     0.404706    0.263824    0.331471\n",
      "std      0.348159    0.336293    0.369465\n",
      "min      0.000000    0.000000    0.000000\n",
      "25%      0.000000    0.000000    0.000000\n",
      "50%      0.400000    0.000000    0.200000\n",
      "75%      0.600000    0.400000    0.600000\n",
      "max      1.000000    1.000000    1.000000\n",
      "Time taken: 0.388 seconds.\n",
      "\n",
      "Model Name: GradientBoosting;\n",
      " Train set shape (24885, 128), num of class 3\n",
      "              precision    recall  f1-score   support\n",
      "\n",
      "          -1       0.65      0.79      0.71       248\n",
      "           0       0.73      0.82      0.77       183\n",
      "           1       0.89      0.61      0.73       249\n",
      "\n",
      "    accuracy                           0.73       680\n",
      "   macro avg       0.76      0.74      0.74       680\n",
      "weighted avg       0.76      0.73      0.73       680\n",
      "\n",
      "[[197  37  14]\n",
      " [ 29 150   4]\n",
      " [ 79  18 152]]\n",
      "prbabilities distribution: \n",
      "                -1           0           1\n",
      "count  680.000000  680.000000  680.000000\n",
      "mean     0.425656    0.272528    0.301816\n",
      "std      0.274845    0.294959    0.302838\n",
      "min      0.007952    0.001909    0.004421\n",
      "25%      0.204199    0.014495    0.068435\n",
      "50%      0.395863    0.136812    0.176625\n",
      "75%      0.644421    0.481649    0.457704\n",
      "max      0.973589    0.987094    0.979255\n",
      "Time taken: 203.058 seconds.\n",
      "\n",
      "Model Name: AdaBoost;\n",
      " Train set shape (24885, 128), num of class 3\n",
      "              precision    recall  f1-score   support\n",
      "\n",
      "          -1       0.53      0.58      0.55       248\n",
      "           0       0.66      0.71      0.69       183\n",
      "           1       0.72      0.61      0.66       249\n",
      "\n",
      "    accuracy                           0.62       680\n",
      "   macro avg       0.64      0.63      0.63       680\n",
      "weighted avg       0.63      0.62      0.63       680\n",
      "\n",
      "[[143  50  55]\n",
      " [ 48 130   5]\n",
      " [ 81  16 152]]\n",
      "prbabilities distribution: \n",
      "                -1           0           1\n",
      "count  680.000000  680.000000  680.000000\n",
      "mean     0.343112    0.319535    0.337354\n",
      "std      0.012169    0.028518    0.018943\n",
      "min      0.320979    0.168996    0.294940\n",
      "25%      0.335508    0.305249    0.323553\n",
      "50%      0.340282    0.328579    0.333346\n",
      "75%      0.347242    0.338407    0.349259\n",
      "max      0.416578    0.373587    0.419257\n",
      "Time taken: 14.186 seconds.\n",
      "\n"
     ]
    }
   ],
   "source": [
    "for model_name, model in models.items():\n",
    "    try_clf_with_feature_selected(model_name, X_train, X_test, y_train_s, y_test_s)"
   ]
  },
  {
   "cell_type": "code",
   "execution_count": null,
   "id": "28f5bdc7",
   "metadata": {},
   "outputs": [],
   "source": [
    "try_clf_with_feature_selected(model_name, X_train, X_test, y_train_e, y_test_e)"
   ]
  },
  {
   "cell_type": "markdown",
   "id": "c895dae9-216d-4af9-b69d-0cb40ba85807",
   "metadata": {},
   "source": [
    "### ChatGPT"
   ]
  },
  {
   "cell_type": "markdown",
   "id": "11eaa733-2935-4b1d-a787-5b6a7912a554",
   "metadata": {},
   "source": [
    "### Threshold tuning"
   ]
  },
  {
   "cell_type": "code",
   "execution_count": null,
   "id": "657ed0f6-90f6-4f5c-9825-c9fc877abecc",
   "metadata": {},
   "outputs": [],
   "source": [
    "# Calculate accuracy for the given threshold\n",
    "def calc_acc_by_thres(probabilities, threshold, y_test):\n",
    "    predictions_adj = []\n",
    "    # Loop through each sample's probabilities\n",
    "    for probs in probabilities:\n",
    "        if probs[0] > threshold:\n",
    "            pred_class = -1\n",
    "        elif probs[1] > probs[2]:\n",
    "            pred_class = 0\n",
    "        else:\n",
    "            pred_class = 1\n",
    "        predictions_adj.append(pred_class)\n",
    "    accuracy = np.mean(predictions_adj == y_test)\n",
    "    precision, recall, f1score, _ = precision_recall_fscore_support(y_test_s, predictions_adj, average=None)\n",
    "    return accuracy, min(f1score), np.var(f1score)\n",
    "\n",
    "best_threshold = None\n",
    "best_accuracy = 0.0\n",
    "best_f1score = 0.0\n",
    "# best_f1s_var = 10\n",
    "\n",
    "# Define a range of threshold values to try\n",
    "threshold_range = np.linspace(0.25, 0.75, 100)\n",
    "for threshold in threshold_range:\n",
    "    accuracy, min_f1_score, var_f1_score = calc_acc_by_thres(probabilities, threshold, y_test_s)\n",
    "    # if accuracy > best_accuracy:\n",
    "    #     best_accuracy = accuracy\n",
    "    #     best_threshold = threshold\n",
    "    if min_f1_score > best_f1score:\n",
    "        best_f1score = min_f1_score\n",
    "        best_threshold = threshold\n",
    "        best_accuracy = accuracy\n",
    "    # if var_f1_score < best_f1s_var:\n",
    "    #     best_f1score = min_f1_score\n",
    "    #     best_threshold = threshold\n",
    "    #     best_accuracy = accuracy\n",
    "    #     best_f1s_var = var_f1_score\n",
    "        \n",
    "\n",
    "print(\"Best Threshold:\", best_threshold)\n",
    "print(\"Best Accuracy:\", best_accuracy)\n",
    "print(\"Best min f1 score:\", best_f1score)\n",
    "# print(\"Best var f1 score:\", best_f1s_var)"
   ]
  },
  {
   "cell_type": "markdown",
   "id": "b1b82b49-f8b1-41c6-8c5c-a4a134ccd373",
   "metadata": {},
   "source": [
    "To get overall high accuracy: Best Threshold: 0.5328 ; Best Accuracy: 0.7746   \n",
    "To get 0 & 1 high f1 score to balance:  Best Threshold: 0.6237 ; Best Accuracy: 0.7458  "
   ]
  },
  {
   "cell_type": "code",
   "execution_count": null,
   "id": "159c22ed-05aa-4f3a-9164-be08873b82fe",
   "metadata": {},
   "outputs": [],
   "source": [
    "print('threshold 0.5328') \n",
    "threshold = 0.5328 \n",
    "\n",
    "predictions_adj = []\n",
    "for probs in probabilities:\n",
    "    if probs[0] > threshold:\n",
    "        pred_class = -1\n",
    "    elif probs[1] > probs[2]:\n",
    "        pred_class = 0\n",
    "    else:\n",
    "        pred_class = 1\n",
    "    predictions_adj.append(pred_class)\n",
    "print(classification_report(y_test_s, predictions_adj))\n",
    "print(confusion_matrix(y_test_s, predictions_adj))\n",
    "print(\"Accuracy:\", np.mean(predictions_adj == y_test_s))\n",
    "\n",
    "print('threshold 0.6237') \n",
    "threshold = 0.6237\n",
    "predictions_adj = []\n",
    "for probs in probabilities:\n",
    "    if probs[0] > threshold:\n",
    "        pred_class = -1\n",
    "    elif probs[1] > probs[2]:\n",
    "        pred_class = 0\n",
    "    else:\n",
    "        pred_class = 1\n",
    "    predictions_adj.append(pred_class)\n",
    "print(classification_report(y_test_s, predictions_adj))\n",
    "print(confusion_matrix(y_test_s, predictions_adj))\n",
    "print(\"Accuracy:\", np.mean(predictions_adj == y_test_s))"
   ]
  },
  {
   "cell_type": "code",
   "execution_count": null,
   "id": "68fcfb4f-c921-44e0-bdb5-3528bf49ae88",
   "metadata": {},
   "outputs": [],
   "source": [
    "from sklearn.metrics import precision_recall_fscore_support\n",
    "precision, recall, f1score, _ = precision_recall_fscore_support(y_test_s, predictions_adj, average=None)\n",
    "\n",
    "metrics_dict = {}\n",
    "for i in range(len(precision)):\n",
    "    class_label = f\"class_{i-1}\"\n",
    "    metrics_dict[f\"{class_label}_precision\"] = round(precision[i],3)\n",
    "    metrics_dict[f\"{class_label}_recall\"] = round(recall[i],3)\n",
    "    metrics_dict[f\"{class_label}_f1score\"] = round(f1score[i],3)\n",
    "\n",
    "print(metrics_dict)"
   ]
  }
 ],
 "metadata": {
  "kernelspec": {
   "display_name": "Python 3 (ipykernel)",
   "language": "python",
   "name": "python3"
  },
  "language_info": {
   "codemirror_mode": {
    "name": "ipython",
    "version": 3
   },
   "file_extension": ".py",
   "mimetype": "text/x-python",
   "name": "python",
   "nbconvert_exporter": "python",
   "pygments_lexer": "ipython3",
   "version": "3.11.3"
  }
 },
 "nbformat": 4,
 "nbformat_minor": 5
}
