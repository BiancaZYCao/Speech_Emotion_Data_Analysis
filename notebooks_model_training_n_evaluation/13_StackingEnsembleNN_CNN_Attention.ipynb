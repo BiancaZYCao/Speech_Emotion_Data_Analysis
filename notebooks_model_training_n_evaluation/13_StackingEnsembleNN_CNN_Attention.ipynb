{
 "cells": [
  {
   "cell_type": "code",
   "execution_count": 1,
   "id": "e8dba9c2-50a6-4935-85c4-36c696e704fb",
   "metadata": {
    "ExecuteTime": {
     "end_time": "2024-03-22T14:11:41.074153200Z",
     "start_time": "2024-03-22T14:11:40.491980900Z"
    }
   },
   "outputs": [],
   "source": [
    "import numpy as np\n",
    "import pandas as pd\n",
    "import glob\n",
    "import os, sys\n",
    "# import matplotlib.pyplot as plt\n",
    "import time\n",
    "import warnings\n",
    "warnings.simplefilter(action='ignore', category=FutureWarning)\n",
    "VERSION = 4\n",
    "from sklearn.ensemble import RandomForestClassifier\n",
    "from sklearn.metrics import classification_report, confusion_matrix\n",
    "from sklearn.tree import DecisionTreeClassifier\n"
   ]
  },
  {
   "cell_type": "markdown",
   "id": "659733a7-b892-482e-b64f-459f44cc7a78",
   "metadata": {},
   "source": [
    "### Load Data"
   ]
  },
  {
   "cell_type": "code",
   "execution_count": 2,
   "id": "c4f92909-5a35-4597-a92b-199d51328884",
   "metadata": {
    "ExecuteTime": {
     "end_time": "2024-03-22T14:11:44.575407100Z",
     "start_time": "2024-03-22T14:11:41.078880200Z"
    }
   },
   "outputs": [
    {
     "name": "stdout",
     "output_type": "stream",
     "text": [
      "shape of train set:  (7648, 1546)\n",
      "shape of test  set:  (680, 1546)\n"
     ]
    }
   ],
   "source": [
    "df_joint_train_low = pd.read_csv(f'./features/merged_file_v3.csv')\n",
    "df_joint_train_aug = pd.read_csv(f'./features/cache_train_V4_augmented.csv')\n",
    "print(\"shape of train set: \", df_joint_train_low.shape)\n",
    "# df_joint_test = pd.read_csv(f'./features/cache_all_features_test_V{VERSION}.csv') # not balanced\n",
    "df_joint_test = pd.read_csv(f'./features/cache_test_V4_resampled_250.csv')\n",
    "print(\"shape of test  set: \", df_joint_test.shape)\n",
    "feature_column_names = [i for i in df_joint_train_aug.columns \\\n",
    "                        if i not in ['file_path','renamed_file_path','split','sentiment_value','emotional_category']]"
   ]
  },
  {
   "cell_type": "code",
   "execution_count": 3,
   "id": "d75d6965-22cf-4c2b-8866-fb91a24d4daf",
   "metadata": {
    "ExecuteTime": {
     "end_time": "2024-03-22T14:11:45.231676700Z",
     "start_time": "2024-03-22T14:11:45.165927700Z"
    }
   },
   "outputs": [
    {
     "data": {
      "text/plain": [
       "sentiment_value\n",
       "-1    4970\n",
       " 0     852\n",
       " 1    1826\n",
       "Name: file_path, dtype: int64"
      ]
     },
     "execution_count": 3,
     "metadata": {},
     "output_type": "execute_result"
    }
   ],
   "source": [
    "df_joint_train_low.groupby('sentiment_value')['file_path'].count()"
   ]
  },
  {
   "cell_type": "code",
   "execution_count": 4,
   "id": "b35ff200-a507-4585-8895-cd6078d86277",
   "metadata": {
    "ExecuteTime": {
     "end_time": "2024-03-22T14:11:45.737073700Z",
     "start_time": "2024-03-22T14:11:45.220061600Z"
    }
   },
   "outputs": [],
   "source": [
    "X_train = df_joint_train_aug[feature_column_names]\n",
    "X_train_low = df_joint_train_low[feature_column_names]\n",
    "y_train_s = df_joint_train_aug['sentiment_value']\n",
    "y_train_e = df_joint_train_aug['emotional_category']\n",
    "y_train_low_s = df_joint_train_low['sentiment_value']\n",
    "y_train_low_e = df_joint_train_low['emotional_category']\n",
    "\n",
    "# from sklearn.preprocessing import LabelEncoder\n",
    "# label_encoder = LabelEncoder()\n",
    "# y_e_num = label_encoder.fit_transform(y_train_e)\n",
    "\n",
    "X_test = df_joint_test[feature_column_names]\n",
    "y_test_s = df_joint_test['sentiment_value']\n",
    "y_test_e = df_joint_test['emotional_category']\n",
    "\n",
    "# from sklearn.preprocessing import LabelEncoder\n",
    "# label_encoder = LabelEncoder()\n",
    "# y_test_e_num = label_encoder.fit_transform(y_test_e)"
   ]
  },
  {
   "cell_type": "code",
   "execution_count": 5,
   "id": "1d60449b-65d7-4052-96bf-1b4ed2012440",
   "metadata": {
    "ExecuteTime": {
     "end_time": "2024-03-22T14:11:45.756833600Z",
     "start_time": "2024-03-22T14:11:45.745226200Z"
    }
   },
   "outputs": [],
   "source": [
    "### generate selected features \n",
    "# PREFIXES = {'mfcc': 60,'chroma': 12, 'mel32': 32, 'mel64': 64,'mel128': 128, 'zcr': 1, 'rms': 1}\n",
    "def generate_selected_features_by_type(feature_column_names,input,stats,number=1):\n",
    "    selected_result = []\n",
    "    for name in feature_column_names:\n",
    "        if input+\"_\"+stats in name:\n",
    "            selected_result.append(name)\n",
    "    if number < len(selected_result):\n",
    "        selected_result = selected_result[:number]\n",
    "    return selected_result\n",
    "\n",
    "# example to take mfcc 20 mean & std; mel32; zcr all 5 stats features\n",
    "feature_MFCC20_mean = generate_selected_features_by_type(feature_column_names,\"mfcc\",\"mean\",20)\n",
    "feature_MFCC20_std  = generate_selected_features_by_type(feature_column_names,\"mfcc\",\"std\",20)\n",
    "feature_mel32_stats = generate_selected_features_by_type(feature_column_names,\"mel32\",\"\",32*5)\n",
    "feature_zcr_stats   = generate_selected_features_by_type(feature_column_names,\"zcr\",\"\",5)\n",
    "feature_rms_stats   = generate_selected_features_by_type(feature_column_names,\"rms\",\"\",5)"
   ]
  },
  {
   "cell_type": "code",
   "execution_count": 6,
   "id": "cb07ae91-fb8f-47fd-8ae4-020865c37312",
   "metadata": {
    "ExecuteTime": {
     "end_time": "2024-03-22T14:11:45.776832200Z",
     "start_time": "2024-03-22T14:11:45.756833600Z"
    }
   },
   "outputs": [],
   "source": [
    "# # REF: previous study selected prosody features\n",
    "selected_spect = ['Spectrum_band_energy_difference','Spectrum_band_density_difference','Spectrum_center_of_gravity_spectrum','Spectrum_skewness_spectrum','Spectrum_kurtosis_spectrum', 'Spectrum_stddev_spectrum','Spectrum_band_density', 'Spectrum_band_energy']\n",
    "selected_formant = ['Formant_f1_mean','Formant_f1_median','Formant_f3_mean','Formant_fitch_vtl','Formant_mff','Formant_formant_dispersion']\n",
    "selected_GNE = ['GNE_max_gne', 'GNE_stddev_gne', 'GNE_mean_gne', 'GNE_sum_gne']\n",
    "selected_pitch = ['Pitch_pitch_slope_without_octave_jumps', 'Pitch_q3_pitch','Pitch_stddev_pitch', 'Pitch_mean_absolute_pitch_slope','Pitch_mean_pitch', 'Pitch_max_pitch', 'Pitch_q1_pitch', 'Pitch_min_pitch']\n",
    "selected_intensity = ['Intensity_max_intensity', 'Intensity_q3_intensity','Intensity_median_intensity', 'Intensity_mean_intensity', 'Intensity_stddev_intensity','Intensity_relative_max_intensity_time']\n",
    "selected_HNR = ['HNR_stddev_hnr', 'HNR_mean_hnr','HNR_relative_min_hnr_time','HNR_max_hnr']\n",
    "selected_prosody = selected_spect + selected_formant + selected_HNR + selected_intensity + selected_pitch + ['Local Jitter','Local Shimmer']"
   ]
  },
  {
   "cell_type": "code",
   "execution_count": 7,
   "id": "2a1663e5-5686-40cc-9141-45e27b2d20d3",
   "metadata": {
    "ExecuteTime": {
     "end_time": "2024-03-22T14:11:45.823941700Z",
     "start_time": "2024-03-22T14:11:45.769600200Z"
    }
   },
   "outputs": [],
   "source": [
    "# Example try MFCC 20 mean & std + ZCR & RMS\n",
    "feature_column_names = feature_MFCC20_mean + feature_MFCC20_std + feature_mel32_stats+ feature_zcr_stats + feature_rms_stats+ selected_prosody\n",
    "\n",
    "X_train = df_joint_train_aug[feature_column_names]\n",
    "X_test = df_joint_test[feature_column_names]\n",
    "X_train_low = df_joint_train_low[feature_column_names]"
   ]
  },
  {
   "cell_type": "code",
   "execution_count": 13,
   "id": "02441cb2-0cc9-4e8b-be8e-171114d86881",
   "metadata": {},
   "outputs": [
    {
     "data": {
      "text/plain": [
       "((24885, 244), (7648, 244), (680, 244))"
      ]
     },
     "execution_count": 13,
     "metadata": {},
     "output_type": "execute_result"
    }
   ],
   "source": [
    "X_train.shape, X_train_low.shape, X_test.shape"
   ]
  },
  {
   "cell_type": "markdown",
   "id": "dc283451-e5be-41f4-9936-9cfc26c33c4b",
   "metadata": {},
   "source": [
    "### emotion 8-class Random Forest Classifier"
   ]
  },
  {
   "cell_type": "code",
   "execution_count": 14,
   "id": "5f099d33-2ff9-42f3-a405-6b965133e9fd",
   "metadata": {},
   "outputs": [
    {
     "name": "stdout",
     "output_type": "stream",
     "text": [
      "              precision    recall  f1-score   support\n",
      "\n",
      "       Anger       0.64      0.71      0.67        62\n",
      "    Calmness       0.40      1.00      0.57        16\n",
      "     Disgust       0.47      0.26      0.33        62\n",
      "        Fear       0.80      0.39      0.52        62\n",
      "   Happiness       0.76      0.63      0.69       187\n",
      "  Neutrality       0.66      0.87      0.75       167\n",
      "     Sadness       0.54      0.61      0.57        62\n",
      "    Surprise       0.92      0.92      0.92        62\n",
      "\n",
      "    accuracy                           0.67       680\n",
      "   macro avg       0.65      0.67      0.63       680\n",
      "weighted avg       0.69      0.67      0.66       680\n",
      "\n",
      "[[ 44   0   5   0  12   0   1   0]\n",
      " [  0  16   0   0   0   0   0   0]\n",
      " [  2   3  16   2  12  18   8   1]\n",
      " [  3   0   4  24   8  12  10   1]\n",
      " [ 20   7   7   3 117  28   3   2]\n",
      " [  0   8   0   1   2 145  11   0]\n",
      " [  0   5   1   0   1  16  38   1]\n",
      " [  0   1   1   0   2   1   0  57]]\n"
     ]
    }
   ],
   "source": [
    "rand_forest = RandomForestClassifier()\n",
    "rand_forest.fit(X_train, y_train_e)\n",
    "\n",
    "predictions = rand_forest.predict(X_test) \n",
    "probabilities = rand_forest.predict_proba(X_test)\n",
    "print(classification_report(y_test_e, predictions))\n",
    "print(confusion_matrix(y_test_e, predictions))"
   ]
  },
  {
   "cell_type": "code",
   "execution_count": 17,
   "id": "28f5bdc7",
   "metadata": {
    "ExecuteTime": {
     "end_time": "2024-03-22T14:12:40.401929200Z",
     "start_time": "2024-03-22T14:11:59.194328Z"
    }
   },
   "outputs": [
    {
     "name": "stdout",
     "output_type": "stream",
     "text": [
      "              precision    recall  f1-score   support\n",
      "\n",
      "       Anger       0.28      0.42      0.33        62\n",
      "    Calmness       0.00      0.00      0.00        16\n",
      "     Disgust       0.20      0.66      0.31        62\n",
      "        Fear       0.25      0.69      0.37        62\n",
      "   Happiness       0.44      0.10      0.16       187\n",
      "  Neutrality       0.33      0.01      0.01       167\n",
      "     Sadness       0.26      0.56      0.36        62\n",
      "    Surprise       0.43      0.26      0.32        62\n",
      "\n",
      "    accuracy                           0.26       680\n",
      "   macro avg       0.27      0.34      0.23       680\n",
      "weighted avg       0.33      0.26      0.20       680\n",
      "\n",
      "[[26  0  6 23  6  0  1  0]\n",
      " [ 0  0  4  0  0  0 12  0]\n",
      " [ 5  0 41  7  1  0  8  0]\n",
      " [ 1  0  9 43  0  0  6  3]\n",
      " [51  0 37 54 18  1 11 15]\n",
      " [ 4  0 69 23  9  1 58  3]\n",
      " [ 0  0 12 13  1  1 35  0]\n",
      " [ 7  0 22  9  6  0  2 16]]\n"
     ]
    },
    {
     "name": "stderr",
     "output_type": "stream",
     "text": [
      "/Users/bianca/anaconda3/envs/transformers/lib/python3.11/site-packages/sklearn/metrics/_classification.py:1509: UndefinedMetricWarning: Precision is ill-defined and being set to 0.0 in labels with no predicted samples. Use `zero_division` parameter to control this behavior.\n",
      "  _warn_prf(average, modifier, f\"{metric.capitalize()} is\", len(result))\n",
      "/Users/bianca/anaconda3/envs/transformers/lib/python3.11/site-packages/sklearn/metrics/_classification.py:1509: UndefinedMetricWarning: Precision is ill-defined and being set to 0.0 in labels with no predicted samples. Use `zero_division` parameter to control this behavior.\n",
      "  _warn_prf(average, modifier, f\"{metric.capitalize()} is\", len(result))\n",
      "/Users/bianca/anaconda3/envs/transformers/lib/python3.11/site-packages/sklearn/metrics/_classification.py:1509: UndefinedMetricWarning: Precision is ill-defined and being set to 0.0 in labels with no predicted samples. Use `zero_division` parameter to control this behavior.\n",
      "  _warn_prf(average, modifier, f\"{metric.capitalize()} is\", len(result))\n"
     ]
    }
   ],
   "source": [
    "rand_forest2 = RandomForestClassifier()\n",
    "rand_forest2.fit(X_train_low, y_train_low_e)\n",
    "predictions = rand_forest2.predict(X_test) \n",
    "probabilities2 = rand_forest.predict_proba(X_test)\n",
    "# Evaluate the model\n",
    "print(classification_report(y_test_e, predictions))\n",
    "print(confusion_matrix(y_test_e, predictions))"
   ]
  },
  {
   "cell_type": "markdown",
   "id": "b1c97fa1-3b4f-4b92-a223-07f63162edac",
   "metadata": {},
   "source": [
    "### 2 layer decision "
   ]
  },
  {
   "cell_type": "code",
   "execution_count": 22,
   "id": "8225a86e-9b68-4873-a1a1-74d947782b7c",
   "metadata": {},
   "outputs": [
    {
     "name": "stdout",
     "output_type": "stream",
     "text": [
      "              precision    recall  f1-score   support\n",
      "\n",
      "       Anger       0.64      0.71      0.67        62\n",
      "    Calmness       0.40      1.00      0.57        16\n",
      "     Disgust       0.47      0.26      0.33        62\n",
      "        Fear       0.80      0.39      0.52        62\n",
      "   Happiness       0.76      0.63      0.69       187\n",
      "  Neutrality       0.66      0.87      0.75       167\n",
      "     Sadness       0.54      0.61      0.57        62\n",
      "    Surprise       0.92      0.92      0.92        62\n",
      "\n",
      "    accuracy                           0.67       680\n",
      "   macro avg       0.65      0.67      0.63       680\n",
      "weighted avg       0.69      0.67      0.66       680\n",
      "\n",
      "[[ 44   0   5   0  12   0   1   0]\n",
      " [  0  16   0   0   0   0   0   0]\n",
      " [  2   3  16   2  12  18   8   1]\n",
      " [  3   0   4  24   8  12  10   1]\n",
      " [ 20   7   7   3 117  28   3   2]\n",
      " [  0   8   0   1   2 145  11   0]\n",
      " [  0   5   1   0   1  16  38   1]\n",
      " [  0   1   1   0   2   1   0  57]]\n"
     ]
    }
   ],
   "source": [
    "threshold = 0.95\n",
    "final_predictions = []\n",
    "\n",
    "for prob1, prob2 in zip(probabilities, probabilities2):\n",
    "    if np.max(prob1) > threshold:\n",
    "        predicted_class = np.argmax(prob1)\n",
    "    else:\n",
    "        predicted_class = np.argmax(prob2)\n",
    "    final_predictions.append(predicted_class)\n",
    "\n",
    "final_predictions = np.array(final_predictions)\n",
    "final_predictions_str = [rand_forest.classes_[prediction] for prediction in final_predictions]\n",
    "print(classification_report(y_test_e, final_predictions_str ))\n",
    "print(confusion_matrix(y_test_e,final_predictions_str))"
   ]
  },
  {
   "cell_type": "markdown",
   "id": "e0f951b2fb69596f",
   "metadata": {
    "collapsed": false,
    "jupyter": {
     "outputs_hidden": false
    }
   },
   "source": [
    "## StackingEnsembleNN    (rf+dt+knn+gb-fast -> gb-fast)"
   ]
  },
  {
   "cell_type": "code",
   "execution_count": 28,
   "id": "77c77eb9dd6d43f2",
   "metadata": {
    "ExecuteTime": {
     "end_time": "2024-03-22T14:24:00.163155200Z",
     "start_time": "2024-03-22T14:17:49.634593900Z"
    },
    "collapsed": false,
    "jupyter": {
     "outputs_hidden": false
    }
   },
   "outputs": [
    {
     "name": "stdout",
     "output_type": "stream",
     "text": [
      "Accuracy: 0.6323529411764706\n"
     ]
    }
   ],
   "source": [
    "import numpy as np\n",
    "from sklearn.model_selection import train_test_split\n",
    "from sklearn.ensemble import StackingClassifier\n",
    "from sklearn.neural_network import MLPClassifier\n",
    "from sklearn.ensemble import RandomForestClassifier, AdaBoostClassifier, HistGradientBoostingClassifier\n",
    "from sklearn.neighbors import KNeighborsClassifier\n",
    "from sklearn.svm import SVC\n",
    "from sklearn.tree import DecisionTreeClassifier\n",
    "from sklearn.metrics import accuracy_score\n",
    "\n",
    "# 定义基本分类器\n",
    "base_classifiers = [\n",
    "    # ('mlp', MLPClassifier(hidden_layer_sizes=(100,), activation='relu', random_state=42)),\n",
    "    ('rf', RandomForestClassifier(n_estimators=100, random_state=42)),\n",
    "    ('dt', DecisionTreeClassifier(random_state=42)),\n",
    "    ('knn', KNeighborsClassifier(n_neighbors=15)),\n",
    "    # ('svm', SVC(kernel='rbf', random_state=42)),\n",
    "    # ('ada', AdaBoostClassifier(n_estimators=50, learning_rate=1.0, random_state=42)),\n",
    "    ('gb', HistGradientBoostingClassifier(loss='log_loss', learning_rate=0.01, max_iter=50, random_state=42))\n",
    "]\n",
    "\n",
    "# 定义Stacking分类器\n",
    "stacking_classifier = StackingClassifier(estimators=base_classifiers, \n",
    "                                         final_estimator=HistGradientBoostingClassifier(\n",
    "                                             loss='log_loss', learning_rate=0.1, max_iter=50, random_state=42))\n",
    "\n",
    "# 训练Stacking分类器\n",
    "stacking_classifier.fit(X_train, y_train_e)\n",
    "\n",
    "# 在测试集上进行预测\n",
    "y_pred = stacking_classifier.predict(X_test)\n",
    "\n",
    "# 计算准确率\n",
    "accuracy = accuracy_score(y_test_e, y_pred)\n",
    "print(\"Accuracy:\", accuracy)"
   ]
  },
  {
   "cell_type": "markdown",
   "id": "3d1e38b6d8762c00",
   "metadata": {
    "collapsed": false,
    "jupyter": {
     "outputs_hidden": false
    }
   },
   "source": [
    "# CNN+Attention TODO"
   ]
  },
  {
   "cell_type": "code",
   "execution_count": 38,
   "id": "6f649ebaa8f99a93",
   "metadata": {
    "ExecuteTime": {
     "end_time": "2024-03-22T14:24:15.458190Z",
     "start_time": "2024-03-22T14:24:15.141716700Z"
    },
    "collapsed": false,
    "jupyter": {
     "outputs_hidden": false
    }
   },
   "outputs": [
    {
     "data": {
      "text/html": [
       "<pre style=\"white-space:pre;overflow-x:auto;line-height:normal;font-family:Menlo,'DejaVu Sans Mono',consolas,'Courier New',monospace\"><span style=\"font-weight: bold\">Model: \"functional_11\"</span>\n",
       "</pre>\n"
      ],
      "text/plain": [
       "\u001b[1mModel: \"functional_11\"\u001b[0m\n"
      ]
     },
     "metadata": {},
     "output_type": "display_data"
    },
    {
     "data": {
      "text/html": [
       "<pre style=\"white-space:pre;overflow-x:auto;line-height:normal;font-family:Menlo,'DejaVu Sans Mono',consolas,'Courier New',monospace\">┏━━━━━━━━━━━━━━━━━━━━━┳━━━━━━━━━━━━━━━━━━━┳━━━━━━━━━━━━┳━━━━━━━━━━━━━━━━━━━┓\n",
       "┃<span style=\"font-weight: bold\"> Layer (type)        </span>┃<span style=\"font-weight: bold\"> Output Shape      </span>┃<span style=\"font-weight: bold\">    Param # </span>┃<span style=\"font-weight: bold\"> Connected to      </span>┃\n",
       "┡━━━━━━━━━━━━━━━━━━━━━╇━━━━━━━━━━━━━━━━━━━╇━━━━━━━━━━━━╇━━━━━━━━━━━━━━━━━━━┩\n",
       "│ input_layer_1       │ (<span style=\"color: #00d7ff; text-decoration-color: #00d7ff\">None</span>, <span style=\"color: #00af00; text-decoration-color: #00af00\">244</span>, <span style=\"color: #00af00; text-decoration-color: #00af00\">1</span>)    │          <span style=\"color: #00af00; text-decoration-color: #00af00\">0</span> │ -                 │\n",
       "│ (<span style=\"color: #0087ff; text-decoration-color: #0087ff\">InputLayer</span>)        │                   │            │                   │\n",
       "├─────────────────────┼───────────────────┼────────────┼───────────────────┤\n",
       "│ conv1d_2 (<span style=\"color: #0087ff; text-decoration-color: #0087ff\">Conv1D</span>)   │ (<span style=\"color: #00d7ff; text-decoration-color: #00d7ff\">None</span>, <span style=\"color: #00af00; text-decoration-color: #00af00\">244</span>, <span style=\"color: #00af00; text-decoration-color: #00af00\">128</span>)  │        <span style=\"color: #00af00; text-decoration-color: #00af00\">768</span> │ input_layer_1[<span style=\"color: #00af00; text-decoration-color: #00af00\">0</span>]… │\n",
       "├─────────────────────┼───────────────────┼────────────┼───────────────────┤\n",
       "│ dropout_2 (<span style=\"color: #0087ff; text-decoration-color: #0087ff\">Dropout</span>) │ (<span style=\"color: #00d7ff; text-decoration-color: #00d7ff\">None</span>, <span style=\"color: #00af00; text-decoration-color: #00af00\">244</span>, <span style=\"color: #00af00; text-decoration-color: #00af00\">128</span>)  │          <span style=\"color: #00af00; text-decoration-color: #00af00\">0</span> │ conv1d_2[<span style=\"color: #00af00; text-decoration-color: #00af00\">0</span>][<span style=\"color: #00af00; text-decoration-color: #00af00\">0</span>]    │\n",
       "├─────────────────────┼───────────────────┼────────────┼───────────────────┤\n",
       "│ max_pooling1d_1     │ (<span style=\"color: #00d7ff; text-decoration-color: #00d7ff\">None</span>, <span style=\"color: #00af00; text-decoration-color: #00af00\">30</span>, <span style=\"color: #00af00; text-decoration-color: #00af00\">128</span>)   │          <span style=\"color: #00af00; text-decoration-color: #00af00\">0</span> │ dropout_2[<span style=\"color: #00af00; text-decoration-color: #00af00\">0</span>][<span style=\"color: #00af00; text-decoration-color: #00af00\">0</span>]   │\n",
       "│ (<span style=\"color: #0087ff; text-decoration-color: #0087ff\">MaxPooling1D</span>)      │                   │            │                   │\n",
       "├─────────────────────┼───────────────────┼────────────┼───────────────────┤\n",
       "│ conv1d_3 (<span style=\"color: #0087ff; text-decoration-color: #0087ff\">Conv1D</span>)   │ (<span style=\"color: #00d7ff; text-decoration-color: #00d7ff\">None</span>, <span style=\"color: #00af00; text-decoration-color: #00af00\">30</span>, <span style=\"color: #00af00; text-decoration-color: #00af00\">128</span>)   │     <span style=\"color: #00af00; text-decoration-color: #00af00\">82,048</span> │ max_pooling1d_1[<span style=\"color: #00af00; text-decoration-color: #00af00\">…</span> │\n",
       "├─────────────────────┼───────────────────┼────────────┼───────────────────┤\n",
       "│ dropout_3 (<span style=\"color: #0087ff; text-decoration-color: #0087ff\">Dropout</span>) │ (<span style=\"color: #00d7ff; text-decoration-color: #00d7ff\">None</span>, <span style=\"color: #00af00; text-decoration-color: #00af00\">30</span>, <span style=\"color: #00af00; text-decoration-color: #00af00\">128</span>)   │          <span style=\"color: #00af00; text-decoration-color: #00af00\">0</span> │ conv1d_3[<span style=\"color: #00af00; text-decoration-color: #00af00\">0</span>][<span style=\"color: #00af00; text-decoration-color: #00af00\">0</span>]    │\n",
       "├─────────────────────┼───────────────────┼────────────┼───────────────────┤\n",
       "│ dense_1 (<span style=\"color: #0087ff; text-decoration-color: #0087ff\">Dense</span>)     │ (<span style=\"color: #00d7ff; text-decoration-color: #00d7ff\">None</span>, <span style=\"color: #00af00; text-decoration-color: #00af00\">30</span>, <span style=\"color: #00af00; text-decoration-color: #00af00\">128</span>)   │     <span style=\"color: #00af00; text-decoration-color: #00af00\">16,512</span> │ dropout_3[<span style=\"color: #00af00; text-decoration-color: #00af00\">0</span>][<span style=\"color: #00af00; text-decoration-color: #00af00\">0</span>]   │\n",
       "├─────────────────────┼───────────────────┼────────────┼───────────────────┤\n",
       "│ multiply (<span style=\"color: #0087ff; text-decoration-color: #0087ff\">Multiply</span>) │ (<span style=\"color: #00d7ff; text-decoration-color: #00d7ff\">None</span>, <span style=\"color: #00af00; text-decoration-color: #00af00\">30</span>, <span style=\"color: #00af00; text-decoration-color: #00af00\">128</span>)   │          <span style=\"color: #00af00; text-decoration-color: #00af00\">0</span> │ dropout_3[<span style=\"color: #00af00; text-decoration-color: #00af00\">0</span>][<span style=\"color: #00af00; text-decoration-color: #00af00\">0</span>],  │\n",
       "│                     │                   │            │ dense_1[<span style=\"color: #00af00; text-decoration-color: #00af00\">0</span>][<span style=\"color: #00af00; text-decoration-color: #00af00\">0</span>]     │\n",
       "├─────────────────────┼───────────────────┼────────────┼───────────────────┤\n",
       "│ flatten_1 (<span style=\"color: #0087ff; text-decoration-color: #0087ff\">Flatten</span>) │ (<span style=\"color: #00d7ff; text-decoration-color: #00d7ff\">None</span>, <span style=\"color: #00af00; text-decoration-color: #00af00\">3840</span>)      │          <span style=\"color: #00af00; text-decoration-color: #00af00\">0</span> │ multiply[<span style=\"color: #00af00; text-decoration-color: #00af00\">0</span>][<span style=\"color: #00af00; text-decoration-color: #00af00\">0</span>]    │\n",
       "├─────────────────────┼───────────────────┼────────────┼───────────────────┤\n",
       "│ dense_2 (<span style=\"color: #0087ff; text-decoration-color: #0087ff\">Dense</span>)     │ (<span style=\"color: #00d7ff; text-decoration-color: #00d7ff\">None</span>, <span style=\"color: #00af00; text-decoration-color: #00af00\">10</span>)        │     <span style=\"color: #00af00; text-decoration-color: #00af00\">38,410</span> │ flatten_1[<span style=\"color: #00af00; text-decoration-color: #00af00\">0</span>][<span style=\"color: #00af00; text-decoration-color: #00af00\">0</span>]   │\n",
       "└─────────────────────┴───────────────────┴────────────┴───────────────────┘\n",
       "</pre>\n"
      ],
      "text/plain": [
       "┏━━━━━━━━━━━━━━━━━━━━━┳━━━━━━━━━━━━━━━━━━━┳━━━━━━━━━━━━┳━━━━━━━━━━━━━━━━━━━┓\n",
       "┃\u001b[1m \u001b[0m\u001b[1mLayer (type)       \u001b[0m\u001b[1m \u001b[0m┃\u001b[1m \u001b[0m\u001b[1mOutput Shape     \u001b[0m\u001b[1m \u001b[0m┃\u001b[1m \u001b[0m\u001b[1m   Param #\u001b[0m\u001b[1m \u001b[0m┃\u001b[1m \u001b[0m\u001b[1mConnected to     \u001b[0m\u001b[1m \u001b[0m┃\n",
       "┡━━━━━━━━━━━━━━━━━━━━━╇━━━━━━━━━━━━━━━━━━━╇━━━━━━━━━━━━╇━━━━━━━━━━━━━━━━━━━┩\n",
       "│ input_layer_1       │ (\u001b[38;5;45mNone\u001b[0m, \u001b[38;5;34m244\u001b[0m, \u001b[38;5;34m1\u001b[0m)    │          \u001b[38;5;34m0\u001b[0m │ -                 │\n",
       "│ (\u001b[38;5;33mInputLayer\u001b[0m)        │                   │            │                   │\n",
       "├─────────────────────┼───────────────────┼────────────┼───────────────────┤\n",
       "│ conv1d_2 (\u001b[38;5;33mConv1D\u001b[0m)   │ (\u001b[38;5;45mNone\u001b[0m, \u001b[38;5;34m244\u001b[0m, \u001b[38;5;34m128\u001b[0m)  │        \u001b[38;5;34m768\u001b[0m │ input_layer_1[\u001b[38;5;34m0\u001b[0m]… │\n",
       "├─────────────────────┼───────────────────┼────────────┼───────────────────┤\n",
       "│ dropout_2 (\u001b[38;5;33mDropout\u001b[0m) │ (\u001b[38;5;45mNone\u001b[0m, \u001b[38;5;34m244\u001b[0m, \u001b[38;5;34m128\u001b[0m)  │          \u001b[38;5;34m0\u001b[0m │ conv1d_2[\u001b[38;5;34m0\u001b[0m][\u001b[38;5;34m0\u001b[0m]    │\n",
       "├─────────────────────┼───────────────────┼────────────┼───────────────────┤\n",
       "│ max_pooling1d_1     │ (\u001b[38;5;45mNone\u001b[0m, \u001b[38;5;34m30\u001b[0m, \u001b[38;5;34m128\u001b[0m)   │          \u001b[38;5;34m0\u001b[0m │ dropout_2[\u001b[38;5;34m0\u001b[0m][\u001b[38;5;34m0\u001b[0m]   │\n",
       "│ (\u001b[38;5;33mMaxPooling1D\u001b[0m)      │                   │            │                   │\n",
       "├─────────────────────┼───────────────────┼────────────┼───────────────────┤\n",
       "│ conv1d_3 (\u001b[38;5;33mConv1D\u001b[0m)   │ (\u001b[38;5;45mNone\u001b[0m, \u001b[38;5;34m30\u001b[0m, \u001b[38;5;34m128\u001b[0m)   │     \u001b[38;5;34m82,048\u001b[0m │ max_pooling1d_1[\u001b[38;5;34m…\u001b[0m │\n",
       "├─────────────────────┼───────────────────┼────────────┼───────────────────┤\n",
       "│ dropout_3 (\u001b[38;5;33mDropout\u001b[0m) │ (\u001b[38;5;45mNone\u001b[0m, \u001b[38;5;34m30\u001b[0m, \u001b[38;5;34m128\u001b[0m)   │          \u001b[38;5;34m0\u001b[0m │ conv1d_3[\u001b[38;5;34m0\u001b[0m][\u001b[38;5;34m0\u001b[0m]    │\n",
       "├─────────────────────┼───────────────────┼────────────┼───────────────────┤\n",
       "│ dense_1 (\u001b[38;5;33mDense\u001b[0m)     │ (\u001b[38;5;45mNone\u001b[0m, \u001b[38;5;34m30\u001b[0m, \u001b[38;5;34m128\u001b[0m)   │     \u001b[38;5;34m16,512\u001b[0m │ dropout_3[\u001b[38;5;34m0\u001b[0m][\u001b[38;5;34m0\u001b[0m]   │\n",
       "├─────────────────────┼───────────────────┼────────────┼───────────────────┤\n",
       "│ multiply (\u001b[38;5;33mMultiply\u001b[0m) │ (\u001b[38;5;45mNone\u001b[0m, \u001b[38;5;34m30\u001b[0m, \u001b[38;5;34m128\u001b[0m)   │          \u001b[38;5;34m0\u001b[0m │ dropout_3[\u001b[38;5;34m0\u001b[0m][\u001b[38;5;34m0\u001b[0m],  │\n",
       "│                     │                   │            │ dense_1[\u001b[38;5;34m0\u001b[0m][\u001b[38;5;34m0\u001b[0m]     │\n",
       "├─────────────────────┼───────────────────┼────────────┼───────────────────┤\n",
       "│ flatten_1 (\u001b[38;5;33mFlatten\u001b[0m) │ (\u001b[38;5;45mNone\u001b[0m, \u001b[38;5;34m3840\u001b[0m)      │          \u001b[38;5;34m0\u001b[0m │ multiply[\u001b[38;5;34m0\u001b[0m][\u001b[38;5;34m0\u001b[0m]    │\n",
       "├─────────────────────┼───────────────────┼────────────┼───────────────────┤\n",
       "│ dense_2 (\u001b[38;5;33mDense\u001b[0m)     │ (\u001b[38;5;45mNone\u001b[0m, \u001b[38;5;34m10\u001b[0m)        │     \u001b[38;5;34m38,410\u001b[0m │ flatten_1[\u001b[38;5;34m0\u001b[0m][\u001b[38;5;34m0\u001b[0m]   │\n",
       "└─────────────────────┴───────────────────┴────────────┴───────────────────┘\n"
      ]
     },
     "metadata": {},
     "output_type": "display_data"
    },
    {
     "data": {
      "text/html": [
       "<pre style=\"white-space:pre;overflow-x:auto;line-height:normal;font-family:Menlo,'DejaVu Sans Mono',consolas,'Courier New',monospace\"><span style=\"font-weight: bold\"> Total params: </span><span style=\"color: #00af00; text-decoration-color: #00af00\">137,738</span> (538.04 KB)\n",
       "</pre>\n"
      ],
      "text/plain": [
       "\u001b[1m Total params: \u001b[0m\u001b[38;5;34m137,738\u001b[0m (538.04 KB)\n"
      ]
     },
     "metadata": {},
     "output_type": "display_data"
    },
    {
     "data": {
      "text/html": [
       "<pre style=\"white-space:pre;overflow-x:auto;line-height:normal;font-family:Menlo,'DejaVu Sans Mono',consolas,'Courier New',monospace\"><span style=\"font-weight: bold\"> Trainable params: </span><span style=\"color: #00af00; text-decoration-color: #00af00\">137,738</span> (538.04 KB)\n",
       "</pre>\n"
      ],
      "text/plain": [
       "\u001b[1m Trainable params: \u001b[0m\u001b[38;5;34m137,738\u001b[0m (538.04 KB)\n"
      ]
     },
     "metadata": {},
     "output_type": "display_data"
    },
    {
     "data": {
      "text/html": [
       "<pre style=\"white-space:pre;overflow-x:auto;line-height:normal;font-family:Menlo,'DejaVu Sans Mono',consolas,'Courier New',monospace\"><span style=\"font-weight: bold\"> Non-trainable params: </span><span style=\"color: #00af00; text-decoration-color: #00af00\">0</span> (0.00 B)\n",
       "</pre>\n"
      ],
      "text/plain": [
       "\u001b[1m Non-trainable params: \u001b[0m\u001b[38;5;34m0\u001b[0m (0.00 B)\n"
      ]
     },
     "metadata": {},
     "output_type": "display_data"
    }
   ],
   "source": [
    "import numpy as np\n",
    "import matplotlib.pyplot as plt\n",
    "import tensorflow as tf\n",
    "from matplotlib.pyplot import specgram\n",
    "import keras\n",
    "from keras.models import Model\n",
    "from tensorflow.keras.optimizers import Adam\n",
    "from keras.layers import Input, Conv1D, MaxPooling1D, Dropout, Flatten, Dense, Activation, Multiply, Permute\n",
    "\n",
    "# 定义输入层\n",
    "input_audio = Input(shape=(244, 1))\n",
    "\n",
    "# CNN层\n",
    "conv1 = Conv1D(128, 5, padding='same', activation='relu')(input_audio)\n",
    "drop1 = Dropout(0.1)(conv1)\n",
    "pool1 = MaxPooling1D(pool_size=8)(drop1)\n",
    "conv2 = Conv1D(128, 5, padding='same', activation='relu')(pool1)\n",
    "drop2 = Dropout(0.1)(conv2)\n",
    "\n",
    "# Attention机制\n",
    "attention_probs = Dense(128, activation='softmax')(drop2)\n",
    "attention_mul = Multiply()([drop2, attention_probs])\n",
    "\n",
    "# 展平层\n",
    "flatten = Flatten()(attention_mul)\n",
    "\n",
    "# 全连接层\n",
    "dense1 = Dense(10, activation='softmax')(flatten)\n",
    "\n",
    "# 构建模型\n",
    "model = Model(inputs=input_audio, outputs=dense1)\n",
    "\n",
    "# 编译模型\n",
    "model.compile(optimizer='adam', loss='categorical_crossentropy', metrics=['accuracy'])\n",
    "\n",
    "# 打印模型结构\n",
    "model.summary()\n"
   ]
  },
  {
   "cell_type": "code",
   "execution_count": 39,
   "id": "9d124095b234a277",
   "metadata": {
    "ExecuteTime": {
     "end_time": "2024-03-22T14:24:15.464270800Z",
     "start_time": "2024-03-22T14:24:15.297772300Z"
    },
    "collapsed": false,
    "jupyter": {
     "outputs_hidden": false
    }
   },
   "outputs": [],
   "source": [
    "model.compile(loss='sparse_categorical_crossentropy',\n",
    "              optimizer=Adam(),  # changed from opt to Adam()\n",
    "              metrics=['accuracy'])"
   ]
  },
  {
   "cell_type": "code",
   "execution_count": 40,
   "id": "ac79fd3211aace28",
   "metadata": {
    "ExecuteTime": {
     "end_time": "2024-03-22T14:24:15.486803500Z",
     "start_time": "2024-03-22T14:24:15.315971200Z"
    },
    "collapsed": false,
    "jupyter": {
     "outputs_hidden": false
    }
   },
   "outputs": [],
   "source": [
    "x_traincnn = np.expand_dims(X_train, axis=2)\n",
    "x_testcnn = np.expand_dims(X_test, axis=2)"
   ]
  },
  {
   "cell_type": "code",
   "execution_count": 41,
   "id": "ad6cc68819845b61",
   "metadata": {
    "ExecuteTime": {
     "end_time": "2024-03-22T14:32:22.106016100Z",
     "start_time": "2024-03-22T14:24:15.320669300Z"
    },
    "collapsed": false,
    "jupyter": {
     "outputs_hidden": false
    }
   },
   "outputs": [
    {
     "name": "stdout",
     "output_type": "stream",
     "text": [
      "Epoch 1/100\n",
      "\u001b[1m478/478\u001b[0m \u001b[32m━━━━━━━━━━━━━━━━━━━━\u001b[0m\u001b[37m\u001b[0m \u001b[1m8s\u001b[0m 11ms/step - accuracy: 0.1793 - loss: 2.4467 - val_accuracy: 0.1881 - val_loss: 1.8441\n",
      "Epoch 2/100\n",
      "\u001b[1m478/478\u001b[0m \u001b[32m━━━━━━━━━━━━━━━━━━━━\u001b[0m\u001b[37m\u001b[0m \u001b[1m5s\u001b[0m 10ms/step - accuracy: 0.2412 - loss: 1.8567 - val_accuracy: 0.2339 - val_loss: 1.8555\n",
      "Epoch 3/100\n",
      "\u001b[1m478/478\u001b[0m \u001b[32m━━━━━━━━━━━━━━━━━━━━\u001b[0m\u001b[37m\u001b[0m \u001b[1m5s\u001b[0m 10ms/step - accuracy: 0.2563 - loss: 1.7712 - val_accuracy: 0.2644 - val_loss: 1.7780\n",
      "Epoch 4/100\n",
      "\u001b[1m478/478\u001b[0m \u001b[32m━━━━━━━━━━━━━━━━━━━━\u001b[0m\u001b[37m\u001b[0m \u001b[1m7s\u001b[0m 14ms/step - accuracy: 0.2681 - loss: 1.7461 - val_accuracy: 0.2678 - val_loss: 1.7395\n",
      "Epoch 5/100\n",
      "\u001b[1m478/478\u001b[0m \u001b[32m━━━━━━━━━━━━━━━━━━━━\u001b[0m\u001b[37m\u001b[0m \u001b[1m5s\u001b[0m 11ms/step - accuracy: 0.2658 - loss: 1.7567 - val_accuracy: 0.2729 - val_loss: 1.7573\n",
      "Epoch 6/100\n",
      "\u001b[1m478/478\u001b[0m \u001b[32m━━━━━━━━━━━━━━━━━━━━\u001b[0m\u001b[37m\u001b[0m \u001b[1m5s\u001b[0m 10ms/step - accuracy: 0.2826 - loss: 1.7193 - val_accuracy: 0.2754 - val_loss: 1.7307\n",
      "Epoch 7/100\n",
      "\u001b[1m478/478\u001b[0m \u001b[32m━━━━━━━━━━━━━━━━━━━━\u001b[0m\u001b[37m\u001b[0m \u001b[1m5s\u001b[0m 11ms/step - accuracy: 0.2900 - loss: 1.7009 - val_accuracy: 0.2500 - val_loss: 1.7075\n",
      "Epoch 8/100\n",
      "\u001b[1m478/478\u001b[0m \u001b[32m━━━━━━━━━━━━━━━━━━━━\u001b[0m\u001b[37m\u001b[0m \u001b[1m5s\u001b[0m 10ms/step - accuracy: 0.2912 - loss: 1.7074 - val_accuracy: 0.2653 - val_loss: 1.7337\n",
      "Epoch 9/100\n",
      "\u001b[1m478/478\u001b[0m \u001b[32m━━━━━━━━━━━━━━━━━━━━\u001b[0m\u001b[37m\u001b[0m \u001b[1m5s\u001b[0m 10ms/step - accuracy: 0.2983 - loss: 1.6825 - val_accuracy: 0.3059 - val_loss: 1.7258\n",
      "Epoch 10/100\n",
      "\u001b[1m478/478\u001b[0m \u001b[32m━━━━━━━━━━━━━━━━━━━━\u001b[0m\u001b[37m\u001b[0m \u001b[1m5s\u001b[0m 11ms/step - accuracy: 0.3025 - loss: 1.6927 - val_accuracy: 0.2983 - val_loss: 1.7033\n",
      "Epoch 11/100\n",
      "\u001b[1m478/478\u001b[0m \u001b[32m━━━━━━━━━━━━━━━━━━━━\u001b[0m\u001b[37m\u001b[0m \u001b[1m5s\u001b[0m 10ms/step - accuracy: 0.3052 - loss: 1.6965 - val_accuracy: 0.3127 - val_loss: 1.7173\n",
      "Epoch 12/100\n",
      "\u001b[1m478/478\u001b[0m \u001b[32m━━━━━━━━━━━━━━━━━━━━\u001b[0m\u001b[37m\u001b[0m \u001b[1m5s\u001b[0m 10ms/step - accuracy: 0.3002 - loss: 1.6922 - val_accuracy: 0.2932 - val_loss: 1.7291\n",
      "Epoch 13/100\n",
      "\u001b[1m478/478\u001b[0m \u001b[32m━━━━━━━━━━━━━━━━━━━━\u001b[0m\u001b[37m\u001b[0m \u001b[1m5s\u001b[0m 11ms/step - accuracy: 0.3048 - loss: 1.6852 - val_accuracy: 0.2831 - val_loss: 1.7118\n",
      "Epoch 14/100\n",
      "\u001b[1m478/478\u001b[0m \u001b[32m━━━━━━━━━━━━━━━━━━━━\u001b[0m\u001b[37m\u001b[0m \u001b[1m5s\u001b[0m 11ms/step - accuracy: 0.3189 - loss: 1.6630 - val_accuracy: 0.3025 - val_loss: 1.7133\n",
      "Epoch 15/100\n",
      "\u001b[1m478/478\u001b[0m \u001b[32m━━━━━━━━━━━━━━━━━━━━\u001b[0m\u001b[37m\u001b[0m \u001b[1m5s\u001b[0m 10ms/step - accuracy: 0.3226 - loss: 1.6474 - val_accuracy: 0.2890 - val_loss: 1.7324\n",
      "Epoch 16/100\n",
      "\u001b[1m478/478\u001b[0m \u001b[32m━━━━━━━━━━━━━━━━━━━━\u001b[0m\u001b[37m\u001b[0m \u001b[1m5s\u001b[0m 10ms/step - accuracy: 0.3323 - loss: 1.6356 - val_accuracy: 0.3127 - val_loss: 1.6570\n",
      "Epoch 17/100\n",
      "\u001b[1m478/478\u001b[0m \u001b[32m━━━━━━━━━━━━━━━━━━━━\u001b[0m\u001b[37m\u001b[0m \u001b[1m5s\u001b[0m 10ms/step - accuracy: 0.3302 - loss: 1.6475 - val_accuracy: 0.2534 - val_loss: 1.7322\n",
      "Epoch 18/100\n",
      "\u001b[1m478/478\u001b[0m \u001b[32m━━━━━━━━━━━━━━━━━━━━\u001b[0m\u001b[37m\u001b[0m \u001b[1m5s\u001b[0m 10ms/step - accuracy: 0.3392 - loss: 1.6238 - val_accuracy: 0.3059 - val_loss: 1.6800\n",
      "Epoch 19/100\n",
      "\u001b[1m478/478\u001b[0m \u001b[32m━━━━━━━━━━━━━━━━━━━━\u001b[0m\u001b[37m\u001b[0m \u001b[1m5s\u001b[0m 10ms/step - accuracy: 0.3373 - loss: 1.7173 - val_accuracy: 0.3051 - val_loss: 1.6812\n",
      "Epoch 20/100\n",
      "\u001b[1m478/478\u001b[0m \u001b[32m━━━━━━━━━━━━━━━━━━━━\u001b[0m\u001b[37m\u001b[0m \u001b[1m5s\u001b[0m 10ms/step - accuracy: 0.3343 - loss: 1.6114 - val_accuracy: 0.2771 - val_loss: 1.7002\n",
      "Epoch 21/100\n",
      "\u001b[1m478/478\u001b[0m \u001b[32m━━━━━━━━━━━━━━━━━━━━\u001b[0m\u001b[37m\u001b[0m \u001b[1m5s\u001b[0m 10ms/step - accuracy: 0.3375 - loss: 1.6002 - val_accuracy: 0.3102 - val_loss: 1.6945\n",
      "Epoch 22/100\n",
      "\u001b[1m478/478\u001b[0m \u001b[32m━━━━━━━━━━━━━━━━━━━━\u001b[0m\u001b[37m\u001b[0m \u001b[1m5s\u001b[0m 10ms/step - accuracy: 0.3494 - loss: 1.6041 - val_accuracy: 0.3051 - val_loss: 1.6861\n",
      "Epoch 23/100\n",
      "\u001b[1m478/478\u001b[0m \u001b[32m━━━━━━━━━━━━━━━━━━━━\u001b[0m\u001b[37m\u001b[0m \u001b[1m5s\u001b[0m 10ms/step - accuracy: 0.3478 - loss: 1.5879 - val_accuracy: 0.3034 - val_loss: 1.7306\n",
      "Epoch 24/100\n",
      "\u001b[1m478/478\u001b[0m \u001b[32m━━━━━━━━━━━━━━━━━━━━\u001b[0m\u001b[37m\u001b[0m \u001b[1m5s\u001b[0m 10ms/step - accuracy: 0.3563 - loss: 1.5749 - val_accuracy: 0.3203 - val_loss: 1.6500\n",
      "Epoch 25/100\n",
      "\u001b[1m478/478\u001b[0m \u001b[32m━━━━━━━━━━━━━━━━━━━━\u001b[0m\u001b[37m\u001b[0m \u001b[1m6s\u001b[0m 11ms/step - accuracy: 0.3627 - loss: 1.5856 - val_accuracy: 0.2712 - val_loss: 1.7069\n",
      "Epoch 26/100\n",
      "\u001b[1m478/478\u001b[0m \u001b[32m━━━━━━━━━━━━━━━━━━━━\u001b[0m\u001b[37m\u001b[0m \u001b[1m6s\u001b[0m 13ms/step - accuracy: 0.3588 - loss: 1.5859 - val_accuracy: 0.3008 - val_loss: 1.7276\n",
      "Epoch 27/100\n",
      "\u001b[1m478/478\u001b[0m \u001b[32m━━━━━━━━━━━━━━━━━━━━\u001b[0m\u001b[37m\u001b[0m \u001b[1m6s\u001b[0m 12ms/step - accuracy: 0.3572 - loss: 1.5767 - val_accuracy: 0.3119 - val_loss: 1.6659\n",
      "Epoch 28/100\n",
      "\u001b[1m478/478\u001b[0m \u001b[32m━━━━━━━━━━━━━━━━━━━━\u001b[0m\u001b[37m\u001b[0m \u001b[1m4s\u001b[0m 9ms/step - accuracy: 0.3600 - loss: 1.5853 - val_accuracy: 0.3153 - val_loss: 1.6827\n",
      "Epoch 29/100\n",
      "\u001b[1m478/478\u001b[0m \u001b[32m━━━━━━━━━━━━━━━━━━━━\u001b[0m\u001b[37m\u001b[0m \u001b[1m4s\u001b[0m 9ms/step - accuracy: 0.3665 - loss: 1.5588 - val_accuracy: 0.2983 - val_loss: 1.6920\n",
      "Epoch 30/100\n",
      "\u001b[1m478/478\u001b[0m \u001b[32m━━━━━━━━━━━━━━━━━━━━\u001b[0m\u001b[37m\u001b[0m \u001b[1m4s\u001b[0m 9ms/step - accuracy: 0.3739 - loss: 1.5495 - val_accuracy: 0.3076 - val_loss: 1.7075\n",
      "Epoch 31/100\n",
      "\u001b[1m478/478\u001b[0m \u001b[32m━━━━━━━━━━━━━━━━━━━━\u001b[0m\u001b[37m\u001b[0m \u001b[1m4s\u001b[0m 9ms/step - accuracy: 0.3793 - loss: 1.5278 - val_accuracy: 0.2907 - val_loss: 1.7112\n",
      "Epoch 32/100\n",
      "\u001b[1m478/478\u001b[0m \u001b[32m━━━━━━━━━━━━━━━━━━━━\u001b[0m\u001b[37m\u001b[0m \u001b[1m4s\u001b[0m 9ms/step - accuracy: 0.3820 - loss: 1.5343 - val_accuracy: 0.2915 - val_loss: 1.7520\n",
      "Epoch 33/100\n",
      "\u001b[1m478/478\u001b[0m \u001b[32m━━━━━━━━━━━━━━━━━━━━\u001b[0m\u001b[37m\u001b[0m \u001b[1m4s\u001b[0m 9ms/step - accuracy: 0.3884 - loss: 1.5319 - val_accuracy: 0.2975 - val_loss: 1.6846\n",
      "Epoch 34/100\n",
      "\u001b[1m478/478\u001b[0m \u001b[32m━━━━━━━━━━━━━━━━━━━━\u001b[0m\u001b[37m\u001b[0m \u001b[1m5s\u001b[0m 10ms/step - accuracy: 0.3724 - loss: 1.5402 - val_accuracy: 0.2949 - val_loss: 1.7409\n",
      "Epoch 35/100\n",
      "\u001b[1m478/478\u001b[0m \u001b[32m━━━━━━━━━━━━━━━━━━━━\u001b[0m\u001b[37m\u001b[0m \u001b[1m5s\u001b[0m 10ms/step - accuracy: 0.3893 - loss: 1.5138 - val_accuracy: 0.2932 - val_loss: 1.7696\n",
      "Epoch 36/100\n",
      "\u001b[1m478/478\u001b[0m \u001b[32m━━━━━━━━━━━━━━━━━━━━\u001b[0m\u001b[37m\u001b[0m \u001b[1m5s\u001b[0m 10ms/step - accuracy: 0.3935 - loss: 1.5178 - val_accuracy: 0.3271 - val_loss: 1.7293\n",
      "Epoch 37/100\n",
      "\u001b[1m478/478\u001b[0m \u001b[32m━━━━━━━━━━━━━━━━━━━━\u001b[0m\u001b[37m\u001b[0m \u001b[1m5s\u001b[0m 10ms/step - accuracy: 0.3906 - loss: 1.5112 - val_accuracy: 0.2924 - val_loss: 1.7191\n",
      "Epoch 38/100\n",
      "\u001b[1m478/478\u001b[0m \u001b[32m━━━━━━━━━━━━━━━━━━━━\u001b[0m\u001b[37m\u001b[0m \u001b[1m5s\u001b[0m 10ms/step - accuracy: 0.3994 - loss: 1.5079 - val_accuracy: 0.2720 - val_loss: 1.7545\n",
      "Epoch 39/100\n",
      "\u001b[1m478/478\u001b[0m \u001b[32m━━━━━━━━━━━━━━━━━━━━\u001b[0m\u001b[37m\u001b[0m \u001b[1m5s\u001b[0m 10ms/step - accuracy: 0.3977 - loss: 1.4949 - val_accuracy: 0.3008 - val_loss: 1.7382\n",
      "Epoch 40/100\n",
      "\u001b[1m478/478\u001b[0m \u001b[32m━━━━━━━━━━━━━━━━━━━━\u001b[0m\u001b[37m\u001b[0m \u001b[1m5s\u001b[0m 9ms/step - accuracy: 0.4053 - loss: 1.4758 - val_accuracy: 0.3271 - val_loss: 1.7255\n",
      "Epoch 41/100\n",
      "\u001b[1m478/478\u001b[0m \u001b[32m━━━━━━━━━━━━━━━━━━━━\u001b[0m\u001b[37m\u001b[0m \u001b[1m4s\u001b[0m 9ms/step - accuracy: 0.4160 - loss: 1.4687 - val_accuracy: 0.2898 - val_loss: 1.7337\n",
      "Epoch 42/100\n",
      "\u001b[1m478/478\u001b[0m \u001b[32m━━━━━━━━━━━━━━━━━━━━\u001b[0m\u001b[37m\u001b[0m \u001b[1m5s\u001b[0m 10ms/step - accuracy: 0.3938 - loss: 1.4870 - val_accuracy: 0.3110 - val_loss: 1.7440\n",
      "Epoch 43/100\n",
      "\u001b[1m478/478\u001b[0m \u001b[32m━━━━━━━━━━━━━━━━━━━━\u001b[0m\u001b[37m\u001b[0m \u001b[1m5s\u001b[0m 10ms/step - accuracy: 0.4055 - loss: 1.4844 - val_accuracy: 0.2881 - val_loss: 1.7346\n",
      "Epoch 44/100\n",
      "\u001b[1m478/478\u001b[0m \u001b[32m━━━━━━━━━━━━━━━━━━━━\u001b[0m\u001b[37m\u001b[0m \u001b[1m5s\u001b[0m 10ms/step - accuracy: 0.4202 - loss: 1.4639 - val_accuracy: 0.3051 - val_loss: 1.7496\n",
      "Epoch 45/100\n",
      "\u001b[1m478/478\u001b[0m \u001b[32m━━━━━━━━━━━━━━━━━━━━\u001b[0m\u001b[37m\u001b[0m \u001b[1m5s\u001b[0m 10ms/step - accuracy: 0.4168 - loss: 1.4563 - val_accuracy: 0.2958 - val_loss: 1.7530\n",
      "Epoch 46/100\n",
      "\u001b[1m478/478\u001b[0m \u001b[32m━━━━━━━━━━━━━━━━━━━━\u001b[0m\u001b[37m\u001b[0m \u001b[1m5s\u001b[0m 10ms/step - accuracy: 0.4214 - loss: 1.4413 - val_accuracy: 0.3017 - val_loss: 1.7760\n",
      "Epoch 47/100\n",
      "\u001b[1m478/478\u001b[0m \u001b[32m━━━━━━━━━━━━━━━━━━━━\u001b[0m\u001b[37m\u001b[0m \u001b[1m5s\u001b[0m 10ms/step - accuracy: 0.4207 - loss: 1.4516 - val_accuracy: 0.2831 - val_loss: 1.7813\n",
      "Epoch 48/100\n",
      "\u001b[1m478/478\u001b[0m \u001b[32m━━━━━━━━━━━━━━━━━━━━\u001b[0m\u001b[37m\u001b[0m \u001b[1m5s\u001b[0m 10ms/step - accuracy: 0.4194 - loss: 1.4524 - val_accuracy: 0.3000 - val_loss: 1.8054\n",
      "Epoch 49/100\n",
      "\u001b[1m478/478\u001b[0m \u001b[32m━━━━━━━━━━━━━━━━━━━━\u001b[0m\u001b[37m\u001b[0m \u001b[1m5s\u001b[0m 10ms/step - accuracy: 0.4345 - loss: 1.4356 - val_accuracy: 0.2941 - val_loss: 1.8027\n",
      "Epoch 50/100\n",
      "\u001b[1m478/478\u001b[0m \u001b[32m━━━━━━━━━━━━━━━━━━━━\u001b[0m\u001b[37m\u001b[0m \u001b[1m5s\u001b[0m 10ms/step - accuracy: 0.4359 - loss: 1.4290 - val_accuracy: 0.3085 - val_loss: 1.7193\n",
      "Epoch 51/100\n",
      "\u001b[1m478/478\u001b[0m \u001b[32m━━━━━━━━━━━━━━━━━━━━\u001b[0m\u001b[37m\u001b[0m \u001b[1m5s\u001b[0m 10ms/step - accuracy: 0.4356 - loss: 1.4248 - val_accuracy: 0.3212 - val_loss: 1.7510\n",
      "Epoch 52/100\n",
      "\u001b[1m478/478\u001b[0m \u001b[32m━━━━━━━━━━━━━━━━━━━━\u001b[0m\u001b[37m\u001b[0m \u001b[1m5s\u001b[0m 10ms/step - accuracy: 0.4392 - loss: 1.4269 - val_accuracy: 0.3169 - val_loss: 1.7847\n",
      "Epoch 53/100\n",
      "\u001b[1m478/478\u001b[0m \u001b[32m━━━━━━━━━━━━━━━━━━━━\u001b[0m\u001b[37m\u001b[0m \u001b[1m5s\u001b[0m 10ms/step - accuracy: 0.4347 - loss: 1.3921 - val_accuracy: 0.2958 - val_loss: 1.7877\n",
      "Epoch 54/100\n",
      "\u001b[1m478/478\u001b[0m \u001b[32m━━━━━━━━━━━━━━━━━━━━\u001b[0m\u001b[37m\u001b[0m \u001b[1m5s\u001b[0m 10ms/step - accuracy: 0.4397 - loss: 1.4197 - val_accuracy: 0.3119 - val_loss: 1.8220\n",
      "Epoch 55/100\n",
      "\u001b[1m478/478\u001b[0m \u001b[32m━━━━━━━━━━━━━━━━━━━━\u001b[0m\u001b[37m\u001b[0m \u001b[1m5s\u001b[0m 10ms/step - accuracy: 0.4329 - loss: 1.4071 - val_accuracy: 0.3110 - val_loss: 1.7748\n",
      "Epoch 56/100\n",
      "\u001b[1m478/478\u001b[0m \u001b[32m━━━━━━━━━━━━━━━━━━━━\u001b[0m\u001b[37m\u001b[0m \u001b[1m4s\u001b[0m 9ms/step - accuracy: 0.4339 - loss: 1.4073 - val_accuracy: 0.3119 - val_loss: 1.8002\n",
      "Epoch 57/100\n",
      "\u001b[1m478/478\u001b[0m \u001b[32m━━━━━━━━━━━━━━━━━━━━\u001b[0m\u001b[37m\u001b[0m \u001b[1m4s\u001b[0m 9ms/step - accuracy: 0.4327 - loss: 1.4145 - val_accuracy: 0.3119 - val_loss: 1.8456\n",
      "Epoch 58/100\n",
      "\u001b[1m478/478\u001b[0m \u001b[32m━━━━━━━━━━━━━━━━━━━━\u001b[0m\u001b[37m\u001b[0m \u001b[1m5s\u001b[0m 10ms/step - accuracy: 0.4439 - loss: 1.3996 - val_accuracy: 0.3144 - val_loss: 1.7998\n",
      "Epoch 59/100\n",
      "\u001b[1m478/478\u001b[0m \u001b[32m━━━━━━━━━━━━━━━━━━━━\u001b[0m\u001b[37m\u001b[0m \u001b[1m4s\u001b[0m 9ms/step - accuracy: 0.4433 - loss: 1.3938 - val_accuracy: 0.3271 - val_loss: 1.7606\n",
      "Epoch 60/100\n",
      "\u001b[1m478/478\u001b[0m \u001b[32m━━━━━━━━━━━━━━━━━━━━\u001b[0m\u001b[37m\u001b[0m \u001b[1m5s\u001b[0m 10ms/step - accuracy: 0.4549 - loss: 1.3698 - val_accuracy: 0.3136 - val_loss: 1.8589\n",
      "Epoch 61/100\n",
      "\u001b[1m478/478\u001b[0m \u001b[32m━━━━━━━━━━━━━━━━━━━━\u001b[0m\u001b[37m\u001b[0m \u001b[1m4s\u001b[0m 9ms/step - accuracy: 0.4471 - loss: 1.3906 - val_accuracy: 0.3093 - val_loss: 1.8401\n",
      "Epoch 62/100\n",
      "\u001b[1m478/478\u001b[0m \u001b[32m━━━━━━━━━━━━━━━━━━━━\u001b[0m\u001b[37m\u001b[0m \u001b[1m5s\u001b[0m 10ms/step - accuracy: 0.4623 - loss: 1.3672 - val_accuracy: 0.3178 - val_loss: 1.8212\n",
      "Epoch 63/100\n",
      "\u001b[1m478/478\u001b[0m \u001b[32m━━━━━━━━━━━━━━━━━━━━\u001b[0m\u001b[37m\u001b[0m \u001b[1m5s\u001b[0m 11ms/step - accuracy: 0.4539 - loss: 1.3755 - val_accuracy: 0.3220 - val_loss: 1.8289\n",
      "Epoch 64/100\n",
      "\u001b[1m478/478\u001b[0m \u001b[32m━━━━━━━━━━━━━━━━━━━━\u001b[0m\u001b[37m\u001b[0m \u001b[1m5s\u001b[0m 10ms/step - accuracy: 0.4535 - loss: 1.3758 - val_accuracy: 0.2805 - val_loss: 1.8475\n",
      "Epoch 65/100\n",
      "\u001b[1m478/478\u001b[0m \u001b[32m━━━━━━━━━━━━━━━━━━━━\u001b[0m\u001b[37m\u001b[0m \u001b[1m5s\u001b[0m 10ms/step - accuracy: 0.4481 - loss: 1.3794 - val_accuracy: 0.2975 - val_loss: 1.8577\n",
      "Epoch 66/100\n",
      "\u001b[1m478/478\u001b[0m \u001b[32m━━━━━━━━━━━━━━━━━━━━\u001b[0m\u001b[37m\u001b[0m \u001b[1m5s\u001b[0m 10ms/step - accuracy: 0.4645 - loss: 1.3505 - val_accuracy: 0.3051 - val_loss: 1.9051\n",
      "Epoch 67/100\n",
      "\u001b[1m478/478\u001b[0m \u001b[32m━━━━━━━━━━━━━━━━━━━━\u001b[0m\u001b[37m\u001b[0m \u001b[1m5s\u001b[0m 10ms/step - accuracy: 0.4613 - loss: 1.3664 - val_accuracy: 0.3000 - val_loss: 1.8801\n",
      "Epoch 68/100\n",
      "\u001b[1m478/478\u001b[0m \u001b[32m━━━━━━━━━━━━━━━━━━━━\u001b[0m\u001b[37m\u001b[0m \u001b[1m5s\u001b[0m 10ms/step - accuracy: 0.4551 - loss: 1.3758 - val_accuracy: 0.2958 - val_loss: 1.9495\n",
      "Epoch 69/100\n",
      "\u001b[1m478/478\u001b[0m \u001b[32m━━━━━━━━━━━━━━━━━━━━\u001b[0m\u001b[37m\u001b[0m \u001b[1m5s\u001b[0m 10ms/step - accuracy: 0.4696 - loss: 1.3327 - val_accuracy: 0.2992 - val_loss: 1.8979\n",
      "Epoch 70/100\n",
      "\u001b[1m478/478\u001b[0m \u001b[32m━━━━━━━━━━━━━━━━━━━━\u001b[0m\u001b[37m\u001b[0m \u001b[1m5s\u001b[0m 10ms/step - accuracy: 0.4792 - loss: 1.3205 - val_accuracy: 0.3068 - val_loss: 1.9191\n",
      "Epoch 71/100\n",
      "\u001b[1m478/478\u001b[0m \u001b[32m━━━━━━━━━━━━━━━━━━━━\u001b[0m\u001b[37m\u001b[0m \u001b[1m5s\u001b[0m 10ms/step - accuracy: 0.4746 - loss: 1.3402 - val_accuracy: 0.3008 - val_loss: 1.8759\n",
      "Epoch 72/100\n",
      "\u001b[1m478/478\u001b[0m \u001b[32m━━━━━━━━━━━━━━━━━━━━\u001b[0m\u001b[37m\u001b[0m \u001b[1m5s\u001b[0m 10ms/step - accuracy: 0.4729 - loss: 1.3334 - val_accuracy: 0.3212 - val_loss: 1.8665\n",
      "Epoch 73/100\n",
      "\u001b[1m478/478\u001b[0m \u001b[32m━━━━━━━━━━━━━━━━━━━━\u001b[0m\u001b[37m\u001b[0m \u001b[1m5s\u001b[0m 10ms/step - accuracy: 0.4755 - loss: 1.3229 - val_accuracy: 0.3034 - val_loss: 1.8986\n",
      "Epoch 74/100\n",
      "\u001b[1m478/478\u001b[0m \u001b[32m━━━━━━━━━━━━━━━━━━━━\u001b[0m\u001b[37m\u001b[0m \u001b[1m5s\u001b[0m 9ms/step - accuracy: 0.4664 - loss: 1.3281 - val_accuracy: 0.3042 - val_loss: 1.8858\n",
      "Epoch 75/100\n",
      "\u001b[1m478/478\u001b[0m \u001b[32m━━━━━━━━━━━━━━━━━━━━\u001b[0m\u001b[37m\u001b[0m \u001b[1m4s\u001b[0m 9ms/step - accuracy: 0.4757 - loss: 1.3246 - val_accuracy: 0.3085 - val_loss: 1.9140\n",
      "Epoch 76/100\n",
      "\u001b[1m478/478\u001b[0m \u001b[32m━━━━━━━━━━━━━━━━━━━━\u001b[0m\u001b[37m\u001b[0m \u001b[1m4s\u001b[0m 9ms/step - accuracy: 0.4748 - loss: 1.3293 - val_accuracy: 0.3169 - val_loss: 1.8720\n",
      "Epoch 77/100\n",
      "\u001b[1m478/478\u001b[0m \u001b[32m━━━━━━━━━━━━━━━━━━━━\u001b[0m\u001b[37m\u001b[0m \u001b[1m5s\u001b[0m 10ms/step - accuracy: 0.4978 - loss: 1.3182 - val_accuracy: 0.3102 - val_loss: 1.8321\n",
      "Epoch 78/100\n",
      "\u001b[1m478/478\u001b[0m \u001b[32m━━━━━━━━━━━━━━━━━━━━\u001b[0m\u001b[37m\u001b[0m \u001b[1m5s\u001b[0m 10ms/step - accuracy: 0.4787 - loss: 1.3061 - val_accuracy: 0.3034 - val_loss: 1.9119\n",
      "Epoch 79/100\n",
      "\u001b[1m478/478\u001b[0m \u001b[32m━━━━━━━━━━━━━━━━━━━━\u001b[0m\u001b[37m\u001b[0m \u001b[1m5s\u001b[0m 10ms/step - accuracy: 0.4867 - loss: 1.2931 - val_accuracy: 0.3008 - val_loss: 1.8901\n",
      "Epoch 80/100\n",
      "\u001b[1m478/478\u001b[0m \u001b[32m━━━━━━━━━━━━━━━━━━━━\u001b[0m\u001b[37m\u001b[0m \u001b[1m5s\u001b[0m 10ms/step - accuracy: 0.4962 - loss: 1.3105 - val_accuracy: 0.2941 - val_loss: 1.9283\n",
      "Epoch 81/100\n",
      "\u001b[1m478/478\u001b[0m \u001b[32m━━━━━━━━━━━━━━━━━━━━\u001b[0m\u001b[37m\u001b[0m \u001b[1m5s\u001b[0m 10ms/step - accuracy: 0.4831 - loss: 1.3017 - val_accuracy: 0.2975 - val_loss: 1.9363\n",
      "Epoch 82/100\n",
      "\u001b[1m478/478\u001b[0m \u001b[32m━━━━━━━━━━━━━━━━━━━━\u001b[0m\u001b[37m\u001b[0m \u001b[1m5s\u001b[0m 10ms/step - accuracy: 0.4941 - loss: 1.2932 - val_accuracy: 0.3042 - val_loss: 1.9124\n",
      "Epoch 83/100\n",
      "\u001b[1m478/478\u001b[0m \u001b[32m━━━━━━━━━━━━━━━━━━━━\u001b[0m\u001b[37m\u001b[0m \u001b[1m5s\u001b[0m 10ms/step - accuracy: 0.4997 - loss: 1.2905 - val_accuracy: 0.3195 - val_loss: 1.8451\n",
      "Epoch 84/100\n",
      "\u001b[1m478/478\u001b[0m \u001b[32m━━━━━━━━━━━━━━━━━━━━\u001b[0m\u001b[37m\u001b[0m \u001b[1m5s\u001b[0m 10ms/step - accuracy: 0.5041 - loss: 1.2610 - val_accuracy: 0.2958 - val_loss: 1.8984\n",
      "Epoch 85/100\n",
      "\u001b[1m478/478\u001b[0m \u001b[32m━━━━━━━━━━━━━━━━━━━━\u001b[0m\u001b[37m\u001b[0m \u001b[1m5s\u001b[0m 10ms/step - accuracy: 0.5019 - loss: 1.2657 - val_accuracy: 0.2966 - val_loss: 1.9021\n",
      "Epoch 86/100\n",
      "\u001b[1m478/478\u001b[0m \u001b[32m━━━━━━━━━━━━━━━━━━━━\u001b[0m\u001b[37m\u001b[0m \u001b[1m5s\u001b[0m 10ms/step - accuracy: 0.4878 - loss: 1.3038 - val_accuracy: 0.2864 - val_loss: 1.9297\n",
      "Epoch 87/100\n",
      "\u001b[1m478/478\u001b[0m \u001b[32m━━━━━━━━━━━━━━━━━━━━\u001b[0m\u001b[37m\u001b[0m \u001b[1m5s\u001b[0m 10ms/step - accuracy: 0.4829 - loss: 1.5645 - val_accuracy: 0.3025 - val_loss: 1.9623\n",
      "Epoch 88/100\n",
      "\u001b[1m478/478\u001b[0m \u001b[32m━━━━━━━━━━━━━━━━━━━━\u001b[0m\u001b[37m\u001b[0m \u001b[1m5s\u001b[0m 10ms/step - accuracy: 0.5014 - loss: 1.2842 - val_accuracy: 0.3059 - val_loss: 1.9253\n",
      "Epoch 89/100\n",
      "\u001b[1m478/478\u001b[0m \u001b[32m━━━━━━━━━━━━━━━━━━━━\u001b[0m\u001b[37m\u001b[0m \u001b[1m5s\u001b[0m 10ms/step - accuracy: 0.5013 - loss: 1.3205 - val_accuracy: 0.2864 - val_loss: 1.9457\n",
      "Epoch 90/100\n",
      "\u001b[1m478/478\u001b[0m \u001b[32m━━━━━━━━━━━━━━━━━━━━\u001b[0m\u001b[37m\u001b[0m \u001b[1m5s\u001b[0m 10ms/step - accuracy: 0.4966 - loss: 1.2853 - val_accuracy: 0.3110 - val_loss: 1.9383\n",
      "Epoch 91/100\n",
      "\u001b[1m478/478\u001b[0m \u001b[32m━━━━━━━━━━━━━━━━━━━━\u001b[0m\u001b[37m\u001b[0m \u001b[1m5s\u001b[0m 10ms/step - accuracy: 0.5057 - loss: 1.2626 - val_accuracy: 0.3008 - val_loss: 1.9812\n",
      "Epoch 92/100\n",
      "\u001b[1m478/478\u001b[0m \u001b[32m━━━━━━━━━━━━━━━━━━━━\u001b[0m\u001b[37m\u001b[0m \u001b[1m4s\u001b[0m 9ms/step - accuracy: 0.5107 - loss: 1.2635 - val_accuracy: 0.3042 - val_loss: 1.9111\n",
      "Epoch 93/100\n",
      "\u001b[1m478/478\u001b[0m \u001b[32m━━━━━━━━━━━━━━━━━━━━\u001b[0m\u001b[37m\u001b[0m \u001b[1m4s\u001b[0m 9ms/step - accuracy: 0.5045 - loss: 1.2486 - val_accuracy: 0.3008 - val_loss: 1.9325\n",
      "Epoch 94/100\n",
      "\u001b[1m478/478\u001b[0m \u001b[32m━━━━━━━━━━━━━━━━━━━━\u001b[0m\u001b[37m\u001b[0m \u001b[1m4s\u001b[0m 9ms/step - accuracy: 0.5068 - loss: 1.2358 - val_accuracy: 0.3110 - val_loss: 1.9111\n",
      "Epoch 95/100\n",
      "\u001b[1m478/478\u001b[0m \u001b[32m━━━━━━━━━━━━━━━━━━━━\u001b[0m\u001b[37m\u001b[0m \u001b[1m5s\u001b[0m 9ms/step - accuracy: 0.5148 - loss: 1.2358 - val_accuracy: 0.2949 - val_loss: 1.9671\n",
      "Epoch 96/100\n",
      "\u001b[1m478/478\u001b[0m \u001b[32m━━━━━━━━━━━━━━━━━━━━\u001b[0m\u001b[37m\u001b[0m \u001b[1m5s\u001b[0m 10ms/step - accuracy: 0.5013 - loss: 1.2429 - val_accuracy: 0.3042 - val_loss: 1.9576\n",
      "Epoch 97/100\n",
      "\u001b[1m478/478\u001b[0m \u001b[32m━━━━━━━━━━━━━━━━━━━━\u001b[0m\u001b[37m\u001b[0m \u001b[1m5s\u001b[0m 10ms/step - accuracy: 0.5212 - loss: 1.2347 - val_accuracy: 0.2992 - val_loss: 2.0213\n",
      "Epoch 98/100\n",
      "\u001b[1m478/478\u001b[0m \u001b[32m━━━━━━━━━━━━━━━━━━━━\u001b[0m\u001b[37m\u001b[0m \u001b[1m4s\u001b[0m 9ms/step - accuracy: 0.5103 - loss: 1.2657 - val_accuracy: 0.2924 - val_loss: 1.9923\n",
      "Epoch 99/100\n",
      "\u001b[1m478/478\u001b[0m \u001b[32m━━━━━━━━━━━━━━━━━━━━\u001b[0m\u001b[37m\u001b[0m \u001b[1m4s\u001b[0m 9ms/step - accuracy: 0.5255 - loss: 1.2055 - val_accuracy: 0.2932 - val_loss: 1.9037\n",
      "Epoch 100/100\n",
      "\u001b[1m478/478\u001b[0m \u001b[32m━━━━━━━━━━━━━━━━━━━━\u001b[0m\u001b[37m\u001b[0m \u001b[1m5s\u001b[0m 10ms/step - accuracy: 0.5146 - loss: 1.2209 - val_accuracy: 0.2839 - val_loss: 1.9147\n"
     ]
    }
   ],
   "source": [
    "cnnhistory=model.fit(x_traincnn, y_e_num, batch_size=16, epochs=100, validation_data=(x_testcnn, y_test_e_num))"
   ]
  },
  {
   "cell_type": "markdown",
   "id": "37cc3985741bcb3e",
   "metadata": {
    "collapsed": false,
    "jupyter": {
     "outputs_hidden": false
    }
   },
   "source": []
  }
 ],
 "metadata": {
  "kernelspec": {
   "display_name": "Python 3 (ipykernel)",
   "language": "python",
   "name": "python3"
  },
  "language_info": {
   "codemirror_mode": {
    "name": "ipython",
    "version": 3
   },
   "file_extension": ".py",
   "mimetype": "text/x-python",
   "name": "python",
   "nbconvert_exporter": "python",
   "pygments_lexer": "ipython3",
   "version": "3.11.8"
  }
 },
 "nbformat": 4,
 "nbformat_minor": 5
}
